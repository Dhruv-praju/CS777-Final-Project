{
 "cells": [
  {
   "cell_type": "code",
   "execution_count": 1,
   "id": "f061da50-a00e-4ad0-aded-39d5cefa802c",
   "metadata": {},
   "outputs": [],
   "source": [
    "from pyspark.sql import SparkSession"
   ]
  },
  {
   "cell_type": "code",
   "execution_count": 2,
   "id": "5d6c63d3-d756-47ed-aa00-4277d15abd70",
   "metadata": {},
   "outputs": [
    {
     "name": "stderr",
     "output_type": "stream",
     "text": [
      "Setting default log level to \"WARN\".\n",
      "To adjust logging level use sc.setLogLevel(newLevel). For SparkR, use setLogLevel(newLevel).\n",
      "24/12/04 08:52:25 WARN NativeCodeLoader: Unable to load native-hadoop library for your platform... using builtin-java classes where applicable\n"
     ]
    }
   ],
   "source": [
    "spark = SparkSession.builder \\\n",
    "    .appName(\"Final\") \\\n",
    "    .getOrCreate()\n",
    "\n",
    "sc = spark.sparkContext"
   ]
  },
  {
   "cell_type": "code",
   "execution_count": 3,
   "id": "46df0786-11e6-4dd2-85b0-11ac126de551",
   "metadata": {},
   "outputs": [
    {
     "data": {
      "text/html": [
       "\n",
       "            <div>\n",
       "                <p><b>SparkSession - in-memory</b></p>\n",
       "                \n",
       "        <div>\n",
       "            <p><b>SparkContext</b></p>\n",
       "\n",
       "            <p><a href=\"http://crc-dot1x-nat-10-239-73-149.bu.edu:4040\">Spark UI</a></p>\n",
       "\n",
       "            <dl>\n",
       "              <dt>Version</dt>\n",
       "                <dd><code>v3.5.2</code></dd>\n",
       "              <dt>Master</dt>\n",
       "                <dd><code>local[*]</code></dd>\n",
       "              <dt>AppName</dt>\n",
       "                <dd><code>Final</code></dd>\n",
       "            </dl>\n",
       "        </div>\n",
       "        \n",
       "            </div>\n",
       "        "
      ],
      "text/plain": [
       "<pyspark.sql.session.SparkSession at 0x1063b38f0>"
      ]
     },
     "execution_count": 3,
     "metadata": {},
     "output_type": "execute_result"
    }
   ],
   "source": [
    "spark"
   ]
  },
  {
   "cell_type": "code",
   "execution_count": 4,
   "id": "dede3fa2-82b7-4131-b73b-b08a7be28902",
   "metadata": {},
   "outputs": [],
   "source": [
    "spark.conf.set('spark.sql.repl.eagerEval.enabled', True)"
   ]
  },
  {
   "cell_type": "code",
   "execution_count": 5,
   "id": "ff447413-7951-44d7-970e-fe142df32c71",
   "metadata": {},
   "outputs": [],
   "source": [
    "df = spark.read.parquet('./cleaned_dataset')"
   ]
  },
  {
   "cell_type": "code",
   "execution_count": 6,
   "id": "53a9917d-7b98-43a3-86d2-a80943908b32",
   "metadata": {},
   "outputs": [
    {
     "name": "stdout",
     "output_type": "stream",
     "text": [
      "root\n",
      " |-- lei: string (nullable = true)\n",
      " |-- loan_type: integer (nullable = true)\n",
      " |-- loan_purpose: integer (nullable = true)\n",
      " |-- loan_amount: float (nullable = true)\n",
      " |-- interest_rate: float (nullable = true)\n",
      " |-- loan_term: integer (nullable = true)\n",
      " |-- action_taken: integer (nullable = true)\n",
      " |-- income: float (nullable = true)\n",
      " |-- applicant_age: string (nullable = true)\n",
      " |-- applicant_sex: integer (nullable = true)\n",
      " |-- applicant_credit_score_type: integer (nullable = true)\n",
      " |-- co_applicant_age: string (nullable = true)\n",
      " |-- co_applicant_credit_score_type: integer (nullable = true)\n",
      " |-- derived_msa_md: integer (nullable = true)\n",
      " |-- state_code: string (nullable = true)\n",
      " |-- county_code: string (nullable = true)\n",
      " |-- property_value: float (nullable = true)\n",
      " |-- total_units: integer (nullable = true)\n",
      " |-- occupancy_type: integer (nullable = true)\n",
      "\n"
     ]
    }
   ],
   "source": [
    "df.printSchema()"
   ]
  },
  {
   "cell_type": "code",
   "execution_count": 7,
   "id": "8311e627-9427-4f0c-a160-78fca5636332",
   "metadata": {},
   "outputs": [
    {
     "data": {
      "text/plain": [
       "19"
      ]
     },
     "execution_count": 7,
     "metadata": {},
     "output_type": "execute_result"
    }
   ],
   "source": [
    "len(df.columns)"
   ]
  },
  {
   "cell_type": "code",
   "execution_count": 8,
   "id": "7cfa5546-9063-4d07-adc1-7eb4a973f0e0",
   "metadata": {},
   "outputs": [
    {
     "data": {
      "text/plain": [
       "7427"
      ]
     },
     "execution_count": 8,
     "metadata": {},
     "output_type": "execute_result"
    }
   ],
   "source": [
    "df.count()"
   ]
  },
  {
   "cell_type": "markdown",
   "id": "a3653676-439d-4212-93a1-1bcb316f4f68",
   "metadata": {},
   "source": [
    "### 4. Train Test split"
   ]
  },
  {
   "cell_type": "code",
   "execution_count": 9,
   "id": "7ba08c29-77f9-4739-ac5a-7a99b1c63b73",
   "metadata": {},
   "outputs": [],
   "source": [
    "train_df, test_df = df.randomSplit(weights=[0.8, 0.2], seed=100)"
   ]
  },
  {
   "cell_type": "code",
   "execution_count": 10,
   "id": "631f43c5-2c13-4698-b17f-50fab91990f2",
   "metadata": {},
   "outputs": [
    {
     "data": {
      "text/plain": [
       "5915"
      ]
     },
     "execution_count": 10,
     "metadata": {},
     "output_type": "execute_result"
    }
   ],
   "source": [
    "train_df.count()"
   ]
  },
  {
   "cell_type": "code",
   "execution_count": 11,
   "id": "45d7493b-1941-420e-8ec0-d0e77f6b6999",
   "metadata": {},
   "outputs": [
    {
     "data": {
      "text/plain": [
       "1512"
      ]
     },
     "execution_count": 11,
     "metadata": {},
     "output_type": "execute_result"
    }
   ],
   "source": [
    "test_df.count()"
   ]
  },
  {
   "cell_type": "code",
   "execution_count": null,
   "id": "37698698-584c-4ff8-8e7e-b0eb711943c6",
   "metadata": {},
   "outputs": [],
   "source": []
  },
  {
   "cell_type": "code",
   "execution_count": null,
   "id": "7a8c8386-ccc4-4f48-b71e-a95d84c895bf",
   "metadata": {},
   "outputs": [],
   "source": []
  },
  {
   "cell_type": "code",
   "execution_count": null,
   "id": "8ce72115-7c25-4b32-a101-c6927092f66d",
   "metadata": {},
   "outputs": [],
   "source": []
  },
  {
   "cell_type": "markdown",
   "id": "046987ee-3597-4f64-ba58-224cd4c0feae",
   "metadata": {},
   "source": [
    "### 5. Feature transformation"
   ]
  },
  {
   "cell_type": "code",
   "execution_count": 12,
   "id": "a8df1bd9-b1a4-423e-b671-b4d4f4c289d1",
   "metadata": {},
   "outputs": [],
   "source": [
    "from pyspark.sql.types import StringType"
   ]
  },
  {
   "cell_type": "code",
   "execution_count": 13,
   "id": "14ef2fd3-d5cc-4e02-bbc2-ceb209b52f14",
   "metadata": {},
   "outputs": [],
   "source": [
    "from pyspark.ml.feature import StringIndexer, StandardScaler, VectorAssembler, FeatureHasher\n",
    "from pyspark.ml import Pipeline"
   ]
  },
  {
   "cell_type": "code",
   "execution_count": 14,
   "id": "bf94fd8c-de36-46d2-bec9-30b26407def3",
   "metadata": {},
   "outputs": [],
   "source": [
    "# Define categorical and numerical features\n",
    "categorical_features = [field.name for field in train_df.schema.fields if field.dataType is StringType()]\n",
    "numerical_features = [field for field in train_df.columns if field not in categorical_features]\n",
    "\n",
    "continuous_numerical_features = [\"loan_amount\", \"interest_rate\", \"loan_term\", \"income\", \"property_value\"]\n",
    "discrete_numerical_features = [item for item in numerical_features if item not in continuous_numerical_features]"
   ]
  },
  {
   "cell_type": "code",
   "execution_count": 15,
   "id": "04876ec5-e559-4745-89c5-f423ad359a9c",
   "metadata": {},
   "outputs": [],
   "source": [
    "categorical_features.remove('county_code')"
   ]
  },
  {
   "cell_type": "code",
   "execution_count": 16,
   "id": "56d10a87-638c-44f7-bdb7-ffbf7df22c33",
   "metadata": {},
   "outputs": [
    {
     "data": {
      "text/plain": [
       "['lei', 'applicant_age', 'co_applicant_age', 'state_code']"
      ]
     },
     "execution_count": 16,
     "metadata": {},
     "output_type": "execute_result"
    }
   ],
   "source": [
    "categorical_features"
   ]
  },
  {
   "cell_type": "code",
   "execution_count": 17,
   "id": "5a8dc1e7-eff0-4a78-b2d2-0a8efd0b1c6d",
   "metadata": {},
   "outputs": [
    {
     "data": {
      "text/plain": [
       "['loan_amount', 'interest_rate', 'loan_term', 'income', 'property_value']"
      ]
     },
     "execution_count": 17,
     "metadata": {},
     "output_type": "execute_result"
    }
   ],
   "source": [
    "continuous_numerical_features"
   ]
  },
  {
   "cell_type": "code",
   "execution_count": 18,
   "id": "64c1b64c-2bba-4e8d-b1c0-ea2955fc2d1a",
   "metadata": {},
   "outputs": [
    {
     "data": {
      "text/plain": [
       "['loan_type',\n",
       " 'loan_purpose',\n",
       " 'action_taken',\n",
       " 'applicant_sex',\n",
       " 'applicant_credit_score_type',\n",
       " 'co_applicant_credit_score_type',\n",
       " 'derived_msa_md',\n",
       " 'total_units',\n",
       " 'occupancy_type']"
      ]
     },
     "execution_count": 18,
     "metadata": {},
     "output_type": "execute_result"
    }
   ],
   "source": [
    "discrete_numerical_features"
   ]
  },
  {
   "cell_type": "code",
   "execution_count": 19,
   "id": "7c161951-dd29-4766-ac97-a96b6f381757",
   "metadata": {},
   "outputs": [],
   "source": [
    "cat_indexed_features = [f\"{cat}_indexed\" for cat in categorical_features]"
   ]
  },
  {
   "cell_type": "code",
   "execution_count": 20,
   "id": "e5ebd76a-ffa4-43f1-9187-24b9c84bcba7",
   "metadata": {},
   "outputs": [],
   "source": [
    "# perform Label encoding on categorical features\n",
    "labelEncoder = StringIndexer(inputCols=categorical_features, \n",
    "                           outputCols=cat_indexed_features, handleInvalid=\"skip\")"
   ]
  },
  {
   "cell_type": "code",
   "execution_count": 21,
   "id": "6bb552b9-117b-4677-b306-1460be834084",
   "metadata": {
    "scrolled": true
   },
   "outputs": [],
   "source": [
    "# perform feature hashing on 'county_code' as a lot of distinct values\n",
    "hasher = FeatureHasher(inputCols=[\"county_code\"], outputCol=\"county_code_hashed\", numFeatures=1000)"
   ]
  },
  {
   "cell_type": "code",
   "execution_count": 22,
   "id": "fc6caee8-4d2f-4873-b7f8-c0caf7f32cc0",
   "metadata": {},
   "outputs": [],
   "source": [
    "# perform Standard scaling on continuous numerical features\n",
    "numAssembler = VectorAssembler(inputCols=continuous_numerical_features, \n",
    "                            outputCol=\"con_num_features\")\n",
    "\n",
    "numScaler = StandardScaler(inputCol=\"con_num_features\", outputCol=\"con_num_features_scaled\")"
   ]
  },
  {
   "cell_type": "code",
   "execution_count": 23,
   "id": "085f529f-ccaa-48a3-ae94-bdcc23b17073",
   "metadata": {},
   "outputs": [],
   "source": [
    "# assemble all the features together\n",
    "featureAssembler = VectorAssembler(inputCols=[\"con_num_features_scaled\", \"county_code_hashed\"]+discrete_numerical_features+cat_indexed_features, outputCol='features')"
   ]
  },
  {
   "cell_type": "code",
   "execution_count": 24,
   "id": "687de318-5063-47db-bf3e-58338ea9aa6f",
   "metadata": {},
   "outputs": [],
   "source": [
    "# make the Pipeline\n",
    "transformPipeline = Pipeline(stages = [labelEncoder, hasher, numAssembler, numScaler, featureAssembler])"
   ]
  },
  {
   "cell_type": "code",
   "execution_count": 25,
   "id": "8d518a94-1b54-42b5-8e1c-52fe788c9cf6",
   "metadata": {},
   "outputs": [],
   "source": [
    "# train it\n",
    "transformPipeModel = transformPipeline.fit(train_df)"
   ]
  },
  {
   "cell_type": "code",
   "execution_count": 26,
   "id": "a52cef78-03b4-4498-9d32-b64765c11dc5",
   "metadata": {},
   "outputs": [],
   "source": [
    "train_df = transformPipeModel.transform(train_df)"
   ]
  },
  {
   "cell_type": "code",
   "execution_count": 27,
   "id": "71098462-35b7-40d3-b7af-e10e0d5907d1",
   "metadata": {},
   "outputs": [
    {
     "name": "stderr",
     "output_type": "stream",
     "text": [
      "24/12/04 08:52:30 WARN SparkStringUtils: Truncated the string representation of a plan since it was too large. This behavior can be adjusted by setting 'spark.sql.debug.maxToStringFields'.\n"
     ]
    },
    {
     "data": {
      "text/html": [
       "<table border='1'>\n",
       "<tr><th>lei</th><th>loan_type</th><th>loan_purpose</th><th>loan_amount</th><th>interest_rate</th><th>loan_term</th><th>action_taken</th><th>income</th><th>applicant_age</th><th>applicant_sex</th><th>applicant_credit_score_type</th><th>co_applicant_age</th><th>co_applicant_credit_score_type</th><th>derived_msa_md</th><th>state_code</th><th>county_code</th><th>property_value</th><th>total_units</th><th>occupancy_type</th><th>lei_indexed</th><th>applicant_age_indexed</th><th>co_applicant_age_indexed</th><th>state_code_indexed</th><th>county_code_hashed</th><th>con_num_features</th><th>con_num_features_scaled</th><th>features</th></tr>\n",
       "<tr><td>01J4SO3XTWZF4PP38209</td><td>1</td><td>1</td><td>465000.0</td><td>3.5</td><td>360</td><td>1</td><td>188.0</td><td>35-44</td><td>2</td><td>3</td><td>35-44</td><td>3</td><td>13820</td><td>AL</td><td>01117</td><td>495000.0</td><td>1</td><td>1</td><td>93.0</td><td>0.0</td><td>1.0</td><td>26.0</td><td>(1000,[710],[1.0])</td><td>[465000.0,3.5,360...</td><td>[2.04958786384093...</td><td>(1018,[0,1,2,3,4,...</td></tr>\n",
       "<tr><td>01J4SO3XTWZF4PP38209</td><td>1</td><td>2</td><td>5000.0</td><td>3.2904205</td><td>60</td><td>0</td><td>27.0</td><td>65-74</td><td>1</td><td>1</td><td>9999</td><td>10</td><td>32820</td><td>TN</td><td>47157</td><td>75000.0</td><td>1</td><td>1</td><td>93.0</td><td>4.0</td><td>0.0</td><td>20.0</td><td>(1000,[611],[1.0])</td><td>[5000.0,3.2904205...</td><td>[0.02203857918108...</td><td>(1018,[0,1,2,3,4,...</td></tr>\n",
       "<tr><td>01J4SO3XTWZF4PP38209</td><td>1</td><td>4</td><td>15000.0</td><td>0.98</td><td>120</td><td>1</td><td>58.0</td><td>55-64</td><td>2</td><td>7</td><td>65-74</td><td>9</td><td>25060</td><td>MS</td><td>28047</td><td>125000.0</td><td>2</td><td>1</td><td>93.0</td><td>3.0</td><td>6.0</td><td>36.0</td><td>(1000,[149],[1.0])</td><td>[15000.0,0.980000...</td><td>[0.06611573754325...</td><td>(1018,[0,1,2,3,4,...</td></tr>\n",
       "<tr><td>01J4SO3XTWZF4PP38209</td><td>1</td><td>31</td><td>25000.0</td><td>5.5</td><td>120</td><td>1</td><td>187.0</td><td>35-44</td><td>2</td><td>7</td><td>35-44</td><td>9</td><td>25620</td><td>MS</td><td>28035</td><td>405000.0</td><td>1</td><td>1</td><td>93.0</td><td>0.0</td><td>1.0</td><td>36.0</td><td>(1000,[627],[1.0])</td><td>[25000.0,5.5,120....</td><td>[0.11019289590542...</td><td>(1018,[0,1,2,3,4,...</td></tr>\n",
       "<tr><td>01J4SO3XTWZF4PP38209</td><td>1</td><td>31</td><td>45000.0</td><td>4.25</td><td>59</td><td>1</td><td>94.0</td><td>8888</td><td>4</td><td>9</td><td>9999</td><td>10</td><td>27140</td><td>MS</td><td>28049</td><td>75000.0</td><td>1</td><td>3</td><td>93.0</td><td>5.0</td><td>0.0</td><td>36.0</td><td>(1000,[766],[1.0])</td><td>[45000.0,4.25,59....</td><td>[0.19834721262976...</td><td>(1018,[0,1,2,3,4,...</td></tr>\n",
       "<tr><td>01J4SO3XTWZF4PP38209</td><td>1</td><td>31</td><td>205000.0</td><td>3.0</td><td>360</td><td>1</td><td>97.0</td><td>65-74</td><td>1</td><td>1</td><td>65-74</td><td>1</td><td>19300</td><td>AL</td><td>01003</td><td>375000.0</td><td>1</td><td>1</td><td>93.0</td><td>4.0</td><td>6.0</td><td>26.0</td><td>(1000,[581],[1.0])</td><td>[205000.0,3.0,360...</td><td>[0.90358174642449...</td><td>(1018,[0,1,2,3,4,...</td></tr>\n",
       "<tr><td>01J4SO3XTWZF4PP38209</td><td>1</td><td>32</td><td>105000.0</td><td>2.625</td><td>180</td><td>1</td><td>65.0</td><td>45-54</td><td>2</td><td>2</td><td>9999</td><td>10</td><td>25060</td><td>MS</td><td>28047</td><td>175000.0</td><td>1</td><td>1</td><td>93.0</td><td>1.0</td><td>0.0</td><td>36.0</td><td>(1000,[149],[1.0])</td><td>[105000.0,2.625,1...</td><td>[0.46281016280279...</td><td>(1018,[0,1,2,3,4,...</td></tr>\n",
       "<tr><td>01J4SO3XTWZF4PP38209</td><td>2</td><td>1</td><td>115000.0</td><td>3.99</td><td>360</td><td>0</td><td>94.0</td><td>8888</td><td>4</td><td>9</td><td>8888</td><td>9</td><td>99999</td><td>MS</td><td>28083</td><td>125000.0</td><td>1</td><td>1</td><td>93.0</td><td>5.0</td><td>4.0</td><td>36.0</td><td>(1000,[791],[1.0])</td><td>[115000.0,3.99000...</td><td>[0.50688732116496...</td><td>(1018,[0,1,2,3,4,...</td></tr>\n",
       "<tr><td>01J4SO3XTWZF4PP38209</td><td>2</td><td>1</td><td>315000.0</td><td>2.875</td><td>360</td><td>1</td><td>87.0</td><td>25-34</td><td>1</td><td>1</td><td>9999</td><td>10</td><td>32820</td><td>MS</td><td>28137</td><td>325000.0</td><td>1</td><td>1</td><td>93.0</td><td>2.0</td><td>0.0</td><td>36.0</td><td>(1000,[744],[1.0])</td><td>[315000.0,2.875,3...</td><td>[1.38843048840837...</td><td>(1018,[0,1,2,3,4,...</td></tr>\n",
       "<tr><td>0S8H5NJFLHEVJXVTQ413</td><td>1</td><td>32</td><td>285000.0</td><td>3.5</td><td>360</td><td>1</td><td>64.0</td><td>25-34</td><td>3</td><td>1</td><td>25-34</td><td>1</td><td>13380</td><td>WA</td><td>53073</td><td>355000.0</td><td>1</td><td>1</td><td>577.0</td><td>2.0</td><td>3.0</td><td>10.0</td><td>(1000,[634],[1.0])</td><td>[285000.0,3.5,360...</td><td>[1.25619901332186...</td><td>(1018,[0,1,2,3,4,...</td></tr>\n",
       "<tr><td>1IE8VN30JCEQV1H4R804</td><td>1</td><td>1</td><td>255000.0</td><td>2.75</td><td>360</td><td>0</td><td>102.0</td><td>8888</td><td>4</td><td>9</td><td>8888</td><td>9</td><td>47894</td><td>DC</td><td>11001</td><td>835000.0</td><td>1</td><td>1</td><td>349.0</td><td>5.0</td><td>4.0</td><td>47.0</td><td>(1000,[445],[1.0])</td><td>[255000.0,2.75,36...</td><td>[1.12396753823535...</td><td>(1018,[0,1,2,3,4,...</td></tr>\n",
       "<tr><td>1IE8VN30JCEQV1H4R804</td><td>1</td><td>31</td><td>165000.0</td><td>2.75</td><td>360</td><td>1</td><td>99.0</td><td>55-64</td><td>3</td><td>1</td><td>55-64</td><td>9</td><td>35614</td><td>NY</td><td>36085</td><td>785000.0</td><td>1</td><td>1</td><td>349.0</td><td>3.0</td><td>5.0</td><td>13.0</td><td>(1000,[459],[1.0])</td><td>[165000.0,2.75,36...</td><td>[0.72727311297581...</td><td>(1018,[0,1,2,3,4,...</td></tr>\n",
       "<tr><td>213800THW6KSUL191M34</td><td>1</td><td>31</td><td>145000.0</td><td>3.125</td><td>240</td><td>1</td><td>92.0</td><td>55-64</td><td>2</td><td>7</td><td>55-64</td><td>9</td><td>99999</td><td>ND</td><td>38093</td><td>175000.0</td><td>1</td><td>1</td><td>580.0</td><td>3.0</td><td>5.0</td><td>48.0</td><td>(1000,[79],[1.0])</td><td>[145000.0,3.125,2...</td><td>[0.63911879625147...</td><td>(1018,[0,1,2,3,4,...</td></tr>\n",
       "<tr><td>213800XR2TCBQJSF1X93</td><td>1</td><td>31</td><td>95000.0</td><td>2.625</td><td>180</td><td>1</td><td>37.0</td><td>45-54</td><td>2</td><td>3</td><td>55-64</td><td>3</td><td>23420</td><td>CA</td><td>06019</td><td>245000.0</td><td>1</td><td>1</td><td>140.0</td><td>1.0</td><td>5.0</td><td>0.0</td><td>(1000,[620],[1.0])</td><td>[95000.0,2.625,18...</td><td>[0.41873300444062...</td><td>(1018,[0,1,2,3,4,...</td></tr>\n",
       "<tr><td>213800XR2TCBQJSF1X93</td><td>1</td><td>31</td><td>255000.0</td><td>3.375</td><td>360</td><td>1</td><td>187.0</td><td>45-54</td><td>2</td><td>1</td><td>45-54</td><td>2</td><td>99999</td><td>WA</td><td>53001</td><td>375000.0</td><td>1</td><td>1</td><td>140.0</td><td>1.0</td><td>2.0</td><td>10.0</td><td>(1000,[330],[1.0])</td><td>[255000.0,3.375,3...</td><td>[1.12396753823535...</td><td>(1018,[0,1,2,3,4,...</td></tr>\n",
       "<tr><td>213800XR2TCBQJSF1X93</td><td>1</td><td>31</td><td>265000.0</td><td>3.75</td><td>360</td><td>1</td><td>98.0</td><td>55-64</td><td>1</td><td>3</td><td>45-54</td><td>3</td><td>99999</td><td>LA</td><td>22009</td><td>335000.0</td><td>1</td><td>1</td><td>140.0</td><td>3.0</td><td>2.0</td><td>28.0</td><td>(1000,[750],[1.0])</td><td>[265000.0,3.75,36...</td><td>[1.16804469659752...</td><td>(1018,[0,1,2,3,4,...</td></tr>\n",
       "<tr><td>213800XR2TCBQJSF1X93</td><td>1</td><td>31</td><td>345000.0</td><td>3.5</td><td>360</td><td>1</td><td>86.0</td><td>25-34</td><td>1</td><td>2</td><td>35-44</td><td>1</td><td>29820</td><td>NV</td><td>32003</td><td>465000.0</td><td>1</td><td>1</td><td>140.0</td><td>2.0</td><td>1.0</td><td>25.0</td><td>(1000,[198],[1.0])</td><td>[345000.0,3.5,360...</td><td>[1.52066196349488...</td><td>(1018,[0,1,2,3,4,...</td></tr>\n",
       "<tr><td>213800XR2TCBQJSF1X93</td><td>1</td><td>31</td><td>465000.0</td><td>3.2904205</td><td>360</td><td>0</td><td>191.0</td><td>45-54</td><td>2</td><td>2</td><td>35-44</td><td>3</td><td>41740</td><td>CA</td><td>06073</td><td>785000.0</td><td>1</td><td>1</td><td>140.0</td><td>1.0</td><td>1.0</td><td>0.0</td><td>(1000,[59],[1.0])</td><td>[465000.0,3.29042...</td><td>[2.04958786384093...</td><td>(1018,[0,1,2,3,4,...</td></tr>\n",
       "<tr><td>213800XR2TCBQJSF1X93</td><td>1</td><td>32</td><td>395000.0</td><td>2.875</td><td>360</td><td>1</td><td>90.0</td><td>65-74</td><td>1</td><td>3</td><td>65-74</td><td>3</td><td>40900</td><td>CA</td><td>06067</td><td>805000.0</td><td>1</td><td>1</td><td>140.0</td><td>4.0</td><td>6.0</td><td>0.0</td><td>(1000,[780],[1.0])</td><td>[395000.0,2.875,3...</td><td>[1.74104775530573...</td><td>(1018,[0,1,2,3,4,...</td></tr>\n",
       "<tr><td>2549001SI0EMFPT39035</td><td>1</td><td>31</td><td>185000.0</td><td>2.875</td><td>360</td><td>1</td><td>111.0</td><td>65-74</td><td>1</td><td>7</td><td>65-74</td><td>7</td><td>29820</td><td>NV</td><td>32003</td><td>285000.0</td><td>1</td><td>2</td><td>584.0</td><td>4.0</td><td>6.0</td><td>25.0</td><td>(1000,[198],[1.0])</td><td>[185000.0,2.875,3...</td><td>[0.81542742970015...</td><td>(1018,[0,1,2,3,4,...</td></tr>\n",
       "</table>\n",
       "only showing top 20 rows\n"
      ],
      "text/plain": [
       "+--------------------+---------+------------+-----------+-------------+---------+------------+------+-------------+-------------+---------------------------+----------------+------------------------------+--------------+----------+-----------+--------------+-----------+--------------+-----------+---------------------+------------------------+------------------+------------------+--------------------+-----------------------+--------------------+\n",
       "|                 lei|loan_type|loan_purpose|loan_amount|interest_rate|loan_term|action_taken|income|applicant_age|applicant_sex|applicant_credit_score_type|co_applicant_age|co_applicant_credit_score_type|derived_msa_md|state_code|county_code|property_value|total_units|occupancy_type|lei_indexed|applicant_age_indexed|co_applicant_age_indexed|state_code_indexed|county_code_hashed|    con_num_features|con_num_features_scaled|            features|\n",
       "+--------------------+---------+------------+-----------+-------------+---------+------------+------+-------------+-------------+---------------------------+----------------+------------------------------+--------------+----------+-----------+--------------+-----------+--------------+-----------+---------------------+------------------------+------------------+------------------+--------------------+-----------------------+--------------------+\n",
       "|01J4SO3XTWZF4PP38209|        1|           1|   465000.0|          3.5|      360|           1| 188.0|        35-44|            2|                          3|           35-44|                             3|         13820|        AL|      01117|      495000.0|          1|             1|       93.0|                  0.0|                     1.0|              26.0|(1000,[710],[1.0])|[465000.0,3.5,360...|   [2.04958786384093...|(1018,[0,1,2,3,4,...|\n",
       "|01J4SO3XTWZF4PP38209|        1|           2|     5000.0|    3.2904205|       60|           0|  27.0|        65-74|            1|                          1|            9999|                            10|         32820|        TN|      47157|       75000.0|          1|             1|       93.0|                  4.0|                     0.0|              20.0|(1000,[611],[1.0])|[5000.0,3.2904205...|   [0.02203857918108...|(1018,[0,1,2,3,4,...|\n",
       "|01J4SO3XTWZF4PP38209|        1|           4|    15000.0|         0.98|      120|           1|  58.0|        55-64|            2|                          7|           65-74|                             9|         25060|        MS|      28047|      125000.0|          2|             1|       93.0|                  3.0|                     6.0|              36.0|(1000,[149],[1.0])|[15000.0,0.980000...|   [0.06611573754325...|(1018,[0,1,2,3,4,...|\n",
       "|01J4SO3XTWZF4PP38209|        1|          31|    25000.0|          5.5|      120|           1| 187.0|        35-44|            2|                          7|           35-44|                             9|         25620|        MS|      28035|      405000.0|          1|             1|       93.0|                  0.0|                     1.0|              36.0|(1000,[627],[1.0])|[25000.0,5.5,120....|   [0.11019289590542...|(1018,[0,1,2,3,4,...|\n",
       "|01J4SO3XTWZF4PP38209|        1|          31|    45000.0|         4.25|       59|           1|  94.0|         8888|            4|                          9|            9999|                            10|         27140|        MS|      28049|       75000.0|          1|             3|       93.0|                  5.0|                     0.0|              36.0|(1000,[766],[1.0])|[45000.0,4.25,59....|   [0.19834721262976...|(1018,[0,1,2,3,4,...|\n",
       "|01J4SO3XTWZF4PP38209|        1|          31|   205000.0|          3.0|      360|           1|  97.0|        65-74|            1|                          1|           65-74|                             1|         19300|        AL|      01003|      375000.0|          1|             1|       93.0|                  4.0|                     6.0|              26.0|(1000,[581],[1.0])|[205000.0,3.0,360...|   [0.90358174642449...|(1018,[0,1,2,3,4,...|\n",
       "|01J4SO3XTWZF4PP38209|        1|          32|   105000.0|        2.625|      180|           1|  65.0|        45-54|            2|                          2|            9999|                            10|         25060|        MS|      28047|      175000.0|          1|             1|       93.0|                  1.0|                     0.0|              36.0|(1000,[149],[1.0])|[105000.0,2.625,1...|   [0.46281016280279...|(1018,[0,1,2,3,4,...|\n",
       "|01J4SO3XTWZF4PP38209|        2|           1|   115000.0|         3.99|      360|           0|  94.0|         8888|            4|                          9|            8888|                             9|         99999|        MS|      28083|      125000.0|          1|             1|       93.0|                  5.0|                     4.0|              36.0|(1000,[791],[1.0])|[115000.0,3.99000...|   [0.50688732116496...|(1018,[0,1,2,3,4,...|\n",
       "|01J4SO3XTWZF4PP38209|        2|           1|   315000.0|        2.875|      360|           1|  87.0|        25-34|            1|                          1|            9999|                            10|         32820|        MS|      28137|      325000.0|          1|             1|       93.0|                  2.0|                     0.0|              36.0|(1000,[744],[1.0])|[315000.0,2.875,3...|   [1.38843048840837...|(1018,[0,1,2,3,4,...|\n",
       "|0S8H5NJFLHEVJXVTQ413|        1|          32|   285000.0|          3.5|      360|           1|  64.0|        25-34|            3|                          1|           25-34|                             1|         13380|        WA|      53073|      355000.0|          1|             1|      577.0|                  2.0|                     3.0|              10.0|(1000,[634],[1.0])|[285000.0,3.5,360...|   [1.25619901332186...|(1018,[0,1,2,3,4,...|\n",
       "|1IE8VN30JCEQV1H4R804|        1|           1|   255000.0|         2.75|      360|           0| 102.0|         8888|            4|                          9|            8888|                             9|         47894|        DC|      11001|      835000.0|          1|             1|      349.0|                  5.0|                     4.0|              47.0|(1000,[445],[1.0])|[255000.0,2.75,36...|   [1.12396753823535...|(1018,[0,1,2,3,4,...|\n",
       "|1IE8VN30JCEQV1H4R804|        1|          31|   165000.0|         2.75|      360|           1|  99.0|        55-64|            3|                          1|           55-64|                             9|         35614|        NY|      36085|      785000.0|          1|             1|      349.0|                  3.0|                     5.0|              13.0|(1000,[459],[1.0])|[165000.0,2.75,36...|   [0.72727311297581...|(1018,[0,1,2,3,4,...|\n",
       "|213800THW6KSUL191M34|        1|          31|   145000.0|        3.125|      240|           1|  92.0|        55-64|            2|                          7|           55-64|                             9|         99999|        ND|      38093|      175000.0|          1|             1|      580.0|                  3.0|                     5.0|              48.0| (1000,[79],[1.0])|[145000.0,3.125,2...|   [0.63911879625147...|(1018,[0,1,2,3,4,...|\n",
       "|213800XR2TCBQJSF1X93|        1|          31|    95000.0|        2.625|      180|           1|  37.0|        45-54|            2|                          3|           55-64|                             3|         23420|        CA|      06019|      245000.0|          1|             1|      140.0|                  1.0|                     5.0|               0.0|(1000,[620],[1.0])|[95000.0,2.625,18...|   [0.41873300444062...|(1018,[0,1,2,3,4,...|\n",
       "|213800XR2TCBQJSF1X93|        1|          31|   255000.0|        3.375|      360|           1| 187.0|        45-54|            2|                          1|           45-54|                             2|         99999|        WA|      53001|      375000.0|          1|             1|      140.0|                  1.0|                     2.0|              10.0|(1000,[330],[1.0])|[255000.0,3.375,3...|   [1.12396753823535...|(1018,[0,1,2,3,4,...|\n",
       "|213800XR2TCBQJSF1X93|        1|          31|   265000.0|         3.75|      360|           1|  98.0|        55-64|            1|                          3|           45-54|                             3|         99999|        LA|      22009|      335000.0|          1|             1|      140.0|                  3.0|                     2.0|              28.0|(1000,[750],[1.0])|[265000.0,3.75,36...|   [1.16804469659752...|(1018,[0,1,2,3,4,...|\n",
       "|213800XR2TCBQJSF1X93|        1|          31|   345000.0|          3.5|      360|           1|  86.0|        25-34|            1|                          2|           35-44|                             1|         29820|        NV|      32003|      465000.0|          1|             1|      140.0|                  2.0|                     1.0|              25.0|(1000,[198],[1.0])|[345000.0,3.5,360...|   [1.52066196349488...|(1018,[0,1,2,3,4,...|\n",
       "|213800XR2TCBQJSF1X93|        1|          31|   465000.0|    3.2904205|      360|           0| 191.0|        45-54|            2|                          2|           35-44|                             3|         41740|        CA|      06073|      785000.0|          1|             1|      140.0|                  1.0|                     1.0|               0.0| (1000,[59],[1.0])|[465000.0,3.29042...|   [2.04958786384093...|(1018,[0,1,2,3,4,...|\n",
       "|213800XR2TCBQJSF1X93|        1|          32|   395000.0|        2.875|      360|           1|  90.0|        65-74|            1|                          3|           65-74|                             3|         40900|        CA|      06067|      805000.0|          1|             1|      140.0|                  4.0|                     6.0|               0.0|(1000,[780],[1.0])|[395000.0,2.875,3...|   [1.74104775530573...|(1018,[0,1,2,3,4,...|\n",
       "|2549001SI0EMFPT39035|        1|          31|   185000.0|        2.875|      360|           1| 111.0|        65-74|            1|                          7|           65-74|                             7|         29820|        NV|      32003|      285000.0|          1|             2|      584.0|                  4.0|                     6.0|              25.0|(1000,[198],[1.0])|[185000.0,2.875,3...|   [0.81542742970015...|(1018,[0,1,2,3,4,...|\n",
       "+--------------------+---------+------------+-----------+-------------+---------+------------+------+-------------+-------------+---------------------------+----------------+------------------------------+--------------+----------+-----------+--------------+-----------+--------------+-----------+---------------------+------------------------+------------------+------------------+--------------------+-----------------------+--------------------+\n",
       "only showing top 20 rows"
      ]
     },
     "execution_count": 27,
     "metadata": {},
     "output_type": "execute_result"
    }
   ],
   "source": [
    "train_df"
   ]
  },
  {
   "cell_type": "code",
   "execution_count": null,
   "id": "3b9eb111-0ca0-4717-b4cd-ddde7cd72992",
   "metadata": {},
   "outputs": [],
   "source": []
  },
  {
   "cell_type": "markdown",
   "id": "e0519858-0218-49c1-8f52-55e5307754be",
   "metadata": {},
   "source": [
    "### 6. Models Prediction"
   ]
  },
  {
   "cell_type": "code",
   "execution_count": 28,
   "id": "af0b691a-a5fa-4e4f-a6fa-aec6a3051cc8",
   "metadata": {},
   "outputs": [],
   "source": [
    "from pyspark.ml.classification import LogisticRegression, LinearSVC, NaiveBayes, DecisionTreeClassifier, RandomForestClassifier, GBTClassifier, FMClassifier"
   ]
  },
  {
   "cell_type": "code",
   "execution_count": 29,
   "id": "c3d8d646-2ed3-4215-8fab-8509ae067ef5",
   "metadata": {},
   "outputs": [],
   "source": [
    "# evaluate the model from 'y_true' and 'y_pred' \n",
    "from pyspark.ml.evaluation import MulticlassClassificationEvaluator, BinaryClassificationEvaluator"
   ]
  },
  {
   "cell_type": "code",
   "execution_count": 30,
   "id": "85709496-0cc5-40be-9562-57d5c00ac221",
   "metadata": {},
   "outputs": [],
   "source": [
    "def evaluate_model(predictions, label_col='action_taken', prediction_col='prediction', raw_prediction_col='rawPrediction'):\n",
    "    '''It returns classification evaluation metrics like accuracy, precision, f1, recall and roc'''\n",
    "    \n",
    "    # Initialize evaluators\n",
    "    evaluator_accuracy = MulticlassClassificationEvaluator(labelCol=label_col, predictionCol=prediction_col, metricName='accuracy')\n",
    "    evaluator_precision = MulticlassClassificationEvaluator(labelCol=label_col, predictionCol=prediction_col, metricName='weightedPrecision')\n",
    "    evaluator_recall = MulticlassClassificationEvaluator(labelCol=label_col, predictionCol=prediction_col, metricName='weightedRecall')\n",
    "    evaluator_f1 = MulticlassClassificationEvaluator(labelCol=label_col, predictionCol=prediction_col, metricName='f1')\n",
    "    evaluator_roc = BinaryClassificationEvaluator(labelCol=label_col, rawPredictionCol=raw_prediction_col, metricName='areaUnderROC')\n",
    "\n",
    "    # Calculate metrics\n",
    "    accuracy = evaluator_accuracy.evaluate(predictions)\n",
    "    precision = evaluator_precision.evaluate(predictions)\n",
    "    recall = evaluator_recall.evaluate(predictions)\n",
    "    f1_score = evaluator_f1.evaluate(predictions)\n",
    "    roc_auc = evaluator_roc.evaluate(predictions)\n",
    "\n",
    "    # Return all metrics as a dictionary\n",
    "    metrics = {\n",
    "        'accuracy': accuracy,\n",
    "        'precision': precision,\n",
    "        'recall': recall,\n",
    "        'f1_score': f1_score,\n",
    "        'roc_auc': roc_auc\n",
    "    }\n",
    "\n",
    "    return metrics"
   ]
  },
  {
   "cell_type": "code",
   "execution_count": 31,
   "id": "0190671d-1bc6-49f6-9fcb-353e0ca854e9",
   "metadata": {},
   "outputs": [],
   "source": [
    "models = {\n",
    "    'Logistic Regression': LogisticRegression(featuresCol='features', labelCol='action_taken'),\n",
    "    'Support Vector Machine': LinearSVC(featuresCol='features', labelCol='action_taken'),\n",
    "    # 'Naive Bayes': NaiveBayes(featuresCol='features', labelCol='action_taken'),\n",
    "    'Factorization Machine': FMClassifier(featuresCol='features', labelCol='action_taken'),\n",
    "    'Decision Tree': DecisionTreeClassifier(featuresCol='features', labelCol='action_taken', maxBins=2000),\n",
    "    'Random Forest': RandomForestClassifier(featuresCol='features', labelCol='action_taken', maxBins=2000),\n",
    "    'Gradient Boosting Trees': GBTClassifier(featuresCol='features', labelCol='action_taken', maxBins=2000),\n",
    "}"
   ]
  },
  {
   "cell_type": "code",
   "execution_count": 32,
   "id": "5a4a6e4d-1618-425c-b7de-81ff780e1421",
   "metadata": {},
   "outputs": [
    {
     "name": "stdout",
     "output_type": "stream",
     "text": [
      "========== Logistic Regression ============\n"
     ]
    },
    {
     "name": "stderr",
     "output_type": "stream",
     "text": [
      "24/12/04 08:52:31 WARN InstanceBuilder: Failed to load implementation from:dev.ludovic.netlib.blas.JNIBLAS\n",
      "24/12/04 08:52:31 WARN InstanceBuilder: Failed to load implementation from:dev.ludovic.netlib.blas.VectorBLAS\n"
     ]
    },
    {
     "name": "stdout",
     "output_type": "stream",
     "text": [
      "accuracy: 1.0000\n",
      "precison: 1.0000\n",
      "recall: 1.0000\n",
      "f1-score: 1.0000\n",
      "ROC: 1.0000\n",
      "\n",
      "\n",
      "========== Support Vector Machine ============\n",
      "accuracy: 0.9993\n",
      "precison: 0.9993\n",
      "recall: 0.9993\n",
      "f1-score: 0.9993\n",
      "ROC: 0.9998\n",
      "\n",
      "\n",
      "========== Factorization Machine ============\n",
      "accuracy: 0.9364\n",
      "precison: 0.9361\n",
      "recall: 0.9364\n",
      "f1-score: 0.9358\n",
      "ROC: 0.9572\n",
      "\n",
      "\n",
      "========== Decision Tree ============\n",
      "accuracy: 1.0000\n",
      "precison: 1.0000\n",
      "recall: 1.0000\n",
      "f1-score: 1.0000\n",
      "ROC: 1.0000\n",
      "\n",
      "\n",
      "========== Random Forest ============\n",
      "accuracy: 0.8208\n",
      "precison: 0.8581\n",
      "recall: 0.8208\n",
      "f1-score: 0.7963\n",
      "ROC: 0.9710\n",
      "\n",
      "\n",
      "========== Gradient Boosting Trees ============\n",
      "accuracy: 1.0000\n",
      "precison: 1.0000\n",
      "recall: 1.0000\n",
      "f1-score: 1.0000\n",
      "ROC: 1.0000\n",
      "\n",
      "\n"
     ]
    }
   ],
   "source": [
    "for algo in models:\n",
    "    print(f\"========== {algo} ============\")\n",
    "\n",
    "    # Train the model\n",
    "    model = models[algo]\n",
    "    trained_model = model.fit(train_df)\n",
    "\n",
    "    # Evaluate on Test data\n",
    "    test_df_transformed = transformPipeModel.transform(test_df)\n",
    "    test_predictions = trained_model.transform(test_df_transformed)\n",
    "\n",
    "    results = evaluate_model(test_predictions)\n",
    "    print(\"accuracy: {:.4f}\".format(results['accuracy']))\n",
    "    print(\"precison: {:.4f}\".format(results['precision']))\n",
    "    print(\"recall: {:.4f}\".format(results['recall']))\n",
    "    print(\"f1-score: {:.4f}\".format(results['f1_score']))\n",
    "    print(\"ROC: {:.4f}\".format(results['roc_auc']))\n",
    "\n",
    "    print('\\n')"
   ]
  },
  {
   "cell_type": "code",
   "execution_count": null,
   "id": "9c5570b4-58d7-40ab-941d-1908f6b04f2f",
   "metadata": {},
   "outputs": [],
   "source": []
  },
  {
   "cell_type": "code",
   "execution_count": null,
   "id": "74c13166-3fc2-4260-b846-64884b64918b",
   "metadata": {},
   "outputs": [],
   "source": []
  },
  {
   "cell_type": "code",
   "execution_count": null,
   "id": "a1a26743-73fd-4154-8465-debadf21c3e4",
   "metadata": {},
   "outputs": [],
   "source": []
  }
 ],
 "metadata": {
  "kernelspec": {
   "display_name": "Python 3 (ipykernel)",
   "language": "python",
   "name": "python3"
  },
  "language_info": {
   "codemirror_mode": {
    "name": "ipython",
    "version": 3
   },
   "file_extension": ".py",
   "mimetype": "text/x-python",
   "name": "python",
   "nbconvert_exporter": "python",
   "pygments_lexer": "ipython3",
   "version": "3.12.1"
  }
 },
 "nbformat": 4,
 "nbformat_minor": 5
}
