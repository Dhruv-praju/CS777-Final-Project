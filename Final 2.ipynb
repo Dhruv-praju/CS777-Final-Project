{
 "cells": [
  {
   "cell_type": "code",
   "execution_count": 1,
   "id": "f061da50-a00e-4ad0-aded-39d5cefa802c",
   "metadata": {},
   "outputs": [],
   "source": [
    "from pyspark.sql import SparkSession"
   ]
  },
  {
   "cell_type": "code",
   "execution_count": 2,
   "id": "5d6c63d3-d756-47ed-aa00-4277d15abd70",
   "metadata": {},
   "outputs": [
    {
     "name": "stderr",
     "output_type": "stream",
     "text": [
      "Setting default log level to \"WARN\".\n",
      "To adjust logging level use sc.setLogLevel(newLevel). For SparkR, use setLogLevel(newLevel).\n",
      "24/12/08 11:29:08 WARN NativeCodeLoader: Unable to load native-hadoop library for your platform... using builtin-java classes where applicable\n",
      "24/12/08 11:29:09 WARN Utils: Service 'SparkUI' could not bind on port 4040. Attempting port 4041.\n",
      "----------------------------------------\n",
      "Exception occurred during processing of request from ('127.0.0.1', 55266)\n",
      "Traceback (most recent call last):\n",
      "  File \"/Users/dhruvprajapati/.pyenv/versions/3.12.1/lib/python3.12/socketserver.py\", line 318, in _handle_request_noblock\n",
      "    self.process_request(request, client_address)\n",
      "  File \"/Users/dhruvprajapati/.pyenv/versions/3.12.1/lib/python3.12/socketserver.py\", line 349, in process_request\n",
      "    self.finish_request(request, client_address)\n",
      "  File \"/Users/dhruvprajapati/.pyenv/versions/3.12.1/lib/python3.12/socketserver.py\", line 362, in finish_request\n",
      "    self.RequestHandlerClass(request, client_address, self)\n",
      "  File \"/Users/dhruvprajapati/.pyenv/versions/3.12.1/lib/python3.12/socketserver.py\", line 761, in __init__\n",
      "    self.handle()\n",
      "  File \"/Users/dhruvprajapati/.pyenv/versions/3.12.1/lib/python3.12/site-packages/pyspark/accumulators.py\", line 295, in handle\n",
      "    poll(accum_updates)\n",
      "  File \"/Users/dhruvprajapati/.pyenv/versions/3.12.1/lib/python3.12/site-packages/pyspark/accumulators.py\", line 267, in poll\n",
      "    if self.rfile in r and func():\n",
      "                           ^^^^^^\n",
      "  File \"/Users/dhruvprajapati/.pyenv/versions/3.12.1/lib/python3.12/site-packages/pyspark/accumulators.py\", line 271, in accum_updates\n",
      "    num_updates = read_int(self.rfile)\n",
      "                  ^^^^^^^^^^^^^^^^^^^^\n",
      "  File \"/Users/dhruvprajapati/.pyenv/versions/3.12.1/lib/python3.12/site-packages/pyspark/serializers.py\", line 596, in read_int\n",
      "    raise EOFError\n",
      "EOFError\n",
      "----------------------------------------\n"
     ]
    }
   ],
   "source": [
    "spark = SparkSession.builder \\\n",
    "    .appName(\"Final\") \\\n",
    "    .getOrCreate()\n",
    "\n",
    "sc = spark.sparkContext"
   ]
  },
  {
   "cell_type": "code",
   "execution_count": 3,
   "id": "46df0786-11e6-4dd2-85b0-11ac126de551",
   "metadata": {},
   "outputs": [
    {
     "data": {
      "text/html": [
       "\n",
       "            <div>\n",
       "                <p><b>SparkSession - in-memory</b></p>\n",
       "                \n",
       "        <div>\n",
       "            <p><b>SparkContext</b></p>\n",
       "\n",
       "            <p><a href=\"http://crc-dot1x-nat-10-239-73-149.bu.edu:4041\">Spark UI</a></p>\n",
       "\n",
       "            <dl>\n",
       "              <dt>Version</dt>\n",
       "                <dd><code>v3.5.2</code></dd>\n",
       "              <dt>Master</dt>\n",
       "                <dd><code>local[*]</code></dd>\n",
       "              <dt>AppName</dt>\n",
       "                <dd><code>Final</code></dd>\n",
       "            </dl>\n",
       "        </div>\n",
       "        \n",
       "            </div>\n",
       "        "
      ],
      "text/plain": [
       "<pyspark.sql.session.SparkSession at 0x107cf6570>"
      ]
     },
     "execution_count": 3,
     "metadata": {},
     "output_type": "execute_result"
    }
   ],
   "source": [
    "spark"
   ]
  },
  {
   "cell_type": "code",
   "execution_count": 4,
   "id": "dede3fa2-82b7-4131-b73b-b08a7be28902",
   "metadata": {},
   "outputs": [],
   "source": [
    "spark.conf.set('spark.sql.repl.eagerEval.enabled', True)"
   ]
  },
  {
   "cell_type": "code",
   "execution_count": 5,
   "id": "ff447413-7951-44d7-970e-fe142df32c71",
   "metadata": {},
   "outputs": [],
   "source": [
    "df = spark.read.parquet('./cleaned_dataset')"
   ]
  },
  {
   "cell_type": "code",
   "execution_count": 6,
   "id": "53a9917d-7b98-43a3-86d2-a80943908b32",
   "metadata": {},
   "outputs": [
    {
     "name": "stdout",
     "output_type": "stream",
     "text": [
      "root\n",
      " |-- lei: string (nullable = true)\n",
      " |-- loan_type: integer (nullable = true)\n",
      " |-- loan_purpose: integer (nullable = true)\n",
      " |-- loan_amount: float (nullable = true)\n",
      " |-- interest_rate: float (nullable = true)\n",
      " |-- loan_term: integer (nullable = true)\n",
      " |-- action_taken: integer (nullable = true)\n",
      " |-- income: float (nullable = true)\n",
      " |-- applicant_age: string (nullable = true)\n",
      " |-- applicant_sex: integer (nullable = true)\n",
      " |-- applicant_credit_score_type: integer (nullable = true)\n",
      " |-- co_applicant_age: string (nullable = true)\n",
      " |-- co_applicant_credit_score_type: integer (nullable = true)\n",
      " |-- derived_msa_md: integer (nullable = true)\n",
      " |-- state_code: string (nullable = true)\n",
      " |-- county_code: string (nullable = true)\n",
      " |-- property_value: float (nullable = true)\n",
      " |-- total_units: integer (nullable = true)\n",
      " |-- occupancy_type: integer (nullable = true)\n",
      "\n"
     ]
    }
   ],
   "source": [
    "df.printSchema()"
   ]
  },
  {
   "cell_type": "code",
   "execution_count": 7,
   "id": "8311e627-9427-4f0c-a160-78fca5636332",
   "metadata": {},
   "outputs": [
    {
     "data": {
      "text/plain": [
       "19"
      ]
     },
     "execution_count": 7,
     "metadata": {},
     "output_type": "execute_result"
    }
   ],
   "source": [
    "len(df.columns)"
   ]
  },
  {
   "cell_type": "code",
   "execution_count": 8,
   "id": "7cfa5546-9063-4d07-adc1-7eb4a973f0e0",
   "metadata": {},
   "outputs": [
    {
     "data": {
      "text/plain": [
       "7427"
      ]
     },
     "execution_count": 8,
     "metadata": {},
     "output_type": "execute_result"
    }
   ],
   "source": [
    "df.count()"
   ]
  },
  {
   "cell_type": "markdown",
   "id": "a3653676-439d-4212-93a1-1bcb316f4f68",
   "metadata": {},
   "source": [
    "### 4. Train Test split"
   ]
  },
  {
   "cell_type": "code",
   "execution_count": 9,
   "id": "7ba08c29-77f9-4739-ac5a-7a99b1c63b73",
   "metadata": {},
   "outputs": [],
   "source": [
    "train_df, test_df = df.randomSplit(weights=[0.8, 0.2], seed=100)"
   ]
  },
  {
   "cell_type": "code",
   "execution_count": 10,
   "id": "631f43c5-2c13-4698-b17f-50fab91990f2",
   "metadata": {},
   "outputs": [
    {
     "data": {
      "text/plain": [
       "5915"
      ]
     },
     "execution_count": 10,
     "metadata": {},
     "output_type": "execute_result"
    }
   ],
   "source": [
    "train_df.count()"
   ]
  },
  {
   "cell_type": "code",
   "execution_count": 11,
   "id": "45d7493b-1941-420e-8ec0-d0e77f6b6999",
   "metadata": {},
   "outputs": [
    {
     "data": {
      "text/plain": [
       "1512"
      ]
     },
     "execution_count": 11,
     "metadata": {},
     "output_type": "execute_result"
    }
   ],
   "source": [
    "test_df.count()"
   ]
  },
  {
   "cell_type": "code",
   "execution_count": null,
   "id": "37698698-584c-4ff8-8e7e-b0eb711943c6",
   "metadata": {},
   "outputs": [],
   "source": []
  },
  {
   "cell_type": "code",
   "execution_count": null,
   "id": "7a8c8386-ccc4-4f48-b71e-a95d84c895bf",
   "metadata": {},
   "outputs": [],
   "source": []
  },
  {
   "cell_type": "code",
   "execution_count": null,
   "id": "8ce72115-7c25-4b32-a101-c6927092f66d",
   "metadata": {},
   "outputs": [],
   "source": []
  },
  {
   "cell_type": "markdown",
   "id": "046987ee-3597-4f64-ba58-224cd4c0feae",
   "metadata": {},
   "source": [
    "### 5. Feature transformation"
   ]
  },
  {
   "cell_type": "code",
   "execution_count": 12,
   "id": "a8df1bd9-b1a4-423e-b671-b4d4f4c289d1",
   "metadata": {},
   "outputs": [],
   "source": [
    "from pyspark.sql.types import StringType"
   ]
  },
  {
   "cell_type": "code",
   "execution_count": 13,
   "id": "14ef2fd3-d5cc-4e02-bbc2-ceb209b52f14",
   "metadata": {},
   "outputs": [],
   "source": [
    "from pyspark.ml.feature import StringIndexer, StandardScaler, VectorAssembler, FeatureHasher\n",
    "from pyspark.ml import Pipeline"
   ]
  },
  {
   "cell_type": "code",
   "execution_count": 14,
   "id": "bf94fd8c-de36-46d2-bec9-30b26407def3",
   "metadata": {},
   "outputs": [],
   "source": [
    "# Define categorical and numerical features\n",
    "categorical_features = [field.name for field in train_df.schema.fields if field.dataType is StringType()]\n",
    "numerical_features = [field for field in train_df.columns if field not in categorical_features]\n",
    "\n",
    "continuous_numerical_features = [\"loan_amount\", \"interest_rate\", \"loan_term\", \"income\", \"property_value\"]\n",
    "discrete_numerical_features = [item for item in numerical_features if item not in continuous_numerical_features]"
   ]
  },
  {
   "cell_type": "code",
   "execution_count": 15,
   "id": "04876ec5-e559-4745-89c5-f423ad359a9c",
   "metadata": {},
   "outputs": [],
   "source": [
    "categorical_features.remove('county_code')"
   ]
  },
  {
   "cell_type": "code",
   "execution_count": 16,
   "id": "56d10a87-638c-44f7-bdb7-ffbf7df22c33",
   "metadata": {},
   "outputs": [
    {
     "data": {
      "text/plain": [
       "['lei', 'applicant_age', 'co_applicant_age', 'state_code']"
      ]
     },
     "execution_count": 16,
     "metadata": {},
     "output_type": "execute_result"
    }
   ],
   "source": [
    "categorical_features"
   ]
  },
  {
   "cell_type": "code",
   "execution_count": 17,
   "id": "5a8dc1e7-eff0-4a78-b2d2-0a8efd0b1c6d",
   "metadata": {},
   "outputs": [
    {
     "data": {
      "text/plain": [
       "['loan_amount', 'interest_rate', 'loan_term', 'income', 'property_value']"
      ]
     },
     "execution_count": 17,
     "metadata": {},
     "output_type": "execute_result"
    }
   ],
   "source": [
    "continuous_numerical_features"
   ]
  },
  {
   "cell_type": "code",
   "execution_count": 18,
   "id": "64c1b64c-2bba-4e8d-b1c0-ea2955fc2d1a",
   "metadata": {},
   "outputs": [
    {
     "data": {
      "text/plain": [
       "['loan_type',\n",
       " 'loan_purpose',\n",
       " 'action_taken',\n",
       " 'applicant_sex',\n",
       " 'applicant_credit_score_type',\n",
       " 'co_applicant_credit_score_type',\n",
       " 'derived_msa_md',\n",
       " 'total_units',\n",
       " 'occupancy_type']"
      ]
     },
     "execution_count": 18,
     "metadata": {},
     "output_type": "execute_result"
    }
   ],
   "source": [
    "discrete_numerical_features"
   ]
  },
  {
   "cell_type": "code",
   "execution_count": 19,
   "id": "7c161951-dd29-4766-ac97-a96b6f381757",
   "metadata": {},
   "outputs": [],
   "source": [
    "cat_indexed_features = [f\"{cat}_indexed\" for cat in categorical_features]"
   ]
  },
  {
   "cell_type": "code",
   "execution_count": 20,
   "id": "e5ebd76a-ffa4-43f1-9187-24b9c84bcba7",
   "metadata": {},
   "outputs": [],
   "source": [
    "# perform Label encoding on categorical features\n",
    "labelEncoder = StringIndexer(inputCols=categorical_features, \n",
    "                           outputCols=cat_indexed_features, handleInvalid=\"skip\")"
   ]
  },
  {
   "cell_type": "code",
   "execution_count": 21,
   "id": "6bb552b9-117b-4677-b306-1460be834084",
   "metadata": {
    "scrolled": true
   },
   "outputs": [],
   "source": [
    "# perform feature hashing on 'county_code' as a lot of distinct values\n",
    "hasher = FeatureHasher(inputCols=[\"county_code\"], outputCol=\"county_code_hashed\", numFeatures=1000)"
   ]
  },
  {
   "cell_type": "code",
   "execution_count": 22,
   "id": "fc6caee8-4d2f-4873-b7f8-c0caf7f32cc0",
   "metadata": {},
   "outputs": [],
   "source": [
    "# perform Standard scaling on continuous numerical features\n",
    "numAssembler = VectorAssembler(inputCols=continuous_numerical_features, \n",
    "                            outputCol=\"con_num_features\")\n",
    "\n",
    "numScaler = StandardScaler(inputCol=\"con_num_features\", outputCol=\"con_num_features_scaled\")"
   ]
  },
  {
   "cell_type": "code",
   "execution_count": 23,
   "id": "085f529f-ccaa-48a3-ae94-bdcc23b17073",
   "metadata": {},
   "outputs": [],
   "source": [
    "# assemble all the features together\n",
    "featureAssembler = VectorAssembler(inputCols=[\"con_num_features_scaled\", \"county_code_hashed\"]+discrete_numerical_features+cat_indexed_features, outputCol='features')"
   ]
  },
  {
   "cell_type": "code",
   "execution_count": 24,
   "id": "687de318-5063-47db-bf3e-58338ea9aa6f",
   "metadata": {},
   "outputs": [],
   "source": [
    "# make the Pipeline\n",
    "transformPipeline = Pipeline(stages = [labelEncoder, hasher, numAssembler, numScaler, featureAssembler])"
   ]
  },
  {
   "cell_type": "code",
   "execution_count": 25,
   "id": "8d518a94-1b54-42b5-8e1c-52fe788c9cf6",
   "metadata": {},
   "outputs": [
    {
     "name": "stderr",
     "output_type": "stream",
     "text": [
      "                                                                                \r"
     ]
    }
   ],
   "source": [
    "# train it\n",
    "transformPipeModel = transformPipeline.fit(train_df)"
   ]
  },
  {
   "cell_type": "code",
   "execution_count": 26,
   "id": "6a88e010-b53b-43a5-9ab5-554755dfb209",
   "metadata": {},
   "outputs": [],
   "source": [
    "transformPipeModel.write().overwrite().save('./models/transformPipeModel')"
   ]
  },
  {
   "cell_type": "code",
   "execution_count": 27,
   "id": "a52cef78-03b4-4498-9d32-b64765c11dc5",
   "metadata": {},
   "outputs": [],
   "source": [
    "train_df = transformPipeModel.transform(train_df)"
   ]
  },
  {
   "cell_type": "code",
   "execution_count": 28,
   "id": "71098462-35b7-40d3-b7af-e10e0d5907d1",
   "metadata": {},
   "outputs": [
    {
     "name": "stderr",
     "output_type": "stream",
     "text": [
      "24/12/08 11:29:15 WARN SparkStringUtils: Truncated the string representation of a plan since it was too large. This behavior can be adjusted by setting 'spark.sql.debug.maxToStringFields'.\n"
     ]
    },
    {
     "data": {
      "text/html": [
       "<table border='1'>\n",
       "<tr><th>lei</th><th>loan_type</th><th>loan_purpose</th><th>loan_amount</th><th>interest_rate</th><th>loan_term</th><th>action_taken</th><th>income</th><th>applicant_age</th><th>applicant_sex</th><th>applicant_credit_score_type</th><th>co_applicant_age</th><th>co_applicant_credit_score_type</th><th>derived_msa_md</th><th>state_code</th><th>county_code</th><th>property_value</th><th>total_units</th><th>occupancy_type</th><th>lei_indexed</th><th>applicant_age_indexed</th><th>co_applicant_age_indexed</th><th>state_code_indexed</th><th>county_code_hashed</th><th>con_num_features</th><th>con_num_features_scaled</th><th>features</th></tr>\n",
       "<tr><td>01J4SO3XTWZF4PP38209</td><td>1</td><td>1</td><td>465000.0</td><td>3.5</td><td>360</td><td>1</td><td>188.0</td><td>35-44</td><td>2</td><td>3</td><td>35-44</td><td>3</td><td>13820</td><td>AL</td><td>01117</td><td>495000.0</td><td>1</td><td>1</td><td>93.0</td><td>0.0</td><td>1.0</td><td>26.0</td><td>(1000,[710],[1.0])</td><td>[465000.0,3.5,360...</td><td>[2.04958786384093...</td><td>(1018,[0,1,2,3,4,...</td></tr>\n",
       "<tr><td>01J4SO3XTWZF4PP38209</td><td>1</td><td>2</td><td>5000.0</td><td>3.2904205</td><td>60</td><td>0</td><td>27.0</td><td>65-74</td><td>1</td><td>1</td><td>9999</td><td>10</td><td>32820</td><td>TN</td><td>47157</td><td>75000.0</td><td>1</td><td>1</td><td>93.0</td><td>4.0</td><td>0.0</td><td>20.0</td><td>(1000,[611],[1.0])</td><td>[5000.0,3.2904205...</td><td>[0.02203857918108...</td><td>(1018,[0,1,2,3,4,...</td></tr>\n",
       "<tr><td>01J4SO3XTWZF4PP38209</td><td>1</td><td>4</td><td>15000.0</td><td>0.98</td><td>120</td><td>1</td><td>58.0</td><td>55-64</td><td>2</td><td>7</td><td>65-74</td><td>9</td><td>25060</td><td>MS</td><td>28047</td><td>125000.0</td><td>2</td><td>1</td><td>93.0</td><td>3.0</td><td>6.0</td><td>36.0</td><td>(1000,[149],[1.0])</td><td>[15000.0,0.980000...</td><td>[0.06611573754325...</td><td>(1018,[0,1,2,3,4,...</td></tr>\n",
       "<tr><td>01J4SO3XTWZF4PP38209</td><td>1</td><td>31</td><td>25000.0</td><td>5.5</td><td>120</td><td>1</td><td>187.0</td><td>35-44</td><td>2</td><td>7</td><td>35-44</td><td>9</td><td>25620</td><td>MS</td><td>28035</td><td>405000.0</td><td>1</td><td>1</td><td>93.0</td><td>0.0</td><td>1.0</td><td>36.0</td><td>(1000,[627],[1.0])</td><td>[25000.0,5.5,120....</td><td>[0.11019289590542...</td><td>(1018,[0,1,2,3,4,...</td></tr>\n",
       "<tr><td>01J4SO3XTWZF4PP38209</td><td>1</td><td>31</td><td>45000.0</td><td>4.25</td><td>59</td><td>1</td><td>94.0</td><td>8888</td><td>4</td><td>9</td><td>9999</td><td>10</td><td>27140</td><td>MS</td><td>28049</td><td>75000.0</td><td>1</td><td>3</td><td>93.0</td><td>5.0</td><td>0.0</td><td>36.0</td><td>(1000,[766],[1.0])</td><td>[45000.0,4.25,59....</td><td>[0.19834721262976...</td><td>(1018,[0,1,2,3,4,...</td></tr>\n",
       "<tr><td>01J4SO3XTWZF4PP38209</td><td>1</td><td>31</td><td>205000.0</td><td>3.0</td><td>360</td><td>1</td><td>97.0</td><td>65-74</td><td>1</td><td>1</td><td>65-74</td><td>1</td><td>19300</td><td>AL</td><td>01003</td><td>375000.0</td><td>1</td><td>1</td><td>93.0</td><td>4.0</td><td>6.0</td><td>26.0</td><td>(1000,[581],[1.0])</td><td>[205000.0,3.0,360...</td><td>[0.90358174642449...</td><td>(1018,[0,1,2,3,4,...</td></tr>\n",
       "<tr><td>01J4SO3XTWZF4PP38209</td><td>1</td><td>32</td><td>105000.0</td><td>2.625</td><td>180</td><td>1</td><td>65.0</td><td>45-54</td><td>2</td><td>2</td><td>9999</td><td>10</td><td>25060</td><td>MS</td><td>28047</td><td>175000.0</td><td>1</td><td>1</td><td>93.0</td><td>1.0</td><td>0.0</td><td>36.0</td><td>(1000,[149],[1.0])</td><td>[105000.0,2.625,1...</td><td>[0.46281016280279...</td><td>(1018,[0,1,2,3,4,...</td></tr>\n",
       "<tr><td>01J4SO3XTWZF4PP38209</td><td>2</td><td>1</td><td>115000.0</td><td>3.99</td><td>360</td><td>0</td><td>94.0</td><td>8888</td><td>4</td><td>9</td><td>8888</td><td>9</td><td>99999</td><td>MS</td><td>28083</td><td>125000.0</td><td>1</td><td>1</td><td>93.0</td><td>5.0</td><td>4.0</td><td>36.0</td><td>(1000,[791],[1.0])</td><td>[115000.0,3.99000...</td><td>[0.50688732116496...</td><td>(1018,[0,1,2,3,4,...</td></tr>\n",
       "<tr><td>01J4SO3XTWZF4PP38209</td><td>2</td><td>1</td><td>315000.0</td><td>2.875</td><td>360</td><td>1</td><td>87.0</td><td>25-34</td><td>1</td><td>1</td><td>9999</td><td>10</td><td>32820</td><td>MS</td><td>28137</td><td>325000.0</td><td>1</td><td>1</td><td>93.0</td><td>2.0</td><td>0.0</td><td>36.0</td><td>(1000,[744],[1.0])</td><td>[315000.0,2.875,3...</td><td>[1.38843048840837...</td><td>(1018,[0,1,2,3,4,...</td></tr>\n",
       "<tr><td>0S8H5NJFLHEVJXVTQ413</td><td>1</td><td>32</td><td>285000.0</td><td>3.5</td><td>360</td><td>1</td><td>64.0</td><td>25-34</td><td>3</td><td>1</td><td>25-34</td><td>1</td><td>13380</td><td>WA</td><td>53073</td><td>355000.0</td><td>1</td><td>1</td><td>577.0</td><td>2.0</td><td>3.0</td><td>10.0</td><td>(1000,[634],[1.0])</td><td>[285000.0,3.5,360...</td><td>[1.25619901332186...</td><td>(1018,[0,1,2,3,4,...</td></tr>\n",
       "<tr><td>1IE8VN30JCEQV1H4R804</td><td>1</td><td>1</td><td>255000.0</td><td>2.75</td><td>360</td><td>0</td><td>102.0</td><td>8888</td><td>4</td><td>9</td><td>8888</td><td>9</td><td>47894</td><td>DC</td><td>11001</td><td>835000.0</td><td>1</td><td>1</td><td>349.0</td><td>5.0</td><td>4.0</td><td>47.0</td><td>(1000,[445],[1.0])</td><td>[255000.0,2.75,36...</td><td>[1.12396753823535...</td><td>(1018,[0,1,2,3,4,...</td></tr>\n",
       "<tr><td>1IE8VN30JCEQV1H4R804</td><td>1</td><td>31</td><td>165000.0</td><td>2.75</td><td>360</td><td>1</td><td>99.0</td><td>55-64</td><td>3</td><td>1</td><td>55-64</td><td>9</td><td>35614</td><td>NY</td><td>36085</td><td>785000.0</td><td>1</td><td>1</td><td>349.0</td><td>3.0</td><td>5.0</td><td>13.0</td><td>(1000,[459],[1.0])</td><td>[165000.0,2.75,36...</td><td>[0.72727311297581...</td><td>(1018,[0,1,2,3,4,...</td></tr>\n",
       "<tr><td>213800THW6KSUL191M34</td><td>1</td><td>31</td><td>145000.0</td><td>3.125</td><td>240</td><td>1</td><td>92.0</td><td>55-64</td><td>2</td><td>7</td><td>55-64</td><td>9</td><td>99999</td><td>ND</td><td>38093</td><td>175000.0</td><td>1</td><td>1</td><td>580.0</td><td>3.0</td><td>5.0</td><td>48.0</td><td>(1000,[79],[1.0])</td><td>[145000.0,3.125,2...</td><td>[0.63911879625147...</td><td>(1018,[0,1,2,3,4,...</td></tr>\n",
       "<tr><td>213800XR2TCBQJSF1X93</td><td>1</td><td>31</td><td>95000.0</td><td>2.625</td><td>180</td><td>1</td><td>37.0</td><td>45-54</td><td>2</td><td>3</td><td>55-64</td><td>3</td><td>23420</td><td>CA</td><td>06019</td><td>245000.0</td><td>1</td><td>1</td><td>140.0</td><td>1.0</td><td>5.0</td><td>0.0</td><td>(1000,[620],[1.0])</td><td>[95000.0,2.625,18...</td><td>[0.41873300444062...</td><td>(1018,[0,1,2,3,4,...</td></tr>\n",
       "<tr><td>213800XR2TCBQJSF1X93</td><td>1</td><td>31</td><td>255000.0</td><td>3.375</td><td>360</td><td>1</td><td>187.0</td><td>45-54</td><td>2</td><td>1</td><td>45-54</td><td>2</td><td>99999</td><td>WA</td><td>53001</td><td>375000.0</td><td>1</td><td>1</td><td>140.0</td><td>1.0</td><td>2.0</td><td>10.0</td><td>(1000,[330],[1.0])</td><td>[255000.0,3.375,3...</td><td>[1.12396753823535...</td><td>(1018,[0,1,2,3,4,...</td></tr>\n",
       "<tr><td>213800XR2TCBQJSF1X93</td><td>1</td><td>31</td><td>265000.0</td><td>3.75</td><td>360</td><td>1</td><td>98.0</td><td>55-64</td><td>1</td><td>3</td><td>45-54</td><td>3</td><td>99999</td><td>LA</td><td>22009</td><td>335000.0</td><td>1</td><td>1</td><td>140.0</td><td>3.0</td><td>2.0</td><td>28.0</td><td>(1000,[750],[1.0])</td><td>[265000.0,3.75,36...</td><td>[1.16804469659752...</td><td>(1018,[0,1,2,3,4,...</td></tr>\n",
       "<tr><td>213800XR2TCBQJSF1X93</td><td>1</td><td>31</td><td>345000.0</td><td>3.5</td><td>360</td><td>1</td><td>86.0</td><td>25-34</td><td>1</td><td>2</td><td>35-44</td><td>1</td><td>29820</td><td>NV</td><td>32003</td><td>465000.0</td><td>1</td><td>1</td><td>140.0</td><td>2.0</td><td>1.0</td><td>25.0</td><td>(1000,[198],[1.0])</td><td>[345000.0,3.5,360...</td><td>[1.52066196349488...</td><td>(1018,[0,1,2,3,4,...</td></tr>\n",
       "<tr><td>213800XR2TCBQJSF1X93</td><td>1</td><td>31</td><td>465000.0</td><td>3.2904205</td><td>360</td><td>0</td><td>191.0</td><td>45-54</td><td>2</td><td>2</td><td>35-44</td><td>3</td><td>41740</td><td>CA</td><td>06073</td><td>785000.0</td><td>1</td><td>1</td><td>140.0</td><td>1.0</td><td>1.0</td><td>0.0</td><td>(1000,[59],[1.0])</td><td>[465000.0,3.29042...</td><td>[2.04958786384093...</td><td>(1018,[0,1,2,3,4,...</td></tr>\n",
       "<tr><td>213800XR2TCBQJSF1X93</td><td>1</td><td>32</td><td>395000.0</td><td>2.875</td><td>360</td><td>1</td><td>90.0</td><td>65-74</td><td>1</td><td>3</td><td>65-74</td><td>3</td><td>40900</td><td>CA</td><td>06067</td><td>805000.0</td><td>1</td><td>1</td><td>140.0</td><td>4.0</td><td>6.0</td><td>0.0</td><td>(1000,[780],[1.0])</td><td>[395000.0,2.875,3...</td><td>[1.74104775530573...</td><td>(1018,[0,1,2,3,4,...</td></tr>\n",
       "<tr><td>2549001SI0EMFPT39035</td><td>1</td><td>31</td><td>185000.0</td><td>2.875</td><td>360</td><td>1</td><td>111.0</td><td>65-74</td><td>1</td><td>7</td><td>65-74</td><td>7</td><td>29820</td><td>NV</td><td>32003</td><td>285000.0</td><td>1</td><td>2</td><td>584.0</td><td>4.0</td><td>6.0</td><td>25.0</td><td>(1000,[198],[1.0])</td><td>[185000.0,2.875,3...</td><td>[0.81542742970015...</td><td>(1018,[0,1,2,3,4,...</td></tr>\n",
       "</table>\n",
       "only showing top 20 rows\n"
      ],
      "text/plain": [
       "+--------------------+---------+------------+-----------+-------------+---------+------------+------+-------------+-------------+---------------------------+----------------+------------------------------+--------------+----------+-----------+--------------+-----------+--------------+-----------+---------------------+------------------------+------------------+------------------+--------------------+-----------------------+--------------------+\n",
       "|                 lei|loan_type|loan_purpose|loan_amount|interest_rate|loan_term|action_taken|income|applicant_age|applicant_sex|applicant_credit_score_type|co_applicant_age|co_applicant_credit_score_type|derived_msa_md|state_code|county_code|property_value|total_units|occupancy_type|lei_indexed|applicant_age_indexed|co_applicant_age_indexed|state_code_indexed|county_code_hashed|    con_num_features|con_num_features_scaled|            features|\n",
       "+--------------------+---------+------------+-----------+-------------+---------+------------+------+-------------+-------------+---------------------------+----------------+------------------------------+--------------+----------+-----------+--------------+-----------+--------------+-----------+---------------------+------------------------+------------------+------------------+--------------------+-----------------------+--------------------+\n",
       "|01J4SO3XTWZF4PP38209|        1|           1|   465000.0|          3.5|      360|           1| 188.0|        35-44|            2|                          3|           35-44|                             3|         13820|        AL|      01117|      495000.0|          1|             1|       93.0|                  0.0|                     1.0|              26.0|(1000,[710],[1.0])|[465000.0,3.5,360...|   [2.04958786384093...|(1018,[0,1,2,3,4,...|\n",
       "|01J4SO3XTWZF4PP38209|        1|           2|     5000.0|    3.2904205|       60|           0|  27.0|        65-74|            1|                          1|            9999|                            10|         32820|        TN|      47157|       75000.0|          1|             1|       93.0|                  4.0|                     0.0|              20.0|(1000,[611],[1.0])|[5000.0,3.2904205...|   [0.02203857918108...|(1018,[0,1,2,3,4,...|\n",
       "|01J4SO3XTWZF4PP38209|        1|           4|    15000.0|         0.98|      120|           1|  58.0|        55-64|            2|                          7|           65-74|                             9|         25060|        MS|      28047|      125000.0|          2|             1|       93.0|                  3.0|                     6.0|              36.0|(1000,[149],[1.0])|[15000.0,0.980000...|   [0.06611573754325...|(1018,[0,1,2,3,4,...|\n",
       "|01J4SO3XTWZF4PP38209|        1|          31|    25000.0|          5.5|      120|           1| 187.0|        35-44|            2|                          7|           35-44|                             9|         25620|        MS|      28035|      405000.0|          1|             1|       93.0|                  0.0|                     1.0|              36.0|(1000,[627],[1.0])|[25000.0,5.5,120....|   [0.11019289590542...|(1018,[0,1,2,3,4,...|\n",
       "|01J4SO3XTWZF4PP38209|        1|          31|    45000.0|         4.25|       59|           1|  94.0|         8888|            4|                          9|            9999|                            10|         27140|        MS|      28049|       75000.0|          1|             3|       93.0|                  5.0|                     0.0|              36.0|(1000,[766],[1.0])|[45000.0,4.25,59....|   [0.19834721262976...|(1018,[0,1,2,3,4,...|\n",
       "|01J4SO3XTWZF4PP38209|        1|          31|   205000.0|          3.0|      360|           1|  97.0|        65-74|            1|                          1|           65-74|                             1|         19300|        AL|      01003|      375000.0|          1|             1|       93.0|                  4.0|                     6.0|              26.0|(1000,[581],[1.0])|[205000.0,3.0,360...|   [0.90358174642449...|(1018,[0,1,2,3,4,...|\n",
       "|01J4SO3XTWZF4PP38209|        1|          32|   105000.0|        2.625|      180|           1|  65.0|        45-54|            2|                          2|            9999|                            10|         25060|        MS|      28047|      175000.0|          1|             1|       93.0|                  1.0|                     0.0|              36.0|(1000,[149],[1.0])|[105000.0,2.625,1...|   [0.46281016280279...|(1018,[0,1,2,3,4,...|\n",
       "|01J4SO3XTWZF4PP38209|        2|           1|   115000.0|         3.99|      360|           0|  94.0|         8888|            4|                          9|            8888|                             9|         99999|        MS|      28083|      125000.0|          1|             1|       93.0|                  5.0|                     4.0|              36.0|(1000,[791],[1.0])|[115000.0,3.99000...|   [0.50688732116496...|(1018,[0,1,2,3,4,...|\n",
       "|01J4SO3XTWZF4PP38209|        2|           1|   315000.0|        2.875|      360|           1|  87.0|        25-34|            1|                          1|            9999|                            10|         32820|        MS|      28137|      325000.0|          1|             1|       93.0|                  2.0|                     0.0|              36.0|(1000,[744],[1.0])|[315000.0,2.875,3...|   [1.38843048840837...|(1018,[0,1,2,3,4,...|\n",
       "|0S8H5NJFLHEVJXVTQ413|        1|          32|   285000.0|          3.5|      360|           1|  64.0|        25-34|            3|                          1|           25-34|                             1|         13380|        WA|      53073|      355000.0|          1|             1|      577.0|                  2.0|                     3.0|              10.0|(1000,[634],[1.0])|[285000.0,3.5,360...|   [1.25619901332186...|(1018,[0,1,2,3,4,...|\n",
       "|1IE8VN30JCEQV1H4R804|        1|           1|   255000.0|         2.75|      360|           0| 102.0|         8888|            4|                          9|            8888|                             9|         47894|        DC|      11001|      835000.0|          1|             1|      349.0|                  5.0|                     4.0|              47.0|(1000,[445],[1.0])|[255000.0,2.75,36...|   [1.12396753823535...|(1018,[0,1,2,3,4,...|\n",
       "|1IE8VN30JCEQV1H4R804|        1|          31|   165000.0|         2.75|      360|           1|  99.0|        55-64|            3|                          1|           55-64|                             9|         35614|        NY|      36085|      785000.0|          1|             1|      349.0|                  3.0|                     5.0|              13.0|(1000,[459],[1.0])|[165000.0,2.75,36...|   [0.72727311297581...|(1018,[0,1,2,3,4,...|\n",
       "|213800THW6KSUL191M34|        1|          31|   145000.0|        3.125|      240|           1|  92.0|        55-64|            2|                          7|           55-64|                             9|         99999|        ND|      38093|      175000.0|          1|             1|      580.0|                  3.0|                     5.0|              48.0| (1000,[79],[1.0])|[145000.0,3.125,2...|   [0.63911879625147...|(1018,[0,1,2,3,4,...|\n",
       "|213800XR2TCBQJSF1X93|        1|          31|    95000.0|        2.625|      180|           1|  37.0|        45-54|            2|                          3|           55-64|                             3|         23420|        CA|      06019|      245000.0|          1|             1|      140.0|                  1.0|                     5.0|               0.0|(1000,[620],[1.0])|[95000.0,2.625,18...|   [0.41873300444062...|(1018,[0,1,2,3,4,...|\n",
       "|213800XR2TCBQJSF1X93|        1|          31|   255000.0|        3.375|      360|           1| 187.0|        45-54|            2|                          1|           45-54|                             2|         99999|        WA|      53001|      375000.0|          1|             1|      140.0|                  1.0|                     2.0|              10.0|(1000,[330],[1.0])|[255000.0,3.375,3...|   [1.12396753823535...|(1018,[0,1,2,3,4,...|\n",
       "|213800XR2TCBQJSF1X93|        1|          31|   265000.0|         3.75|      360|           1|  98.0|        55-64|            1|                          3|           45-54|                             3|         99999|        LA|      22009|      335000.0|          1|             1|      140.0|                  3.0|                     2.0|              28.0|(1000,[750],[1.0])|[265000.0,3.75,36...|   [1.16804469659752...|(1018,[0,1,2,3,4,...|\n",
       "|213800XR2TCBQJSF1X93|        1|          31|   345000.0|          3.5|      360|           1|  86.0|        25-34|            1|                          2|           35-44|                             1|         29820|        NV|      32003|      465000.0|          1|             1|      140.0|                  2.0|                     1.0|              25.0|(1000,[198],[1.0])|[345000.0,3.5,360...|   [1.52066196349488...|(1018,[0,1,2,3,4,...|\n",
       "|213800XR2TCBQJSF1X93|        1|          31|   465000.0|    3.2904205|      360|           0| 191.0|        45-54|            2|                          2|           35-44|                             3|         41740|        CA|      06073|      785000.0|          1|             1|      140.0|                  1.0|                     1.0|               0.0| (1000,[59],[1.0])|[465000.0,3.29042...|   [2.04958786384093...|(1018,[0,1,2,3,4,...|\n",
       "|213800XR2TCBQJSF1X93|        1|          32|   395000.0|        2.875|      360|           1|  90.0|        65-74|            1|                          3|           65-74|                             3|         40900|        CA|      06067|      805000.0|          1|             1|      140.0|                  4.0|                     6.0|               0.0|(1000,[780],[1.0])|[395000.0,2.875,3...|   [1.74104775530573...|(1018,[0,1,2,3,4,...|\n",
       "|2549001SI0EMFPT39035|        1|          31|   185000.0|        2.875|      360|           1| 111.0|        65-74|            1|                          7|           65-74|                             7|         29820|        NV|      32003|      285000.0|          1|             2|      584.0|                  4.0|                     6.0|              25.0|(1000,[198],[1.0])|[185000.0,2.875,3...|   [0.81542742970015...|(1018,[0,1,2,3,4,...|\n",
       "+--------------------+---------+------------+-----------+-------------+---------+------------+------+-------------+-------------+---------------------------+----------------+------------------------------+--------------+----------+-----------+--------------+-----------+--------------+-----------+---------------------+------------------------+------------------+------------------+--------------------+-----------------------+--------------------+\n",
       "only showing top 20 rows"
      ]
     },
     "execution_count": 28,
     "metadata": {},
     "output_type": "execute_result"
    }
   ],
   "source": [
    "train_df"
   ]
  },
  {
   "cell_type": "code",
   "execution_count": null,
   "id": "3b9eb111-0ca0-4717-b4cd-ddde7cd72992",
   "metadata": {},
   "outputs": [],
   "source": []
  },
  {
   "cell_type": "markdown",
   "id": "e0519858-0218-49c1-8f52-55e5307754be",
   "metadata": {},
   "source": [
    "### 6. Models Prediction"
   ]
  },
  {
   "cell_type": "code",
   "execution_count": 29,
   "id": "af0b691a-a5fa-4e4f-a6fa-aec6a3051cc8",
   "metadata": {},
   "outputs": [],
   "source": [
    "from pyspark.ml.classification import LogisticRegression, LinearSVC, NaiveBayes, DecisionTreeClassifier, RandomForestClassifier, GBTClassifier, FMClassifier"
   ]
  },
  {
   "cell_type": "code",
   "execution_count": 30,
   "id": "c3d8d646-2ed3-4215-8fab-8509ae067ef5",
   "metadata": {},
   "outputs": [],
   "source": [
    "# evaluate the model from 'y_true' and 'y_pred' \n",
    "from pyspark.ml.evaluation import MulticlassClassificationEvaluator, BinaryClassificationEvaluator"
   ]
  },
  {
   "cell_type": "code",
   "execution_count": 31,
   "id": "85709496-0cc5-40be-9562-57d5c00ac221",
   "metadata": {},
   "outputs": [],
   "source": [
    "def evaluate_model(predictions, label_col='action_taken', prediction_col='prediction', raw_prediction_col='rawPrediction'):\n",
    "    '''It returns classification evaluation metrics like accuracy, precision, f1, recall and roc'''\n",
    "    \n",
    "    # Initialize evaluators\n",
    "    evaluator_accuracy = MulticlassClassificationEvaluator(labelCol=label_col, predictionCol=prediction_col, metricName='accuracy')\n",
    "    evaluator_precision = MulticlassClassificationEvaluator(labelCol=label_col, predictionCol=prediction_col, metricName='weightedPrecision')\n",
    "    evaluator_recall = MulticlassClassificationEvaluator(labelCol=label_col, predictionCol=prediction_col, metricName='weightedRecall')\n",
    "    evaluator_f1 = MulticlassClassificationEvaluator(labelCol=label_col, predictionCol=prediction_col, metricName='f1')\n",
    "    evaluator_roc = BinaryClassificationEvaluator(labelCol=label_col, rawPredictionCol=raw_prediction_col, metricName='areaUnderROC')\n",
    "\n",
    "    # Calculate metrics\n",
    "    accuracy = evaluator_accuracy.evaluate(predictions)\n",
    "    precision = evaluator_precision.evaluate(predictions)\n",
    "    recall = evaluator_recall.evaluate(predictions)\n",
    "    f1_score = evaluator_f1.evaluate(predictions)\n",
    "    roc_auc = evaluator_roc.evaluate(predictions)\n",
    "\n",
    "    # Return all metrics as a dictionary\n",
    "    metrics = {\n",
    "        'accuracy': accuracy,\n",
    "        'precision': precision,\n",
    "        'recall': recall,\n",
    "        'f1_score': f1_score,\n",
    "        'roc_auc': roc_auc\n",
    "    }\n",
    "\n",
    "    return metrics"
   ]
  },
  {
   "cell_type": "code",
   "execution_count": 32,
   "id": "0190671d-1bc6-49f6-9fcb-353e0ca854e9",
   "metadata": {},
   "outputs": [],
   "source": [
    "models = {\n",
    "    'Logistic Regression': LogisticRegression(featuresCol='features', labelCol='action_taken'),\n",
    "    'Support Vector Machine': LinearSVC(featuresCol='features', labelCol='action_taken'),\n",
    "    # 'Naive Bayes': NaiveBayes(featuresCol='features', labelCol='action_taken'),\n",
    "    'Factorization Machine': FMClassifier(featuresCol='features', labelCol='action_taken'),\n",
    "    'Decision Tree': DecisionTreeClassifier(featuresCol='features', labelCol='action_taken', maxBins=2000),\n",
    "    'Random Forest': RandomForestClassifier(featuresCol='features', labelCol='action_taken', maxBins=2000),\n",
    "    'Gradient Boosting Trees': GBTClassifier(featuresCol='features', labelCol='action_taken', maxBins=2000),\n",
    "}"
   ]
  },
  {
   "cell_type": "code",
   "execution_count": 33,
   "id": "5a4a6e4d-1618-425c-b7de-81ff780e1421",
   "metadata": {},
   "outputs": [
    {
     "name": "stdout",
     "output_type": "stream",
     "text": [
      "========== Logistic Regression ============\n"
     ]
    },
    {
     "name": "stderr",
     "output_type": "stream",
     "text": [
      "24/12/08 11:29:17 WARN InstanceBuilder: Failed to load implementation from:dev.ludovic.netlib.blas.JNIBLAS\n",
      "24/12/08 11:29:17 WARN InstanceBuilder: Failed to load implementation from:dev.ludovic.netlib.blas.VectorBLAS\n"
     ]
    },
    {
     "name": "stdout",
     "output_type": "stream",
     "text": [
      "accuracy: 1.0000\n",
      "precison: 1.0000\n",
      "recall: 1.0000\n",
      "f1-score: 1.0000\n",
      "ROC: 1.0000\n",
      "\n",
      "\n",
      "========== Support Vector Machine ============\n",
      "accuracy: 0.9993\n",
      "precison: 0.9993\n",
      "recall: 0.9993\n",
      "f1-score: 0.9993\n",
      "ROC: 0.9998\n",
      "\n",
      "\n",
      "========== Factorization Machine ============\n",
      "accuracy: 0.9151\n",
      "precison: 0.9159\n",
      "recall: 0.9151\n",
      "f1-score: 0.9154\n",
      "ROC: 0.9520\n",
      "\n",
      "\n",
      "========== Decision Tree ============\n",
      "accuracy: 1.0000\n",
      "precison: 1.0000\n",
      "recall: 1.0000\n",
      "f1-score: 1.0000\n",
      "ROC: 1.0000\n",
      "\n",
      "\n",
      "========== Random Forest ============\n",
      "accuracy: 0.8244\n",
      "precison: 0.8592\n",
      "recall: 0.8244\n",
      "f1-score: 0.8015\n",
      "ROC: 0.9933\n",
      "\n",
      "\n",
      "========== Gradient Boosting Trees ============\n",
      "accuracy: 1.0000\n",
      "precison: 1.0000\n",
      "recall: 1.0000\n",
      "f1-score: 1.0000\n",
      "ROC: 1.0000\n",
      "\n",
      "\n"
     ]
    }
   ],
   "source": [
    "\n",
    "for algo in models:\n",
    "    print(f\"========== {algo} ============\")\n",
    "\n",
    "    # Train the model\n",
    "    model = models[algo]\n",
    "    trained_model = model.fit(train_df)\n",
    "\n",
    "    # Evaluate on Test data\n",
    "    test_df_transformed = transformPipeModel.transform(test_df)\n",
    "    test_predictions = trained_model.transform(test_df_transformed)\n",
    "\n",
    "    results = evaluate_model(test_predictions)\n",
    "    print(\"accuracy: {:.4f}\".format(results['accuracy']))\n",
    "    print(\"precison: {:.4f}\".format(results['precision']))\n",
    "    print(\"recall: {:.4f}\".format(results['recall']))\n",
    "    print(\"f1-score: {:.4f}\".format(results['f1_score']))\n",
    "    print(\"ROC: {:.4f}\".format(results['roc_auc']))\n",
    "\n",
    "    trained_model.write().overwrite().save(f'./models/{algo}')\n",
    "\n",
    "    print('\\n')"
   ]
  },
  {
   "cell_type": "code",
   "execution_count": null,
   "id": "9c5570b4-58d7-40ab-941d-1908f6b04f2f",
   "metadata": {},
   "outputs": [],
   "source": []
  },
  {
   "cell_type": "markdown",
   "id": "594c230d-6a1b-4fc4-ba8d-d0079b1d27de",
   "metadata": {},
   "source": [
    "## Inference"
   ]
  },
  {
   "cell_type": "code",
   "execution_count": 34,
   "id": "c1455035-5018-4ed7-b3b9-b4c75c479891",
   "metadata": {},
   "outputs": [],
   "source": [
    "from pyspark.ml import PipelineModel\n",
    "from pyspark.ml.classification import LogisticRegressionModel"
   ]
  },
  {
   "cell_type": "code",
   "execution_count": 35,
   "id": "f94e75e3-22f5-42b0-9121-7cb6aea8d983",
   "metadata": {},
   "outputs": [],
   "source": [
    "lr_model = LogisticRegressionModel.load(\"models/Logistic Regression\")"
   ]
  },
  {
   "cell_type": "code",
   "execution_count": 36,
   "id": "4a7910a8-ab56-430a-bb6c-9ec344a6d875",
   "metadata": {},
   "outputs": [
    {
     "data": {
      "text/plain": [
       "LogisticRegressionModel: uid=LogisticRegression_b96015d953db, numClasses=2, numFeatures=1018"
      ]
     },
     "execution_count": 36,
     "metadata": {},
     "output_type": "execute_result"
    }
   ],
   "source": [
    "lr_model"
   ]
  },
  {
   "cell_type": "code",
   "execution_count": 37,
   "id": "07238447-f310-4f2e-8eff-9a01321d0caf",
   "metadata": {},
   "outputs": [
    {
     "name": "stderr",
     "output_type": "stream",
     "text": [
      "                                                                                \r"
     ]
    }
   ],
   "source": [
    "transform_model = PipelineModel.load('models/transformPipeModel')"
   ]
  },
  {
   "cell_type": "code",
   "execution_count": 38,
   "id": "b822ea5e-4368-4081-aefc-870eadb285a5",
   "metadata": {},
   "outputs": [
    {
     "data": {
      "text/plain": [
       "1512"
      ]
     },
     "execution_count": 38,
     "metadata": {},
     "output_type": "execute_result"
    }
   ],
   "source": [
    "test_df.count()"
   ]
  },
  {
   "cell_type": "code",
   "execution_count": 39,
   "id": "6d13149f-b208-4019-870b-ee6fe1dac7fd",
   "metadata": {
    "scrolled": true
   },
   "outputs": [],
   "source": [
    "# Preprocess the test data and then make predictions \n",
    "\n",
    "test_transformed_df = transform_model.transform(test_df)\n",
    "prediction_df = lr_model.transform(test_transformed_df)"
   ]
  },
  {
   "cell_type": "code",
   "execution_count": 40,
   "id": "f6545f37-210b-4c57-a751-d0425dee9aac",
   "metadata": {
    "scrolled": true
   },
   "outputs": [
    {
     "data": {
      "text/html": [
       "<table border='1'>\n",
       "<tr><th>lei</th><th>loan_type</th><th>loan_purpose</th><th>loan_amount</th><th>interest_rate</th><th>loan_term</th><th>action_taken</th><th>income</th><th>applicant_age</th><th>applicant_sex</th><th>applicant_credit_score_type</th><th>co_applicant_age</th><th>co_applicant_credit_score_type</th><th>derived_msa_md</th><th>state_code</th><th>county_code</th><th>property_value</th><th>total_units</th><th>occupancy_type</th><th>lei_indexed</th><th>applicant_age_indexed</th><th>co_applicant_age_indexed</th><th>state_code_indexed</th><th>county_code_hashed</th><th>con_num_features</th><th>con_num_features_scaled</th><th>features</th><th>rawPrediction</th><th>probability</th><th>prediction</th></tr>\n",
       "<tr><td>01J4SO3XTWZF4PP38209</td><td>1</td><td>31</td><td>15000.0</td><td>4.95</td><td>60</td><td>1</td><td>94.0</td><td>8888</td><td>4</td><td>9</td><td>9999</td><td>10</td><td>25060</td><td>MS</td><td>28047</td><td>45000.0</td><td>1</td><td>3</td><td>93.0</td><td>5.0</td><td>0.0</td><td>36.0</td><td>(1000,[149],[1.0])</td><td>[15000.0,4.949999...</td><td>[0.06611573754325...</td><td>(1018,[0,1,2,3,4,...</td><td>[-19.836490256505...</td><td>[2.42729041100326...</td><td>1.0</td></tr>\n",
       "<tr><td>0S8H5NJFLHEVJXVTQ413</td><td>1</td><td>31</td><td>435000.0</td><td>3.2904205</td><td>360</td><td>0</td><td>124.0</td><td>35-44</td><td>1</td><td>1</td><td>35-44</td><td>1</td><td>42644</td><td>WA</td><td>53061</td><td>655000.0</td><td>1</td><td>1</td><td>577.0</td><td>0.0</td><td>1.0</td><td>10.0</td><td>(1000,[730],[1.0])</td><td>[435000.0,3.29042...</td><td>[1.91735638875442...</td><td>(1018,[0,1,2,3,4,...</td><td>[19.5733510553066...</td><td>[0.99999999684207...</td><td>0.0</td></tr>\n",
       "<tr><td>1IE8VN30JCEQV1H4R804</td><td>1</td><td>31</td><td>215000.0</td><td>3.2904205</td><td>360</td><td>0</td><td>109.0</td><td>55-64</td><td>1</td><td>2</td><td>9999</td><td>10</td><td>22744</td><td>FL</td><td>12011</td><td>355000.0</td><td>1</td><td>1</td><td>349.0</td><td>3.0</td><td>0.0</td><td>1.0</td><td>(1000,[492],[1.0])</td><td>[215000.0,3.29042...</td><td>[0.94765890478666...</td><td>(1018,[0,1,2,3,4,...</td><td>[20.5673297485328...</td><td>[0.99999999883124...</td><td>0.0</td></tr>\n",
       "<tr><td>213800XR2TCBQJSF1X93</td><td>1</td><td>31</td><td>365000.0</td><td>2.875</td><td>360</td><td>1</td><td>102.0</td><td>35-44</td><td>1</td><td>2</td><td>9999</td><td>10</td><td>31084</td><td>CA</td><td>06037</td><td>625000.0</td><td>1</td><td>1</td><td>140.0</td><td>0.0</td><td>0.0</td><td>0.0</td><td>(1000,[343],[1.0])</td><td>[365000.0,2.875,3...</td><td>[1.60881628021922...</td><td>(1018,[0,1,2,3,4,...</td><td>[-20.934727314919...</td><td>[8.09400459542958...</td><td>1.0</td></tr>\n",
       "<tr><td>2549006II76YXSS5XM65</td><td>1</td><td>31</td><td>205000.0</td><td>3.125</td><td>360</td><td>1</td><td>110.0</td><td>45-54</td><td>2</td><td>3</td><td>9999</td><td>10</td><td>47894</td><td>VA</td><td>51059</td><td>325000.0</td><td>1</td><td>1</td><td>204.0</td><td>1.0</td><td>0.0</td><td>12.0</td><td>(1000,[734],[1.0])</td><td>[205000.0,3.125,3...</td><td>[0.90358174642449...</td><td>(1018,[0,1,2,3,4,...</td><td>[-21.094882266760...</td><td>[6.89618708501421...</td><td>1.0</td></tr>\n",
       "<tr><td>254900ACUWEGW702BR80</td><td>1</td><td>31</td><td>275000.0</td><td>3.0</td><td>360</td><td>1</td><td>78.0</td><td>45-54</td><td>2</td><td>3</td><td>9999</td><td>10</td><td>15804</td><td>NJ</td><td>34007</td><td>305000.0</td><td>1</td><td>1</td><td>353.0</td><td>1.0</td><td>0.0</td><td>11.0</td><td>(1000,[839],[1.0])</td><td>[275000.0,3.0,360...</td><td>[1.21212185495969...</td><td>(1018,[0,1,2,3,4,...</td><td>[-20.692577993815...</td><td>[1.03116356778725...</td><td>1.0</td></tr>\n",
       "<tr><td>254900ACUWEGW702BR80</td><td>1</td><td>31</td><td>395000.0</td><td>3.0</td><td>360</td><td>1</td><td>332.0</td><td>35-44</td><td>1</td><td>1</td><td>&gt;74</td><td>9</td><td>35614</td><td>NJ</td><td>34003</td><td>515000.0</td><td>1</td><td>1</td><td>353.0</td><td>0.0</td><td>7.0</td><td>11.0</td><td>(1000,[806],[1.0])</td><td>[395000.0,3.0,360...</td><td>[1.74104775530573...</td><td>(1018,[0,1,2,3,4,...</td><td>[-20.586412448677...</td><td>[1.14666002107074...</td><td>1.0</td></tr>\n",
       "<tr><td>254900HA4DQWAE0W3342</td><td>1</td><td>1</td><td>155000.0</td><td>2.875</td><td>360</td><td>0</td><td>218.0</td><td>25-34</td><td>4</td><td>9</td><td>9999</td><td>9</td><td>99999</td><td>OK</td><td>40009</td><td>195000.0</td><td>1</td><td>1</td><td>9.0</td><td>2.0</td><td>0.0</td><td>33.0</td><td>(1000,[379],[1.0])</td><td>[155000.0,2.875,3...</td><td>[0.68319595461364...</td><td>(1018,[0,1,2,3,4,...</td><td>[19.2423420042787...</td><td>[0.99999999560299...</td><td>0.0</td></tr>\n",
       "<tr><td>254900HA4DQWAE0W3342</td><td>1</td><td>1</td><td>215000.0</td><td>2.5</td><td>360</td><td>0</td><td>68.0</td><td>25-34</td><td>4</td><td>9</td><td>9999</td><td>9</td><td>99999</td><td>MN</td><td>27049</td><td>225000.0</td><td>1</td><td>1</td><td>9.0</td><td>2.0</td><td>0.0</td><td>16.0</td><td>(1000,[366],[1.0])</td><td>[215000.0,2.5,360...</td><td>[0.94765890478666...</td><td>(1018,[0,1,2,3,4,...</td><td>[19.7412173471917...</td><td>[0.99999999733008...</td><td>0.0</td></tr>\n",
       "<tr><td>254900HA4DQWAE0W3342</td><td>1</td><td>1</td><td>215000.0</td><td>3.125</td><td>360</td><td>0</td><td>36.0</td><td>35-44</td><td>4</td><td>9</td><td>9999</td><td>9</td><td>99999</td><td>CA</td><td>06023</td><td>225000.0</td><td>1</td><td>1</td><td>9.0</td><td>0.0</td><td>0.0</td><td>0.0</td><td>(1000,[807],[1.0])</td><td>[215000.0,3.125,3...</td><td>[0.94765890478666...</td><td>(1018,[0,1,2,3,4,...</td><td>[20.2197389139190...</td><td>[0.99999999834545...</td><td>0.0</td></tr>\n",
       "<tr><td>254900HA4DQWAE0W3342</td><td>1</td><td>1</td><td>335000.0</td><td>2.625</td><td>360</td><td>0</td><td>81.0</td><td>35-44</td><td>4</td><td>9</td><td>35-44</td><td>9</td><td>19124</td><td>TX</td><td>48085</td><td>415000.0</td><td>1</td><td>1</td><td>9.0</td><td>0.0</td><td>1.0</td><td>2.0</td><td>(1000,[530],[1.0])</td><td>[335000.0,2.625,3...</td><td>[1.47658480513271...</td><td>(1018,[0,1,2,3,4,...</td><td>[21.1665237736614...</td><td>[0.99999999935805...</td><td>0.0</td></tr>\n",
       "<tr><td>254900HA4DQWAE0W3342</td><td>1</td><td>1</td><td>505000.0</td><td>2.5</td><td>360</td><td>0</td><td>265.0</td><td>45-54</td><td>4</td><td>9</td><td>35-44</td><td>9</td><td>19740</td><td>CO</td><td>08059</td><td>1035000.0</td><td>1</td><td>1</td><td>9.0</td><td>1.0</td><td>1.0</td><td>6.0</td><td>(1000,[436],[1.0])</td><td>[505000.0,2.5,360...</td><td>[2.22589649728961...</td><td>(1018,[0,1,2,3,4,...</td><td>[21.5220740104749...</td><td>[0.99999999955013...</td><td>0.0</td></tr>\n",
       "<tr><td>254900HA4DQWAE0W3342</td><td>1</td><td>31</td><td>135000.0</td><td>3.375</td><td>360</td><td>0</td><td>39.0</td><td>25-34</td><td>4</td><td>9</td><td>9999</td><td>9</td><td>36540</td><td>NE</td><td>31055</td><td>155000.0</td><td>1</td><td>1</td><td>9.0</td><td>2.0</td><td>0.0</td><td>34.0</td><td>(1000,[794],[1.0])</td><td>[135000.0,3.375,3...</td><td>[0.59504163788930...</td><td>(1018,[0,1,2,3,4,...</td><td>[19.8871333790267...</td><td>[0.99999999769257...</td><td>0.0</td></tr>\n",
       "<tr><td>254900HA4DQWAE0W3342</td><td>1</td><td>31</td><td>205000.0</td><td>3.0</td><td>360</td><td>0</td><td>69.0</td><td>25-34</td><td>4</td><td>9</td><td>25-34</td><td>9</td><td>33340</td><td>WI</td><td>55079</td><td>315000.0</td><td>2</td><td>1</td><td>9.0</td><td>2.0</td><td>3.0</td><td>23.0</td><td>(1000,[89],[1.0])</td><td>[205000.0,3.0,360...</td><td>[0.90358174642449...</td><td>(1018,[0,1,2,3,4,...</td><td>[20.5616723690011...</td><td>[0.99999999882461...</td><td>0.0</td></tr>\n",
       "<tr><td>254900HA4DQWAE0W3342</td><td>1</td><td>31</td><td>315000.0</td><td>3.25</td><td>360</td><td>0</td><td>81.0</td><td>35-44</td><td>4</td><td>9</td><td>9999</td><td>9</td><td>22660</td><td>CO</td><td>08069</td><td>355000.0</td><td>1</td><td>1</td><td>9.0</td><td>0.0</td><td>0.0</td><td>6.0</td><td>(1000,[928],[1.0])</td><td>[315000.0,3.25,36...</td><td>[1.38843048840837...</td><td>(1018,[0,1,2,3,4,...</td><td>[20.7223993603543...</td><td>[0.99999999899913...</td><td>0.0</td></tr>\n",
       "<tr><td>254900HA4DQWAE0W3342</td><td>1</td><td>31</td><td>325000.0</td><td>3.125</td><td>360</td><td>0</td><td>184.0</td><td>&gt;74</td><td>4</td><td>9</td><td>65-74</td><td>9</td><td>41740</td><td>CA</td><td>06073</td><td>755000.0</td><td>1</td><td>1</td><td>9.0</td><td>6.0</td><td>6.0</td><td>0.0</td><td>(1000,[59],[1.0])</td><td>[325000.0,3.125,3...</td><td>[1.43250764677054...</td><td>(1018,[0,1,2,3,4,...</td><td>[21.2662545191133...</td><td>[0.99999999941899...</td><td>0.0</td></tr>\n",
       "<tr><td>254900HA4DQWAE0W3342</td><td>1</td><td>31</td><td>455000.0</td><td>2.75</td><td>360</td><td>0</td><td>200.0</td><td>35-44</td><td>4</td><td>9</td><td>35-44</td><td>9</td><td>19124</td><td>TX</td><td>48113</td><td>795000.0</td><td>1</td><td>1</td><td>9.0</td><td>0.0</td><td>1.0</td><td>2.0</td><td>(1000,[260],[1.0])</td><td>[455000.0,2.75,36...</td><td>[2.00551070547876...</td><td>(1018,[0,1,2,3,4,...</td><td>[20.8758295178509...</td><td>[0.99999999914149...</td><td>0.0</td></tr>\n",
       "<tr><td>254900HA4DQWAE0W3342</td><td>1</td><td>32</td><td>165000.0</td><td>3.125</td><td>360</td><td>0</td><td>68.0</td><td>65-74</td><td>4</td><td>9</td><td>9999</td><td>9</td><td>40140</td><td>CA</td><td>06071</td><td>285000.0</td><td>1</td><td>1</td><td>9.0</td><td>4.0</td><td>0.0</td><td>0.0</td><td>(1000,[182],[1.0])</td><td>[165000.0,3.125,3...</td><td>[0.72727311297581...</td><td>(1018,[0,1,2,3,4,...</td><td>[20.9073551498283...</td><td>[0.99999999916813...</td><td>0.0</td></tr>\n",
       "<tr><td>254900HA4DQWAE0W3342</td><td>2</td><td>1</td><td>105000.0</td><td>4.625</td><td>360</td><td>0</td><td>33.0</td><td>&lt;25</td><td>4</td><td>9</td><td>9999</td><td>9</td><td>99999</td><td>OH</td><td>39059</td><td>115000.0</td><td>1</td><td>1</td><td>9.0</td><td>7.0</td><td>0.0</td><td>8.0</td><td>(1000,[149],[1.0])</td><td>[105000.0,4.625,3...</td><td>[0.46281016280279...</td><td>(1018,[0,1,2,3,4,...</td><td>[19.8942502353689...</td><td>[0.99999999770893...</td><td>0.0</td></tr>\n",
       "<tr><td>254900HA4DQWAE0W3342</td><td>2</td><td>1</td><td>115000.0</td><td>3.125</td><td>360</td><td>0</td><td>42.0</td><td>45-54</td><td>4</td><td>9</td><td>9999</td><td>9</td><td>30140</td><td>PA</td><td>42075</td><td>115000.0</td><td>1</td><td>1</td><td>9.0</td><td>1.0</td><td>0.0</td><td>5.0</td><td>(1000,[300],[1.0])</td><td>[115000.0,3.125,3...</td><td>[0.50688732116496...</td><td>(1018,[0,1,2,3,4,...</td><td>[20.9491074460082...</td><td>[0.99999999920215...</td><td>0.0</td></tr>\n",
       "</table>\n",
       "only showing top 20 rows\n"
      ],
      "text/plain": [
       "+--------------------+---------+------------+-----------+-------------+---------+------------+------+-------------+-------------+---------------------------+----------------+------------------------------+--------------+----------+-----------+--------------+-----------+--------------+-----------+---------------------+------------------------+------------------+------------------+--------------------+-----------------------+--------------------+--------------------+--------------------+----------+\n",
       "|                 lei|loan_type|loan_purpose|loan_amount|interest_rate|loan_term|action_taken|income|applicant_age|applicant_sex|applicant_credit_score_type|co_applicant_age|co_applicant_credit_score_type|derived_msa_md|state_code|county_code|property_value|total_units|occupancy_type|lei_indexed|applicant_age_indexed|co_applicant_age_indexed|state_code_indexed|county_code_hashed|    con_num_features|con_num_features_scaled|            features|       rawPrediction|         probability|prediction|\n",
       "+--------------------+---------+------------+-----------+-------------+---------+------------+------+-------------+-------------+---------------------------+----------------+------------------------------+--------------+----------+-----------+--------------+-----------+--------------+-----------+---------------------+------------------------+------------------+------------------+--------------------+-----------------------+--------------------+--------------------+--------------------+----------+\n",
       "|01J4SO3XTWZF4PP38209|        1|          31|    15000.0|         4.95|       60|           1|  94.0|         8888|            4|                          9|            9999|                            10|         25060|        MS|      28047|       45000.0|          1|             3|       93.0|                  5.0|                     0.0|              36.0|(1000,[149],[1.0])|[15000.0,4.949999...|   [0.06611573754325...|(1018,[0,1,2,3,4,...|[-19.836490256505...|[2.42729041100326...|       1.0|\n",
       "|0S8H5NJFLHEVJXVTQ413|        1|          31|   435000.0|    3.2904205|      360|           0| 124.0|        35-44|            1|                          1|           35-44|                             1|         42644|        WA|      53061|      655000.0|          1|             1|      577.0|                  0.0|                     1.0|              10.0|(1000,[730],[1.0])|[435000.0,3.29042...|   [1.91735638875442...|(1018,[0,1,2,3,4,...|[19.5733510553066...|[0.99999999684207...|       0.0|\n",
       "|1IE8VN30JCEQV1H4R804|        1|          31|   215000.0|    3.2904205|      360|           0| 109.0|        55-64|            1|                          2|            9999|                            10|         22744|        FL|      12011|      355000.0|          1|             1|      349.0|                  3.0|                     0.0|               1.0|(1000,[492],[1.0])|[215000.0,3.29042...|   [0.94765890478666...|(1018,[0,1,2,3,4,...|[20.5673297485328...|[0.99999999883124...|       0.0|\n",
       "|213800XR2TCBQJSF1X93|        1|          31|   365000.0|        2.875|      360|           1| 102.0|        35-44|            1|                          2|            9999|                            10|         31084|        CA|      06037|      625000.0|          1|             1|      140.0|                  0.0|                     0.0|               0.0|(1000,[343],[1.0])|[365000.0,2.875,3...|   [1.60881628021922...|(1018,[0,1,2,3,4,...|[-20.934727314919...|[8.09400459542958...|       1.0|\n",
       "|2549006II76YXSS5XM65|        1|          31|   205000.0|        3.125|      360|           1| 110.0|        45-54|            2|                          3|            9999|                            10|         47894|        VA|      51059|      325000.0|          1|             1|      204.0|                  1.0|                     0.0|              12.0|(1000,[734],[1.0])|[205000.0,3.125,3...|   [0.90358174642449...|(1018,[0,1,2,3,4,...|[-21.094882266760...|[6.89618708501421...|       1.0|\n",
       "|254900ACUWEGW702BR80|        1|          31|   275000.0|          3.0|      360|           1|  78.0|        45-54|            2|                          3|            9999|                            10|         15804|        NJ|      34007|      305000.0|          1|             1|      353.0|                  1.0|                     0.0|              11.0|(1000,[839],[1.0])|[275000.0,3.0,360...|   [1.21212185495969...|(1018,[0,1,2,3,4,...|[-20.692577993815...|[1.03116356778725...|       1.0|\n",
       "|254900ACUWEGW702BR80|        1|          31|   395000.0|          3.0|      360|           1| 332.0|        35-44|            1|                          1|             >74|                             9|         35614|        NJ|      34003|      515000.0|          1|             1|      353.0|                  0.0|                     7.0|              11.0|(1000,[806],[1.0])|[395000.0,3.0,360...|   [1.74104775530573...|(1018,[0,1,2,3,4,...|[-20.586412448677...|[1.14666002107074...|       1.0|\n",
       "|254900HA4DQWAE0W3342|        1|           1|   155000.0|        2.875|      360|           0| 218.0|        25-34|            4|                          9|            9999|                             9|         99999|        OK|      40009|      195000.0|          1|             1|        9.0|                  2.0|                     0.0|              33.0|(1000,[379],[1.0])|[155000.0,2.875,3...|   [0.68319595461364...|(1018,[0,1,2,3,4,...|[19.2423420042787...|[0.99999999560299...|       0.0|\n",
       "|254900HA4DQWAE0W3342|        1|           1|   215000.0|          2.5|      360|           0|  68.0|        25-34|            4|                          9|            9999|                             9|         99999|        MN|      27049|      225000.0|          1|             1|        9.0|                  2.0|                     0.0|              16.0|(1000,[366],[1.0])|[215000.0,2.5,360...|   [0.94765890478666...|(1018,[0,1,2,3,4,...|[19.7412173471917...|[0.99999999733008...|       0.0|\n",
       "|254900HA4DQWAE0W3342|        1|           1|   215000.0|        3.125|      360|           0|  36.0|        35-44|            4|                          9|            9999|                             9|         99999|        CA|      06023|      225000.0|          1|             1|        9.0|                  0.0|                     0.0|               0.0|(1000,[807],[1.0])|[215000.0,3.125,3...|   [0.94765890478666...|(1018,[0,1,2,3,4,...|[20.2197389139190...|[0.99999999834545...|       0.0|\n",
       "|254900HA4DQWAE0W3342|        1|           1|   335000.0|        2.625|      360|           0|  81.0|        35-44|            4|                          9|           35-44|                             9|         19124|        TX|      48085|      415000.0|          1|             1|        9.0|                  0.0|                     1.0|               2.0|(1000,[530],[1.0])|[335000.0,2.625,3...|   [1.47658480513271...|(1018,[0,1,2,3,4,...|[21.1665237736614...|[0.99999999935805...|       0.0|\n",
       "|254900HA4DQWAE0W3342|        1|           1|   505000.0|          2.5|      360|           0| 265.0|        45-54|            4|                          9|           35-44|                             9|         19740|        CO|      08059|     1035000.0|          1|             1|        9.0|                  1.0|                     1.0|               6.0|(1000,[436],[1.0])|[505000.0,2.5,360...|   [2.22589649728961...|(1018,[0,1,2,3,4,...|[21.5220740104749...|[0.99999999955013...|       0.0|\n",
       "|254900HA4DQWAE0W3342|        1|          31|   135000.0|        3.375|      360|           0|  39.0|        25-34|            4|                          9|            9999|                             9|         36540|        NE|      31055|      155000.0|          1|             1|        9.0|                  2.0|                     0.0|              34.0|(1000,[794],[1.0])|[135000.0,3.375,3...|   [0.59504163788930...|(1018,[0,1,2,3,4,...|[19.8871333790267...|[0.99999999769257...|       0.0|\n",
       "|254900HA4DQWAE0W3342|        1|          31|   205000.0|          3.0|      360|           0|  69.0|        25-34|            4|                          9|           25-34|                             9|         33340|        WI|      55079|      315000.0|          2|             1|        9.0|                  2.0|                     3.0|              23.0| (1000,[89],[1.0])|[205000.0,3.0,360...|   [0.90358174642449...|(1018,[0,1,2,3,4,...|[20.5616723690011...|[0.99999999882461...|       0.0|\n",
       "|254900HA4DQWAE0W3342|        1|          31|   315000.0|         3.25|      360|           0|  81.0|        35-44|            4|                          9|            9999|                             9|         22660|        CO|      08069|      355000.0|          1|             1|        9.0|                  0.0|                     0.0|               6.0|(1000,[928],[1.0])|[315000.0,3.25,36...|   [1.38843048840837...|(1018,[0,1,2,3,4,...|[20.7223993603543...|[0.99999999899913...|       0.0|\n",
       "|254900HA4DQWAE0W3342|        1|          31|   325000.0|        3.125|      360|           0| 184.0|          >74|            4|                          9|           65-74|                             9|         41740|        CA|      06073|      755000.0|          1|             1|        9.0|                  6.0|                     6.0|               0.0| (1000,[59],[1.0])|[325000.0,3.125,3...|   [1.43250764677054...|(1018,[0,1,2,3,4,...|[21.2662545191133...|[0.99999999941899...|       0.0|\n",
       "|254900HA4DQWAE0W3342|        1|          31|   455000.0|         2.75|      360|           0| 200.0|        35-44|            4|                          9|           35-44|                             9|         19124|        TX|      48113|      795000.0|          1|             1|        9.0|                  0.0|                     1.0|               2.0|(1000,[260],[1.0])|[455000.0,2.75,36...|   [2.00551070547876...|(1018,[0,1,2,3,4,...|[20.8758295178509...|[0.99999999914149...|       0.0|\n",
       "|254900HA4DQWAE0W3342|        1|          32|   165000.0|        3.125|      360|           0|  68.0|        65-74|            4|                          9|            9999|                             9|         40140|        CA|      06071|      285000.0|          1|             1|        9.0|                  4.0|                     0.0|               0.0|(1000,[182],[1.0])|[165000.0,3.125,3...|   [0.72727311297581...|(1018,[0,1,2,3,4,...|[20.9073551498283...|[0.99999999916813...|       0.0|\n",
       "|254900HA4DQWAE0W3342|        2|           1|   105000.0|        4.625|      360|           0|  33.0|          <25|            4|                          9|            9999|                             9|         99999|        OH|      39059|      115000.0|          1|             1|        9.0|                  7.0|                     0.0|               8.0|(1000,[149],[1.0])|[105000.0,4.625,3...|   [0.46281016280279...|(1018,[0,1,2,3,4,...|[19.8942502353689...|[0.99999999770893...|       0.0|\n",
       "|254900HA4DQWAE0W3342|        2|           1|   115000.0|        3.125|      360|           0|  42.0|        45-54|            4|                          9|            9999|                             9|         30140|        PA|      42075|      115000.0|          1|             1|        9.0|                  1.0|                     0.0|               5.0|(1000,[300],[1.0])|[115000.0,3.125,3...|   [0.50688732116496...|(1018,[0,1,2,3,4,...|[20.9491074460082...|[0.99999999920215...|       0.0|\n",
       "+--------------------+---------+------------+-----------+-------------+---------+------------+------+-------------+-------------+---------------------------+----------------+------------------------------+--------------+----------+-----------+--------------+-----------+--------------+-----------+---------------------+------------------------+------------------+------------------+--------------------+-----------------------+--------------------+--------------------+--------------------+----------+\n",
       "only showing top 20 rows"
      ]
     },
     "execution_count": 40,
     "metadata": {},
     "output_type": "execute_result"
    }
   ],
   "source": [
    "prediction_df"
   ]
  },
  {
   "cell_type": "code",
   "execution_count": 41,
   "id": "a63fb4cc-99c8-4cce-9bc5-8e0c68787f32",
   "metadata": {
    "scrolled": true
   },
   "outputs": [
    {
     "data": {
      "text/html": [
       "<table border='1'>\n",
       "<tr><th>action_taken</th><th>prediction</th></tr>\n",
       "<tr><td>1</td><td>1.0</td></tr>\n",
       "<tr><td>0</td><td>0.0</td></tr>\n",
       "<tr><td>0</td><td>0.0</td></tr>\n",
       "<tr><td>1</td><td>1.0</td></tr>\n",
       "<tr><td>1</td><td>1.0</td></tr>\n",
       "<tr><td>1</td><td>1.0</td></tr>\n",
       "<tr><td>1</td><td>1.0</td></tr>\n",
       "<tr><td>0</td><td>0.0</td></tr>\n",
       "<tr><td>0</td><td>0.0</td></tr>\n",
       "<tr><td>0</td><td>0.0</td></tr>\n",
       "<tr><td>0</td><td>0.0</td></tr>\n",
       "<tr><td>0</td><td>0.0</td></tr>\n",
       "<tr><td>0</td><td>0.0</td></tr>\n",
       "<tr><td>0</td><td>0.0</td></tr>\n",
       "<tr><td>0</td><td>0.0</td></tr>\n",
       "<tr><td>0</td><td>0.0</td></tr>\n",
       "<tr><td>0</td><td>0.0</td></tr>\n",
       "<tr><td>0</td><td>0.0</td></tr>\n",
       "<tr><td>0</td><td>0.0</td></tr>\n",
       "<tr><td>0</td><td>0.0</td></tr>\n",
       "</table>\n",
       "only showing top 20 rows\n"
      ],
      "text/plain": [
       "+------------+----------+\n",
       "|action_taken|prediction|\n",
       "+------------+----------+\n",
       "|           1|       1.0|\n",
       "|           0|       0.0|\n",
       "|           0|       0.0|\n",
       "|           1|       1.0|\n",
       "|           1|       1.0|\n",
       "|           1|       1.0|\n",
       "|           1|       1.0|\n",
       "|           0|       0.0|\n",
       "|           0|       0.0|\n",
       "|           0|       0.0|\n",
       "|           0|       0.0|\n",
       "|           0|       0.0|\n",
       "|           0|       0.0|\n",
       "|           0|       0.0|\n",
       "|           0|       0.0|\n",
       "|           0|       0.0|\n",
       "|           0|       0.0|\n",
       "|           0|       0.0|\n",
       "|           0|       0.0|\n",
       "|           0|       0.0|\n",
       "+------------+----------+\n",
       "only showing top 20 rows"
      ]
     },
     "execution_count": 41,
     "metadata": {},
     "output_type": "execute_result"
    }
   ],
   "source": [
    "prediction_df.select('action_taken','prediction')"
   ]
  },
  {
   "cell_type": "code",
   "execution_count": null,
   "id": "a1a26743-73fd-4154-8465-debadf21c3e4",
   "metadata": {},
   "outputs": [],
   "source": []
  },
  {
   "cell_type": "code",
   "execution_count": null,
   "id": "fcceeeff-d382-442d-ab9c-7274266e034c",
   "metadata": {},
   "outputs": [],
   "source": []
  },
  {
   "cell_type": "code",
   "execution_count": 42,
   "id": "1a44474a-ef12-43a5-80a6-5d6957db6ef2",
   "metadata": {},
   "outputs": [],
   "source": [
    "test_point = test_df.limit(1)"
   ]
  },
  {
   "cell_type": "code",
   "execution_count": 43,
   "id": "8aaee0b4-cb1b-4924-a913-09deeecef638",
   "metadata": {},
   "outputs": [
    {
     "data": {
      "text/html": [
       "<table border='1'>\n",
       "<tr><th>lei</th><th>loan_type</th><th>loan_purpose</th><th>loan_amount</th><th>interest_rate</th><th>loan_term</th><th>action_taken</th><th>income</th><th>applicant_age</th><th>applicant_sex</th><th>applicant_credit_score_type</th><th>co_applicant_age</th><th>co_applicant_credit_score_type</th><th>derived_msa_md</th><th>state_code</th><th>county_code</th><th>property_value</th><th>total_units</th><th>occupancy_type</th></tr>\n",
       "<tr><td>01J4SO3XTWZF4PP38209</td><td>1</td><td>31</td><td>15000.0</td><td>4.95</td><td>60</td><td>1</td><td>94.0</td><td>8888</td><td>4</td><td>9</td><td>9999</td><td>10</td><td>25060</td><td>MS</td><td>28047</td><td>45000.0</td><td>1</td><td>3</td></tr>\n",
       "</table>\n"
      ],
      "text/plain": [
       "+--------------------+---------+------------+-----------+-------------+---------+------------+------+-------------+-------------+---------------------------+----------------+------------------------------+--------------+----------+-----------+--------------+-----------+--------------+\n",
       "|                 lei|loan_type|loan_purpose|loan_amount|interest_rate|loan_term|action_taken|income|applicant_age|applicant_sex|applicant_credit_score_type|co_applicant_age|co_applicant_credit_score_type|derived_msa_md|state_code|county_code|property_value|total_units|occupancy_type|\n",
       "+--------------------+---------+------------+-----------+-------------+---------+------------+------+-------------+-------------+---------------------------+----------------+------------------------------+--------------+----------+-----------+--------------+-----------+--------------+\n",
       "|01J4SO3XTWZF4PP38209|        1|          31|    15000.0|         4.95|       60|           1|  94.0|         8888|            4|                          9|            9999|                            10|         25060|        MS|      28047|       45000.0|          1|             3|\n",
       "+--------------------+---------+------------+-----------+-------------+---------+------------+------+-------------+-------------+---------------------------+----------------+------------------------------+--------------+----------+-----------+--------------+-----------+--------------+"
      ]
     },
     "execution_count": 43,
     "metadata": {},
     "output_type": "execute_result"
    }
   ],
   "source": [
    "test_point"
   ]
  },
  {
   "cell_type": "code",
   "execution_count": 44,
   "id": "b61ce0ce-7e21-4c2f-ad0f-a73b7c440313",
   "metadata": {},
   "outputs": [
    {
     "name": "stdout",
     "output_type": "stream",
     "text": [
      "root\n",
      " |-- lei: string (nullable = true)\n",
      " |-- loan_type: integer (nullable = true)\n",
      " |-- loan_purpose: integer (nullable = true)\n",
      " |-- loan_amount: float (nullable = true)\n",
      " |-- interest_rate: float (nullable = true)\n",
      " |-- loan_term: integer (nullable = true)\n",
      " |-- action_taken: integer (nullable = true)\n",
      " |-- income: float (nullable = true)\n",
      " |-- applicant_age: string (nullable = true)\n",
      " |-- applicant_sex: integer (nullable = true)\n",
      " |-- applicant_credit_score_type: integer (nullable = true)\n",
      " |-- co_applicant_age: string (nullable = true)\n",
      " |-- co_applicant_credit_score_type: integer (nullable = true)\n",
      " |-- derived_msa_md: integer (nullable = true)\n",
      " |-- state_code: string (nullable = true)\n",
      " |-- county_code: string (nullable = true)\n",
      " |-- property_value: float (nullable = true)\n",
      " |-- total_units: integer (nullable = true)\n",
      " |-- occupancy_type: integer (nullable = true)\n",
      "\n"
     ]
    }
   ],
   "source": [
    "test_point.printSchema()"
   ]
  },
  {
   "cell_type": "code",
   "execution_count": 46,
   "id": "14c43bb4-7071-4758-b3d7-6bb0b02e5c95",
   "metadata": {},
   "outputs": [],
   "source": [
    "transform_point = transform_model.transform(test_point)\n",
    "predict_point = lr_model.transform(transform_point)"
   ]
  },
  {
   "cell_type": "code",
   "execution_count": 47,
   "id": "92b77c5b-9d36-4264-ab8c-622aceab3234",
   "metadata": {},
   "outputs": [],
   "source": [
    "result = predict_point.select('prediction')"
   ]
  },
  {
   "cell_type": "code",
   "execution_count": 49,
   "id": "0208881c-c625-4413-81f1-f6ff71b54be7",
   "metadata": {},
   "outputs": [
    {
     "data": {
      "text/plain": [
       "1.0"
      ]
     },
     "execution_count": 49,
     "metadata": {},
     "output_type": "execute_result"
    }
   ],
   "source": [
    "result.collect()[0][0]"
   ]
  },
  {
   "cell_type": "code",
   "execution_count": null,
   "id": "925dd669-162c-4ff0-acda-18e7a149bf32",
   "metadata": {},
   "outputs": [],
   "source": []
  },
  {
   "cell_type": "code",
   "execution_count": null,
   "id": "369f56de-ac7a-4ef7-90bb-03998122f161",
   "metadata": {},
   "outputs": [],
   "source": []
  },
  {
   "cell_type": "code",
   "execution_count": null,
   "id": "f0650646-e538-43a5-b639-8ab624af8c83",
   "metadata": {},
   "outputs": [],
   "source": []
  }
 ],
 "metadata": {
  "kernelspec": {
   "display_name": "Python 3 (ipykernel)",
   "language": "python",
   "name": "python3"
  },
  "language_info": {
   "codemirror_mode": {
    "name": "ipython",
    "version": 3
   },
   "file_extension": ".py",
   "mimetype": "text/x-python",
   "name": "python",
   "nbconvert_exporter": "python",
   "pygments_lexer": "ipython3",
   "version": "3.12.1"
  }
 },
 "nbformat": 4,
 "nbformat_minor": 5
}
