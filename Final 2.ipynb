{
 "cells": [
  {
   "cell_type": "code",
   "execution_count": 1,
   "id": "f061da50-a00e-4ad0-aded-39d5cefa802c",
   "metadata": {},
   "outputs": [],
   "source": [
    "from pyspark.sql import SparkSession"
   ]
  },
  {
   "cell_type": "code",
   "execution_count": 2,
   "id": "5d6c63d3-d756-47ed-aa00-4277d15abd70",
   "metadata": {},
   "outputs": [
    {
     "name": "stderr",
     "output_type": "stream",
     "text": [
      "Setting default log level to \"WARN\".\n",
      "To adjust logging level use sc.setLogLevel(newLevel). For SparkR, use setLogLevel(newLevel).\n",
      "24/12/04 00:36:39 WARN NativeCodeLoader: Unable to load native-hadoop library for your platform... using builtin-java classes where applicable\n"
     ]
    }
   ],
   "source": [
    "spark = SparkSession.builder \\\n",
    "    .appName(\"Final\") \\\n",
    "    .getOrCreate()\n",
    "\n",
    "sc = spark.sparkContext"
   ]
  },
  {
   "cell_type": "code",
   "execution_count": 3,
   "id": "46df0786-11e6-4dd2-85b0-11ac126de551",
   "metadata": {},
   "outputs": [
    {
     "data": {
      "text/html": [
       "\n",
       "            <div>\n",
       "                <p><b>SparkSession - in-memory</b></p>\n",
       "                \n",
       "        <div>\n",
       "            <p><b>SparkContext</b></p>\n",
       "\n",
       "            <p><a href=\"http://crc-dot1x-nat-10-239-73-149.bu.edu:4040\">Spark UI</a></p>\n",
       "\n",
       "            <dl>\n",
       "              <dt>Version</dt>\n",
       "                <dd><code>v3.5.2</code></dd>\n",
       "              <dt>Master</dt>\n",
       "                <dd><code>local[*]</code></dd>\n",
       "              <dt>AppName</dt>\n",
       "                <dd><code>Final</code></dd>\n",
       "            </dl>\n",
       "        </div>\n",
       "        \n",
       "            </div>\n",
       "        "
      ],
      "text/plain": [
       "<pyspark.sql.session.SparkSession at 0x1046c23c0>"
      ]
     },
     "execution_count": 3,
     "metadata": {},
     "output_type": "execute_result"
    }
   ],
   "source": [
    "spark"
   ]
  },
  {
   "cell_type": "code",
   "execution_count": 4,
   "id": "dede3fa2-82b7-4131-b73b-b08a7be28902",
   "metadata": {},
   "outputs": [],
   "source": [
    "spark.conf.set('spark.sql.repl.eagerEval.enabled', True)"
   ]
  },
  {
   "cell_type": "code",
   "execution_count": 5,
   "id": "ff447413-7951-44d7-970e-fe142df32c71",
   "metadata": {},
   "outputs": [],
   "source": [
    "df = spark.read.parquet('./cleaned_dataset')"
   ]
  },
  {
   "cell_type": "code",
   "execution_count": 6,
   "id": "53a9917d-7b98-43a3-86d2-a80943908b32",
   "metadata": {},
   "outputs": [
    {
     "name": "stdout",
     "output_type": "stream",
     "text": [
      "root\n",
      " |-- lei: string (nullable = true)\n",
      " |-- loan_type: integer (nullable = true)\n",
      " |-- loan_purpose: integer (nullable = true)\n",
      " |-- loan_amount: float (nullable = true)\n",
      " |-- interest_rate: float (nullable = true)\n",
      " |-- loan_term: integer (nullable = true)\n",
      " |-- action_taken: integer (nullable = true)\n",
      " |-- income: float (nullable = true)\n",
      " |-- applicant_age: string (nullable = true)\n",
      " |-- applicant_sex: integer (nullable = true)\n",
      " |-- applicant_credit_score_type: integer (nullable = true)\n",
      " |-- co_applicant_age: string (nullable = true)\n",
      " |-- co_applicant_credit_score_type: integer (nullable = true)\n",
      " |-- derived_msa_md: integer (nullable = true)\n",
      " |-- state_code: string (nullable = true)\n",
      " |-- county_code: string (nullable = true)\n",
      " |-- property_value: float (nullable = true)\n",
      " |-- total_units: integer (nullable = true)\n",
      " |-- occupancy_type: integer (nullable = true)\n",
      "\n"
     ]
    }
   ],
   "source": [
    "df.printSchema()"
   ]
  },
  {
   "cell_type": "code",
   "execution_count": 7,
   "id": "8311e627-9427-4f0c-a160-78fca5636332",
   "metadata": {},
   "outputs": [
    {
     "data": {
      "text/plain": [
       "19"
      ]
     },
     "execution_count": 7,
     "metadata": {},
     "output_type": "execute_result"
    }
   ],
   "source": [
    "len(df.columns)"
   ]
  },
  {
   "cell_type": "code",
   "execution_count": 8,
   "id": "7cfa5546-9063-4d07-adc1-7eb4a973f0e0",
   "metadata": {},
   "outputs": [
    {
     "data": {
      "text/plain": [
       "7366"
      ]
     },
     "execution_count": 8,
     "metadata": {},
     "output_type": "execute_result"
    }
   ],
   "source": [
    "df.count()"
   ]
  },
  {
   "cell_type": "markdown",
   "id": "a3653676-439d-4212-93a1-1bcb316f4f68",
   "metadata": {},
   "source": [
    "### 4. Train Test split"
   ]
  },
  {
   "cell_type": "code",
   "execution_count": 9,
   "id": "7ba08c29-77f9-4739-ac5a-7a99b1c63b73",
   "metadata": {},
   "outputs": [],
   "source": [
    "train_df, test_df = df.randomSplit(weights=[0.8, 0.2], seed=100)"
   ]
  },
  {
   "cell_type": "code",
   "execution_count": 10,
   "id": "631f43c5-2c13-4698-b17f-50fab91990f2",
   "metadata": {},
   "outputs": [
    {
     "data": {
      "text/plain": [
       "5862"
      ]
     },
     "execution_count": 10,
     "metadata": {},
     "output_type": "execute_result"
    }
   ],
   "source": [
    "train_df.count()"
   ]
  },
  {
   "cell_type": "code",
   "execution_count": 11,
   "id": "45d7493b-1941-420e-8ec0-d0e77f6b6999",
   "metadata": {},
   "outputs": [
    {
     "data": {
      "text/plain": [
       "1504"
      ]
     },
     "execution_count": 11,
     "metadata": {},
     "output_type": "execute_result"
    }
   ],
   "source": [
    "test_df.count()"
   ]
  },
  {
   "cell_type": "code",
   "execution_count": null,
   "id": "37698698-584c-4ff8-8e7e-b0eb711943c6",
   "metadata": {},
   "outputs": [],
   "source": []
  },
  {
   "cell_type": "code",
   "execution_count": null,
   "id": "7a8c8386-ccc4-4f48-b71e-a95d84c895bf",
   "metadata": {},
   "outputs": [],
   "source": []
  },
  {
   "cell_type": "code",
   "execution_count": null,
   "id": "8ce72115-7c25-4b32-a101-c6927092f66d",
   "metadata": {},
   "outputs": [],
   "source": []
  },
  {
   "cell_type": "markdown",
   "id": "046987ee-3597-4f64-ba58-224cd4c0feae",
   "metadata": {},
   "source": [
    "### 5. Feature transformation"
   ]
  },
  {
   "cell_type": "code",
   "execution_count": 12,
   "id": "a8df1bd9-b1a4-423e-b671-b4d4f4c289d1",
   "metadata": {},
   "outputs": [],
   "source": [
    "from pyspark.sql.types import StringType"
   ]
  },
  {
   "cell_type": "code",
   "execution_count": 13,
   "id": "14ef2fd3-d5cc-4e02-bbc2-ceb209b52f14",
   "metadata": {},
   "outputs": [],
   "source": [
    "from pyspark.ml.feature import StringIndexer, StandardScaler, VectorAssembler, FeatureHasher\n",
    "from pyspark.ml import Pipeline"
   ]
  },
  {
   "cell_type": "code",
   "execution_count": 14,
   "id": "bf94fd8c-de36-46d2-bec9-30b26407def3",
   "metadata": {},
   "outputs": [],
   "source": [
    "# Define categorical and numerical features\n",
    "categorical_features = [field.name for field in train_df.schema.fields if field.dataType is StringType()]\n",
    "numerical_features = [field for field in train_df.columns if field not in categorical_features]\n",
    "\n",
    "continuous_numerical_features = [\"loan_amount\", \"interest_rate\", \"loan_term\", \"income\", \"property_value\"]\n",
    "discrete_numerical_features = [item for item in numerical_features if item not in continuous_numerical_features]"
   ]
  },
  {
   "cell_type": "code",
   "execution_count": 15,
   "id": "04876ec5-e559-4745-89c5-f423ad359a9c",
   "metadata": {},
   "outputs": [],
   "source": [
    "categorical_features.remove('county_code')"
   ]
  },
  {
   "cell_type": "code",
   "execution_count": 16,
   "id": "56d10a87-638c-44f7-bdb7-ffbf7df22c33",
   "metadata": {},
   "outputs": [
    {
     "data": {
      "text/plain": [
       "['lei', 'applicant_age', 'co_applicant_age', 'state_code']"
      ]
     },
     "execution_count": 16,
     "metadata": {},
     "output_type": "execute_result"
    }
   ],
   "source": [
    "categorical_features"
   ]
  },
  {
   "cell_type": "code",
   "execution_count": 17,
   "id": "5a8dc1e7-eff0-4a78-b2d2-0a8efd0b1c6d",
   "metadata": {},
   "outputs": [
    {
     "data": {
      "text/plain": [
       "['loan_amount', 'interest_rate', 'loan_term', 'income', 'property_value']"
      ]
     },
     "execution_count": 17,
     "metadata": {},
     "output_type": "execute_result"
    }
   ],
   "source": [
    "continuous_numerical_features"
   ]
  },
  {
   "cell_type": "code",
   "execution_count": 18,
   "id": "64c1b64c-2bba-4e8d-b1c0-ea2955fc2d1a",
   "metadata": {},
   "outputs": [
    {
     "data": {
      "text/plain": [
       "['loan_type',\n",
       " 'loan_purpose',\n",
       " 'action_taken',\n",
       " 'applicant_sex',\n",
       " 'applicant_credit_score_type',\n",
       " 'co_applicant_credit_score_type',\n",
       " 'derived_msa_md',\n",
       " 'total_units',\n",
       " 'occupancy_type']"
      ]
     },
     "execution_count": 18,
     "metadata": {},
     "output_type": "execute_result"
    }
   ],
   "source": [
    "discrete_numerical_features"
   ]
  },
  {
   "cell_type": "code",
   "execution_count": 19,
   "id": "7c161951-dd29-4766-ac97-a96b6f381757",
   "metadata": {},
   "outputs": [],
   "source": [
    "cat_indexed_features = [f\"{cat}_indexed\" for cat in categorical_features]"
   ]
  },
  {
   "cell_type": "code",
   "execution_count": 20,
   "id": "e5ebd76a-ffa4-43f1-9187-24b9c84bcba7",
   "metadata": {},
   "outputs": [],
   "source": [
    "# perform Label encoding on categorical features\n",
    "labelEncoder = StringIndexer(inputCols=categorical_features, \n",
    "                           outputCols=cat_indexed_features, handleInvalid=\"skip\")"
   ]
  },
  {
   "cell_type": "code",
   "execution_count": 21,
   "id": "6bb552b9-117b-4677-b306-1460be834084",
   "metadata": {
    "scrolled": true
   },
   "outputs": [],
   "source": [
    "# perform feature hashing on 'county_code' as a lot of distinct values\n",
    "hasher = FeatureHasher(inputCols=[\"county_code\"], outputCol=\"county_code_hashed\", numFeatures=1000)"
   ]
  },
  {
   "cell_type": "code",
   "execution_count": 22,
   "id": "fc6caee8-4d2f-4873-b7f8-c0caf7f32cc0",
   "metadata": {},
   "outputs": [],
   "source": [
    "# perform Standard scaling on continuous numerical features\n",
    "numAssembler = VectorAssembler(inputCols=continuous_numerical_features, \n",
    "                            outputCol=\"con_num_features\")\n",
    "\n",
    "numScaler = StandardScaler(inputCol=\"con_num_features\", outputCol=\"con_num_features_scaled\")"
   ]
  },
  {
   "cell_type": "code",
   "execution_count": 23,
   "id": "085f529f-ccaa-48a3-ae94-bdcc23b17073",
   "metadata": {},
   "outputs": [],
   "source": [
    "# assemble all the features together\n",
    "featureAssembler = VectorAssembler(inputCols=[\"con_num_features_scaled\", \"county_code_hashed\"]+cat_indexed_features, outputCol='features')"
   ]
  },
  {
   "cell_type": "code",
   "execution_count": 24,
   "id": "687de318-5063-47db-bf3e-58338ea9aa6f",
   "metadata": {},
   "outputs": [],
   "source": [
    "# make the Pipeline\n",
    "transformPipeline = Pipeline(stages = [labelEncoder, hasher, numAssembler, numScaler, featureAssembler])"
   ]
  },
  {
   "cell_type": "code",
   "execution_count": 25,
   "id": "8d518a94-1b54-42b5-8e1c-52fe788c9cf6",
   "metadata": {},
   "outputs": [],
   "source": [
    "# train it\n",
    "transformPipeModel = transformPipeline.fit(train_df)"
   ]
  },
  {
   "cell_type": "code",
   "execution_count": 26,
   "id": "a52cef78-03b4-4498-9d32-b64765c11dc5",
   "metadata": {},
   "outputs": [],
   "source": [
    "train_df = transformPipeModel.transform(train_df)"
   ]
  },
  {
   "cell_type": "code",
   "execution_count": 27,
   "id": "71098462-35b7-40d3-b7af-e10e0d5907d1",
   "metadata": {},
   "outputs": [
    {
     "name": "stderr",
     "output_type": "stream",
     "text": [
      "24/12/04 00:36:44 WARN SparkStringUtils: Truncated the string representation of a plan since it was too large. This behavior can be adjusted by setting 'spark.sql.debug.maxToStringFields'.\n"
     ]
    },
    {
     "data": {
      "text/html": [
       "<table border='1'>\n",
       "<tr><th>lei</th><th>loan_type</th><th>loan_purpose</th><th>loan_amount</th><th>interest_rate</th><th>loan_term</th><th>action_taken</th><th>income</th><th>applicant_age</th><th>applicant_sex</th><th>applicant_credit_score_type</th><th>co_applicant_age</th><th>co_applicant_credit_score_type</th><th>derived_msa_md</th><th>state_code</th><th>county_code</th><th>property_value</th><th>total_units</th><th>occupancy_type</th><th>lei_indexed</th><th>applicant_age_indexed</th><th>co_applicant_age_indexed</th><th>state_code_indexed</th><th>county_code_hashed</th><th>con_num_features</th><th>con_num_features_scaled</th><th>features</th></tr>\n",
       "<tr><td>1IE8VN30JCEQV1H4R804</td><td>1</td><td>1</td><td>495000.0</td><td>3.5</td><td>360</td><td>0</td><td>202.0</td><td>45-54</td><td>1</td><td>2</td><td>45-54</td><td>9</td><td>35614</td><td>NY</td><td>36119</td><td>785000.0</td><td>1</td><td>1</td><td>260.0</td><td>1.0</td><td>2.0</td><td>7.0</td><td>(1000,[493],[1.0])</td><td>[495000.0,3.5,360...</td><td>[1.91237629199108...</td><td>(1009,[0,1,2,3,4,...</td></tr>\n",
       "<tr><td>1IE8VN30JCEQV1H4R804</td><td>1</td><td>1</td><td>865000.0</td><td>2.877</td><td>360</td><td>1</td><td>541.0</td><td>45-54</td><td>1</td><td>1</td><td>&gt;74</td><td>9</td><td>99999</td><td>MA</td><td>25007</td><td>2255000.0</td><td>1</td><td>3</td><td>260.0</td><td>1.0</td><td>7.0</td><td>17.0</td><td>(1000,[372],[1.0])</td><td>[865000.0,2.87700...</td><td>[3.34182927792381...</td><td>(1009,[0,1,2,3,4,...</td></tr>\n",
       "<tr><td>1IE8VN30JCEQV1H4R804</td><td>1</td><td>32</td><td>25000.0</td><td>3.2839885</td><td>360</td><td>0</td><td>30.0</td><td>&gt;74</td><td>3</td><td>3</td><td>9999</td><td>10</td><td>10900</td><td>PA</td><td>42095</td><td>355000.0</td><td>1</td><td>1</td><td>260.0</td><td>6.0</td><td>0.0</td><td>5.0</td><td>(1000,[518],[1.0])</td><td>[25000.0,3.283988...</td><td>[0.09658466121167...</td><td>(1009,[0,1,2,3,4,...</td></tr>\n",
       "<tr><td>1VUZZZCW0TWP6R7N3Z33</td><td>1</td><td>31</td><td>365000.0</td><td>3.2839885</td><td>360</td><td>0</td><td>130.0</td><td>65-74</td><td>1</td><td>2</td><td>65-74</td><td>3</td><td>14860</td><td>CT</td><td>09001</td><td>435000.0</td><td>1</td><td>1</td><td>568.0</td><td>4.0</td><td>6.0</td><td>33.0</td><td>(1000,[699],[1.0])</td><td>[365000.0,3.28398...</td><td>[1.41013605369039...</td><td>(1009,[0,1,2,3,4,...</td></tr>\n",
       "<tr><td>20TVKH7M13MUBGE80C53</td><td>1</td><td>4</td><td>75000.0</td><td>3.25</td><td>300</td><td>1</td><td>400.0</td><td>35-44</td><td>3</td><td>3</td><td>9999</td><td>10</td><td>47664</td><td>MI</td><td>26099</td><td>1025000.0</td><td>1</td><td>1</td><td>208.0</td><td>0.0</td><td>0.0</td><td>13.0</td><td>(1000,[864],[1.0])</td><td>[75000.0,3.25,300...</td><td>[0.28975398363501...</td><td>(1009,[0,1,2,3,4,...</td></tr>\n",
       "<tr><td>20TVKH7M13MUBGE80C53</td><td>1</td><td>31</td><td>505000.0</td><td>3.125</td><td>360</td><td>1</td><td>354.0</td><td>45-54</td><td>1</td><td>9</td><td>45-54</td><td>1</td><td>19804</td><td>MI</td><td>26163</td><td>695000.0</td><td>1</td><td>1</td><td>208.0</td><td>1.0</td><td>2.0</td><td>13.0</td><td>(1000,[304],[1.0])</td><td>[505000.0,3.125,3...</td><td>[1.95101015647575...</td><td>(1009,[0,1,2,3,4,...</td></tr>\n",
       "<tr><td>20TVKH7M13MUBGE80C53</td><td>1</td><td>32</td><td>245000.0</td><td>3.2839885</td><td>180</td><td>0</td><td>86.0</td><td>55-64</td><td>1</td><td>9</td><td>55-64</td><td>3</td><td>99999</td><td>MI</td><td>26133</td><td>605000.0</td><td>1</td><td>1</td><td>208.0</td><td>3.0</td><td>5.0</td><td>13.0</td><td>(1000,[673],[1.0])</td><td>[245000.0,3.28398...</td><td>[0.94652967987437...</td><td>(1009,[0,1,2,3,4,...</td></tr>\n",
       "<tr><td>20TVKH7M13MUBGE80C53</td><td>1</td><td>32</td><td>385000.0</td><td>2.625</td><td>180</td><td>1</td><td>294.0</td><td>45-54</td><td>1</td><td>3</td><td>35-44</td><td>9</td><td>18140</td><td>OH</td><td>39041</td><td>675000.0</td><td>1</td><td>1</td><td>208.0</td><td>1.0</td><td>1.0</td><td>9.0</td><td>(1000,[480],[1.0])</td><td>[385000.0,2.625,1...</td><td>[1.48740378265973...</td><td>(1009,[0,1,2,3,4,...</td></tr>\n",
       "<tr><td>254900AHLSHUJOTJG402</td><td>4</td><td>1</td><td>175000.0</td><td>2.5</td><td>360</td><td>1</td><td>63.0</td><td>&lt;25</td><td>1</td><td>1</td><td>9999</td><td>10</td><td>12260</td><td>SC</td><td>45003</td><td>175000.0</td><td>1</td><td>1</td><td>587.0</td><td>7.0</td><td>0.0</td><td>23.0</td><td>(1000,[336],[1.0])</td><td>[175000.0,2.5,360...</td><td>[0.67609262848169...</td><td>(1009,[0,1,2,3,4,...</td></tr>\n",
       "<tr><td>254900CIEUZUO7CHPG88</td><td>1</td><td>1</td><td>25000.0</td><td>4.25</td><td>120</td><td>1</td><td>56.0</td><td>45-54</td><td>1</td><td>2</td><td>45-54</td><td>9</td><td>24580</td><td>WI</td><td>55083</td><td>35000.0</td><td>1</td><td>3</td><td>138.0</td><td>1.0</td><td>2.0</td><td>21.0</td><td>(1000,[765],[1.0])</td><td>[25000.0,4.25,120...</td><td>[0.09658466121167...</td><td>(1009,[0,1,2,3,4,...</td></tr>\n",
       "<tr><td>254900CIEUZUO7CHPG88</td><td>1</td><td>1</td><td>285000.0</td><td>3.75</td><td>360</td><td>1</td><td>118.0</td><td>35-44</td><td>2</td><td>1</td><td>9999</td><td>10</td><td>99999</td><td>WI</td><td>55141</td><td>355000.0</td><td>1</td><td>1</td><td>138.0</td><td>0.0</td><td>0.0</td><td>21.0</td><td>(1000,[284],[1.0])</td><td>[285000.0,3.75,36...</td><td>[1.10106513781304...</td><td>(1009,[0,1,2,3,4,...</td></tr>\n",
       "<tr><td>254900CIEUZUO7CHPG88</td><td>1</td><td>31</td><td>55000.0</td><td>3.75</td><td>360</td><td>1</td><td>35.0</td><td>55-64</td><td>2</td><td>9</td><td>55-64</td><td>2</td><td>99999</td><td>WI</td><td>55115</td><td>75000.0</td><td>1</td><td>1</td><td>138.0</td><td>3.0</td><td>5.0</td><td>21.0</td><td>(1000,[744],[1.0])</td><td>[55000.0,3.75,360...</td><td>[0.21248625466567...</td><td>(1009,[0,1,2,3,4,...</td></tr>\n",
       "<tr><td>254900CIEUZUO7CHPG88</td><td>1</td><td>32</td><td>75000.0</td><td>3.375</td><td>180</td><td>1</td><td>90.0</td><td>55-64</td><td>3</td><td>2</td><td>65-74</td><td>9</td><td>99999</td><td>WI</td><td>55029</td><td>95000.0</td><td>1</td><td>1</td><td>138.0</td><td>3.0</td><td>6.0</td><td>21.0</td><td>(1000,[535],[1.0])</td><td>[75000.0,3.375,18...</td><td>[0.28975398363501...</td><td>(1009,[0,1,2,3,4,...</td></tr>\n",
       "<tr><td>254900CIEUZUO7CHPG88</td><td>1</td><td>32</td><td>85000.0</td><td>4.125</td><td>144</td><td>0</td><td>29.0</td><td>65-74</td><td>2</td><td>1</td><td>9999</td><td>10</td><td>33340</td><td>WI</td><td>55133</td><td>335000.0</td><td>1</td><td>3</td><td>138.0</td><td>4.0</td><td>0.0</td><td>21.0</td><td>(1000,[619],[1.0])</td><td>[85000.0,4.125,14...</td><td>[0.32838784811968...</td><td>(1009,[0,1,2,3,4,...</td></tr>\n",
       "<tr><td>254900CIEUZUO7CHPG88</td><td>1</td><td>32</td><td>115000.0</td><td>2.875</td><td>360</td><td>1</td><td>53.0</td><td>25-34</td><td>2</td><td>9</td><td>25-34</td><td>3</td><td>99999</td><td>WI</td><td>55097</td><td>175000.0</td><td>1</td><td>1</td><td>138.0</td><td>2.0</td><td>3.0</td><td>21.0</td><td>(1000,[998],[1.0])</td><td>[115000.0,2.875,3...</td><td>[0.44428944157368...</td><td>(1009,[0,1,2,3,4,...</td></tr>\n",
       "<tr><td>254900CQVBYQI6BDWS96</td><td>1</td><td>1</td><td>175000.0</td><td>4.75</td><td>60</td><td>1</td><td>96.0</td><td>8888</td><td>4</td><td>9</td><td>9999</td><td>10</td><td>19780</td><td>IA</td><td>19153</td><td>225000.0</td><td>1</td><td>3</td><td>594.0</td><td>5.0</td><td>0.0</td><td>27.0</td><td>(1000,[629],[1.0])</td><td>[175000.0,4.75,60...</td><td>[0.67609262848169...</td><td>(1009,[0,1,2,3,4,...</td></tr>\n",
       "<tr><td>254900D8UVDBN0LNLV64</td><td>1</td><td>1</td><td>415000.0</td><td>3.5</td><td>360</td><td>1</td><td>92.0</td><td>&gt;74</td><td>1</td><td>3</td><td>&gt;74</td><td>9</td><td>17660</td><td>ID</td><td>16055</td><td>515000.0</td><td>1</td><td>1</td><td>169.0</td><td>6.0</td><td>7.0</td><td>31.0</td><td>(1000,[282],[1.0])</td><td>[415000.0,3.5,360...</td><td>[1.60330537611373...</td><td>(1009,[0,1,2,3,4,...</td></tr>\n",
       "<tr><td>254900D8UVDBN0LNLV64</td><td>1</td><td>31</td><td>165000.0</td><td>3.499</td><td>360</td><td>1</td><td>157.0</td><td>35-44</td><td>1</td><td>1</td><td>25-34</td><td>9</td><td>16984</td><td>IL</td><td>17043</td><td>235000.0</td><td>1</td><td>3</td><td>169.0</td><td>0.0</td><td>3.0</td><td>4.0</td><td>(1000,[777],[1.0])</td><td>[165000.0,3.49900...</td><td>[0.63745876399702...</td><td>(1009,[0,1,2,3,4,...</td></tr>\n",
       "<tr><td>254900D8UVDBN0LNLV64</td><td>1</td><td>31</td><td>355000.0</td><td>2.75</td><td>360</td><td>1</td><td>178.0</td><td>45-54</td><td>1</td><td>1</td><td>35-44</td><td>9</td><td>36084</td><td>CA</td><td>06013</td><td>475000.0</td><td>1</td><td>1</td><td>169.0</td><td>1.0</td><td>1.0</td><td>0.0</td><td>(1000,[342],[1.0])</td><td>[355000.0,2.75,36...</td><td>[1.37150218920572...</td><td>(1009,[0,1,2,3,4,...</td></tr>\n",
       "<tr><td>254900D8UVDBN0LNLV64</td><td>1</td><td>32</td><td>305000.0</td><td>3.25</td><td>360</td><td>1</td><td>125.0</td><td>45-54</td><td>1</td><td>3</td><td>9999</td><td>10</td><td>16984</td><td>IL</td><td>17043</td><td>405000.0</td><td>1</td><td>1</td><td>169.0</td><td>1.0</td><td>0.0</td><td>4.0</td><td>(1000,[777],[1.0])</td><td>[305000.0,3.25,36...</td><td>[1.17833286678238...</td><td>(1009,[0,1,2,3,4,...</td></tr>\n",
       "</table>\n",
       "only showing top 20 rows\n"
      ],
      "text/plain": [
       "+--------------------+---------+------------+-----------+-------------+---------+------------+------+-------------+-------------+---------------------------+----------------+------------------------------+--------------+----------+-----------+--------------+-----------+--------------+-----------+---------------------+------------------------+------------------+------------------+--------------------+-----------------------+--------------------+\n",
       "|                 lei|loan_type|loan_purpose|loan_amount|interest_rate|loan_term|action_taken|income|applicant_age|applicant_sex|applicant_credit_score_type|co_applicant_age|co_applicant_credit_score_type|derived_msa_md|state_code|county_code|property_value|total_units|occupancy_type|lei_indexed|applicant_age_indexed|co_applicant_age_indexed|state_code_indexed|county_code_hashed|    con_num_features|con_num_features_scaled|            features|\n",
       "+--------------------+---------+------------+-----------+-------------+---------+------------+------+-------------+-------------+---------------------------+----------------+------------------------------+--------------+----------+-----------+--------------+-----------+--------------+-----------+---------------------+------------------------+------------------+------------------+--------------------+-----------------------+--------------------+\n",
       "|1IE8VN30JCEQV1H4R804|        1|           1|   495000.0|          3.5|      360|           0| 202.0|        45-54|            1|                          2|           45-54|                             9|         35614|        NY|      36119|      785000.0|          1|             1|      260.0|                  1.0|                     2.0|               7.0|(1000,[493],[1.0])|[495000.0,3.5,360...|   [1.91237629199108...|(1009,[0,1,2,3,4,...|\n",
       "|1IE8VN30JCEQV1H4R804|        1|           1|   865000.0|        2.877|      360|           1| 541.0|        45-54|            1|                          1|             >74|                             9|         99999|        MA|      25007|     2255000.0|          1|             3|      260.0|                  1.0|                     7.0|              17.0|(1000,[372],[1.0])|[865000.0,2.87700...|   [3.34182927792381...|(1009,[0,1,2,3,4,...|\n",
       "|1IE8VN30JCEQV1H4R804|        1|          32|    25000.0|    3.2839885|      360|           0|  30.0|          >74|            3|                          3|            9999|                            10|         10900|        PA|      42095|      355000.0|          1|             1|      260.0|                  6.0|                     0.0|               5.0|(1000,[518],[1.0])|[25000.0,3.283988...|   [0.09658466121167...|(1009,[0,1,2,3,4,...|\n",
       "|1VUZZZCW0TWP6R7N3Z33|        1|          31|   365000.0|    3.2839885|      360|           0| 130.0|        65-74|            1|                          2|           65-74|                             3|         14860|        CT|      09001|      435000.0|          1|             1|      568.0|                  4.0|                     6.0|              33.0|(1000,[699],[1.0])|[365000.0,3.28398...|   [1.41013605369039...|(1009,[0,1,2,3,4,...|\n",
       "|20TVKH7M13MUBGE80C53|        1|           4|    75000.0|         3.25|      300|           1| 400.0|        35-44|            3|                          3|            9999|                            10|         47664|        MI|      26099|     1025000.0|          1|             1|      208.0|                  0.0|                     0.0|              13.0|(1000,[864],[1.0])|[75000.0,3.25,300...|   [0.28975398363501...|(1009,[0,1,2,3,4,...|\n",
       "|20TVKH7M13MUBGE80C53|        1|          31|   505000.0|        3.125|      360|           1| 354.0|        45-54|            1|                          9|           45-54|                             1|         19804|        MI|      26163|      695000.0|          1|             1|      208.0|                  1.0|                     2.0|              13.0|(1000,[304],[1.0])|[505000.0,3.125,3...|   [1.95101015647575...|(1009,[0,1,2,3,4,...|\n",
       "|20TVKH7M13MUBGE80C53|        1|          32|   245000.0|    3.2839885|      180|           0|  86.0|        55-64|            1|                          9|           55-64|                             3|         99999|        MI|      26133|      605000.0|          1|             1|      208.0|                  3.0|                     5.0|              13.0|(1000,[673],[1.0])|[245000.0,3.28398...|   [0.94652967987437...|(1009,[0,1,2,3,4,...|\n",
       "|20TVKH7M13MUBGE80C53|        1|          32|   385000.0|        2.625|      180|           1| 294.0|        45-54|            1|                          3|           35-44|                             9|         18140|        OH|      39041|      675000.0|          1|             1|      208.0|                  1.0|                     1.0|               9.0|(1000,[480],[1.0])|[385000.0,2.625,1...|   [1.48740378265973...|(1009,[0,1,2,3,4,...|\n",
       "|254900AHLSHUJOTJG402|        4|           1|   175000.0|          2.5|      360|           1|  63.0|          <25|            1|                          1|            9999|                            10|         12260|        SC|      45003|      175000.0|          1|             1|      587.0|                  7.0|                     0.0|              23.0|(1000,[336],[1.0])|[175000.0,2.5,360...|   [0.67609262848169...|(1009,[0,1,2,3,4,...|\n",
       "|254900CIEUZUO7CHPG88|        1|           1|    25000.0|         4.25|      120|           1|  56.0|        45-54|            1|                          2|           45-54|                             9|         24580|        WI|      55083|       35000.0|          1|             3|      138.0|                  1.0|                     2.0|              21.0|(1000,[765],[1.0])|[25000.0,4.25,120...|   [0.09658466121167...|(1009,[0,1,2,3,4,...|\n",
       "|254900CIEUZUO7CHPG88|        1|           1|   285000.0|         3.75|      360|           1| 118.0|        35-44|            2|                          1|            9999|                            10|         99999|        WI|      55141|      355000.0|          1|             1|      138.0|                  0.0|                     0.0|              21.0|(1000,[284],[1.0])|[285000.0,3.75,36...|   [1.10106513781304...|(1009,[0,1,2,3,4,...|\n",
       "|254900CIEUZUO7CHPG88|        1|          31|    55000.0|         3.75|      360|           1|  35.0|        55-64|            2|                          9|           55-64|                             2|         99999|        WI|      55115|       75000.0|          1|             1|      138.0|                  3.0|                     5.0|              21.0|(1000,[744],[1.0])|[55000.0,3.75,360...|   [0.21248625466567...|(1009,[0,1,2,3,4,...|\n",
       "|254900CIEUZUO7CHPG88|        1|          32|    75000.0|        3.375|      180|           1|  90.0|        55-64|            3|                          2|           65-74|                             9|         99999|        WI|      55029|       95000.0|          1|             1|      138.0|                  3.0|                     6.0|              21.0|(1000,[535],[1.0])|[75000.0,3.375,18...|   [0.28975398363501...|(1009,[0,1,2,3,4,...|\n",
       "|254900CIEUZUO7CHPG88|        1|          32|    85000.0|        4.125|      144|           0|  29.0|        65-74|            2|                          1|            9999|                            10|         33340|        WI|      55133|      335000.0|          1|             3|      138.0|                  4.0|                     0.0|              21.0|(1000,[619],[1.0])|[85000.0,4.125,14...|   [0.32838784811968...|(1009,[0,1,2,3,4,...|\n",
       "|254900CIEUZUO7CHPG88|        1|          32|   115000.0|        2.875|      360|           1|  53.0|        25-34|            2|                          9|           25-34|                             3|         99999|        WI|      55097|      175000.0|          1|             1|      138.0|                  2.0|                     3.0|              21.0|(1000,[998],[1.0])|[115000.0,2.875,3...|   [0.44428944157368...|(1009,[0,1,2,3,4,...|\n",
       "|254900CQVBYQI6BDWS96|        1|           1|   175000.0|         4.75|       60|           1|  96.0|         8888|            4|                          9|            9999|                            10|         19780|        IA|      19153|      225000.0|          1|             3|      594.0|                  5.0|                     0.0|              27.0|(1000,[629],[1.0])|[175000.0,4.75,60...|   [0.67609262848169...|(1009,[0,1,2,3,4,...|\n",
       "|254900D8UVDBN0LNLV64|        1|           1|   415000.0|          3.5|      360|           1|  92.0|          >74|            1|                          3|             >74|                             9|         17660|        ID|      16055|      515000.0|          1|             1|      169.0|                  6.0|                     7.0|              31.0|(1000,[282],[1.0])|[415000.0,3.5,360...|   [1.60330537611373...|(1009,[0,1,2,3,4,...|\n",
       "|254900D8UVDBN0LNLV64|        1|          31|   165000.0|        3.499|      360|           1| 157.0|        35-44|            1|                          1|           25-34|                             9|         16984|        IL|      17043|      235000.0|          1|             3|      169.0|                  0.0|                     3.0|               4.0|(1000,[777],[1.0])|[165000.0,3.49900...|   [0.63745876399702...|(1009,[0,1,2,3,4,...|\n",
       "|254900D8UVDBN0LNLV64|        1|          31|   355000.0|         2.75|      360|           1| 178.0|        45-54|            1|                          1|           35-44|                             9|         36084|        CA|      06013|      475000.0|          1|             1|      169.0|                  1.0|                     1.0|               0.0|(1000,[342],[1.0])|[355000.0,2.75,36...|   [1.37150218920572...|(1009,[0,1,2,3,4,...|\n",
       "|254900D8UVDBN0LNLV64|        1|          32|   305000.0|         3.25|      360|           1| 125.0|        45-54|            1|                          3|            9999|                            10|         16984|        IL|      17043|      405000.0|          1|             1|      169.0|                  1.0|                     0.0|               4.0|(1000,[777],[1.0])|[305000.0,3.25,36...|   [1.17833286678238...|(1009,[0,1,2,3,4,...|\n",
       "+--------------------+---------+------------+-----------+-------------+---------+------------+------+-------------+-------------+---------------------------+----------------+------------------------------+--------------+----------+-----------+--------------+-----------+--------------+-----------+---------------------+------------------------+------------------+------------------+--------------------+-----------------------+--------------------+\n",
       "only showing top 20 rows"
      ]
     },
     "execution_count": 27,
     "metadata": {},
     "output_type": "execute_result"
    }
   ],
   "source": [
    "train_df"
   ]
  },
  {
   "cell_type": "code",
   "execution_count": null,
   "id": "3b9eb111-0ca0-4717-b4cd-ddde7cd72992",
   "metadata": {},
   "outputs": [],
   "source": []
  },
  {
   "cell_type": "markdown",
   "id": "e0519858-0218-49c1-8f52-55e5307754be",
   "metadata": {},
   "source": [
    "### 6. Models Prediction"
   ]
  },
  {
   "cell_type": "code",
   "execution_count": 34,
   "id": "af0b691a-a5fa-4e4f-a6fa-aec6a3051cc8",
   "metadata": {},
   "outputs": [],
   "source": [
    "from pyspark.ml.classification import LogisticRegression, LinearSVC, NaiveBayes, DecisionTreeClassifier, RandomForestClassifier, GBTClassifier, FMClassifier"
   ]
  },
  {
   "cell_type": "code",
   "execution_count": 31,
   "id": "c3d8d646-2ed3-4215-8fab-8509ae067ef5",
   "metadata": {},
   "outputs": [],
   "source": [
    "# evaluate the model from 'y_true' and 'y_pred' \n",
    "from pyspark.ml.evaluation import MulticlassClassificationEvaluator, BinaryClassificationEvaluator"
   ]
  },
  {
   "cell_type": "code",
   "execution_count": 33,
   "id": "85709496-0cc5-40be-9562-57d5c00ac221",
   "metadata": {},
   "outputs": [],
   "source": [
    "def evaluate_model(predictions, label_col='action_taken', prediction_col='prediction', raw_prediction_col='rawPrediction'):\n",
    "    '''It returns classification evaluation metrics like accuracy, precision, f1, recall and roc'''\n",
    "    \n",
    "    # Initialize evaluators\n",
    "    evaluator_accuracy = MulticlassClassificationEvaluator(labelCol=label_col, predictionCol=prediction_col, metricName='accuracy')\n",
    "    evaluator_precision = MulticlassClassificationEvaluator(labelCol=label_col, predictionCol=prediction_col, metricName='weightedPrecision')\n",
    "    evaluator_recall = MulticlassClassificationEvaluator(labelCol=label_col, predictionCol=prediction_col, metricName='weightedRecall')\n",
    "    evaluator_f1 = MulticlassClassificationEvaluator(labelCol=label_col, predictionCol=prediction_col, metricName='f1')\n",
    "    evaluator_roc = BinaryClassificationEvaluator(labelCol=label_col, rawPredictionCol=raw_prediction_col, metricName='areaUnderROC')\n",
    "\n",
    "    # Calculate metrics\n",
    "    accuracy = evaluator_accuracy.evaluate(predictions)\n",
    "    precision = evaluator_precision.evaluate(predictions)\n",
    "    recall = evaluator_recall.evaluate(predictions)\n",
    "    f1_score = evaluator_f1.evaluate(predictions)\n",
    "    roc_auc = evaluator_roc.evaluate(predictions)\n",
    "\n",
    "    # Return all metrics as a dictionary\n",
    "    metrics = {\n",
    "        'accuracy': accuracy,\n",
    "        'precision': precision,\n",
    "        'recall': recall,\n",
    "        'f1_score': f1_score,\n",
    "        'roc_auc': roc_auc\n",
    "    }\n",
    "\n",
    "    return metrics"
   ]
  },
  {
   "cell_type": "code",
   "execution_count": 35,
   "id": "0190671d-1bc6-49f6-9fcb-353e0ca854e9",
   "metadata": {},
   "outputs": [],
   "source": [
    "models = {\n",
    "    'Logistic Regression': LogisticRegression(featuresCol='features', labelCol='action_taken'),\n",
    "    'Support Vector Machine': LinearSVC(featuresCol='features', labelCol='action_taken'),\n",
    "    # 'Naive Bayes': NaiveBayes(featuresCol='features', labelCol='action_taken'),\n",
    "    'Factorization Machine': FMClassifier(featuresCol='features', labelCol='action_taken'),\n",
    "    'Decision Tree': DecisionTreeClassifier(featuresCol='features', labelCol='action_taken', maxBins=2000),\n",
    "    'Random Forest': RandomForestClassifier(featuresCol='features', labelCol='action_taken', maxBins=2000),\n",
    "    'Gradient Boosting Trees': GBTClassifier(featuresCol='features', labelCol='action_taken', maxBins=2000),\n",
    "}"
   ]
  },
  {
   "cell_type": "code",
   "execution_count": 36,
   "id": "5a4a6e4d-1618-425c-b7de-81ff780e1421",
   "metadata": {},
   "outputs": [
    {
     "name": "stdout",
     "output_type": "stream",
     "text": [
      "========== Logistic Regression ============\n",
      "accuracy: 0.7024\n",
      "precison: 0.6698\n",
      "recall: 0.7024\n",
      "f1-score: 0.6767\n",
      "ROC: 0.6367\n",
      "\n",
      "\n",
      "========== Support Vector Machine ============\n",
      "accuracy: 0.6980\n",
      "precison: 0.6521\n",
      "recall: 0.6980\n",
      "f1-score: 0.6578\n",
      "ROC: 0.6416\n",
      "\n",
      "\n",
      "========== Factorization Machine ============\n",
      "accuracy: 0.6293\n",
      "precison: 0.6529\n",
      "recall: 0.6293\n",
      "f1-score: 0.6389\n",
      "ROC: 0.6036\n",
      "\n",
      "\n",
      "========== Decision Tree ============\n",
      "accuracy: 0.9059\n",
      "precison: 0.9136\n",
      "recall: 0.9059\n",
      "f1-score: 0.9002\n",
      "ROC: 0.8855\n",
      "\n",
      "\n",
      "========== Random Forest ============\n",
      "accuracy: 0.7241\n",
      "precison: 0.7312\n",
      "recall: 0.7241\n",
      "f1-score: 0.6238\n",
      "ROC: 0.7547\n",
      "\n",
      "\n",
      "========== Gradient Boosting Trees ============\n",
      "accuracy: 0.9138\n",
      "precison: 0.9128\n",
      "recall: 0.9138\n",
      "f1-score: 0.9126\n",
      "ROC: 0.9438\n",
      "\n",
      "\n"
     ]
    }
   ],
   "source": [
    "for algo in models:\n",
    "    print(f\"========== {algo} ============\")\n",
    "\n",
    "    # Train the model\n",
    "    model = models[algo]\n",
    "    trained_model = model.fit(train_df)\n",
    "\n",
    "    # Evaluate on Test data\n",
    "    test_df_transformed = transformPipeModel.transform(test_df)\n",
    "    test_predictions = trained_model.transform(test_df_transformed)\n",
    "\n",
    "    results = evaluate_model(test_predictions)\n",
    "    print(\"accuracy: {:.4f}\".format(results['accuracy']))\n",
    "    print(\"precison: {:.4f}\".format(results['precision']))\n",
    "    print(\"recall: {:.4f}\".format(results['recall']))\n",
    "    print(\"f1-score: {:.4f}\".format(results['f1_score']))\n",
    "    print(\"ROC: {:.4f}\".format(results['roc_auc']))\n",
    "\n",
    "    print('\\n')"
   ]
  },
  {
   "cell_type": "code",
   "execution_count": null,
   "id": "9c5570b4-58d7-40ab-941d-1908f6b04f2f",
   "metadata": {},
   "outputs": [],
   "source": []
  },
  {
   "cell_type": "code",
   "execution_count": null,
   "id": "74c13166-3fc2-4260-b846-64884b64918b",
   "metadata": {},
   "outputs": [],
   "source": []
  },
  {
   "cell_type": "code",
   "execution_count": null,
   "id": "a1a26743-73fd-4154-8465-debadf21c3e4",
   "metadata": {},
   "outputs": [],
   "source": []
  }
 ],
 "metadata": {
  "kernelspec": {
   "display_name": "Python 3 (ipykernel)",
   "language": "python",
   "name": "python3"
  },
  "language_info": {
   "codemirror_mode": {
    "name": "ipython",
    "version": 3
   },
   "file_extension": ".py",
   "mimetype": "text/x-python",
   "name": "python",
   "nbconvert_exporter": "python",
   "pygments_lexer": "ipython3",
   "version": "3.12.1"
  }
 },
 "nbformat": 4,
 "nbformat_minor": 5
}
