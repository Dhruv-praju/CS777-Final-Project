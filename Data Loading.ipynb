{
 "cells": [
  {
   "cell_type": "code",
   "execution_count": 1,
   "id": "9d64b7e9-06d6-497f-a7dd-b49b1f477183",
   "metadata": {},
   "outputs": [],
   "source": [
    "from pyspark.sql import SparkSession"
   ]
  },
  {
   "cell_type": "code",
   "execution_count": 2,
   "id": "bd2bb6e5-58c8-4ad4-bef5-c1fd4f832cda",
   "metadata": {},
   "outputs": [
    {
     "name": "stderr",
     "output_type": "stream",
     "text": [
      "Setting default log level to \"WARN\".\n",
      "To adjust logging level use sc.setLogLevel(newLevel). For SparkR, use setLogLevel(newLevel).\n",
      "24/12/01 20:07:24 WARN NativeCodeLoader: Unable to load native-hadoop library for your platform... using builtin-java classes where applicable\n"
     ]
    }
   ],
   "source": [
    "spark = SparkSession.builder \\\n",
    "    .appName(\"Final\") \\\n",
    "    .getOrCreate()\n",
    "\n",
    "sc = spark.sparkContext"
   ]
  },
  {
   "cell_type": "code",
   "execution_count": 3,
   "id": "15ab5003-6d4e-40e4-b6ce-ad951e131047",
   "metadata": {},
   "outputs": [],
   "source": [
    "spark.conf.set('spark.sql.repl.eagerEval.enabled', True)"
   ]
  },
  {
   "cell_type": "code",
   "execution_count": 4,
   "id": "9282e417-3074-400c-9ebb-15c90ae2b083",
   "metadata": {},
   "outputs": [],
   "source": [
    "df = spark.read.text('2020_lar.txt')"
   ]
  },
  {
   "cell_type": "code",
   "execution_count": 5,
   "id": "fc31182f-f12e-4ae3-8583-c51a1887d894",
   "metadata": {},
   "outputs": [
    {
     "name": "stderr",
     "output_type": "stream",
     "text": [
      "                                                                                \r"
     ]
    },
    {
     "data": {
      "text/plain": [
       "25699044"
      ]
     },
     "execution_count": 5,
     "metadata": {},
     "output_type": "execute_result"
    }
   ],
   "source": [
    "df.count()\n",
    "# len(df.columns)"
   ]
  },
  {
   "cell_type": "code",
   "execution_count": 6,
   "id": "b7f18d04-0e0c-44a0-bef1-906b5638c7bf",
   "metadata": {},
   "outputs": [],
   "source": [
    "df = spark.read.option(\"header\", \"true\") \\\n",
    "    .option(\"delimiter\", \"|\") \\\n",
    "    .csv('2020_lar.txt')"
   ]
  },
  {
   "cell_type": "code",
   "execution_count": 7,
   "id": "d3f9a880-4e7b-4187-977f-7e6d17f39c90",
   "metadata": {
    "scrolled": true
   },
   "outputs": [
    {
     "name": "stderr",
     "output_type": "stream",
     "text": [
      "24/12/01 20:07:32 WARN SparkStringUtils: Truncated the string representation of a plan since it was too large. This behavior can be adjusted by setting 'spark.sql.debug.maxToStringFields'.\n"
     ]
    },
    {
     "data": {
      "text/html": [
       "<table border='1'>\n",
       "<tr><th>activity_year</th><th>lei</th><th>derived_msa_md</th><th>state_code</th><th>county_code</th><th>census_tract</th><th>conforming_loan_limit</th><th>derived_loan_product_type</th><th>derived_dwelling_category</th><th>derived_ethnicity</th><th>derived_race</th><th>derived_sex</th><th>action_taken</th><th>purchaser_type</th><th>preapproval</th><th>loan_type</th><th>loan_purpose</th><th>lien_status</th><th>reverse_mortgage</th><th>open_end_line_of_credit</th><th>business_or_commercial_purpose</th><th>loan_amount</th><th>combined_loan_to_value_ratio</th><th>interest_rate</th><th>rate_spread</th><th>hoepa_status</th><th>total_loan_costs</th><th>total_points_and_fees</th><th>origination_charges</th><th>discount_points</th><th>lender_credits</th><th>loan_term</th><th>prepayment_penalty_term</th><th>intro_rate_period</th><th>negative_amortization</th><th>interest_only_payment</th><th>balloon_payment</th><th>other_nonamortizing_features</th><th>property_value</th><th>construction_method</th><th>occupancy_type</th><th>manufactured_home_secured_property_type</th><th>manufactured_home_land_property_interest</th><th>total_units</th><th>multifamily_affordable_units</th><th>income</th><th>debt_to_income_ratio</th><th>applicant_credit_score_type</th><th>co_applicant_credit_score_type</th><th>applicant_ethnicity_1</th><th>applicant_ethnicity_2</th><th>applicant_ethnicity_3</th><th>applicant_ethnicity_4</th><th>applicant_ethnicity_5</th><th>co_applicant_ethnicity_1</th><th>co_applicant_ethnicity_2</th><th>co_applicant_ethnicity_3</th><th>co_applicant_ethnicity_4</th><th>co_applicant_ethnicity_5</th><th>applicant_ethnicity_observed</th><th>co_applicant_ethnicity_observed</th><th>applicant_race_1</th><th>applicant_race_2</th><th>applicant_race_3</th><th>applicant_race_4</th><th>applicant_race_5</th><th>co_applicant_race_1</th><th>co_applicant_race_2</th><th>co_applicant_race_3</th><th>co_applicant_race_4</th><th>co_applicant_race_5</th><th>applicant_race_observed</th><th>co_applicant_race_observed</th><th>applicant_sex</th><th>co_applicant_sex</th><th>applicant_sex_observed</th><th>co_applicant_sex_observed</th><th>applicant_age</th><th>co_applicant_age</th><th>applicant_age_above_62</th><th>co_applicant_age_above_62</th><th>submission_of_application</th><th>initially_payable_to_institution</th><th>aus_1</th><th>aus_2</th><th>aus_3</th><th>aus_4</th><th>aus_5</th><th>denial_reason_1</th><th>denial_reason_2</th><th>denial_reason_3</th><th>denial_reason_4</th><th>tract_population</th><th>tract_minority_population_percent</th><th>ffiec_msa_md_median_family_income</th><th>tract_to_msa_income_percentage</th><th>tract_owner_occupied_units</th><th>tract_one_to_four_family_homes</th><th>tract_median_age_of_housing_units</th></tr>\n",
       "<tr><td>2020</td><td>549300RBX56T2MW5HO19</td><td>29620</td><td>MI</td><td>26065</td><td>26065003400</td><td>C</td><td>Conventional:Firs...</td><td>Single Family (1-...</td><td>Not Hispanic or L...</td><td>White</td><td>Joint</td><td>1</td><td>0</td><td>2</td><td>1</td><td>1</td><td>1</td><td>2</td><td>2</td><td>2</td><td>135000</td><td>97.0</td><td>3.875</td><td>1.273</td><td>2</td><td>460.0</td><td>NA</td><td>0.0</td><td>NULL</td><td>NA</td><td>360</td><td>NA</td><td>NA</td><td>2</td><td>2</td><td>2</td><td>2</td><td>145000</td><td>1</td><td>1</td><td>3</td><td>5</td><td>1</td><td>NA</td><td>65</td><td>30%-&lt;36%</td><td>2</td><td>5</td><td>2</td><td>NULL</td><td>NULL</td><td>NULL</td><td>NULL</td><td>2</td><td>NULL</td><td>NULL</td><td>NULL</td><td>NULL</td><td>2</td><td>2</td><td>5</td><td>NULL</td><td>NULL</td><td>NULL</td><td>NULL</td><td>5</td><td>NULL</td><td>NULL</td><td>NULL</td><td>NULL</td><td>2</td><td>2</td><td>1</td><td>2</td><td>2</td><td>2</td><td>25-34</td><td>25-34</td><td>No</td><td>No</td><td>1</td><td>1</td><td>1</td><td>NULL</td><td>NULL</td><td>NULL</td><td>NULL</td><td>10</td><td>NULL</td><td>NULL</td><td>NULL</td><td>2253</td><td>28.72</td><td>79300</td><td>109.02</td><td>773</td><td>883</td><td>57</td></tr>\n",
       "<tr><td>2020</td><td>549300RBX56T2MW5HO19</td><td>31084</td><td>CA</td><td>06037</td><td>06037108201</td><td>C</td><td>Conventional:Firs...</td><td>Single Family (1-...</td><td>Not Hispanic or L...</td><td>Asian</td><td>Joint</td><td>1</td><td>1</td><td>2</td><td>1</td><td>31</td><td>1</td><td>2</td><td>2</td><td>2</td><td>315000</td><td>36.82</td><td>2.124</td><td>-0.256</td><td>2</td><td>316.13</td><td>NA</td><td>316.13</td><td>NULL</td><td>316.13</td><td>180</td><td>NA</td><td>NA</td><td>2</td><td>2</td><td>2</td><td>2</td><td>855000</td><td>1</td><td>1</td><td>3</td><td>5</td><td>1</td><td>NA</td><td>135</td><td>20%-&lt;30%</td><td>5</td><td>1</td><td>2</td><td>NULL</td><td>NULL</td><td>NULL</td><td>NULL</td><td>2</td><td>NULL</td><td>NULL</td><td>NULL</td><td>NULL</td><td>2</td><td>2</td><td>2</td><td>25</td><td>NULL</td><td>NULL</td><td>NULL</td><td>2</td><td>25</td><td>NULL</td><td>NULL</td><td>NULL</td><td>2</td><td>2</td><td>1</td><td>2</td><td>2</td><td>2</td><td>45-54</td><td>45-54</td><td>No</td><td>No</td><td>1</td><td>1</td><td>1</td><td>NULL</td><td>NULL</td><td>NULL</td><td>NULL</td><td>10</td><td>NULL</td><td>NULL</td><td>NULL</td><td>5846</td><td>62.37</td><td>77300</td><td>166.05</td><td>1378</td><td>1972</td><td>25</td></tr>\n",
       "<tr><td>2020</td><td>549300RBX56T2MW5HO19</td><td>41100</td><td>UT</td><td>49053</td><td>49053270600</td><td>C</td><td>FHA:First Lien</td><td>Single Family (1-...</td><td>Not Hispanic or L...</td><td>White</td><td>Joint</td><td>1</td><td>9</td><td>2</td><td>2</td><td>1</td><td>1</td><td>1</td><td>2</td><td>2</td><td>135000</td><td>55.1</td><td>3.43</td><td>NA</td><td>3</td><td>NA</td><td>NA</td><td>NA</td><td>NA</td><td>NA</td><td>NA</td><td>NA</td><td>NA</td><td>2</td><td>2</td><td>2</td><td>2</td><td>255000</td><td>1</td><td>1</td><td>3</td><td>5</td><td>1</td><td>NA</td><td>NA</td><td>NA</td><td>9</td><td>9</td><td>2</td><td>NULL</td><td>NULL</td><td>NULL</td><td>NULL</td><td>2</td><td>NULL</td><td>NULL</td><td>NULL</td><td>NULL</td><td>2</td><td>2</td><td>5</td><td>NULL</td><td>NULL</td><td>NULL</td><td>NULL</td><td>5</td><td>NULL</td><td>NULL</td><td>NULL</td><td>NULL</td><td>2</td><td>2</td><td>1</td><td>2</td><td>2</td><td>2</td><td>65-74</td><td>65-74</td><td>Yes</td><td>Yes</td><td>1</td><td>1</td><td>6</td><td>NULL</td><td>NULL</td><td>NULL</td><td>NULL</td><td>10</td><td>NULL</td><td>NULL</td><td>NULL</td><td>7739</td><td>15.62</td><td>70700</td><td>102.72</td><td>1803</td><td>3813</td><td>19</td></tr>\n",
       "<tr><td>2020</td><td>549300RBX56T2MW5HO19</td><td>19740</td><td>CO</td><td>08031</td><td>08031004004</td><td>C</td><td>Conventional:Firs...</td><td>Single Family (1-...</td><td>Not Hispanic or L...</td><td>White</td><td>Joint</td><td>4</td><td>0</td><td>2</td><td>1</td><td>32</td><td>1</td><td>2</td><td>2</td><td>2</td><td>405000</td><td>NA</td><td>NA</td><td>NA</td><td>3</td><td>NA</td><td>NA</td><td>NA</td><td>NA</td><td>NA</td><td>240</td><td>NA</td><td>NA</td><td>2</td><td>2</td><td>2</td><td>2</td><td>NA</td><td>1</td><td>1</td><td>3</td><td>5</td><td>1</td><td>NA</td><td>120</td><td>NA</td><td>9</td><td>9</td><td>2</td><td>NULL</td><td>NULL</td><td>NULL</td><td>NULL</td><td>2</td><td>NULL</td><td>NULL</td><td>NULL</td><td>NULL</td><td>2</td><td>2</td><td>5</td><td>NULL</td><td>NULL</td><td>NULL</td><td>NULL</td><td>5</td><td>NULL</td><td>NULL</td><td>NULL</td><td>NULL</td><td>2</td><td>2</td><td>1</td><td>2</td><td>2</td><td>2</td><td>35-44</td><td>35-44</td><td>No</td><td>No</td><td>1</td><td>1</td><td>6</td><td>NULL</td><td>NULL</td><td>NULL</td><td>NULL</td><td>10</td><td>NULL</td><td>NULL</td><td>NULL</td><td>1908</td><td>8.54</td><td>100000</td><td>145.9</td><td>802</td><td>760</td><td>52</td></tr>\n",
       "<tr><td>2020</td><td>549300RBX56T2MW5HO19</td><td>17820</td><td>CO</td><td>08041</td><td>08041002501</td><td>C</td><td>Conventional:Firs...</td><td>Single Family (1-...</td><td>Not Hispanic or L...</td><td>White</td><td>Female</td><td>1</td><td>1</td><td>2</td><td>1</td><td>1</td><td>1</td><td>2</td><td>2</td><td>2</td><td>435000</td><td>80.0</td><td>2.5</td><td>-0.39</td><td>2</td><td>0.0</td><td>NA</td><td>0.0</td><td>NULL</td><td>NA</td><td>360</td><td>NA</td><td>NA</td><td>2</td><td>2</td><td>2</td><td>2</td><td>565000</td><td>1</td><td>1</td><td>3</td><td>5</td><td>1</td><td>NA</td><td>328</td><td>20%-&lt;30%</td><td>1</td><td>2</td><td>2</td><td>NULL</td><td>NULL</td><td>NULL</td><td>NULL</td><td>2</td><td>NULL</td><td>NULL</td><td>NULL</td><td>NULL</td><td>2</td><td>2</td><td>5</td><td>NULL</td><td>NULL</td><td>NULL</td><td>NULL</td><td>5</td><td>NULL</td><td>NULL</td><td>NULL</td><td>NULL</td><td>2</td><td>2</td><td>2</td><td>2</td><td>2</td><td>2</td><td>55-64</td><td>55-64</td><td>No</td><td>No</td><td>1</td><td>1</td><td>1</td><td>NULL</td><td>NULL</td><td>NULL</td><td>NULL</td><td>10</td><td>NULL</td><td>NULL</td><td>NULL</td><td>3276</td><td>11.14</td><td>81700</td><td>146.97</td><td>1163</td><td>1472</td><td>45</td></tr>\n",
       "<tr><td>2020</td><td>549300RBX56T2MW5HO19</td><td>11244</td><td>CA</td><td>06059</td><td>06059042334</td><td>C</td><td>Conventional:Firs...</td><td>Single Family (1-...</td><td>Not Hispanic or L...</td><td>Asian</td><td>Joint</td><td>1</td><td>1</td><td>2</td><td>1</td><td>31</td><td>1</td><td>2</td><td>2</td><td>2</td><td>355000</td><td>41.29</td><td>2.875</td><td>NA</td><td>2</td><td>120.0</td><td>NA</td><td>0.0</td><td>NULL</td><td>NA</td><td>180</td><td>NA</td><td>NA</td><td>2</td><td>2</td><td>2</td><td>2</td><td>855000</td><td>1</td><td>3</td><td>3</td><td>5</td><td>1</td><td>NA</td><td>565</td><td>&lt;20%</td><td>2</td><td>1</td><td>2</td><td>NULL</td><td>NULL</td><td>NULL</td><td>NULL</td><td>2</td><td>NULL</td><td>NULL</td><td>NULL</td><td>NULL</td><td>2</td><td>2</td><td>2</td><td>NULL</td><td>NULL</td><td>NULL</td><td>NULL</td><td>2</td><td>NULL</td><td>NULL</td><td>NULL</td><td>NULL</td><td>2</td><td>2</td><td>1</td><td>2</td><td>2</td><td>2</td><td>55-64</td><td>55-64</td><td>No</td><td>No</td><td>1</td><td>1</td><td>1</td><td>NULL</td><td>NULL</td><td>NULL</td><td>NULL</td><td>10</td><td>NULL</td><td>NULL</td><td>NULL</td><td>5173</td><td>36.61</td><td>103000</td><td>111.29</td><td>1440</td><td>1707</td><td>31</td></tr>\n",
       "<tr><td>2020</td><td>549300RBX56T2MW5HO19</td><td>19740</td><td>CO</td><td>08031</td><td>08031008391</td><td>C</td><td>Conventional:Firs...</td><td>Single Family (1-...</td><td>Not Hispanic or L...</td><td>White</td><td>Joint</td><td>1</td><td>3</td><td>2</td><td>1</td><td>31</td><td>1</td><td>2</td><td>2</td><td>2</td><td>265000</td><td>74.28</td><td>3.0</td><td>0.231</td><td>2</td><td>120.0</td><td>NA</td><td>0.0</td><td>NULL</td><td>NA</td><td>360</td><td>NA</td><td>NA</td><td>2</td><td>2</td><td>2</td><td>2</td><td>355000</td><td>1</td><td>1</td><td>3</td><td>5</td><td>1</td><td>NA</td><td>57</td><td>39</td><td>5</td><td>1</td><td>2</td><td>NULL</td><td>NULL</td><td>NULL</td><td>NULL</td><td>2</td><td>NULL</td><td>NULL</td><td>NULL</td><td>NULL</td><td>2</td><td>2</td><td>5</td><td>NULL</td><td>NULL</td><td>NULL</td><td>NULL</td><td>5</td><td>NULL</td><td>NULL</td><td>NULL</td><td>NULL</td><td>2</td><td>2</td><td>1</td><td>2</td><td>2</td><td>2</td><td>65-74</td><td>65-74</td><td>Yes</td><td>Yes</td><td>1</td><td>1</td><td>2</td><td>NULL</td><td>NULL</td><td>NULL</td><td>NULL</td><td>10</td><td>NULL</td><td>NULL</td><td>NULL</td><td>8352</td><td>80.24</td><td>100000</td><td>89.96</td><td>1769</td><td>2423</td><td>16</td></tr>\n",
       "<tr><td>2020</td><td>549300RBX56T2MW5HO19</td><td>41740</td><td>CA</td><td>06073</td><td>06073018504</td><td>C</td><td>Conventional:Firs...</td><td>Single Family (1-...</td><td>Not Hispanic or L...</td><td>White</td><td>Joint</td><td>1</td><td>1</td><td>2</td><td>1</td><td>31</td><td>1</td><td>2</td><td>2</td><td>2</td><td>485000</td><td>48.98</td><td>2.249</td><td>-0.151</td><td>2</td><td>1862.4</td><td>NA</td><td>1862.4</td><td>NULL</td><td>1862.4</td><td>180</td><td>NA</td><td>NA</td><td>2</td><td>2</td><td>2</td><td>2</td><td>995000</td><td>1</td><td>1</td><td>3</td><td>5</td><td>1</td><td>NA</td><td>171</td><td>44</td><td>1</td><td>1</td><td>2</td><td>NULL</td><td>NULL</td><td>NULL</td><td>NULL</td><td>2</td><td>NULL</td><td>NULL</td><td>NULL</td><td>NULL</td><td>2</td><td>2</td><td>5</td><td>NULL</td><td>NULL</td><td>NULL</td><td>NULL</td><td>5</td><td>NULL</td><td>NULL</td><td>NULL</td><td>NULL</td><td>2</td><td>2</td><td>1</td><td>2</td><td>2</td><td>2</td><td>55-64</td><td>55-64</td><td>No</td><td>No</td><td>1</td><td>1</td><td>1</td><td>NULL</td><td>NULL</td><td>NULL</td><td>NULL</td><td>10</td><td>NULL</td><td>NULL</td><td>NULL</td><td>6972</td><td>40.72</td><td>92700</td><td>91.47</td><td>1399</td><td>2302</td><td>38</td></tr>\n",
       "<tr><td>2020</td><td>549300RBX56T2MW5HO19</td><td>24540</td><td>CO</td><td>08123</td><td>08123002102</td><td>C</td><td>Conventional:Firs...</td><td>Single Family (1-...</td><td>Not Hispanic or L...</td><td>White</td><td>Joint</td><td>1</td><td>3</td><td>2</td><td>1</td><td>31</td><td>1</td><td>2</td><td>2</td><td>2</td><td>345000</td><td>95.0</td><td>2.875</td><td>0.395</td><td>2</td><td>745.0</td><td>NA</td><td>625.0</td><td>NULL</td><td>625.0</td><td>360</td><td>NA</td><td>NA</td><td>2</td><td>2</td><td>2</td><td>2</td><td>365000</td><td>1</td><td>1</td><td>3</td><td>5</td><td>1</td><td>NA</td><td>157</td><td>20%-&lt;30%</td><td>5</td><td>5</td><td>2</td><td>NULL</td><td>NULL</td><td>NULL</td><td>NULL</td><td>2</td><td>NULL</td><td>NULL</td><td>NULL</td><td>NULL</td><td>2</td><td>2</td><td>5</td><td>NULL</td><td>NULL</td><td>NULL</td><td>NULL</td><td>5</td><td>NULL</td><td>NULL</td><td>NULL</td><td>NULL</td><td>2</td><td>2</td><td>1</td><td>2</td><td>2</td><td>2</td><td>25-34</td><td>25-34</td><td>No</td><td>No</td><td>1</td><td>1</td><td>2</td><td>NULL</td><td>NULL</td><td>NULL</td><td>NULL</td><td>10</td><td>NULL</td><td>NULL</td><td>NULL</td><td>12241</td><td>16.27</td><td>84300</td><td>121.98</td><td>3708</td><td>4169</td><td>13</td></tr>\n",
       "<tr><td>2020</td><td>549300RBX56T2MW5HO19</td><td>16984</td><td>IL</td><td>17043</td><td>17043846202</td><td>C</td><td>Conventional:Firs...</td><td>Single Family (1-...</td><td>Not Hispanic or L...</td><td>White</td><td>Joint</td><td>1</td><td>1</td><td>2</td><td>1</td><td>32</td><td>1</td><td>2</td><td>2</td><td>2</td><td>475000</td><td>74.48</td><td>3.0</td><td>0.237</td><td>2</td><td>520.0</td><td>NA</td><td>400.0</td><td>NULL</td><td>400.0</td><td>360</td><td>NA</td><td>NA</td><td>2</td><td>2</td><td>2</td><td>2</td><td>635000</td><td>1</td><td>1</td><td>3</td><td>5</td><td>1</td><td>NA</td><td>285</td><td>20%-&lt;30%</td><td>1</td><td>1</td><td>2</td><td>NULL</td><td>NULL</td><td>NULL</td><td>NULL</td><td>2</td><td>NULL</td><td>NULL</td><td>NULL</td><td>NULL</td><td>2</td><td>2</td><td>5</td><td>NULL</td><td>NULL</td><td>NULL</td><td>NULL</td><td>5</td><td>NULL</td><td>NULL</td><td>NULL</td><td>NULL</td><td>2</td><td>2</td><td>1</td><td>2</td><td>2</td><td>2</td><td>35-44</td><td>35-44</td><td>No</td><td>No</td><td>1</td><td>1</td><td>1</td><td>NULL</td><td>NULL</td><td>NULL</td><td>NULL</td><td>10</td><td>NULL</td><td>NULL</td><td>NULL</td><td>5965</td><td>34.64</td><td>84800</td><td>139.42</td><td>1372</td><td>1363</td><td>33</td></tr>\n",
       "<tr><td>2020</td><td>549300RBX56T2MW5HO19</td><td>38900</td><td>OR</td><td>41051</td><td>41051004001</td><td>C</td><td>Conventional:Firs...</td><td>Single Family (1-...</td><td>Not Hispanic or L...</td><td>White</td><td>Joint</td><td>1</td><td>3</td><td>2</td><td>1</td><td>31</td><td>1</td><td>2</td><td>2</td><td>2</td><td>365000</td><td>78.91</td><td>2.875</td><td>0.081</td><td>2</td><td>7300.0</td><td>NA</td><td>7260.0</td><td>NULL</td><td>7260.0</td><td>360</td><td>NA</td><td>NA</td><td>2</td><td>2</td><td>2</td><td>2</td><td>465000</td><td>1</td><td>1</td><td>3</td><td>5</td><td>1</td><td>NA</td><td>136</td><td>20%-&lt;30%</td><td>5</td><td>1</td><td>2</td><td>NULL</td><td>NULL</td><td>NULL</td><td>NULL</td><td>2</td><td>NULL</td><td>NULL</td><td>NULL</td><td>NULL</td><td>2</td><td>2</td><td>5</td><td>NULL</td><td>NULL</td><td>NULL</td><td>NULL</td><td>5</td><td>NULL</td><td>NULL</td><td>NULL</td><td>NULL</td><td>2</td><td>2</td><td>2</td><td>1</td><td>2</td><td>2</td><td>25-34</td><td>25-34</td><td>No</td><td>No</td><td>2</td><td>1</td><td>2</td><td>NULL</td><td>NULL</td><td>NULL</td><td>NULL</td><td>10</td><td>NULL</td><td>NULL</td><td>NULL</td><td>8486</td><td>54.63</td><td>92100</td><td>55.64</td><td>1070</td><td>2164</td><td>40</td></tr>\n",
       "<tr><td>2020</td><td>549300RBX56T2MW5HO19</td><td>23224</td><td>MD</td><td>24031</td><td>24031700706</td><td>C</td><td>Conventional:Firs...</td><td>Single Family (1-...</td><td>Ethnicity Not Ava...</td><td>Race Not Available</td><td>Sex Not Available</td><td>5</td><td>0</td><td>2</td><td>1</td><td>31</td><td>1</td><td>2</td><td>2</td><td>2</td><td>455000</td><td>NA</td><td>NA</td><td>NA</td><td>3</td><td>NA</td><td>NA</td><td>NA</td><td>NA</td><td>NA</td><td>360</td><td>NA</td><td>NA</td><td>2</td><td>2</td><td>2</td><td>2</td><td>NA</td><td>1</td><td>1</td><td>3</td><td>5</td><td>1</td><td>NA</td><td>75</td><td>NA</td><td>9</td><td>9</td><td>3</td><td>NULL</td><td>NULL</td><td>NULL</td><td>NULL</td><td>3</td><td>NULL</td><td>NULL</td><td>NULL</td><td>NULL</td><td>2</td><td>2</td><td>6</td><td>NULL</td><td>NULL</td><td>NULL</td><td>NULL</td><td>6</td><td>NULL</td><td>NULL</td><td>NULL</td><td>NULL</td><td>2</td><td>2</td><td>3</td><td>3</td><td>2</td><td>2</td><td>45-54</td><td>55-64</td><td>No</td><td>No</td><td>1</td><td>1</td><td>1</td><td>NULL</td><td>NULL</td><td>NULL</td><td>NULL</td><td>10</td><td>NULL</td><td>NULL</td><td>NULL</td><td>4154</td><td>70.58</td><td>124400</td><td>70.37</td><td>623</td><td>719</td><td>36</td></tr>\n",
       "<tr><td>2020</td><td>549300RBX56T2MW5HO19</td><td>19740</td><td>CO</td><td>08031</td><td>08031012014</td><td>C</td><td>Conventional:Firs...</td><td>Single Family (1-...</td><td>Ethnicity Not Ava...</td><td>Race Not Available</td><td>Joint</td><td>1</td><td>1</td><td>2</td><td>1</td><td>31</td><td>1</td><td>2</td><td>2</td><td>2</td><td>275000</td><td>90.0</td><td>3.125</td><td>0.512</td><td>2</td><td>856.0</td><td>NA</td><td>0.0</td><td>NULL</td><td>NA</td><td>360</td><td>NA</td><td>NA</td><td>2</td><td>2</td><td>2</td><td>2</td><td>305000</td><td>1</td><td>1</td><td>3</td><td>5</td><td>1</td><td>NA</td><td>91</td><td>30%-&lt;36%</td><td>2</td><td>2</td><td>3</td><td>NULL</td><td>NULL</td><td>NULL</td><td>NULL</td><td>3</td><td>NULL</td><td>NULL</td><td>NULL</td><td>NULL</td><td>2</td><td>2</td><td>6</td><td>NULL</td><td>NULL</td><td>NULL</td><td>NULL</td><td>6</td><td>NULL</td><td>NULL</td><td>NULL</td><td>NULL</td><td>2</td><td>2</td><td>1</td><td>2</td><td>2</td><td>2</td><td>65-74</td><td>55-64</td><td>Yes</td><td>Yes</td><td>1</td><td>1</td><td>1</td><td>NULL</td><td>NULL</td><td>NULL</td><td>NULL</td><td>10</td><td>NULL</td><td>NULL</td><td>NULL</td><td>6321</td><td>31.21</td><td>100000</td><td>89.3</td><td>1671</td><td>1673</td><td>29</td></tr>\n",
       "<tr><td>2020</td><td>549300RBX56T2MW5HO19</td><td>37100</td><td>CA</td><td>06111</td><td>06111008202</td><td>C</td><td>FHA:First Lien</td><td>Single Family (1-...</td><td>Not Hispanic or L...</td><td>White</td><td>Joint</td><td>4</td><td>0</td><td>2</td><td>2</td><td>31</td><td>1</td><td>1</td><td>2</td><td>2</td><td>395000</td><td>NA</td><td>NA</td><td>NA</td><td>3</td><td>NA</td><td>NA</td><td>NA</td><td>NA</td><td>NA</td><td>NA</td><td>NA</td><td>NA</td><td>2</td><td>2</td><td>2</td><td>2</td><td>NA</td><td>1</td><td>1</td><td>3</td><td>5</td><td>1</td><td>NA</td><td>NA</td><td>NA</td><td>9</td><td>9</td><td>2</td><td>NULL</td><td>NULL</td><td>NULL</td><td>NULL</td><td>2</td><td>NULL</td><td>NULL</td><td>NULL</td><td>NULL</td><td>2</td><td>2</td><td>5</td><td>NULL</td><td>NULL</td><td>NULL</td><td>NULL</td><td>5</td><td>NULL</td><td>NULL</td><td>NULL</td><td>NULL</td><td>2</td><td>2</td><td>1</td><td>2</td><td>2</td><td>2</td><td>65-74</td><td>65-74</td><td>Yes</td><td>Yes</td><td>1</td><td>1</td><td>6</td><td>NULL</td><td>NULL</td><td>NULL</td><td>NULL</td><td>10</td><td>NULL</td><td>NULL</td><td>NULL</td><td>4762</td><td>43.55</td><td>97800</td><td>88.04</td><td>1147</td><td>1444</td><td>42</td></tr>\n",
       "<tr><td>2020</td><td>549300RBX56T2MW5HO19</td><td>19124</td><td>TX</td><td>48121</td><td>48121021405</td><td>C</td><td>Conventional:Firs...</td><td>Single Family (1-...</td><td>Ethnicity Not Ava...</td><td>Race Not Available</td><td>Joint</td><td>1</td><td>1</td><td>2</td><td>1</td><td>1</td><td>1</td><td>2</td><td>2</td><td>2</td><td>255000</td><td>80.0</td><td>2.875</td><td>0.058</td><td>2</td><td>120.0</td><td>NA</td><td>0.0</td><td>NULL</td><td>NA</td><td>360</td><td>NA</td><td>NA</td><td>2</td><td>2</td><td>2</td><td>2</td><td>315000</td><td>1</td><td>1</td><td>3</td><td>5</td><td>1</td><td>NA</td><td>172</td><td>20%-&lt;30%</td><td>1</td><td>5</td><td>3</td><td>NULL</td><td>NULL</td><td>NULL</td><td>NULL</td><td>2</td><td>NULL</td><td>NULL</td><td>NULL</td><td>NULL</td><td>2</td><td>2</td><td>6</td><td>NULL</td><td>NULL</td><td>NULL</td><td>NULL</td><td>5</td><td>NULL</td><td>NULL</td><td>NULL</td><td>NULL</td><td>2</td><td>2</td><td>1</td><td>2</td><td>2</td><td>2</td><td>25-34</td><td>25-34</td><td>No</td><td>No</td><td>1</td><td>1</td><td>1</td><td>NULL</td><td>NULL</td><td>NULL</td><td>NULL</td><td>10</td><td>NULL</td><td>NULL</td><td>NULL</td><td>9821</td><td>41.82</td><td>86200</td><td>114.01</td><td>1924</td><td>2957</td><td>12</td></tr>\n",
       "<tr><td>2020</td><td>549300RBX56T2MW5HO19</td><td>41940</td><td>CA</td><td>06085</td><td>06085512033</td><td>C</td><td>Conventional:Firs...</td><td>Single Family (1-...</td><td>Ethnicity Not Ava...</td><td>Race Not Available</td><td>Sex Not Available</td><td>1</td><td>1</td><td>2</td><td>1</td><td>31</td><td>1</td><td>2</td><td>2</td><td>2</td><td>495000</td><td>59.36</td><td>2.5</td><td>-0.288</td><td>2</td><td>120.0</td><td>NA</td><td>0.0</td><td>NULL</td><td>NA</td><td>360</td><td>NA</td><td>NA</td><td>2</td><td>2</td><td>2</td><td>2</td><td>845000</td><td>1</td><td>1</td><td>3</td><td>5</td><td>1</td><td>NA</td><td>170</td><td>39</td><td>5</td><td>1</td><td>3</td><td>NULL</td><td>NULL</td><td>NULL</td><td>NULL</td><td>3</td><td>NULL</td><td>NULL</td><td>NULL</td><td>NULL</td><td>2</td><td>2</td><td>6</td><td>NULL</td><td>NULL</td><td>NULL</td><td>NULL</td><td>6</td><td>NULL</td><td>NULL</td><td>NULL</td><td>NULL</td><td>2</td><td>2</td><td>3</td><td>3</td><td>2</td><td>2</td><td>55-64</td><td>45-54</td><td>No</td><td>No</td><td>1</td><td>1</td><td>1</td><td>NULL</td><td>NULL</td><td>NULL</td><td>NULL</td><td>10</td><td>NULL</td><td>NULL</td><td>NULL</td><td>6640</td><td>58.31</td><td>139800</td><td>107.44</td><td>1389</td><td>1789</td><td>40</td></tr>\n",
       "<tr><td>2020</td><td>549300RBX56T2MW5HO19</td><td>99999</td><td>WA</td><td>53075</td><td>53075000700</td><td>C</td><td>Conventional:Firs...</td><td>Single Family (1-...</td><td>Not Hispanic or L...</td><td>White</td><td>Joint</td><td>1</td><td>1</td><td>2</td><td>1</td><td>31</td><td>1</td><td>2</td><td>2</td><td>2</td><td>355000</td><td>70.0</td><td>2.75</td><td>0.006</td><td>2</td><td>8375.0</td><td>NA</td><td>8375.0</td><td>NULL</td><td>8375.0</td><td>360</td><td>NA</td><td>NA</td><td>2</td><td>2</td><td>2</td><td>2</td><td>505000</td><td>1</td><td>1</td><td>3</td><td>5</td><td>1</td><td>NA</td><td>107</td><td>20%-&lt;30%</td><td>2</td><td>5</td><td>2</td><td>NULL</td><td>NULL</td><td>NULL</td><td>NULL</td><td>2</td><td>NULL</td><td>NULL</td><td>NULL</td><td>NULL</td><td>2</td><td>2</td><td>5</td><td>NULL</td><td>NULL</td><td>NULL</td><td>NULL</td><td>5</td><td>NULL</td><td>NULL</td><td>NULL</td><td>NULL</td><td>2</td><td>2</td><td>1</td><td>2</td><td>2</td><td>2</td><td>25-34</td><td>25-34</td><td>No</td><td>No</td><td>2</td><td>1</td><td>1</td><td>NULL</td><td>NULL</td><td>NULL</td><td>NULL</td><td>10</td><td>NULL</td><td>NULL</td><td>NULL</td><td>3593</td><td>6.21</td><td>65500</td><td>106.0</td><td>1137</td><td>1705</td><td>68</td></tr>\n",
       "<tr><td>2020</td><td>549300RBX56T2MW5HO19</td><td>41884</td><td>CA</td><td>06075</td><td>06075030700</td><td>C</td><td>Conventional:Firs...</td><td>Single Family (1-...</td><td>Not Hispanic or L...</td><td>White</td><td>Joint</td><td>1</td><td>1</td><td>2</td><td>1</td><td>31</td><td>1</td><td>2</td><td>2</td><td>2</td><td>405000</td><td>28.15</td><td>2.125</td><td>-0.29</td><td>2</td><td>1606.0</td><td>NA</td><td>711.0</td><td>NULL</td><td>711.0</td><td>180</td><td>NA</td><td>NA</td><td>2</td><td>2</td><td>2</td><td>2</td><td>1435000</td><td>1</td><td>1</td><td>3</td><td>5</td><td>1</td><td>NA</td><td>215</td><td>38</td><td>5</td><td>2</td><td>2</td><td>NULL</td><td>NULL</td><td>NULL</td><td>NULL</td><td>2</td><td>NULL</td><td>NULL</td><td>NULL</td><td>NULL</td><td>2</td><td>2</td><td>5</td><td>NULL</td><td>NULL</td><td>NULL</td><td>NULL</td><td>5</td><td>NULL</td><td>NULL</td><td>NULL</td><td>NULL</td><td>2</td><td>2</td><td>1</td><td>2</td><td>2</td><td>2</td><td>55-64</td><td>45-54</td><td>No</td><td>No</td><td>1</td><td>1</td><td>1</td><td>NULL</td><td>NULL</td><td>NULL</td><td>NULL</td><td>10</td><td>NULL</td><td>NULL</td><td>NULL</td><td>6952</td><td>49.08</td><td>140900</td><td>126.75</td><td>2141</td><td>2792</td><td>63</td></tr>\n",
       "<tr><td>2020</td><td>549300RBX56T2MW5HO19</td><td>42644</td><td>WA</td><td>53033</td><td>53033005700</td><td>C</td><td>Conventional:Firs...</td><td>Single Family (1-...</td><td>Not Hispanic or L...</td><td>White</td><td>Joint</td><td>1</td><td>3</td><td>2</td><td>1</td><td>31</td><td>1</td><td>2</td><td>2</td><td>2</td><td>685000</td><td>74.83</td><td>2.875</td><td>0.049</td><td>2</td><td>801.0</td><td>NA</td><td>681.0</td><td>NULL</td><td>681.0</td><td>360</td><td>NA</td><td>NA</td><td>2</td><td>2</td><td>2</td><td>2</td><td>915000</td><td>1</td><td>1</td><td>3</td><td>5</td><td>1</td><td>NA</td><td>185</td><td>20%-&lt;30%</td><td>2</td><td>1</td><td>2</td><td>NULL</td><td>NULL</td><td>NULL</td><td>NULL</td><td>2</td><td>NULL</td><td>NULL</td><td>NULL</td><td>NULL</td><td>2</td><td>2</td><td>5</td><td>NULL</td><td>NULL</td><td>NULL</td><td>NULL</td><td>5</td><td>NULL</td><td>NULL</td><td>NULL</td><td>NULL</td><td>2</td><td>2</td><td>1</td><td>2</td><td>2</td><td>2</td><td>35-44</td><td>25-34</td><td>No</td><td>No</td><td>1</td><td>1</td><td>2</td><td>NULL</td><td>NULL</td><td>NULL</td><td>NULL</td><td>10</td><td>NULL</td><td>NULL</td><td>NULL</td><td>6633</td><td>17.04</td><td>113300</td><td>116.34</td><td>1737</td><td>2411</td><td>63</td></tr>\n",
       "<tr><td>2020</td><td>549300RBX56T2MW5HO19</td><td>20994</td><td>IL</td><td>17093</td><td>17093890400</td><td>C</td><td>Conventional:Firs...</td><td>Single Family (1-...</td><td>Not Hispanic or L...</td><td>White</td><td>Joint</td><td>1</td><td>1</td><td>2</td><td>1</td><td>32</td><td>1</td><td>2</td><td>2</td><td>2</td><td>185000</td><td>66.78</td><td>3.125</td><td>0.89</td><td>2</td><td>570.0</td><td>NA</td><td>0.0</td><td>NULL</td><td>NA</td><td>180</td><td>NA</td><td>NA</td><td>2</td><td>2</td><td>2</td><td>2</td><td>285000</td><td>1</td><td>1</td><td>3</td><td>5</td><td>1</td><td>NA</td><td>65</td><td>38</td><td>1</td><td>2</td><td>2</td><td>NULL</td><td>NULL</td><td>NULL</td><td>NULL</td><td>2</td><td>NULL</td><td>NULL</td><td>NULL</td><td>NULL</td><td>2</td><td>2</td><td>5</td><td>NULL</td><td>NULL</td><td>NULL</td><td>NULL</td><td>5</td><td>NULL</td><td>NULL</td><td>NULL</td><td>NULL</td><td>2</td><td>2</td><td>1</td><td>2</td><td>2</td><td>2</td><td>55-64</td><td>55-64</td><td>Yes</td><td>No</td><td>1</td><td>1</td><td>1</td><td>NULL</td><td>NULL</td><td>NULL</td><td>NULL</td><td>10</td><td>NULL</td><td>NULL</td><td>NULL</td><td>27626</td><td>26.05</td><td>92900</td><td>121.42</td><td>7369</td><td>8696</td><td>12</td></tr>\n",
       "</table>\n",
       "only showing top 20 rows\n"
      ],
      "text/plain": [
       "+-------------+--------------------+--------------+----------+-----------+------------+---------------------+-------------------------+-------------------------+--------------------+------------------+-----------------+------------+--------------+-----------+---------+------------+-----------+----------------+-----------------------+------------------------------+-----------+----------------------------+-------------+-----------+------------+----------------+---------------------+-------------------+---------------+--------------+---------+-----------------------+-----------------+---------------------+---------------------+---------------+----------------------------+--------------+-------------------+--------------+---------------------------------------+----------------------------------------+-----------+----------------------------+------+--------------------+---------------------------+------------------------------+---------------------+---------------------+---------------------+---------------------+---------------------+------------------------+------------------------+------------------------+------------------------+------------------------+----------------------------+-------------------------------+----------------+----------------+----------------+----------------+----------------+-------------------+-------------------+-------------------+-------------------+-------------------+-----------------------+--------------------------+-------------+----------------+----------------------+-------------------------+-------------+----------------+----------------------+-------------------------+-------------------------+--------------------------------+-----+-----+-----+-----+-----+---------------+---------------+---------------+---------------+----------------+---------------------------------+---------------------------------+------------------------------+--------------------------+------------------------------+---------------------------------+\n",
       "|activity_year|                 lei|derived_msa_md|state_code|county_code|census_tract|conforming_loan_limit|derived_loan_product_type|derived_dwelling_category|   derived_ethnicity|      derived_race|      derived_sex|action_taken|purchaser_type|preapproval|loan_type|loan_purpose|lien_status|reverse_mortgage|open_end_line_of_credit|business_or_commercial_purpose|loan_amount|combined_loan_to_value_ratio|interest_rate|rate_spread|hoepa_status|total_loan_costs|total_points_and_fees|origination_charges|discount_points|lender_credits|loan_term|prepayment_penalty_term|intro_rate_period|negative_amortization|interest_only_payment|balloon_payment|other_nonamortizing_features|property_value|construction_method|occupancy_type|manufactured_home_secured_property_type|manufactured_home_land_property_interest|total_units|multifamily_affordable_units|income|debt_to_income_ratio|applicant_credit_score_type|co_applicant_credit_score_type|applicant_ethnicity_1|applicant_ethnicity_2|applicant_ethnicity_3|applicant_ethnicity_4|applicant_ethnicity_5|co_applicant_ethnicity_1|co_applicant_ethnicity_2|co_applicant_ethnicity_3|co_applicant_ethnicity_4|co_applicant_ethnicity_5|applicant_ethnicity_observed|co_applicant_ethnicity_observed|applicant_race_1|applicant_race_2|applicant_race_3|applicant_race_4|applicant_race_5|co_applicant_race_1|co_applicant_race_2|co_applicant_race_3|co_applicant_race_4|co_applicant_race_5|applicant_race_observed|co_applicant_race_observed|applicant_sex|co_applicant_sex|applicant_sex_observed|co_applicant_sex_observed|applicant_age|co_applicant_age|applicant_age_above_62|co_applicant_age_above_62|submission_of_application|initially_payable_to_institution|aus_1|aus_2|aus_3|aus_4|aus_5|denial_reason_1|denial_reason_2|denial_reason_3|denial_reason_4|tract_population|tract_minority_population_percent|ffiec_msa_md_median_family_income|tract_to_msa_income_percentage|tract_owner_occupied_units|tract_one_to_four_family_homes|tract_median_age_of_housing_units|\n",
       "+-------------+--------------------+--------------+----------+-----------+------------+---------------------+-------------------------+-------------------------+--------------------+------------------+-----------------+------------+--------------+-----------+---------+------------+-----------+----------------+-----------------------+------------------------------+-----------+----------------------------+-------------+-----------+------------+----------------+---------------------+-------------------+---------------+--------------+---------+-----------------------+-----------------+---------------------+---------------------+---------------+----------------------------+--------------+-------------------+--------------+---------------------------------------+----------------------------------------+-----------+----------------------------+------+--------------------+---------------------------+------------------------------+---------------------+---------------------+---------------------+---------------------+---------------------+------------------------+------------------------+------------------------+------------------------+------------------------+----------------------------+-------------------------------+----------------+----------------+----------------+----------------+----------------+-------------------+-------------------+-------------------+-------------------+-------------------+-----------------------+--------------------------+-------------+----------------+----------------------+-------------------------+-------------+----------------+----------------------+-------------------------+-------------------------+--------------------------------+-----+-----+-----+-----+-----+---------------+---------------+---------------+---------------+----------------+---------------------------------+---------------------------------+------------------------------+--------------------------+------------------------------+---------------------------------+\n",
       "|         2020|549300RBX56T2MW5HO19|         29620|        MI|      26065| 26065003400|                    C|     Conventional:Firs...|     Single Family (1-...|Not Hispanic or L...|             White|            Joint|           1|             0|          2|        1|           1|          1|               2|                      2|                             2|     135000|                        97.0|        3.875|      1.273|           2|           460.0|                   NA|                0.0|           NULL|            NA|      360|                     NA|               NA|                    2|                    2|              2|                           2|        145000|                  1|             1|                                      3|                                       5|          1|                          NA|    65|            30%-<36%|                          2|                             5|                    2|                 NULL|                 NULL|                 NULL|                 NULL|                       2|                    NULL|                    NULL|                    NULL|                    NULL|                           2|                              2|               5|            NULL|            NULL|            NULL|            NULL|                  5|               NULL|               NULL|               NULL|               NULL|                      2|                         2|            1|               2|                     2|                        2|        25-34|           25-34|                    No|                       No|                        1|                               1|    1| NULL| NULL| NULL| NULL|             10|           NULL|           NULL|           NULL|            2253|                            28.72|                            79300|                        109.02|                       773|                           883|                               57|\n",
       "|         2020|549300RBX56T2MW5HO19|         31084|        CA|      06037| 06037108201|                    C|     Conventional:Firs...|     Single Family (1-...|Not Hispanic or L...|             Asian|            Joint|           1|             1|          2|        1|          31|          1|               2|                      2|                             2|     315000|                       36.82|        2.124|     -0.256|           2|          316.13|                   NA|             316.13|           NULL|        316.13|      180|                     NA|               NA|                    2|                    2|              2|                           2|        855000|                  1|             1|                                      3|                                       5|          1|                          NA|   135|            20%-<30%|                          5|                             1|                    2|                 NULL|                 NULL|                 NULL|                 NULL|                       2|                    NULL|                    NULL|                    NULL|                    NULL|                           2|                              2|               2|              25|            NULL|            NULL|            NULL|                  2|                 25|               NULL|               NULL|               NULL|                      2|                         2|            1|               2|                     2|                        2|        45-54|           45-54|                    No|                       No|                        1|                               1|    1| NULL| NULL| NULL| NULL|             10|           NULL|           NULL|           NULL|            5846|                            62.37|                            77300|                        166.05|                      1378|                          1972|                               25|\n",
       "|         2020|549300RBX56T2MW5HO19|         41100|        UT|      49053| 49053270600|                    C|           FHA:First Lien|     Single Family (1-...|Not Hispanic or L...|             White|            Joint|           1|             9|          2|        2|           1|          1|               1|                      2|                             2|     135000|                        55.1|         3.43|         NA|           3|              NA|                   NA|                 NA|             NA|            NA|       NA|                     NA|               NA|                    2|                    2|              2|                           2|        255000|                  1|             1|                                      3|                                       5|          1|                          NA|    NA|                  NA|                          9|                             9|                    2|                 NULL|                 NULL|                 NULL|                 NULL|                       2|                    NULL|                    NULL|                    NULL|                    NULL|                           2|                              2|               5|            NULL|            NULL|            NULL|            NULL|                  5|               NULL|               NULL|               NULL|               NULL|                      2|                         2|            1|               2|                     2|                        2|        65-74|           65-74|                   Yes|                      Yes|                        1|                               1|    6| NULL| NULL| NULL| NULL|             10|           NULL|           NULL|           NULL|            7739|                            15.62|                            70700|                        102.72|                      1803|                          3813|                               19|\n",
       "|         2020|549300RBX56T2MW5HO19|         19740|        CO|      08031| 08031004004|                    C|     Conventional:Firs...|     Single Family (1-...|Not Hispanic or L...|             White|            Joint|           4|             0|          2|        1|          32|          1|               2|                      2|                             2|     405000|                          NA|           NA|         NA|           3|              NA|                   NA|                 NA|             NA|            NA|      240|                     NA|               NA|                    2|                    2|              2|                           2|            NA|                  1|             1|                                      3|                                       5|          1|                          NA|   120|                  NA|                          9|                             9|                    2|                 NULL|                 NULL|                 NULL|                 NULL|                       2|                    NULL|                    NULL|                    NULL|                    NULL|                           2|                              2|               5|            NULL|            NULL|            NULL|            NULL|                  5|               NULL|               NULL|               NULL|               NULL|                      2|                         2|            1|               2|                     2|                        2|        35-44|           35-44|                    No|                       No|                        1|                               1|    6| NULL| NULL| NULL| NULL|             10|           NULL|           NULL|           NULL|            1908|                             8.54|                           100000|                         145.9|                       802|                           760|                               52|\n",
       "|         2020|549300RBX56T2MW5HO19|         17820|        CO|      08041| 08041002501|                    C|     Conventional:Firs...|     Single Family (1-...|Not Hispanic or L...|             White|           Female|           1|             1|          2|        1|           1|          1|               2|                      2|                             2|     435000|                        80.0|          2.5|      -0.39|           2|             0.0|                   NA|                0.0|           NULL|            NA|      360|                     NA|               NA|                    2|                    2|              2|                           2|        565000|                  1|             1|                                      3|                                       5|          1|                          NA|   328|            20%-<30%|                          1|                             2|                    2|                 NULL|                 NULL|                 NULL|                 NULL|                       2|                    NULL|                    NULL|                    NULL|                    NULL|                           2|                              2|               5|            NULL|            NULL|            NULL|            NULL|                  5|               NULL|               NULL|               NULL|               NULL|                      2|                         2|            2|               2|                     2|                        2|        55-64|           55-64|                    No|                       No|                        1|                               1|    1| NULL| NULL| NULL| NULL|             10|           NULL|           NULL|           NULL|            3276|                            11.14|                            81700|                        146.97|                      1163|                          1472|                               45|\n",
       "|         2020|549300RBX56T2MW5HO19|         11244|        CA|      06059| 06059042334|                    C|     Conventional:Firs...|     Single Family (1-...|Not Hispanic or L...|             Asian|            Joint|           1|             1|          2|        1|          31|          1|               2|                      2|                             2|     355000|                       41.29|        2.875|         NA|           2|           120.0|                   NA|                0.0|           NULL|            NA|      180|                     NA|               NA|                    2|                    2|              2|                           2|        855000|                  1|             3|                                      3|                                       5|          1|                          NA|   565|                <20%|                          2|                             1|                    2|                 NULL|                 NULL|                 NULL|                 NULL|                       2|                    NULL|                    NULL|                    NULL|                    NULL|                           2|                              2|               2|            NULL|            NULL|            NULL|            NULL|                  2|               NULL|               NULL|               NULL|               NULL|                      2|                         2|            1|               2|                     2|                        2|        55-64|           55-64|                    No|                       No|                        1|                               1|    1| NULL| NULL| NULL| NULL|             10|           NULL|           NULL|           NULL|            5173|                            36.61|                           103000|                        111.29|                      1440|                          1707|                               31|\n",
       "|         2020|549300RBX56T2MW5HO19|         19740|        CO|      08031| 08031008391|                    C|     Conventional:Firs...|     Single Family (1-...|Not Hispanic or L...|             White|            Joint|           1|             3|          2|        1|          31|          1|               2|                      2|                             2|     265000|                       74.28|          3.0|      0.231|           2|           120.0|                   NA|                0.0|           NULL|            NA|      360|                     NA|               NA|                    2|                    2|              2|                           2|        355000|                  1|             1|                                      3|                                       5|          1|                          NA|    57|                  39|                          5|                             1|                    2|                 NULL|                 NULL|                 NULL|                 NULL|                       2|                    NULL|                    NULL|                    NULL|                    NULL|                           2|                              2|               5|            NULL|            NULL|            NULL|            NULL|                  5|               NULL|               NULL|               NULL|               NULL|                      2|                         2|            1|               2|                     2|                        2|        65-74|           65-74|                   Yes|                      Yes|                        1|                               1|    2| NULL| NULL| NULL| NULL|             10|           NULL|           NULL|           NULL|            8352|                            80.24|                           100000|                         89.96|                      1769|                          2423|                               16|\n",
       "|         2020|549300RBX56T2MW5HO19|         41740|        CA|      06073| 06073018504|                    C|     Conventional:Firs...|     Single Family (1-...|Not Hispanic or L...|             White|            Joint|           1|             1|          2|        1|          31|          1|               2|                      2|                             2|     485000|                       48.98|        2.249|     -0.151|           2|          1862.4|                   NA|             1862.4|           NULL|        1862.4|      180|                     NA|               NA|                    2|                    2|              2|                           2|        995000|                  1|             1|                                      3|                                       5|          1|                          NA|   171|                  44|                          1|                             1|                    2|                 NULL|                 NULL|                 NULL|                 NULL|                       2|                    NULL|                    NULL|                    NULL|                    NULL|                           2|                              2|               5|            NULL|            NULL|            NULL|            NULL|                  5|               NULL|               NULL|               NULL|               NULL|                      2|                         2|            1|               2|                     2|                        2|        55-64|           55-64|                    No|                       No|                        1|                               1|    1| NULL| NULL| NULL| NULL|             10|           NULL|           NULL|           NULL|            6972|                            40.72|                            92700|                         91.47|                      1399|                          2302|                               38|\n",
       "|         2020|549300RBX56T2MW5HO19|         24540|        CO|      08123| 08123002102|                    C|     Conventional:Firs...|     Single Family (1-...|Not Hispanic or L...|             White|            Joint|           1|             3|          2|        1|          31|          1|               2|                      2|                             2|     345000|                        95.0|        2.875|      0.395|           2|           745.0|                   NA|              625.0|           NULL|         625.0|      360|                     NA|               NA|                    2|                    2|              2|                           2|        365000|                  1|             1|                                      3|                                       5|          1|                          NA|   157|            20%-<30%|                          5|                             5|                    2|                 NULL|                 NULL|                 NULL|                 NULL|                       2|                    NULL|                    NULL|                    NULL|                    NULL|                           2|                              2|               5|            NULL|            NULL|            NULL|            NULL|                  5|               NULL|               NULL|               NULL|               NULL|                      2|                         2|            1|               2|                     2|                        2|        25-34|           25-34|                    No|                       No|                        1|                               1|    2| NULL| NULL| NULL| NULL|             10|           NULL|           NULL|           NULL|           12241|                            16.27|                            84300|                        121.98|                      3708|                          4169|                               13|\n",
       "|         2020|549300RBX56T2MW5HO19|         16984|        IL|      17043| 17043846202|                    C|     Conventional:Firs...|     Single Family (1-...|Not Hispanic or L...|             White|            Joint|           1|             1|          2|        1|          32|          1|               2|                      2|                             2|     475000|                       74.48|          3.0|      0.237|           2|           520.0|                   NA|              400.0|           NULL|         400.0|      360|                     NA|               NA|                    2|                    2|              2|                           2|        635000|                  1|             1|                                      3|                                       5|          1|                          NA|   285|            20%-<30%|                          1|                             1|                    2|                 NULL|                 NULL|                 NULL|                 NULL|                       2|                    NULL|                    NULL|                    NULL|                    NULL|                           2|                              2|               5|            NULL|            NULL|            NULL|            NULL|                  5|               NULL|               NULL|               NULL|               NULL|                      2|                         2|            1|               2|                     2|                        2|        35-44|           35-44|                    No|                       No|                        1|                               1|    1| NULL| NULL| NULL| NULL|             10|           NULL|           NULL|           NULL|            5965|                            34.64|                            84800|                        139.42|                      1372|                          1363|                               33|\n",
       "|         2020|549300RBX56T2MW5HO19|         38900|        OR|      41051| 41051004001|                    C|     Conventional:Firs...|     Single Family (1-...|Not Hispanic or L...|             White|            Joint|           1|             3|          2|        1|          31|          1|               2|                      2|                             2|     365000|                       78.91|        2.875|      0.081|           2|          7300.0|                   NA|             7260.0|           NULL|        7260.0|      360|                     NA|               NA|                    2|                    2|              2|                           2|        465000|                  1|             1|                                      3|                                       5|          1|                          NA|   136|            20%-<30%|                          5|                             1|                    2|                 NULL|                 NULL|                 NULL|                 NULL|                       2|                    NULL|                    NULL|                    NULL|                    NULL|                           2|                              2|               5|            NULL|            NULL|            NULL|            NULL|                  5|               NULL|               NULL|               NULL|               NULL|                      2|                         2|            2|               1|                     2|                        2|        25-34|           25-34|                    No|                       No|                        2|                               1|    2| NULL| NULL| NULL| NULL|             10|           NULL|           NULL|           NULL|            8486|                            54.63|                            92100|                         55.64|                      1070|                          2164|                               40|\n",
       "|         2020|549300RBX56T2MW5HO19|         23224|        MD|      24031| 24031700706|                    C|     Conventional:Firs...|     Single Family (1-...|Ethnicity Not Ava...|Race Not Available|Sex Not Available|           5|             0|          2|        1|          31|          1|               2|                      2|                             2|     455000|                          NA|           NA|         NA|           3|              NA|                   NA|                 NA|             NA|            NA|      360|                     NA|               NA|                    2|                    2|              2|                           2|            NA|                  1|             1|                                      3|                                       5|          1|                          NA|    75|                  NA|                          9|                             9|                    3|                 NULL|                 NULL|                 NULL|                 NULL|                       3|                    NULL|                    NULL|                    NULL|                    NULL|                           2|                              2|               6|            NULL|            NULL|            NULL|            NULL|                  6|               NULL|               NULL|               NULL|               NULL|                      2|                         2|            3|               3|                     2|                        2|        45-54|           55-64|                    No|                       No|                        1|                               1|    1| NULL| NULL| NULL| NULL|             10|           NULL|           NULL|           NULL|            4154|                            70.58|                           124400|                         70.37|                       623|                           719|                               36|\n",
       "|         2020|549300RBX56T2MW5HO19|         19740|        CO|      08031| 08031012014|                    C|     Conventional:Firs...|     Single Family (1-...|Ethnicity Not Ava...|Race Not Available|            Joint|           1|             1|          2|        1|          31|          1|               2|                      2|                             2|     275000|                        90.0|        3.125|      0.512|           2|           856.0|                   NA|                0.0|           NULL|            NA|      360|                     NA|               NA|                    2|                    2|              2|                           2|        305000|                  1|             1|                                      3|                                       5|          1|                          NA|    91|            30%-<36%|                          2|                             2|                    3|                 NULL|                 NULL|                 NULL|                 NULL|                       3|                    NULL|                    NULL|                    NULL|                    NULL|                           2|                              2|               6|            NULL|            NULL|            NULL|            NULL|                  6|               NULL|               NULL|               NULL|               NULL|                      2|                         2|            1|               2|                     2|                        2|        65-74|           55-64|                   Yes|                      Yes|                        1|                               1|    1| NULL| NULL| NULL| NULL|             10|           NULL|           NULL|           NULL|            6321|                            31.21|                           100000|                          89.3|                      1671|                          1673|                               29|\n",
       "|         2020|549300RBX56T2MW5HO19|         37100|        CA|      06111| 06111008202|                    C|           FHA:First Lien|     Single Family (1-...|Not Hispanic or L...|             White|            Joint|           4|             0|          2|        2|          31|          1|               1|                      2|                             2|     395000|                          NA|           NA|         NA|           3|              NA|                   NA|                 NA|             NA|            NA|       NA|                     NA|               NA|                    2|                    2|              2|                           2|            NA|                  1|             1|                                      3|                                       5|          1|                          NA|    NA|                  NA|                          9|                             9|                    2|                 NULL|                 NULL|                 NULL|                 NULL|                       2|                    NULL|                    NULL|                    NULL|                    NULL|                           2|                              2|               5|            NULL|            NULL|            NULL|            NULL|                  5|               NULL|               NULL|               NULL|               NULL|                      2|                         2|            1|               2|                     2|                        2|        65-74|           65-74|                   Yes|                      Yes|                        1|                               1|    6| NULL| NULL| NULL| NULL|             10|           NULL|           NULL|           NULL|            4762|                            43.55|                            97800|                         88.04|                      1147|                          1444|                               42|\n",
       "|         2020|549300RBX56T2MW5HO19|         19124|        TX|      48121| 48121021405|                    C|     Conventional:Firs...|     Single Family (1-...|Ethnicity Not Ava...|Race Not Available|            Joint|           1|             1|          2|        1|           1|          1|               2|                      2|                             2|     255000|                        80.0|        2.875|      0.058|           2|           120.0|                   NA|                0.0|           NULL|            NA|      360|                     NA|               NA|                    2|                    2|              2|                           2|        315000|                  1|             1|                                      3|                                       5|          1|                          NA|   172|            20%-<30%|                          1|                             5|                    3|                 NULL|                 NULL|                 NULL|                 NULL|                       2|                    NULL|                    NULL|                    NULL|                    NULL|                           2|                              2|               6|            NULL|            NULL|            NULL|            NULL|                  5|               NULL|               NULL|               NULL|               NULL|                      2|                         2|            1|               2|                     2|                        2|        25-34|           25-34|                    No|                       No|                        1|                               1|    1| NULL| NULL| NULL| NULL|             10|           NULL|           NULL|           NULL|            9821|                            41.82|                            86200|                        114.01|                      1924|                          2957|                               12|\n",
       "|         2020|549300RBX56T2MW5HO19|         41940|        CA|      06085| 06085512033|                    C|     Conventional:Firs...|     Single Family (1-...|Ethnicity Not Ava...|Race Not Available|Sex Not Available|           1|             1|          2|        1|          31|          1|               2|                      2|                             2|     495000|                       59.36|          2.5|     -0.288|           2|           120.0|                   NA|                0.0|           NULL|            NA|      360|                     NA|               NA|                    2|                    2|              2|                           2|        845000|                  1|             1|                                      3|                                       5|          1|                          NA|   170|                  39|                          5|                             1|                    3|                 NULL|                 NULL|                 NULL|                 NULL|                       3|                    NULL|                    NULL|                    NULL|                    NULL|                           2|                              2|               6|            NULL|            NULL|            NULL|            NULL|                  6|               NULL|               NULL|               NULL|               NULL|                      2|                         2|            3|               3|                     2|                        2|        55-64|           45-54|                    No|                       No|                        1|                               1|    1| NULL| NULL| NULL| NULL|             10|           NULL|           NULL|           NULL|            6640|                            58.31|                           139800|                        107.44|                      1389|                          1789|                               40|\n",
       "|         2020|549300RBX56T2MW5HO19|         99999|        WA|      53075| 53075000700|                    C|     Conventional:Firs...|     Single Family (1-...|Not Hispanic or L...|             White|            Joint|           1|             1|          2|        1|          31|          1|               2|                      2|                             2|     355000|                        70.0|         2.75|      0.006|           2|          8375.0|                   NA|             8375.0|           NULL|        8375.0|      360|                     NA|               NA|                    2|                    2|              2|                           2|        505000|                  1|             1|                                      3|                                       5|          1|                          NA|   107|            20%-<30%|                          2|                             5|                    2|                 NULL|                 NULL|                 NULL|                 NULL|                       2|                    NULL|                    NULL|                    NULL|                    NULL|                           2|                              2|               5|            NULL|            NULL|            NULL|            NULL|                  5|               NULL|               NULL|               NULL|               NULL|                      2|                         2|            1|               2|                     2|                        2|        25-34|           25-34|                    No|                       No|                        2|                               1|    1| NULL| NULL| NULL| NULL|             10|           NULL|           NULL|           NULL|            3593|                             6.21|                            65500|                         106.0|                      1137|                          1705|                               68|\n",
       "|         2020|549300RBX56T2MW5HO19|         41884|        CA|      06075| 06075030700|                    C|     Conventional:Firs...|     Single Family (1-...|Not Hispanic or L...|             White|            Joint|           1|             1|          2|        1|          31|          1|               2|                      2|                             2|     405000|                       28.15|        2.125|      -0.29|           2|          1606.0|                   NA|              711.0|           NULL|         711.0|      180|                     NA|               NA|                    2|                    2|              2|                           2|       1435000|                  1|             1|                                      3|                                       5|          1|                          NA|   215|                  38|                          5|                             2|                    2|                 NULL|                 NULL|                 NULL|                 NULL|                       2|                    NULL|                    NULL|                    NULL|                    NULL|                           2|                              2|               5|            NULL|            NULL|            NULL|            NULL|                  5|               NULL|               NULL|               NULL|               NULL|                      2|                         2|            1|               2|                     2|                        2|        55-64|           45-54|                    No|                       No|                        1|                               1|    1| NULL| NULL| NULL| NULL|             10|           NULL|           NULL|           NULL|            6952|                            49.08|                           140900|                        126.75|                      2141|                          2792|                               63|\n",
       "|         2020|549300RBX56T2MW5HO19|         42644|        WA|      53033| 53033005700|                    C|     Conventional:Firs...|     Single Family (1-...|Not Hispanic or L...|             White|            Joint|           1|             3|          2|        1|          31|          1|               2|                      2|                             2|     685000|                       74.83|        2.875|      0.049|           2|           801.0|                   NA|              681.0|           NULL|         681.0|      360|                     NA|               NA|                    2|                    2|              2|                           2|        915000|                  1|             1|                                      3|                                       5|          1|                          NA|   185|            20%-<30%|                          2|                             1|                    2|                 NULL|                 NULL|                 NULL|                 NULL|                       2|                    NULL|                    NULL|                    NULL|                    NULL|                           2|                              2|               5|            NULL|            NULL|            NULL|            NULL|                  5|               NULL|               NULL|               NULL|               NULL|                      2|                         2|            1|               2|                     2|                        2|        35-44|           25-34|                    No|                       No|                        1|                               1|    2| NULL| NULL| NULL| NULL|             10|           NULL|           NULL|           NULL|            6633|                            17.04|                           113300|                        116.34|                      1737|                          2411|                               63|\n",
       "|         2020|549300RBX56T2MW5HO19|         20994|        IL|      17093| 17093890400|                    C|     Conventional:Firs...|     Single Family (1-...|Not Hispanic or L...|             White|            Joint|           1|             1|          2|        1|          32|          1|               2|                      2|                             2|     185000|                       66.78|        3.125|       0.89|           2|           570.0|                   NA|                0.0|           NULL|            NA|      180|                     NA|               NA|                    2|                    2|              2|                           2|        285000|                  1|             1|                                      3|                                       5|          1|                          NA|    65|                  38|                          1|                             2|                    2|                 NULL|                 NULL|                 NULL|                 NULL|                       2|                    NULL|                    NULL|                    NULL|                    NULL|                           2|                              2|               5|            NULL|            NULL|            NULL|            NULL|                  5|               NULL|               NULL|               NULL|               NULL|                      2|                         2|            1|               2|                     2|                        2|        55-64|           55-64|                   Yes|                       No|                        1|                               1|    1| NULL| NULL| NULL| NULL|             10|           NULL|           NULL|           NULL|           27626|                            26.05|                            92900|                        121.42|                      7369|                          8696|                               12|\n",
       "+-------------+--------------------+--------------+----------+-----------+------------+---------------------+-------------------------+-------------------------+--------------------+------------------+-----------------+------------+--------------+-----------+---------+------------+-----------+----------------+-----------------------+------------------------------+-----------+----------------------------+-------------+-----------+------------+----------------+---------------------+-------------------+---------------+--------------+---------+-----------------------+-----------------+---------------------+---------------------+---------------+----------------------------+--------------+-------------------+--------------+---------------------------------------+----------------------------------------+-----------+----------------------------+------+--------------------+---------------------------+------------------------------+---------------------+---------------------+---------------------+---------------------+---------------------+------------------------+------------------------+------------------------+------------------------+------------------------+----------------------------+-------------------------------+----------------+----------------+----------------+----------------+----------------+-------------------+-------------------+-------------------+-------------------+-------------------+-----------------------+--------------------------+-------------+----------------+----------------------+-------------------------+-------------+----------------+----------------------+-------------------------+-------------------------+--------------------------------+-----+-----+-----+-----+-----+---------------+---------------+---------------+---------------+----------------+---------------------------------+---------------------------------+------------------------------+--------------------------+------------------------------+---------------------------------+\n",
       "only showing top 20 rows"
      ]
     },
     "execution_count": 7,
     "metadata": {},
     "output_type": "execute_result"
    }
   ],
   "source": [
    "df"
   ]
  },
  {
   "cell_type": "code",
   "execution_count": 8,
   "id": "c2787319-a25c-436c-bf30-964efdb1e6d0",
   "metadata": {},
   "outputs": [
    {
     "data": {
      "text/html": [
       "<table border='1'>\n",
       "<tr><th>loan_type</th><th>loan_purpose</th><th>loan_amount</th><th>interest_rate</th><th>loan_term</th><th>action_taken</th></tr>\n",
       "<tr><td>1</td><td>1</td><td>135000</td><td>3.875</td><td>360</td><td>1</td></tr>\n",
       "<tr><td>1</td><td>31</td><td>315000</td><td>2.124</td><td>180</td><td>1</td></tr>\n",
       "<tr><td>2</td><td>1</td><td>135000</td><td>3.43</td><td>NA</td><td>1</td></tr>\n",
       "<tr><td>1</td><td>32</td><td>405000</td><td>NA</td><td>240</td><td>4</td></tr>\n",
       "<tr><td>1</td><td>1</td><td>435000</td><td>2.5</td><td>360</td><td>1</td></tr>\n",
       "<tr><td>1</td><td>31</td><td>355000</td><td>2.875</td><td>180</td><td>1</td></tr>\n",
       "<tr><td>1</td><td>31</td><td>265000</td><td>3.0</td><td>360</td><td>1</td></tr>\n",
       "<tr><td>1</td><td>31</td><td>485000</td><td>2.249</td><td>180</td><td>1</td></tr>\n",
       "<tr><td>1</td><td>31</td><td>345000</td><td>2.875</td><td>360</td><td>1</td></tr>\n",
       "<tr><td>1</td><td>32</td><td>475000</td><td>3.0</td><td>360</td><td>1</td></tr>\n",
       "<tr><td>1</td><td>31</td><td>365000</td><td>2.875</td><td>360</td><td>1</td></tr>\n",
       "<tr><td>1</td><td>31</td><td>455000</td><td>NA</td><td>360</td><td>5</td></tr>\n",
       "<tr><td>1</td><td>31</td><td>275000</td><td>3.125</td><td>360</td><td>1</td></tr>\n",
       "<tr><td>2</td><td>31</td><td>395000</td><td>NA</td><td>NA</td><td>4</td></tr>\n",
       "<tr><td>1</td><td>1</td><td>255000</td><td>2.875</td><td>360</td><td>1</td></tr>\n",
       "<tr><td>1</td><td>31</td><td>495000</td><td>2.5</td><td>360</td><td>1</td></tr>\n",
       "<tr><td>1</td><td>31</td><td>355000</td><td>2.75</td><td>360</td><td>1</td></tr>\n",
       "<tr><td>1</td><td>31</td><td>405000</td><td>2.125</td><td>180</td><td>1</td></tr>\n",
       "<tr><td>1</td><td>31</td><td>685000</td><td>2.875</td><td>360</td><td>1</td></tr>\n",
       "<tr><td>1</td><td>32</td><td>185000</td><td>3.125</td><td>180</td><td>1</td></tr>\n",
       "</table>\n",
       "only showing top 20 rows\n"
      ],
      "text/plain": [
       "+---------+------------+-----------+-------------+---------+------------+\n",
       "|loan_type|loan_purpose|loan_amount|interest_rate|loan_term|action_taken|\n",
       "+---------+------------+-----------+-------------+---------+------------+\n",
       "|        1|           1|     135000|        3.875|      360|           1|\n",
       "|        1|          31|     315000|        2.124|      180|           1|\n",
       "|        2|           1|     135000|         3.43|       NA|           1|\n",
       "|        1|          32|     405000|           NA|      240|           4|\n",
       "|        1|           1|     435000|          2.5|      360|           1|\n",
       "|        1|          31|     355000|        2.875|      180|           1|\n",
       "|        1|          31|     265000|          3.0|      360|           1|\n",
       "|        1|          31|     485000|        2.249|      180|           1|\n",
       "|        1|          31|     345000|        2.875|      360|           1|\n",
       "|        1|          32|     475000|          3.0|      360|           1|\n",
       "|        1|          31|     365000|        2.875|      360|           1|\n",
       "|        1|          31|     455000|           NA|      360|           5|\n",
       "|        1|          31|     275000|        3.125|      360|           1|\n",
       "|        2|          31|     395000|           NA|       NA|           4|\n",
       "|        1|           1|     255000|        2.875|      360|           1|\n",
       "|        1|          31|     495000|          2.5|      360|           1|\n",
       "|        1|          31|     355000|         2.75|      360|           1|\n",
       "|        1|          31|     405000|        2.125|      180|           1|\n",
       "|        1|          31|     685000|        2.875|      360|           1|\n",
       "|        1|          32|     185000|        3.125|      180|           1|\n",
       "+---------+------------+-----------+-------------+---------+------------+\n",
       "only showing top 20 rows"
      ]
     },
     "execution_count": 8,
     "metadata": {},
     "output_type": "execute_result"
    }
   ],
   "source": [
    "loan_details_df = df.select(\"loan_type\",\"loan_purpose\", \"loan_amount\", \"interest_rate\",\"loan_term\", \"action_taken\")\n",
    "loan_details_df"
   ]
  },
  {
   "cell_type": "code",
   "execution_count": 9,
   "id": "3df0733c-545e-4b57-85f3-6be9b4c75c11",
   "metadata": {},
   "outputs": [
    {
     "data": {
      "text/html": [
       "<table border='1'>\n",
       "<tr><th>income</th><th>applicant_age</th><th>applicant_sex</th><th>co_applicant_age</th><th>debt_to_income_ratio</th><th>applicant_credit_score_type</th><th>co_applicant_credit_score_type</th></tr>\n",
       "<tr><td>65</td><td>25-34</td><td>1</td><td>25-34</td><td>30%-&lt;36%</td><td>2</td><td>5</td></tr>\n",
       "<tr><td>135</td><td>45-54</td><td>1</td><td>45-54</td><td>20%-&lt;30%</td><td>5</td><td>1</td></tr>\n",
       "<tr><td>NA</td><td>65-74</td><td>1</td><td>65-74</td><td>NA</td><td>9</td><td>9</td></tr>\n",
       "<tr><td>120</td><td>35-44</td><td>1</td><td>35-44</td><td>NA</td><td>9</td><td>9</td></tr>\n",
       "<tr><td>328</td><td>55-64</td><td>2</td><td>55-64</td><td>20%-&lt;30%</td><td>1</td><td>2</td></tr>\n",
       "<tr><td>565</td><td>55-64</td><td>1</td><td>55-64</td><td>&lt;20%</td><td>2</td><td>1</td></tr>\n",
       "<tr><td>57</td><td>65-74</td><td>1</td><td>65-74</td><td>39</td><td>5</td><td>1</td></tr>\n",
       "<tr><td>171</td><td>55-64</td><td>1</td><td>55-64</td><td>44</td><td>1</td><td>1</td></tr>\n",
       "<tr><td>157</td><td>25-34</td><td>1</td><td>25-34</td><td>20%-&lt;30%</td><td>5</td><td>5</td></tr>\n",
       "<tr><td>285</td><td>35-44</td><td>1</td><td>35-44</td><td>20%-&lt;30%</td><td>1</td><td>1</td></tr>\n",
       "<tr><td>136</td><td>25-34</td><td>2</td><td>25-34</td><td>20%-&lt;30%</td><td>5</td><td>1</td></tr>\n",
       "<tr><td>75</td><td>45-54</td><td>3</td><td>55-64</td><td>NA</td><td>9</td><td>9</td></tr>\n",
       "<tr><td>91</td><td>65-74</td><td>1</td><td>55-64</td><td>30%-&lt;36%</td><td>2</td><td>2</td></tr>\n",
       "<tr><td>NA</td><td>65-74</td><td>1</td><td>65-74</td><td>NA</td><td>9</td><td>9</td></tr>\n",
       "<tr><td>172</td><td>25-34</td><td>1</td><td>25-34</td><td>20%-&lt;30%</td><td>1</td><td>5</td></tr>\n",
       "<tr><td>170</td><td>55-64</td><td>3</td><td>45-54</td><td>39</td><td>5</td><td>1</td></tr>\n",
       "<tr><td>107</td><td>25-34</td><td>1</td><td>25-34</td><td>20%-&lt;30%</td><td>2</td><td>5</td></tr>\n",
       "<tr><td>215</td><td>55-64</td><td>1</td><td>45-54</td><td>38</td><td>5</td><td>2</td></tr>\n",
       "<tr><td>185</td><td>35-44</td><td>1</td><td>25-34</td><td>20%-&lt;30%</td><td>2</td><td>1</td></tr>\n",
       "<tr><td>65</td><td>55-64</td><td>1</td><td>55-64</td><td>38</td><td>1</td><td>2</td></tr>\n",
       "</table>\n",
       "only showing top 20 rows\n"
      ],
      "text/plain": [
       "+------+-------------+-------------+----------------+--------------------+---------------------------+------------------------------+\n",
       "|income|applicant_age|applicant_sex|co_applicant_age|debt_to_income_ratio|applicant_credit_score_type|co_applicant_credit_score_type|\n",
       "+------+-------------+-------------+----------------+--------------------+---------------------------+------------------------------+\n",
       "|    65|        25-34|            1|           25-34|            30%-<36%|                          2|                             5|\n",
       "|   135|        45-54|            1|           45-54|            20%-<30%|                          5|                             1|\n",
       "|    NA|        65-74|            1|           65-74|                  NA|                          9|                             9|\n",
       "|   120|        35-44|            1|           35-44|                  NA|                          9|                             9|\n",
       "|   328|        55-64|            2|           55-64|            20%-<30%|                          1|                             2|\n",
       "|   565|        55-64|            1|           55-64|                <20%|                          2|                             1|\n",
       "|    57|        65-74|            1|           65-74|                  39|                          5|                             1|\n",
       "|   171|        55-64|            1|           55-64|                  44|                          1|                             1|\n",
       "|   157|        25-34|            1|           25-34|            20%-<30%|                          5|                             5|\n",
       "|   285|        35-44|            1|           35-44|            20%-<30%|                          1|                             1|\n",
       "|   136|        25-34|            2|           25-34|            20%-<30%|                          5|                             1|\n",
       "|    75|        45-54|            3|           55-64|                  NA|                          9|                             9|\n",
       "|    91|        65-74|            1|           55-64|            30%-<36%|                          2|                             2|\n",
       "|    NA|        65-74|            1|           65-74|                  NA|                          9|                             9|\n",
       "|   172|        25-34|            1|           25-34|            20%-<30%|                          1|                             5|\n",
       "|   170|        55-64|            3|           45-54|                  39|                          5|                             1|\n",
       "|   107|        25-34|            1|           25-34|            20%-<30%|                          2|                             5|\n",
       "|   215|        55-64|            1|           45-54|                  38|                          5|                             2|\n",
       "|   185|        35-44|            1|           25-34|            20%-<30%|                          2|                             1|\n",
       "|    65|        55-64|            1|           55-64|                  38|                          1|                             2|\n",
       "+------+-------------+-------------+----------------+--------------------+---------------------------+------------------------------+\n",
       "only showing top 20 rows"
      ]
     },
     "execution_count": 9,
     "metadata": {},
     "output_type": "execute_result"
    }
   ],
   "source": [
    "borrower_details_df = df.select(\"income\",\"applicant_age\",\"applicant_sex\",\"co_applicant_age\", \"debt_to_income_ratio\", \"applicant_credit_score_type\", \"co_applicant_credit_score_type\")\n",
    "borrower_details_df"
   ]
  },
  {
   "cell_type": "code",
   "execution_count": 10,
   "id": "c375ccae-5b80-495e-a875-522d27632445",
   "metadata": {},
   "outputs": [
    {
     "data": {
      "text/html": [
       "<table border='1'>\n",
       "<tr><th>derived_msa_md</th><th>state_code</th><th>county_code</th><th>property_value</th><th>total_units</th><th>occupancy_type</th></tr>\n",
       "<tr><td>29620</td><td>MI</td><td>26065</td><td>145000</td><td>1</td><td>1</td></tr>\n",
       "<tr><td>31084</td><td>CA</td><td>06037</td><td>855000</td><td>1</td><td>1</td></tr>\n",
       "<tr><td>41100</td><td>UT</td><td>49053</td><td>255000</td><td>1</td><td>1</td></tr>\n",
       "<tr><td>19740</td><td>CO</td><td>08031</td><td>NA</td><td>1</td><td>1</td></tr>\n",
       "<tr><td>17820</td><td>CO</td><td>08041</td><td>565000</td><td>1</td><td>1</td></tr>\n",
       "<tr><td>11244</td><td>CA</td><td>06059</td><td>855000</td><td>1</td><td>3</td></tr>\n",
       "<tr><td>19740</td><td>CO</td><td>08031</td><td>355000</td><td>1</td><td>1</td></tr>\n",
       "<tr><td>41740</td><td>CA</td><td>06073</td><td>995000</td><td>1</td><td>1</td></tr>\n",
       "<tr><td>24540</td><td>CO</td><td>08123</td><td>365000</td><td>1</td><td>1</td></tr>\n",
       "<tr><td>16984</td><td>IL</td><td>17043</td><td>635000</td><td>1</td><td>1</td></tr>\n",
       "<tr><td>38900</td><td>OR</td><td>41051</td><td>465000</td><td>1</td><td>1</td></tr>\n",
       "<tr><td>23224</td><td>MD</td><td>24031</td><td>NA</td><td>1</td><td>1</td></tr>\n",
       "<tr><td>19740</td><td>CO</td><td>08031</td><td>305000</td><td>1</td><td>1</td></tr>\n",
       "<tr><td>37100</td><td>CA</td><td>06111</td><td>NA</td><td>1</td><td>1</td></tr>\n",
       "<tr><td>19124</td><td>TX</td><td>48121</td><td>315000</td><td>1</td><td>1</td></tr>\n",
       "<tr><td>41940</td><td>CA</td><td>06085</td><td>845000</td><td>1</td><td>1</td></tr>\n",
       "<tr><td>99999</td><td>WA</td><td>53075</td><td>505000</td><td>1</td><td>1</td></tr>\n",
       "<tr><td>41884</td><td>CA</td><td>06075</td><td>1435000</td><td>1</td><td>1</td></tr>\n",
       "<tr><td>42644</td><td>WA</td><td>53033</td><td>915000</td><td>1</td><td>1</td></tr>\n",
       "<tr><td>20994</td><td>IL</td><td>17093</td><td>285000</td><td>1</td><td>1</td></tr>\n",
       "</table>\n",
       "only showing top 20 rows\n"
      ],
      "text/plain": [
       "+--------------+----------+-----------+--------------+-----------+--------------+\n",
       "|derived_msa_md|state_code|county_code|property_value|total_units|occupancy_type|\n",
       "+--------------+----------+-----------+--------------+-----------+--------------+\n",
       "|         29620|        MI|      26065|        145000|          1|             1|\n",
       "|         31084|        CA|      06037|        855000|          1|             1|\n",
       "|         41100|        UT|      49053|        255000|          1|             1|\n",
       "|         19740|        CO|      08031|            NA|          1|             1|\n",
       "|         17820|        CO|      08041|        565000|          1|             1|\n",
       "|         11244|        CA|      06059|        855000|          1|             3|\n",
       "|         19740|        CO|      08031|        355000|          1|             1|\n",
       "|         41740|        CA|      06073|        995000|          1|             1|\n",
       "|         24540|        CO|      08123|        365000|          1|             1|\n",
       "|         16984|        IL|      17043|        635000|          1|             1|\n",
       "|         38900|        OR|      41051|        465000|          1|             1|\n",
       "|         23224|        MD|      24031|            NA|          1|             1|\n",
       "|         19740|        CO|      08031|        305000|          1|             1|\n",
       "|         37100|        CA|      06111|            NA|          1|             1|\n",
       "|         19124|        TX|      48121|        315000|          1|             1|\n",
       "|         41940|        CA|      06085|        845000|          1|             1|\n",
       "|         99999|        WA|      53075|        505000|          1|             1|\n",
       "|         41884|        CA|      06075|       1435000|          1|             1|\n",
       "|         42644|        WA|      53033|        915000|          1|             1|\n",
       "|         20994|        IL|      17093|        285000|          1|             1|\n",
       "+--------------+----------+-----------+--------------+-----------+--------------+\n",
       "only showing top 20 rows"
      ]
     },
     "execution_count": 10,
     "metadata": {},
     "output_type": "execute_result"
    }
   ],
   "source": [
    "property_details_df = df.select(\"derived_msa_md\", \"state_code\", \"county_code\", \"property_value\", \"total_units\", \"occupancy_type\")\n",
    "property_details_df"
   ]
  },
  {
   "cell_type": "markdown",
   "id": "5b43616d",
   "metadata": {},
   "source": [
    "### Below is the final set of columns that we will use for building classification model"
   ]
  },
  {
   "cell_type": "code",
   "execution_count": 10,
   "id": "c3a0e843-1a42-43f1-8627-be2acbe9e779",
   "metadata": {
    "scrolled": true
   },
   "outputs": [
    {
     "data": {
      "text/html": [
       "<table border='1'>\n",
       "<tr><th>income</th><th>applicant_age</th><th>applicant_sex</th><th>co_applicant_age</th><th>debt_to_income_ratio</th><th>applicant_credit_score_type</th><th>co_applicant_credit_score_type</th><th>loan_type</th><th>loan_purpose</th><th>loan_amount</th><th>interest_rate</th><th>loan_term</th><th>combined_loan_to_value_ratio</th><th>action_taken</th></tr>\n",
       "<tr><td>65</td><td>25-34</td><td>1</td><td>25-34</td><td>30%-&lt;36%</td><td>2</td><td>5</td><td>1</td><td>1</td><td>135000</td><td>3.875</td><td>360</td><td>97.0</td><td>1</td></tr>\n",
       "<tr><td>135</td><td>45-54</td><td>1</td><td>45-54</td><td>20%-&lt;30%</td><td>5</td><td>1</td><td>1</td><td>31</td><td>315000</td><td>2.124</td><td>180</td><td>36.82</td><td>1</td></tr>\n",
       "<tr><td>NA</td><td>65-74</td><td>1</td><td>65-74</td><td>NA</td><td>9</td><td>9</td><td>2</td><td>1</td><td>135000</td><td>3.43</td><td>NA</td><td>55.1</td><td>1</td></tr>\n",
       "<tr><td>120</td><td>35-44</td><td>1</td><td>35-44</td><td>NA</td><td>9</td><td>9</td><td>1</td><td>32</td><td>405000</td><td>NA</td><td>240</td><td>NA</td><td>4</td></tr>\n",
       "<tr><td>328</td><td>55-64</td><td>2</td><td>55-64</td><td>20%-&lt;30%</td><td>1</td><td>2</td><td>1</td><td>1</td><td>435000</td><td>2.5</td><td>360</td><td>80.0</td><td>1</td></tr>\n",
       "<tr><td>565</td><td>55-64</td><td>1</td><td>55-64</td><td>&lt;20%</td><td>2</td><td>1</td><td>1</td><td>31</td><td>355000</td><td>2.875</td><td>180</td><td>41.29</td><td>1</td></tr>\n",
       "<tr><td>57</td><td>65-74</td><td>1</td><td>65-74</td><td>39</td><td>5</td><td>1</td><td>1</td><td>31</td><td>265000</td><td>3.0</td><td>360</td><td>74.28</td><td>1</td></tr>\n",
       "<tr><td>171</td><td>55-64</td><td>1</td><td>55-64</td><td>44</td><td>1</td><td>1</td><td>1</td><td>31</td><td>485000</td><td>2.249</td><td>180</td><td>48.98</td><td>1</td></tr>\n",
       "<tr><td>157</td><td>25-34</td><td>1</td><td>25-34</td><td>20%-&lt;30%</td><td>5</td><td>5</td><td>1</td><td>31</td><td>345000</td><td>2.875</td><td>360</td><td>95.0</td><td>1</td></tr>\n",
       "<tr><td>285</td><td>35-44</td><td>1</td><td>35-44</td><td>20%-&lt;30%</td><td>1</td><td>1</td><td>1</td><td>32</td><td>475000</td><td>3.0</td><td>360</td><td>74.48</td><td>1</td></tr>\n",
       "<tr><td>136</td><td>25-34</td><td>2</td><td>25-34</td><td>20%-&lt;30%</td><td>5</td><td>1</td><td>1</td><td>31</td><td>365000</td><td>2.875</td><td>360</td><td>78.91</td><td>1</td></tr>\n",
       "<tr><td>75</td><td>45-54</td><td>3</td><td>55-64</td><td>NA</td><td>9</td><td>9</td><td>1</td><td>31</td><td>455000</td><td>NA</td><td>360</td><td>NA</td><td>5</td></tr>\n",
       "<tr><td>91</td><td>65-74</td><td>1</td><td>55-64</td><td>30%-&lt;36%</td><td>2</td><td>2</td><td>1</td><td>31</td><td>275000</td><td>3.125</td><td>360</td><td>90.0</td><td>1</td></tr>\n",
       "<tr><td>NA</td><td>65-74</td><td>1</td><td>65-74</td><td>NA</td><td>9</td><td>9</td><td>2</td><td>31</td><td>395000</td><td>NA</td><td>NA</td><td>NA</td><td>4</td></tr>\n",
       "<tr><td>172</td><td>25-34</td><td>1</td><td>25-34</td><td>20%-&lt;30%</td><td>1</td><td>5</td><td>1</td><td>1</td><td>255000</td><td>2.875</td><td>360</td><td>80.0</td><td>1</td></tr>\n",
       "<tr><td>170</td><td>55-64</td><td>3</td><td>45-54</td><td>39</td><td>5</td><td>1</td><td>1</td><td>31</td><td>495000</td><td>2.5</td><td>360</td><td>59.36</td><td>1</td></tr>\n",
       "<tr><td>107</td><td>25-34</td><td>1</td><td>25-34</td><td>20%-&lt;30%</td><td>2</td><td>5</td><td>1</td><td>31</td><td>355000</td><td>2.75</td><td>360</td><td>70.0</td><td>1</td></tr>\n",
       "<tr><td>215</td><td>55-64</td><td>1</td><td>45-54</td><td>38</td><td>5</td><td>2</td><td>1</td><td>31</td><td>405000</td><td>2.125</td><td>180</td><td>28.15</td><td>1</td></tr>\n",
       "<tr><td>185</td><td>35-44</td><td>1</td><td>25-34</td><td>20%-&lt;30%</td><td>2</td><td>1</td><td>1</td><td>31</td><td>685000</td><td>2.875</td><td>360</td><td>74.83</td><td>1</td></tr>\n",
       "<tr><td>65</td><td>55-64</td><td>1</td><td>55-64</td><td>38</td><td>1</td><td>2</td><td>1</td><td>32</td><td>185000</td><td>3.125</td><td>180</td><td>66.78</td><td>1</td></tr>\n",
       "</table>\n",
       "only showing top 20 rows\n"
      ],
      "text/plain": [
       "+------+-------------+-------------+----------------+--------------------+---------------------------+------------------------------+---------+------------+-----------+-------------+---------+----------------------------+------------+\n",
       "|income|applicant_age|applicant_sex|co_applicant_age|debt_to_income_ratio|applicant_credit_score_type|co_applicant_credit_score_type|loan_type|loan_purpose|loan_amount|interest_rate|loan_term|combined_loan_to_value_ratio|action_taken|\n",
       "+------+-------------+-------------+----------------+--------------------+---------------------------+------------------------------+---------+------------+-----------+-------------+---------+----------------------------+------------+\n",
       "|    65|        25-34|            1|           25-34|            30%-<36%|                          2|                             5|        1|           1|     135000|        3.875|      360|                        97.0|           1|\n",
       "|   135|        45-54|            1|           45-54|            20%-<30%|                          5|                             1|        1|          31|     315000|        2.124|      180|                       36.82|           1|\n",
       "|    NA|        65-74|            1|           65-74|                  NA|                          9|                             9|        2|           1|     135000|         3.43|       NA|                        55.1|           1|\n",
       "|   120|        35-44|            1|           35-44|                  NA|                          9|                             9|        1|          32|     405000|           NA|      240|                          NA|           4|\n",
       "|   328|        55-64|            2|           55-64|            20%-<30%|                          1|                             2|        1|           1|     435000|          2.5|      360|                        80.0|           1|\n",
       "|   565|        55-64|            1|           55-64|                <20%|                          2|                             1|        1|          31|     355000|        2.875|      180|                       41.29|           1|\n",
       "|    57|        65-74|            1|           65-74|                  39|                          5|                             1|        1|          31|     265000|          3.0|      360|                       74.28|           1|\n",
       "|   171|        55-64|            1|           55-64|                  44|                          1|                             1|        1|          31|     485000|        2.249|      180|                       48.98|           1|\n",
       "|   157|        25-34|            1|           25-34|            20%-<30%|                          5|                             5|        1|          31|     345000|        2.875|      360|                        95.0|           1|\n",
       "|   285|        35-44|            1|           35-44|            20%-<30%|                          1|                             1|        1|          32|     475000|          3.0|      360|                       74.48|           1|\n",
       "|   136|        25-34|            2|           25-34|            20%-<30%|                          5|                             1|        1|          31|     365000|        2.875|      360|                       78.91|           1|\n",
       "|    75|        45-54|            3|           55-64|                  NA|                          9|                             9|        1|          31|     455000|           NA|      360|                          NA|           5|\n",
       "|    91|        65-74|            1|           55-64|            30%-<36%|                          2|                             2|        1|          31|     275000|        3.125|      360|                        90.0|           1|\n",
       "|    NA|        65-74|            1|           65-74|                  NA|                          9|                             9|        2|          31|     395000|           NA|       NA|                          NA|           4|\n",
       "|   172|        25-34|            1|           25-34|            20%-<30%|                          1|                             5|        1|           1|     255000|        2.875|      360|                        80.0|           1|\n",
       "|   170|        55-64|            3|           45-54|                  39|                          5|                             1|        1|          31|     495000|          2.5|      360|                       59.36|           1|\n",
       "|   107|        25-34|            1|           25-34|            20%-<30%|                          2|                             5|        1|          31|     355000|         2.75|      360|                        70.0|           1|\n",
       "|   215|        55-64|            1|           45-54|                  38|                          5|                             2|        1|          31|     405000|        2.125|      180|                       28.15|           1|\n",
       "|   185|        35-44|            1|           25-34|            20%-<30%|                          2|                             1|        1|          31|     685000|        2.875|      360|                       74.83|           1|\n",
       "|    65|        55-64|            1|           55-64|                  38|                          1|                             2|        1|          32|     185000|        3.125|      180|                       66.78|           1|\n",
       "+------+-------------+-------------+----------------+--------------------+---------------------------+------------------------------+---------+------------+-----------+-------------+---------+----------------------------+------------+\n",
       "only showing top 20 rows"
      ]
     },
     "execution_count": 10,
     "metadata": {},
     "output_type": "execute_result"
    }
   ],
   "source": [
    "final_df = df.select(\"income\",\"applicant_age\",\"applicant_sex\",\"co_applicant_age\", \"debt_to_income_ratio\", \"applicant_credit_score_type\", \"co_applicant_credit_score_type\",\"loan_type\",\"loan_purpose\", \"loan_amount\", \"interest_rate\",\"loan_term\",\"combined_loan_to_value_ratio\", \"action_taken\")\n",
    "final_df"
   ]
  },
  {
   "cell_type": "code",
   "execution_count": 11,
   "id": "7d17a4c2",
   "metadata": {},
   "outputs": [
    {
     "data": {
      "text/plain": [
       "14"
      ]
     },
     "execution_count": 11,
     "metadata": {},
     "output_type": "execute_result"
    }
   ],
   "source": [
    "len(final_df.columns)"
   ]
  },
  {
   "cell_type": "code",
   "execution_count": 12,
   "id": "e23e8b6a",
   "metadata": {},
   "outputs": [
    {
     "name": "stdout",
     "output_type": "stream",
     "text": [
      "root\n",
      " |-- income: string (nullable = true)\n",
      " |-- applicant_age: string (nullable = true)\n",
      " |-- applicant_sex: string (nullable = true)\n",
      " |-- co_applicant_age: string (nullable = true)\n",
      " |-- debt_to_income_ratio: string (nullable = true)\n",
      " |-- applicant_credit_score_type: string (nullable = true)\n",
      " |-- co_applicant_credit_score_type: string (nullable = true)\n",
      " |-- loan_type: string (nullable = true)\n",
      " |-- loan_purpose: string (nullable = true)\n",
      " |-- loan_amount: string (nullable = true)\n",
      " |-- interest_rate: string (nullable = true)\n",
      " |-- loan_term: string (nullable = true)\n",
      " |-- combined_loan_to_value_ratio: string (nullable = true)\n",
      " |-- action_taken: string (nullable = true)\n",
      "\n"
     ]
    }
   ],
   "source": [
    "final_df.printSchema() \n"
   ]
  },
  {
   "cell_type": "markdown",
   "id": "1cc65c4e",
   "metadata": {},
   "source": [
    "### Change data types of columns"
   ]
  },
  {
   "cell_type": "code",
   "execution_count": 13,
   "id": "0184a866",
   "metadata": {
    "scrolled": true
   },
   "outputs": [
    {
     "name": "stdout",
     "output_type": "stream",
     "text": [
      "root\n",
      " |-- income: float (nullable = true)\n",
      " |-- applicant_age: string (nullable = true)\n",
      " |-- applicant_sex: string (nullable = true)\n",
      " |-- co_applicant_age: string (nullable = true)\n",
      " |-- debt_to_income_ratio: string (nullable = true)\n",
      " |-- applicant_credit_score_type: integer (nullable = true)\n",
      " |-- co_applicant_credit_score_type: integer (nullable = true)\n",
      " |-- loan_type: integer (nullable = true)\n",
      " |-- loan_purpose: integer (nullable = true)\n",
      " |-- loan_amount: float (nullable = true)\n",
      " |-- interest_rate: float (nullable = true)\n",
      " |-- loan_term: integer (nullable = true)\n",
      " |-- combined_loan_to_value_ratio: float (nullable = true)\n",
      " |-- action_taken: integer (nullable = true)\n",
      "\n"
     ]
    }
   ],
   "source": [
    "from pyspark.sql.types import ( \n",
    "    StringType, BooleanType, IntegerType, FloatType, DateType \n",
    ") \n",
    "\n",
    "coltype_map = { \n",
    "    \"income\": FloatType(), \n",
    "    \"applicant_age\": StringType(), \n",
    "    \"co_applicant_age\": StringType(), \n",
    "    \"applicant_credit_score_type\": IntegerType(), \n",
    "    \"co_applicant_credit_score_type\": IntegerType(), \n",
    "    \"loan_type\": IntegerType(), \n",
    "    \"loan_purpose\": IntegerType(), \n",
    "    \"applicant_credit_score_type\": IntegerType(), \n",
    "    \"loan_amount\": FloatType(), \n",
    "    \"interest_rate\": FloatType(),\n",
    "    \"loan_term\": IntegerType(), \n",
    "    \"combined_loan_to_value_ratio\": FloatType(),\n",
    "    \"action_taken\": IntegerType(), \n",
    "} \n",
    "\n",
    "from pyspark.sql.functions import col\n",
    "\n",
    "for col_name, data_type in coltype_map.items():\n",
    "    final_df = final_df.withColumn(col_name, col(col_name).cast(data_type))\n",
    "\n",
    "    \n",
    "final_df.printSchema() \n"
   ]
  },
  {
   "cell_type": "code",
   "execution_count": 14,
   "id": "95429e4c",
   "metadata": {
    "scrolled": true
   },
   "outputs": [],
   "source": [
    "# df.groupBy(\"applicant_credit_score_type\").count().show()\n"
   ]
  },
  {
   "cell_type": "code",
   "execution_count": 15,
   "id": "6abeea63",
   "metadata": {},
   "outputs": [],
   "source": [
    "# df.select(\"applicant_sex\").distinct()"
   ]
  },
  {
   "cell_type": "code",
   "execution_count": null,
   "id": "e301879b",
   "metadata": {},
   "outputs": [],
   "source": []
  },
  {
   "cell_type": "code",
   "execution_count": null,
   "id": "44c2b93e",
   "metadata": {},
   "outputs": [],
   "source": []
  },
  {
   "cell_type": "markdown",
   "id": "f601779f",
   "metadata": {},
   "source": []
  },
  {
   "cell_type": "code",
   "execution_count": null,
   "id": "f816b2f8",
   "metadata": {},
   "outputs": [],
   "source": []
  },
  {
   "cell_type": "code",
   "execution_count": 16,
   "id": "5aa22507",
   "metadata": {
    "scrolled": true
   },
   "outputs": [],
   "source": [
    "# final_df.groupBy(\"debt_to_income_ratio\").count().show(50)\n"
   ]
  },
  {
   "cell_type": "markdown",
   "id": "da33ca8f",
   "metadata": {},
   "source": [
    "# 1. Handle Missing Values"
   ]
  },
  {
   "cell_type": "code",
   "execution_count": 17,
   "id": "3f591455-5300-40c1-940f-64a69ab7e755",
   "metadata": {},
   "outputs": [
    {
     "name": "stderr",
     "output_type": "stream",
     "text": [
      "[Stage 9:========================================================>(72 + 1) / 73]\r"
     ]
    },
    {
     "name": "stdout",
     "output_type": "stream",
     "text": [
      "+-------+-------------+-------------+----------------+--------------------+---------------------------+------------------------------+---------+------------+-----------+-------------+---------+----------------------------+------------+\n",
      "| income|applicant_age|applicant_sex|co_applicant_age|debt_to_income_ratio|applicant_credit_score_type|co_applicant_credit_score_type|loan_type|loan_purpose|loan_amount|interest_rate|loan_term|combined_loan_to_value_ratio|action_taken|\n",
      "+-------+-------------+-------------+----------------+--------------------+---------------------------+------------------------------+---------+------------+-----------+-------------+---------+----------------------------+------------+\n",
      "|3805537|            0|            0|               0|                   0|                          0|                             0|        0|           0|          0|      8058681|   787724|                     9419638|           0|\n",
      "+-------+-------------+-------------+----------------+--------------------+---------------------------+------------------------------+---------+------------+-----------+-------------+---------+----------------------------+------------+\n",
      "\n"
     ]
    },
    {
     "name": "stderr",
     "output_type": "stream",
     "text": [
      "                                                                                \r"
     ]
    }
   ],
   "source": [
    "from pyspark.sql import functions as F\n",
    "\n",
    "\n",
    "selected_columns = [\"income\", \"applicant_age\", \"applicant_sex\", \"co_applicant_age\", \n",
    "                    \"debt_to_income_ratio\", \"applicant_credit_score_type\", \n",
    "                    \"co_applicant_credit_score_type\", \"loan_type\", \"loan_purpose\", \n",
    "                    \"loan_amount\", \"interest_rate\", \"loan_term\", \n",
    "                    \"combined_loan_to_value_ratio\", \"action_taken\"]\n",
    "\n",
    "\n",
    "# Check for missing values\n",
    "missing_values = final_df.select([F.count(F.when(F.col(c).isNull(), c)).alias(c) for c in selected_columns])\n",
    "missing_values.show()\n",
    "# df.count()\n",
    "\n",
    "# null_age_count = final_df.filter(F.col(\"applicant_age\").isNull()).count()  \n",
    "# print(\"Number of rows with 'NA' in applicant_age column:\", null_age_count) \n",
    "\n",
    "\n"
   ]
  },
  {
   "cell_type": "markdown",
   "id": "294cb4b4",
   "metadata": {},
   "source": [
    "# 1.1 Drop rows with null values "
   ]
  },
  {
   "cell_type": "code",
   "execution_count": 18,
   "id": "59efcf7c-bd39-4c71-90ca-2b7fb20216b6",
   "metadata": {},
   "outputs": [],
   "source": [
    "# delete columns with NA values\n",
    "# columns_to_check = [\"income\", \"loan_amount\",\"interest_rate\", \"loan_term\"]  \n",
    "columns_to_check = [\"income\", \"loan_amount\",\"interest_rate\", \"loan_term\"]  \n",
    "# List of columns to check for nulls\n",
    "\n",
    "#drop rows where all above coloums are NA\n",
    "df_cleaned = final_df.dropna(subset=columns_to_check, how=\"any\")"
   ]
  },
  {
   "cell_type": "code",
   "execution_count": 19,
   "id": "e3224100-bd8b-4bfd-a7ab-f3ee49656909",
   "metadata": {},
   "outputs": [
    {
     "name": "stderr",
     "output_type": "stream",
     "text": [
      "                                                                                \r"
     ]
    },
    {
     "data": {
      "text/plain": [
       "14564727"
      ]
     },
     "execution_count": 19,
     "metadata": {},
     "output_type": "execute_result"
    }
   ],
   "source": [
    "df_cleaned.count() #11 million rows deleted"
   ]
  },
  {
   "cell_type": "markdown",
   "id": "04ad5f46",
   "metadata": {},
   "source": [
    "### 1.2 Impute Missing Values(For Numerical Columns)"
   ]
  },
  {
   "cell_type": "code",
   "execution_count": 20,
   "id": "986049e0-1f55-454d-a2f7-423d88331846",
   "metadata": {},
   "outputs": [
    {
     "name": "stderr",
     "output_type": "stream",
     "text": [
      "                                                                                \r"
     ]
    }
   ],
   "source": [
    "# impute values for numerical columns\n",
    "from pyspark.ml.feature import Imputer\n",
    "\n",
    "imputer = Imputer(inputCols=[\"income\",\"interest_rate\",\"loan_term\",\"combined_loan_to_value_ratio\"], \n",
    "                  outputCols=[\"income\",\"interest_rate\", \"loan_term\", \"combined_loan_to_value_ratio\"])\n",
    "data = imputer.fit(df_cleaned).transform(df_cleaned)\n"
   ]
  },
  {
   "cell_type": "code",
   "execution_count": 21,
   "id": "5c4f70b9",
   "metadata": {},
   "outputs": [
    {
     "data": {
      "text/html": [
       "<table border='1'>\n",
       "<tr><th>income</th><th>applicant_age</th><th>applicant_sex</th><th>co_applicant_age</th><th>debt_to_income_ratio</th><th>applicant_credit_score_type</th><th>co_applicant_credit_score_type</th><th>loan_type</th><th>loan_purpose</th><th>loan_amount</th><th>interest_rate</th><th>loan_term</th><th>combined_loan_to_value_ratio</th><th>action_taken</th></tr>\n",
       "<tr><td>65.0</td><td>25-34</td><td>1</td><td>25-34</td><td>30%-&lt;36%</td><td>2</td><td>5</td><td>1</td><td>1</td><td>135000.0</td><td>3.875</td><td>360</td><td>97.0</td><td>1</td></tr>\n",
       "<tr><td>135.0</td><td>45-54</td><td>1</td><td>45-54</td><td>20%-&lt;30%</td><td>5</td><td>1</td><td>1</td><td>31</td><td>315000.0</td><td>2.124</td><td>180</td><td>36.82</td><td>1</td></tr>\n",
       "<tr><td>328.0</td><td>55-64</td><td>2</td><td>55-64</td><td>20%-&lt;30%</td><td>1</td><td>2</td><td>1</td><td>1</td><td>435000.0</td><td>2.5</td><td>360</td><td>80.0</td><td>1</td></tr>\n",
       "<tr><td>565.0</td><td>55-64</td><td>1</td><td>55-64</td><td>&lt;20%</td><td>2</td><td>1</td><td>1</td><td>31</td><td>355000.0</td><td>2.875</td><td>180</td><td>41.29</td><td>1</td></tr>\n",
       "<tr><td>57.0</td><td>65-74</td><td>1</td><td>65-74</td><td>39</td><td>5</td><td>1</td><td>1</td><td>31</td><td>265000.0</td><td>3.0</td><td>360</td><td>74.28</td><td>1</td></tr>\n",
       "<tr><td>171.0</td><td>55-64</td><td>1</td><td>55-64</td><td>44</td><td>1</td><td>1</td><td>1</td><td>31</td><td>485000.0</td><td>2.249</td><td>180</td><td>48.98</td><td>1</td></tr>\n",
       "<tr><td>157.0</td><td>25-34</td><td>1</td><td>25-34</td><td>20%-&lt;30%</td><td>5</td><td>5</td><td>1</td><td>31</td><td>345000.0</td><td>2.875</td><td>360</td><td>95.0</td><td>1</td></tr>\n",
       "<tr><td>285.0</td><td>35-44</td><td>1</td><td>35-44</td><td>20%-&lt;30%</td><td>1</td><td>1</td><td>1</td><td>32</td><td>475000.0</td><td>3.0</td><td>360</td><td>74.48</td><td>1</td></tr>\n",
       "<tr><td>136.0</td><td>25-34</td><td>2</td><td>25-34</td><td>20%-&lt;30%</td><td>5</td><td>1</td><td>1</td><td>31</td><td>365000.0</td><td>2.875</td><td>360</td><td>78.91</td><td>1</td></tr>\n",
       "<tr><td>91.0</td><td>65-74</td><td>1</td><td>55-64</td><td>30%-&lt;36%</td><td>2</td><td>2</td><td>1</td><td>31</td><td>275000.0</td><td>3.125</td><td>360</td><td>90.0</td><td>1</td></tr>\n",
       "<tr><td>172.0</td><td>25-34</td><td>1</td><td>25-34</td><td>20%-&lt;30%</td><td>1</td><td>5</td><td>1</td><td>1</td><td>255000.0</td><td>2.875</td><td>360</td><td>80.0</td><td>1</td></tr>\n",
       "<tr><td>170.0</td><td>55-64</td><td>3</td><td>45-54</td><td>39</td><td>5</td><td>1</td><td>1</td><td>31</td><td>495000.0</td><td>2.5</td><td>360</td><td>59.36</td><td>1</td></tr>\n",
       "<tr><td>107.0</td><td>25-34</td><td>1</td><td>25-34</td><td>20%-&lt;30%</td><td>2</td><td>5</td><td>1</td><td>31</td><td>355000.0</td><td>2.75</td><td>360</td><td>70.0</td><td>1</td></tr>\n",
       "<tr><td>215.0</td><td>55-64</td><td>1</td><td>45-54</td><td>38</td><td>5</td><td>2</td><td>1</td><td>31</td><td>405000.0</td><td>2.125</td><td>180</td><td>28.15</td><td>1</td></tr>\n",
       "<tr><td>185.0</td><td>35-44</td><td>1</td><td>25-34</td><td>20%-&lt;30%</td><td>2</td><td>1</td><td>1</td><td>31</td><td>685000.0</td><td>2.875</td><td>360</td><td>74.83</td><td>1</td></tr>\n",
       "<tr><td>65.0</td><td>55-64</td><td>1</td><td>55-64</td><td>38</td><td>1</td><td>2</td><td>1</td><td>32</td><td>185000.0</td><td>3.125</td><td>180</td><td>66.78</td><td>1</td></tr>\n",
       "<tr><td>163.0</td><td>45-54</td><td>3</td><td>45-54</td><td>48</td><td>2</td><td>2</td><td>1</td><td>31</td><td>325000.0</td><td>2.49</td><td>360</td><td>56.72</td><td>1</td></tr>\n",
       "<tr><td>41.0</td><td>65-74</td><td>2</td><td>65-74</td><td>30%-&lt;36%</td><td>1</td><td>1</td><td>1</td><td>31</td><td>115000.0</td><td>3.0</td><td>360</td><td>23.63</td><td>1</td></tr>\n",
       "<tr><td>128.0</td><td>45-54</td><td>2</td><td>45-54</td><td>30%-&lt;36%</td><td>1</td><td>1</td><td>1</td><td>32</td><td>315000.0</td><td>2.5</td><td>180</td><td>75.0</td><td>1</td></tr>\n",
       "<tr><td>136.0</td><td>55-64</td><td>1</td><td>45-54</td><td>20%-&lt;30%</td><td>2</td><td>1</td><td>1</td><td>32</td><td>515000.0</td><td>2.625</td><td>360</td><td>57.34</td><td>1</td></tr>\n",
       "</table>\n",
       "only showing top 20 rows\n"
      ],
      "text/plain": [
       "+------+-------------+-------------+----------------+--------------------+---------------------------+------------------------------+---------+------------+-----------+-------------+---------+----------------------------+------------+\n",
       "|income|applicant_age|applicant_sex|co_applicant_age|debt_to_income_ratio|applicant_credit_score_type|co_applicant_credit_score_type|loan_type|loan_purpose|loan_amount|interest_rate|loan_term|combined_loan_to_value_ratio|action_taken|\n",
       "+------+-------------+-------------+----------------+--------------------+---------------------------+------------------------------+---------+------------+-----------+-------------+---------+----------------------------+------------+\n",
       "|  65.0|        25-34|            1|           25-34|            30%-<36%|                          2|                             5|        1|           1|   135000.0|        3.875|      360|                        97.0|           1|\n",
       "| 135.0|        45-54|            1|           45-54|            20%-<30%|                          5|                             1|        1|          31|   315000.0|        2.124|      180|                       36.82|           1|\n",
       "| 328.0|        55-64|            2|           55-64|            20%-<30%|                          1|                             2|        1|           1|   435000.0|          2.5|      360|                        80.0|           1|\n",
       "| 565.0|        55-64|            1|           55-64|                <20%|                          2|                             1|        1|          31|   355000.0|        2.875|      180|                       41.29|           1|\n",
       "|  57.0|        65-74|            1|           65-74|                  39|                          5|                             1|        1|          31|   265000.0|          3.0|      360|                       74.28|           1|\n",
       "| 171.0|        55-64|            1|           55-64|                  44|                          1|                             1|        1|          31|   485000.0|        2.249|      180|                       48.98|           1|\n",
       "| 157.0|        25-34|            1|           25-34|            20%-<30%|                          5|                             5|        1|          31|   345000.0|        2.875|      360|                        95.0|           1|\n",
       "| 285.0|        35-44|            1|           35-44|            20%-<30%|                          1|                             1|        1|          32|   475000.0|          3.0|      360|                       74.48|           1|\n",
       "| 136.0|        25-34|            2|           25-34|            20%-<30%|                          5|                             1|        1|          31|   365000.0|        2.875|      360|                       78.91|           1|\n",
       "|  91.0|        65-74|            1|           55-64|            30%-<36%|                          2|                             2|        1|          31|   275000.0|        3.125|      360|                        90.0|           1|\n",
       "| 172.0|        25-34|            1|           25-34|            20%-<30%|                          1|                             5|        1|           1|   255000.0|        2.875|      360|                        80.0|           1|\n",
       "| 170.0|        55-64|            3|           45-54|                  39|                          5|                             1|        1|          31|   495000.0|          2.5|      360|                       59.36|           1|\n",
       "| 107.0|        25-34|            1|           25-34|            20%-<30%|                          2|                             5|        1|          31|   355000.0|         2.75|      360|                        70.0|           1|\n",
       "| 215.0|        55-64|            1|           45-54|                  38|                          5|                             2|        1|          31|   405000.0|        2.125|      180|                       28.15|           1|\n",
       "| 185.0|        35-44|            1|           25-34|            20%-<30%|                          2|                             1|        1|          31|   685000.0|        2.875|      360|                       74.83|           1|\n",
       "|  65.0|        55-64|            1|           55-64|                  38|                          1|                             2|        1|          32|   185000.0|        3.125|      180|                       66.78|           1|\n",
       "| 163.0|        45-54|            3|           45-54|                  48|                          2|                             2|        1|          31|   325000.0|         2.49|      360|                       56.72|           1|\n",
       "|  41.0|        65-74|            2|           65-74|            30%-<36%|                          1|                             1|        1|          31|   115000.0|          3.0|      360|                       23.63|           1|\n",
       "| 128.0|        45-54|            2|           45-54|            30%-<36%|                          1|                             1|        1|          32|   315000.0|          2.5|      180|                        75.0|           1|\n",
       "| 136.0|        55-64|            1|           45-54|            20%-<30%|                          2|                             1|        1|          32|   515000.0|        2.625|      360|                       57.34|           1|\n",
       "+------+-------------+-------------+----------------+--------------------+---------------------------+------------------------------+---------+------------+-----------+-------------+---------+----------------------------+------------+\n",
       "only showing top 20 rows"
      ]
     },
     "execution_count": 21,
     "metadata": {},
     "output_type": "execute_result"
    }
   ],
   "source": [
    "data"
   ]
  },
  {
   "cell_type": "code",
   "execution_count": 22,
   "id": "3ad4bcdb-86a7-4b8c-a547-8ff774ff1c32",
   "metadata": {},
   "outputs": [
    {
     "name": "stderr",
     "output_type": "stream",
     "text": [
      "[Stage 23:======================================================> (71 + 2) / 73]\r"
     ]
    },
    {
     "name": "stdout",
     "output_type": "stream",
     "text": [
      "+------+-------------+---------+----------------------------+\n",
      "|income|interest_rate|loan_term|combined_loan_to_value_ratio|\n",
      "+------+-------------+---------+----------------------------+\n",
      "|     0|            0|        0|                           0|\n",
      "+------+-------------+---------+----------------------------+\n",
      "\n"
     ]
    },
    {
     "name": "stderr",
     "output_type": "stream",
     "text": [
      "                                                                                \r"
     ]
    }
   ],
   "source": [
    "# Check for null values after impute\n",
    "selected_columns = [\"income\",\"interest_rate\", \"loan_term\", \"combined_loan_to_value_ratio\"]\n",
    "\n",
    "# Check for missing values\n",
    "missing_values = data.select([F.count(F.when(F.col(c).isNull(), c)).alias(c) for c in selected_columns])\n",
    "missing_values.show()"
   ]
  },
  {
   "cell_type": "code",
   "execution_count": 24,
   "id": "722d65b4-a342-4458-9089-7c0163a63a45",
   "metadata": {},
   "outputs": [],
   "source": [
    "# data.printSchema()"
   ]
  },
  {
   "cell_type": "markdown",
   "id": "9232b5dd",
   "metadata": {},
   "source": [
    "# Encode Categorical Features"
   ]
  },
  {
   "cell_type": "code",
   "execution_count": 26,
   "id": "8efc1c61",
   "metadata": {},
   "outputs": [
    {
     "data": {
      "text/html": [
       "<table border='1'>\n",
       "<tr><th>income</th><th>applicant_age</th><th>applicant_sex</th><th>co_applicant_age</th><th>debt_to_income_ratio</th><th>applicant_credit_score_type</th><th>co_applicant_credit_score_type</th><th>loan_type</th><th>loan_purpose</th><th>loan_amount</th><th>interest_rate</th><th>loan_term</th><th>combined_loan_to_value_ratio</th><th>action_taken</th></tr>\n",
       "<tr><td>65.0</td><td>1</td><td>1</td><td>1</td><td>2</td><td>2</td><td>5</td><td>1</td><td>1</td><td>135000.0</td><td>3.875</td><td>360</td><td>97.0</td><td>1</td></tr>\n",
       "<tr><td>135.0</td><td>3</td><td>1</td><td>3</td><td>1</td><td>5</td><td>1</td><td>1</td><td>31</td><td>315000.0</td><td>2.124</td><td>180</td><td>36.82</td><td>1</td></tr>\n",
       "<tr><td>328.0</td><td>4</td><td>2</td><td>4</td><td>1</td><td>1</td><td>2</td><td>1</td><td>1</td><td>435000.0</td><td>2.5</td><td>360</td><td>80.0</td><td>1</td></tr>\n",
       "<tr><td>565.0</td><td>4</td><td>1</td><td>4</td><td>0</td><td>2</td><td>1</td><td>1</td><td>31</td><td>355000.0</td><td>2.875</td><td>180</td><td>41.29</td><td>1</td></tr>\n",
       "<tr><td>57.0</td><td>5</td><td>1</td><td>5</td><td>20</td><td>5</td><td>1</td><td>1</td><td>31</td><td>265000.0</td><td>3.0</td><td>360</td><td>74.28</td><td>1</td></tr>\n",
       "<tr><td>171.0</td><td>4</td><td>1</td><td>4</td><td>20</td><td>1</td><td>1</td><td>1</td><td>31</td><td>485000.0</td><td>2.249</td><td>180</td><td>48.98</td><td>1</td></tr>\n",
       "<tr><td>157.0</td><td>1</td><td>1</td><td>1</td><td>1</td><td>5</td><td>5</td><td>1</td><td>31</td><td>345000.0</td><td>2.875</td><td>360</td><td>95.0</td><td>1</td></tr>\n",
       "<tr><td>285.0</td><td>2</td><td>1</td><td>2</td><td>1</td><td>1</td><td>1</td><td>1</td><td>32</td><td>475000.0</td><td>3.0</td><td>360</td><td>74.48</td><td>1</td></tr>\n",
       "<tr><td>136.0</td><td>1</td><td>2</td><td>1</td><td>1</td><td>5</td><td>1</td><td>1</td><td>31</td><td>365000.0</td><td>2.875</td><td>360</td><td>78.91</td><td>1</td></tr>\n",
       "<tr><td>91.0</td><td>5</td><td>1</td><td>4</td><td>2</td><td>2</td><td>2</td><td>1</td><td>31</td><td>275000.0</td><td>3.125</td><td>360</td><td>90.0</td><td>1</td></tr>\n",
       "<tr><td>172.0</td><td>1</td><td>1</td><td>1</td><td>1</td><td>1</td><td>5</td><td>1</td><td>1</td><td>255000.0</td><td>2.875</td><td>360</td><td>80.0</td><td>1</td></tr>\n",
       "<tr><td>170.0</td><td>4</td><td>3</td><td>3</td><td>20</td><td>5</td><td>1</td><td>1</td><td>31</td><td>495000.0</td><td>2.5</td><td>360</td><td>59.36</td><td>1</td></tr>\n",
       "<tr><td>107.0</td><td>1</td><td>1</td><td>1</td><td>1</td><td>2</td><td>5</td><td>1</td><td>31</td><td>355000.0</td><td>2.75</td><td>360</td><td>70.0</td><td>1</td></tr>\n",
       "<tr><td>215.0</td><td>4</td><td>1</td><td>3</td><td>20</td><td>5</td><td>2</td><td>1</td><td>31</td><td>405000.0</td><td>2.125</td><td>180</td><td>28.15</td><td>1</td></tr>\n",
       "<tr><td>185.0</td><td>2</td><td>1</td><td>1</td><td>1</td><td>2</td><td>1</td><td>1</td><td>31</td><td>685000.0</td><td>2.875</td><td>360</td><td>74.83</td><td>1</td></tr>\n",
       "<tr><td>65.0</td><td>4</td><td>1</td><td>4</td><td>20</td><td>1</td><td>2</td><td>1</td><td>32</td><td>185000.0</td><td>3.125</td><td>180</td><td>66.78</td><td>1</td></tr>\n",
       "<tr><td>163.0</td><td>3</td><td>3</td><td>3</td><td>20</td><td>2</td><td>2</td><td>1</td><td>31</td><td>325000.0</td><td>2.49</td><td>360</td><td>56.72</td><td>1</td></tr>\n",
       "<tr><td>41.0</td><td>5</td><td>2</td><td>5</td><td>2</td><td>1</td><td>1</td><td>1</td><td>31</td><td>115000.0</td><td>3.0</td><td>360</td><td>23.63</td><td>1</td></tr>\n",
       "<tr><td>128.0</td><td>3</td><td>2</td><td>3</td><td>2</td><td>1</td><td>1</td><td>1</td><td>32</td><td>315000.0</td><td>2.5</td><td>180</td><td>75.0</td><td>1</td></tr>\n",
       "<tr><td>136.0</td><td>4</td><td>1</td><td>3</td><td>1</td><td>2</td><td>1</td><td>1</td><td>32</td><td>515000.0</td><td>2.625</td><td>360</td><td>57.34</td><td>1</td></tr>\n",
       "</table>\n",
       "only showing top 20 rows\n"
      ],
      "text/plain": [
       "+------+-------------+-------------+----------------+--------------------+---------------------------+------------------------------+---------+------------+-----------+-------------+---------+----------------------------+------------+\n",
       "|income|applicant_age|applicant_sex|co_applicant_age|debt_to_income_ratio|applicant_credit_score_type|co_applicant_credit_score_type|loan_type|loan_purpose|loan_amount|interest_rate|loan_term|combined_loan_to_value_ratio|action_taken|\n",
       "+------+-------------+-------------+----------------+--------------------+---------------------------+------------------------------+---------+------------+-----------+-------------+---------+----------------------------+------------+\n",
       "|  65.0|            1|            1|               1|                   2|                          2|                             5|        1|           1|   135000.0|        3.875|      360|                        97.0|           1|\n",
       "| 135.0|            3|            1|               3|                   1|                          5|                             1|        1|          31|   315000.0|        2.124|      180|                       36.82|           1|\n",
       "| 328.0|            4|            2|               4|                   1|                          1|                             2|        1|           1|   435000.0|          2.5|      360|                        80.0|           1|\n",
       "| 565.0|            4|            1|               4|                   0|                          2|                             1|        1|          31|   355000.0|        2.875|      180|                       41.29|           1|\n",
       "|  57.0|            5|            1|               5|                  20|                          5|                             1|        1|          31|   265000.0|          3.0|      360|                       74.28|           1|\n",
       "| 171.0|            4|            1|               4|                  20|                          1|                             1|        1|          31|   485000.0|        2.249|      180|                       48.98|           1|\n",
       "| 157.0|            1|            1|               1|                   1|                          5|                             5|        1|          31|   345000.0|        2.875|      360|                        95.0|           1|\n",
       "| 285.0|            2|            1|               2|                   1|                          1|                             1|        1|          32|   475000.0|          3.0|      360|                       74.48|           1|\n",
       "| 136.0|            1|            2|               1|                   1|                          5|                             1|        1|          31|   365000.0|        2.875|      360|                       78.91|           1|\n",
       "|  91.0|            5|            1|               4|                   2|                          2|                             2|        1|          31|   275000.0|        3.125|      360|                        90.0|           1|\n",
       "| 172.0|            1|            1|               1|                   1|                          1|                             5|        1|           1|   255000.0|        2.875|      360|                        80.0|           1|\n",
       "| 170.0|            4|            3|               3|                  20|                          5|                             1|        1|          31|   495000.0|          2.5|      360|                       59.36|           1|\n",
       "| 107.0|            1|            1|               1|                   1|                          2|                             5|        1|          31|   355000.0|         2.75|      360|                        70.0|           1|\n",
       "| 215.0|            4|            1|               3|                  20|                          5|                             2|        1|          31|   405000.0|        2.125|      180|                       28.15|           1|\n",
       "| 185.0|            2|            1|               1|                   1|                          2|                             1|        1|          31|   685000.0|        2.875|      360|                       74.83|           1|\n",
       "|  65.0|            4|            1|               4|                  20|                          1|                             2|        1|          32|   185000.0|        3.125|      180|                       66.78|           1|\n",
       "| 163.0|            3|            3|               3|                  20|                          2|                             2|        1|          31|   325000.0|         2.49|      360|                       56.72|           1|\n",
       "|  41.0|            5|            2|               5|                   2|                          1|                             1|        1|          31|   115000.0|          3.0|      360|                       23.63|           1|\n",
       "| 128.0|            3|            2|               3|                   2|                          1|                             1|        1|          32|   315000.0|          2.5|      180|                        75.0|           1|\n",
       "| 136.0|            4|            1|               3|                   1|                          2|                             1|        1|          32|   515000.0|        2.625|      360|                       57.34|           1|\n",
       "+------+-------------+-------------+----------------+--------------------+---------------------------+------------------------------+---------+------------+-----------+-------------+---------+----------------------------+------------+\n",
       "only showing top 20 rows"
      ]
     },
     "execution_count": 26,
     "metadata": {},
     "output_type": "execute_result"
    }
   ],
   "source": [
    "from pyspark.sql.functions import col, when\n",
    "\n",
    "final_df = data.withColumn(\n",
    "    \"applicant_age\",\n",
    "     when(col(\"applicant_age\") == '<25', 0)\n",
    "    .when(col(\"applicant_age\") == '25-34', 1)  \n",
    "    .when(col(\"applicant_age\") == '35-44', 2)\n",
    "    .when(col(\"applicant_age\") == '45-54', 3)\n",
    "    .when(col(\"applicant_age\") == '55-64', 4)\n",
    "    .when(col(\"applicant_age\") == '65-74', 5)\n",
    "    .when(col(\"applicant_age\") == '>74', 6)\n",
    "    .when(col(\"applicant_age\") == '8888', 9)\n",
    "    .when(col(\"applicant_age\") == '9999', 9)\n",
    "    .otherwise(col(\"applicant_age\"))  # Keep existing values otherwise\n",
    ")\n",
    "\n",
    "\n",
    "final_df = final_df.withColumn(\n",
    "    \"co_applicant_age\",\n",
    "     when(col(\"co_applicant_age\") == '<25', 0)\n",
    "    .when(col(\"co_applicant_age\") == '25-34', 1)  \n",
    "    .when(col(\"co_applicant_age\") == '35-44', 2)\n",
    "    .when(col(\"co_applicant_age\") == '45-54', 3)\n",
    "    .when(col(\"co_applicant_age\") == '55-64', 4)\n",
    "    .when(col(\"co_applicant_age\") == '65-74', 5)\n",
    "    .when(col(\"co_applicant_age\") == '>74', 6)\n",
    "    .when(col(\"co_applicant_age\") == '8888', 9)\n",
    "    .when(col(\"co_applicant_age\") == '9999', 9)\n",
    "    .otherwise(col(\"co_applicant_age\"))  # Keep existing values otherwise\n",
    ")\n",
    "\n",
    "final_df = final_df.withColumn(\n",
    "    \"debt_to_income_ratio\",\n",
    "     when(col(\"debt_to_income_ratio\") == '<20%', 0)\n",
    "    .when(col(\"debt_to_income_ratio\") == '20%-<30%', 1)\n",
    "    .when(col(\"debt_to_income_ratio\") == '30%-<36%', 2)\n",
    "    .when(col(\"debt_to_income_ratio\") == '36%', 3)\n",
    "    .when(col(\"debt_to_income_ratio\") == '37%', 4)\n",
    "    .when(col(\"debt_to_income_ratio\") == '38%', 5)\n",
    "    .when(col(\"debt_to_income_ratio\") == '39%', 6)\n",
    "    .when(col(\"debt_to_income_ratio\") == '40%', 7)\n",
    "    .when(col(\"debt_to_income_ratio\") == '41%', 8)\n",
    "    .when(col(\"debt_to_income_ratio\") == '42%', 9)\n",
    "    .when(col(\"debt_to_income_ratio\") == '43%', 10)\n",
    "    .when(col(\"debt_to_income_ratio\") == '44%', 11)\n",
    "    .when(col(\"debt_to_income_ratio\") == '45%', 12)\n",
    "    .when(col(\"debt_to_income_ratio\") == '46%', 13)\n",
    "    .when(col(\"debt_to_income_ratio\") == '47%', 14)\n",
    "    .when(col(\"debt_to_income_ratio\") == '48%', 15)\n",
    "    .when(col(\"debt_to_income_ratio\") == '49%', 16)\n",
    "    .when(col(\"debt_to_income_ratio\") == '43%', 17)\n",
    "    .when(col(\"debt_to_income_ratio\") == '50%-60%', 18)\n",
    "    .when(col(\"debt_to_income_ratio\") == '>60%', 19)\n",
    "    .otherwise(20)  \n",
    ")\n",
    "\n",
    "final_df"
   ]
  },
  {
   "cell_type": "markdown",
   "id": "5ff4b5ee",
   "metadata": {},
   "source": [
    "# Scale Numerical Features\n"
   ]
  },
  {
   "cell_type": "code",
   "execution_count": 27,
   "id": "8cad42c7",
   "metadata": {},
   "outputs": [
    {
     "name": "stderr",
     "output_type": "stream",
     "text": [
      "                                                                                \r"
     ]
    },
    {
     "name": "stdout",
     "output_type": "stream",
     "text": [
      "+------+-------------+-------------+----------------+--------------------+---------------------------+------------------------------+---------+------------+-----------+-------------+---------+----------------------------+------------+--------------------+--------------------+\n",
      "|income|applicant_age|applicant_sex|co_applicant_age|debt_to_income_ratio|applicant_credit_score_type|co_applicant_credit_score_type|loan_type|loan_purpose|loan_amount|interest_rate|loan_term|combined_loan_to_value_ratio|action_taken|            features|     scaled_features|\n",
      "+------+-------------+-------------+----------------+--------------------+---------------------------+------------------------------+---------+------------+-----------+-------------+---------+----------------------------+------------+--------------------+--------------------+\n",
      "|  65.0|            1|            1|               1|                   2|                          2|                             5|        1|           1|   135000.0|        3.875|      360|                        97.0|           1|[65.0,135000.0,3....|[0.00737439016812...|\n",
      "| 135.0|            3|            1|               3|                   1|                          5|                             1|        1|          31|   315000.0|        2.124|      180|                       36.82|           1|[135.0,315000.0,2...|[0.01531604111840...|\n",
      "| 328.0|            4|            2|               4|                   1|                          1|                             2|        1|           1|   435000.0|          2.5|      360|                        80.0|           1|[328.0,435000.0,2...|[0.03721230730990...|\n",
      "| 565.0|            4|            1|               4|                   0|                          2|                             1|        1|          31|   355000.0|        2.875|      180|                       41.29|           1|[565.0,355000.0,2...|[0.06410046838443...|\n",
      "|  57.0|            5|            1|               5|                  20|                          5|                             1|        1|          31|   265000.0|          3.0|      360|                       74.28|           1|[57.0,265000.0,3....|[0.00646677291665...|\n",
      "+------+-------------+-------------+----------------+--------------------+---------------------------+------------------------------+---------+------------+-----------+-------------+---------+----------------------------+------------+--------------------+--------------------+\n",
      "only showing top 5 rows\n",
      "\n"
     ]
    }
   ],
   "source": [
    "numerical_cols = [\"income\",\"loan_amount\",\"interest_rate\",\"loan_term\",\"combined_loan_to_value_ratio\"]\n",
    "\n",
    "from pyspark.ml.feature import StandardScaler, VectorAssembler\n",
    "\n",
    "# Assemble features into a single vector column\n",
    "assembler = VectorAssembler(inputCols=[\"income\",\"loan_amount\",\"interest_rate\",\"loan_term\",\"combined_loan_to_value_ratio\"],\n",
    "                            outputCol=\"features\")\n",
    "assembled_data = assembler.transform(final_df)\n",
    "\n",
    "# Standardize the features\n",
    "scaler = StandardScaler(inputCol=\"features\", outputCol=\"scaled_features\")\n",
    "data = scaler.fit(assembled_data).transform(assembled_data)\n",
    "data.show(5)"
   ]
  },
  {
   "cell_type": "code",
   "execution_count": 29,
   "id": "2d3479ec",
   "metadata": {},
   "outputs": [
    {
     "name": "stdout",
     "output_type": "stream",
     "text": [
      "root\n",
      " |-- income: float (nullable = true)\n",
      " |-- applicant_age: string (nullable = true)\n",
      " |-- applicant_sex: string (nullable = true)\n",
      " |-- co_applicant_age: string (nullable = true)\n",
      " |-- debt_to_income_ratio: integer (nullable = false)\n",
      " |-- applicant_credit_score_type: integer (nullable = true)\n",
      " |-- co_applicant_credit_score_type: integer (nullable = true)\n",
      " |-- loan_type: integer (nullable = true)\n",
      " |-- loan_purpose: integer (nullable = true)\n",
      " |-- loan_amount: float (nullable = true)\n",
      " |-- interest_rate: float (nullable = true)\n",
      " |-- loan_term: integer (nullable = true)\n",
      " |-- combined_loan_to_value_ratio: float (nullable = true)\n",
      " |-- action_taken: integer (nullable = true)\n",
      " |-- features: vector (nullable = true)\n",
      " |-- scaled_features: vector (nullable = true)\n",
      "\n"
     ]
    }
   ],
   "source": [
    "data.printSchema()"
   ]
  },
  {
   "cell_type": "code",
   "execution_count": null,
   "id": "d158d0f8",
   "metadata": {},
   "outputs": [],
   "source": []
  },
  {
   "cell_type": "code",
   "execution_count": 31,
   "id": "03b975bb",
   "metadata": {},
   "outputs": [
    {
     "name": "stdout",
     "output_type": "stream",
     "text": [
      "root\n",
      " |-- income: float (nullable = true)\n",
      " |-- applicant_age: integer (nullable = true)\n",
      " |-- applicant_sex: string (nullable = true)\n",
      " |-- co_applicant_age: integer (nullable = true)\n",
      " |-- debt_to_income_ratio: integer (nullable = false)\n",
      " |-- applicant_credit_score_type: integer (nullable = true)\n",
      " |-- co_applicant_credit_score_type: integer (nullable = true)\n",
      " |-- loan_type: integer (nullable = true)\n",
      " |-- loan_purpose: integer (nullable = true)\n",
      " |-- loan_amount: float (nullable = true)\n",
      " |-- interest_rate: float (nullable = true)\n",
      " |-- loan_term: integer (nullable = true)\n",
      " |-- combined_loan_to_value_ratio: float (nullable = true)\n",
      " |-- action_taken: integer (nullable = true)\n",
      "\n"
     ]
    }
   ],
   "source": [
    "# change dat type of applicant age and co applicant age\n",
    "from pyspark.sql.types import ( IntegerType) \n",
    "\n",
    "coltype_map = { \n",
    "    \"applicant_age\": IntegerType(), \n",
    "    \"co_applicant_age\": IntegerType()\n",
    "} \n",
    "\n",
    "from pyspark.sql.functions import col\n",
    "\n",
    "for col_name, data_type in coltype_map.items():\n",
    "    final_df = final_df.withColumn(col_name, col(col_name).cast(data_type))\n",
    "\n",
    "    \n",
    "final_df.printSchema() \n"
   ]
  },
  {
   "cell_type": "code",
   "execution_count": null,
   "id": "425a404c",
   "metadata": {},
   "outputs": [],
   "source": []
  },
  {
   "cell_type": "code",
   "execution_count": null,
   "id": "7def5f6b",
   "metadata": {},
   "outputs": [],
   "source": []
  }
 ],
 "metadata": {
  "kernelspec": {
   "display_name": "Python 3 (ipykernel)",
   "language": "python",
   "name": "python3"
  },
  "language_info": {
   "codemirror_mode": {
    "name": "ipython",
    "version": 3
   },
   "file_extension": ".py",
   "mimetype": "text/x-python",
   "name": "python",
   "nbconvert_exporter": "python",
   "pygments_lexer": "ipython3",
   "version": "3.12.1"
  }
 },
 "nbformat": 4,
 "nbformat_minor": 5
}
