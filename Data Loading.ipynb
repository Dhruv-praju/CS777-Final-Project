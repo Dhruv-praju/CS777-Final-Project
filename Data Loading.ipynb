{
 "cells": [
  {
   "cell_type": "code",
   "execution_count": 1,
   "id": "9d64b7e9-06d6-497f-a7dd-b49b1f477183",
   "metadata": {},
   "outputs": [],
   "source": [
    "from pyspark.sql import SparkSession"
   ]
  },
  {
   "cell_type": "code",
   "execution_count": 2,
   "id": "bd2bb6e5-58c8-4ad4-bef5-c1fd4f832cda",
   "metadata": {},
   "outputs": [
    {
     "name": "stderr",
     "output_type": "stream",
     "text": [
      "Setting default log level to \"WARN\".\n",
      "To adjust logging level use sc.setLogLevel(newLevel). For SparkR, use setLogLevel(newLevel).\n",
      "24/11/21 16:13:23 WARN NativeCodeLoader: Unable to load native-hadoop library for your platform... using builtin-java classes where applicable\n"
     ]
    }
   ],
   "source": [
    "spark = SparkSession.builder \\\n",
    "    .appName(\"Final\") \\\n",
    "    .getOrCreate()\n",
    "\n",
    "sc = spark.sparkContext"
   ]
  },
  {
   "cell_type": "code",
   "execution_count": 3,
   "id": "83500d02-48a7-48c6-8a9d-f1e0b44a517c",
   "metadata": {},
   "outputs": [
    {
     "data": {
      "text/html": [
       "\n",
       "            <div>\n",
       "                <p><b>SparkSession - in-memory</b></p>\n",
       "                \n",
       "        <div>\n",
       "            <p><b>SparkContext</b></p>\n",
       "\n",
       "            <p><a href=\"http://crc-dot1x-nat-10-239-73-149.bu.edu:4040\">Spark UI</a></p>\n",
       "\n",
       "            <dl>\n",
       "              <dt>Version</dt>\n",
       "                <dd><code>v3.5.2</code></dd>\n",
       "              <dt>Master</dt>\n",
       "                <dd><code>local[*]</code></dd>\n",
       "              <dt>AppName</dt>\n",
       "                <dd><code>Final</code></dd>\n",
       "            </dl>\n",
       "        </div>\n",
       "        \n",
       "            </div>\n",
       "        "
      ],
      "text/plain": [
       "<pyspark.sql.session.SparkSession at 0x111a29b50>"
      ]
     },
     "execution_count": 3,
     "metadata": {},
     "output_type": "execute_result"
    }
   ],
   "source": [
    "spark"
   ]
  },
  {
   "cell_type": "code",
   "execution_count": 22,
   "id": "15ab5003-6d4e-40e4-b6ce-ad951e131047",
   "metadata": {},
   "outputs": [],
   "source": [
    "spark.conf.set('spark.sql.repl.eagerEval.enabled', True)"
   ]
  },
  {
   "cell_type": "code",
   "execution_count": 40,
   "id": "9282e417-3074-400c-9ebb-15c90ae2b083",
   "metadata": {},
   "outputs": [],
   "source": [
    "df = spark.read.text('2020_lar.txt')"
   ]
  },
  {
   "cell_type": "code",
   "execution_count": 42,
   "id": "fc31182f-f12e-4ae3-8583-c51a1887d894",
   "metadata": {},
   "outputs": [
    {
     "name": "stderr",
     "output_type": "stream",
     "text": [
      "                                                                                \r"
     ]
    },
    {
     "data": {
      "text/plain": [
       "25699044"
      ]
     },
     "execution_count": 42,
     "metadata": {},
     "output_type": "execute_result"
    }
   ],
   "source": [
    "df.count()"
   ]
  },
  {
   "cell_type": "code",
   "execution_count": 43,
   "id": "b7f18d04-0e0c-44a0-bef1-906b5638c7bf",
   "metadata": {},
   "outputs": [],
   "source": [
    "df = spark.read.option(\"header\", \"true\") \\\n",
    "    .option(\"delimiter\", \"|\") \\\n",
    "    .csv('2020_lar.txt')"
   ]
  },
  {
   "cell_type": "code",
   "execution_count": 45,
   "id": "d3f9a880-4e7b-4187-977f-7e6d17f39c90",
   "metadata": {
    "scrolled": true
   },
   "outputs": [
    {
     "data": {
      "text/html": [
       "<table border='1'>\n",
       "<tr><th>activity_year</th><th>lei</th><th>derived_msa_md</th><th>state_code</th><th>county_code</th><th>census_tract</th><th>conforming_loan_limit</th><th>derived_loan_product_type</th><th>derived_dwelling_category</th><th>derived_ethnicity</th><th>derived_race</th><th>derived_sex</th><th>action_taken</th><th>purchaser_type</th><th>preapproval</th><th>loan_type</th><th>loan_purpose</th><th>lien_status</th><th>reverse_mortgage</th><th>open_end_line_of_credit</th><th>business_or_commercial_purpose</th><th>loan_amount</th><th>combined_loan_to_value_ratio</th><th>interest_rate</th><th>rate_spread</th><th>hoepa_status</th><th>total_loan_costs</th><th>total_points_and_fees</th><th>origination_charges</th><th>discount_points</th><th>lender_credits</th><th>loan_term</th><th>prepayment_penalty_term</th><th>intro_rate_period</th><th>negative_amortization</th><th>interest_only_payment</th><th>balloon_payment</th><th>other_nonamortizing_features</th><th>property_value</th><th>construction_method</th><th>occupancy_type</th><th>manufactured_home_secured_property_type</th><th>manufactured_home_land_property_interest</th><th>total_units</th><th>multifamily_affordable_units</th><th>income</th><th>debt_to_income_ratio</th><th>applicant_credit_score_type</th><th>co_applicant_credit_score_type</th><th>applicant_ethnicity_1</th><th>applicant_ethnicity_2</th><th>applicant_ethnicity_3</th><th>applicant_ethnicity_4</th><th>applicant_ethnicity_5</th><th>co_applicant_ethnicity_1</th><th>co_applicant_ethnicity_2</th><th>co_applicant_ethnicity_3</th><th>co_applicant_ethnicity_4</th><th>co_applicant_ethnicity_5</th><th>applicant_ethnicity_observed</th><th>co_applicant_ethnicity_observed</th><th>applicant_race_1</th><th>applicant_race_2</th><th>applicant_race_3</th><th>applicant_race_4</th><th>applicant_race_5</th><th>co_applicant_race_1</th><th>co_applicant_race_2</th><th>co_applicant_race_3</th><th>co_applicant_race_4</th><th>co_applicant_race_5</th><th>applicant_race_observed</th><th>co_applicant_race_observed</th><th>applicant_sex</th><th>co_applicant_sex</th><th>applicant_sex_observed</th><th>co_applicant_sex_observed</th><th>applicant_age</th><th>co_applicant_age</th><th>applicant_age_above_62</th><th>co_applicant_age_above_62</th><th>submission_of_application</th><th>initially_payable_to_institution</th><th>aus_1</th><th>aus_2</th><th>aus_3</th><th>aus_4</th><th>aus_5</th><th>denial_reason_1</th><th>denial_reason_2</th><th>denial_reason_3</th><th>denial_reason_4</th><th>tract_population</th><th>tract_minority_population_percent</th><th>ffiec_msa_md_median_family_income</th><th>tract_to_msa_income_percentage</th><th>tract_owner_occupied_units</th><th>tract_one_to_four_family_homes</th><th>tract_median_age_of_housing_units</th></tr>\n",
       "<tr><td>2020</td><td>549300RBX56T2MW5HO19</td><td>29620</td><td>MI</td><td>26065</td><td>26065003400</td><td>C</td><td>Conventional:Firs...</td><td>Single Family (1-...</td><td>Not Hispanic or L...</td><td>White</td><td>Joint</td><td>1</td><td>0</td><td>2</td><td>1</td><td>1</td><td>1</td><td>2</td><td>2</td><td>2</td><td>135000</td><td>97.0</td><td>3.875</td><td>1.273</td><td>2</td><td>460.0</td><td>NA</td><td>0.0</td><td>NULL</td><td>NA</td><td>360</td><td>NA</td><td>NA</td><td>2</td><td>2</td><td>2</td><td>2</td><td>145000</td><td>1</td><td>1</td><td>3</td><td>5</td><td>1</td><td>NA</td><td>65</td><td>30%-&lt;36%</td><td>2</td><td>5</td><td>2</td><td>NULL</td><td>NULL</td><td>NULL</td><td>NULL</td><td>2</td><td>NULL</td><td>NULL</td><td>NULL</td><td>NULL</td><td>2</td><td>2</td><td>5</td><td>NULL</td><td>NULL</td><td>NULL</td><td>NULL</td><td>5</td><td>NULL</td><td>NULL</td><td>NULL</td><td>NULL</td><td>2</td><td>2</td><td>1</td><td>2</td><td>2</td><td>2</td><td>25-34</td><td>25-34</td><td>No</td><td>No</td><td>1</td><td>1</td><td>1</td><td>NULL</td><td>NULL</td><td>NULL</td><td>NULL</td><td>10</td><td>NULL</td><td>NULL</td><td>NULL</td><td>2253</td><td>28.72</td><td>79300</td><td>109.02</td><td>773</td><td>883</td><td>57</td></tr>\n",
       "<tr><td>2020</td><td>549300RBX56T2MW5HO19</td><td>31084</td><td>CA</td><td>06037</td><td>06037108201</td><td>C</td><td>Conventional:Firs...</td><td>Single Family (1-...</td><td>Not Hispanic or L...</td><td>Asian</td><td>Joint</td><td>1</td><td>1</td><td>2</td><td>1</td><td>31</td><td>1</td><td>2</td><td>2</td><td>2</td><td>315000</td><td>36.82</td><td>2.124</td><td>-0.256</td><td>2</td><td>316.13</td><td>NA</td><td>316.13</td><td>NULL</td><td>316.13</td><td>180</td><td>NA</td><td>NA</td><td>2</td><td>2</td><td>2</td><td>2</td><td>855000</td><td>1</td><td>1</td><td>3</td><td>5</td><td>1</td><td>NA</td><td>135</td><td>20%-&lt;30%</td><td>5</td><td>1</td><td>2</td><td>NULL</td><td>NULL</td><td>NULL</td><td>NULL</td><td>2</td><td>NULL</td><td>NULL</td><td>NULL</td><td>NULL</td><td>2</td><td>2</td><td>2</td><td>25</td><td>NULL</td><td>NULL</td><td>NULL</td><td>2</td><td>25</td><td>NULL</td><td>NULL</td><td>NULL</td><td>2</td><td>2</td><td>1</td><td>2</td><td>2</td><td>2</td><td>45-54</td><td>45-54</td><td>No</td><td>No</td><td>1</td><td>1</td><td>1</td><td>NULL</td><td>NULL</td><td>NULL</td><td>NULL</td><td>10</td><td>NULL</td><td>NULL</td><td>NULL</td><td>5846</td><td>62.37</td><td>77300</td><td>166.05</td><td>1378</td><td>1972</td><td>25</td></tr>\n",
       "<tr><td>2020</td><td>549300RBX56T2MW5HO19</td><td>41100</td><td>UT</td><td>49053</td><td>49053270600</td><td>C</td><td>FHA:First Lien</td><td>Single Family (1-...</td><td>Not Hispanic or L...</td><td>White</td><td>Joint</td><td>1</td><td>9</td><td>2</td><td>2</td><td>1</td><td>1</td><td>1</td><td>2</td><td>2</td><td>135000</td><td>55.1</td><td>3.43</td><td>NA</td><td>3</td><td>NA</td><td>NA</td><td>NA</td><td>NA</td><td>NA</td><td>NA</td><td>NA</td><td>NA</td><td>2</td><td>2</td><td>2</td><td>2</td><td>255000</td><td>1</td><td>1</td><td>3</td><td>5</td><td>1</td><td>NA</td><td>NA</td><td>NA</td><td>9</td><td>9</td><td>2</td><td>NULL</td><td>NULL</td><td>NULL</td><td>NULL</td><td>2</td><td>NULL</td><td>NULL</td><td>NULL</td><td>NULL</td><td>2</td><td>2</td><td>5</td><td>NULL</td><td>NULL</td><td>NULL</td><td>NULL</td><td>5</td><td>NULL</td><td>NULL</td><td>NULL</td><td>NULL</td><td>2</td><td>2</td><td>1</td><td>2</td><td>2</td><td>2</td><td>65-74</td><td>65-74</td><td>Yes</td><td>Yes</td><td>1</td><td>1</td><td>6</td><td>NULL</td><td>NULL</td><td>NULL</td><td>NULL</td><td>10</td><td>NULL</td><td>NULL</td><td>NULL</td><td>7739</td><td>15.62</td><td>70700</td><td>102.72</td><td>1803</td><td>3813</td><td>19</td></tr>\n",
       "<tr><td>2020</td><td>549300RBX56T2MW5HO19</td><td>19740</td><td>CO</td><td>08031</td><td>08031004004</td><td>C</td><td>Conventional:Firs...</td><td>Single Family (1-...</td><td>Not Hispanic or L...</td><td>White</td><td>Joint</td><td>4</td><td>0</td><td>2</td><td>1</td><td>32</td><td>1</td><td>2</td><td>2</td><td>2</td><td>405000</td><td>NA</td><td>NA</td><td>NA</td><td>3</td><td>NA</td><td>NA</td><td>NA</td><td>NA</td><td>NA</td><td>240</td><td>NA</td><td>NA</td><td>2</td><td>2</td><td>2</td><td>2</td><td>NA</td><td>1</td><td>1</td><td>3</td><td>5</td><td>1</td><td>NA</td><td>120</td><td>NA</td><td>9</td><td>9</td><td>2</td><td>NULL</td><td>NULL</td><td>NULL</td><td>NULL</td><td>2</td><td>NULL</td><td>NULL</td><td>NULL</td><td>NULL</td><td>2</td><td>2</td><td>5</td><td>NULL</td><td>NULL</td><td>NULL</td><td>NULL</td><td>5</td><td>NULL</td><td>NULL</td><td>NULL</td><td>NULL</td><td>2</td><td>2</td><td>1</td><td>2</td><td>2</td><td>2</td><td>35-44</td><td>35-44</td><td>No</td><td>No</td><td>1</td><td>1</td><td>6</td><td>NULL</td><td>NULL</td><td>NULL</td><td>NULL</td><td>10</td><td>NULL</td><td>NULL</td><td>NULL</td><td>1908</td><td>8.54</td><td>100000</td><td>145.9</td><td>802</td><td>760</td><td>52</td></tr>\n",
       "<tr><td>2020</td><td>549300RBX56T2MW5HO19</td><td>17820</td><td>CO</td><td>08041</td><td>08041002501</td><td>C</td><td>Conventional:Firs...</td><td>Single Family (1-...</td><td>Not Hispanic or L...</td><td>White</td><td>Female</td><td>1</td><td>1</td><td>2</td><td>1</td><td>1</td><td>1</td><td>2</td><td>2</td><td>2</td><td>435000</td><td>80.0</td><td>2.5</td><td>-0.39</td><td>2</td><td>0.0</td><td>NA</td><td>0.0</td><td>NULL</td><td>NA</td><td>360</td><td>NA</td><td>NA</td><td>2</td><td>2</td><td>2</td><td>2</td><td>565000</td><td>1</td><td>1</td><td>3</td><td>5</td><td>1</td><td>NA</td><td>328</td><td>20%-&lt;30%</td><td>1</td><td>2</td><td>2</td><td>NULL</td><td>NULL</td><td>NULL</td><td>NULL</td><td>2</td><td>NULL</td><td>NULL</td><td>NULL</td><td>NULL</td><td>2</td><td>2</td><td>5</td><td>NULL</td><td>NULL</td><td>NULL</td><td>NULL</td><td>5</td><td>NULL</td><td>NULL</td><td>NULL</td><td>NULL</td><td>2</td><td>2</td><td>2</td><td>2</td><td>2</td><td>2</td><td>55-64</td><td>55-64</td><td>No</td><td>No</td><td>1</td><td>1</td><td>1</td><td>NULL</td><td>NULL</td><td>NULL</td><td>NULL</td><td>10</td><td>NULL</td><td>NULL</td><td>NULL</td><td>3276</td><td>11.14</td><td>81700</td><td>146.97</td><td>1163</td><td>1472</td><td>45</td></tr>\n",
       "<tr><td>2020</td><td>549300RBX56T2MW5HO19</td><td>11244</td><td>CA</td><td>06059</td><td>06059042334</td><td>C</td><td>Conventional:Firs...</td><td>Single Family (1-...</td><td>Not Hispanic or L...</td><td>Asian</td><td>Joint</td><td>1</td><td>1</td><td>2</td><td>1</td><td>31</td><td>1</td><td>2</td><td>2</td><td>2</td><td>355000</td><td>41.29</td><td>2.875</td><td>NA</td><td>2</td><td>120.0</td><td>NA</td><td>0.0</td><td>NULL</td><td>NA</td><td>180</td><td>NA</td><td>NA</td><td>2</td><td>2</td><td>2</td><td>2</td><td>855000</td><td>1</td><td>3</td><td>3</td><td>5</td><td>1</td><td>NA</td><td>565</td><td>&lt;20%</td><td>2</td><td>1</td><td>2</td><td>NULL</td><td>NULL</td><td>NULL</td><td>NULL</td><td>2</td><td>NULL</td><td>NULL</td><td>NULL</td><td>NULL</td><td>2</td><td>2</td><td>2</td><td>NULL</td><td>NULL</td><td>NULL</td><td>NULL</td><td>2</td><td>NULL</td><td>NULL</td><td>NULL</td><td>NULL</td><td>2</td><td>2</td><td>1</td><td>2</td><td>2</td><td>2</td><td>55-64</td><td>55-64</td><td>No</td><td>No</td><td>1</td><td>1</td><td>1</td><td>NULL</td><td>NULL</td><td>NULL</td><td>NULL</td><td>10</td><td>NULL</td><td>NULL</td><td>NULL</td><td>5173</td><td>36.61</td><td>103000</td><td>111.29</td><td>1440</td><td>1707</td><td>31</td></tr>\n",
       "<tr><td>2020</td><td>549300RBX56T2MW5HO19</td><td>19740</td><td>CO</td><td>08031</td><td>08031008391</td><td>C</td><td>Conventional:Firs...</td><td>Single Family (1-...</td><td>Not Hispanic or L...</td><td>White</td><td>Joint</td><td>1</td><td>3</td><td>2</td><td>1</td><td>31</td><td>1</td><td>2</td><td>2</td><td>2</td><td>265000</td><td>74.28</td><td>3.0</td><td>0.231</td><td>2</td><td>120.0</td><td>NA</td><td>0.0</td><td>NULL</td><td>NA</td><td>360</td><td>NA</td><td>NA</td><td>2</td><td>2</td><td>2</td><td>2</td><td>355000</td><td>1</td><td>1</td><td>3</td><td>5</td><td>1</td><td>NA</td><td>57</td><td>39</td><td>5</td><td>1</td><td>2</td><td>NULL</td><td>NULL</td><td>NULL</td><td>NULL</td><td>2</td><td>NULL</td><td>NULL</td><td>NULL</td><td>NULL</td><td>2</td><td>2</td><td>5</td><td>NULL</td><td>NULL</td><td>NULL</td><td>NULL</td><td>5</td><td>NULL</td><td>NULL</td><td>NULL</td><td>NULL</td><td>2</td><td>2</td><td>1</td><td>2</td><td>2</td><td>2</td><td>65-74</td><td>65-74</td><td>Yes</td><td>Yes</td><td>1</td><td>1</td><td>2</td><td>NULL</td><td>NULL</td><td>NULL</td><td>NULL</td><td>10</td><td>NULL</td><td>NULL</td><td>NULL</td><td>8352</td><td>80.24</td><td>100000</td><td>89.96</td><td>1769</td><td>2423</td><td>16</td></tr>\n",
       "<tr><td>2020</td><td>549300RBX56T2MW5HO19</td><td>41740</td><td>CA</td><td>06073</td><td>06073018504</td><td>C</td><td>Conventional:Firs...</td><td>Single Family (1-...</td><td>Not Hispanic or L...</td><td>White</td><td>Joint</td><td>1</td><td>1</td><td>2</td><td>1</td><td>31</td><td>1</td><td>2</td><td>2</td><td>2</td><td>485000</td><td>48.98</td><td>2.249</td><td>-0.151</td><td>2</td><td>1862.4</td><td>NA</td><td>1862.4</td><td>NULL</td><td>1862.4</td><td>180</td><td>NA</td><td>NA</td><td>2</td><td>2</td><td>2</td><td>2</td><td>995000</td><td>1</td><td>1</td><td>3</td><td>5</td><td>1</td><td>NA</td><td>171</td><td>44</td><td>1</td><td>1</td><td>2</td><td>NULL</td><td>NULL</td><td>NULL</td><td>NULL</td><td>2</td><td>NULL</td><td>NULL</td><td>NULL</td><td>NULL</td><td>2</td><td>2</td><td>5</td><td>NULL</td><td>NULL</td><td>NULL</td><td>NULL</td><td>5</td><td>NULL</td><td>NULL</td><td>NULL</td><td>NULL</td><td>2</td><td>2</td><td>1</td><td>2</td><td>2</td><td>2</td><td>55-64</td><td>55-64</td><td>No</td><td>No</td><td>1</td><td>1</td><td>1</td><td>NULL</td><td>NULL</td><td>NULL</td><td>NULL</td><td>10</td><td>NULL</td><td>NULL</td><td>NULL</td><td>6972</td><td>40.72</td><td>92700</td><td>91.47</td><td>1399</td><td>2302</td><td>38</td></tr>\n",
       "<tr><td>2020</td><td>549300RBX56T2MW5HO19</td><td>24540</td><td>CO</td><td>08123</td><td>08123002102</td><td>C</td><td>Conventional:Firs...</td><td>Single Family (1-...</td><td>Not Hispanic or L...</td><td>White</td><td>Joint</td><td>1</td><td>3</td><td>2</td><td>1</td><td>31</td><td>1</td><td>2</td><td>2</td><td>2</td><td>345000</td><td>95.0</td><td>2.875</td><td>0.395</td><td>2</td><td>745.0</td><td>NA</td><td>625.0</td><td>NULL</td><td>625.0</td><td>360</td><td>NA</td><td>NA</td><td>2</td><td>2</td><td>2</td><td>2</td><td>365000</td><td>1</td><td>1</td><td>3</td><td>5</td><td>1</td><td>NA</td><td>157</td><td>20%-&lt;30%</td><td>5</td><td>5</td><td>2</td><td>NULL</td><td>NULL</td><td>NULL</td><td>NULL</td><td>2</td><td>NULL</td><td>NULL</td><td>NULL</td><td>NULL</td><td>2</td><td>2</td><td>5</td><td>NULL</td><td>NULL</td><td>NULL</td><td>NULL</td><td>5</td><td>NULL</td><td>NULL</td><td>NULL</td><td>NULL</td><td>2</td><td>2</td><td>1</td><td>2</td><td>2</td><td>2</td><td>25-34</td><td>25-34</td><td>No</td><td>No</td><td>1</td><td>1</td><td>2</td><td>NULL</td><td>NULL</td><td>NULL</td><td>NULL</td><td>10</td><td>NULL</td><td>NULL</td><td>NULL</td><td>12241</td><td>16.27</td><td>84300</td><td>121.98</td><td>3708</td><td>4169</td><td>13</td></tr>\n",
       "<tr><td>2020</td><td>549300RBX56T2MW5HO19</td><td>16984</td><td>IL</td><td>17043</td><td>17043846202</td><td>C</td><td>Conventional:Firs...</td><td>Single Family (1-...</td><td>Not Hispanic or L...</td><td>White</td><td>Joint</td><td>1</td><td>1</td><td>2</td><td>1</td><td>32</td><td>1</td><td>2</td><td>2</td><td>2</td><td>475000</td><td>74.48</td><td>3.0</td><td>0.237</td><td>2</td><td>520.0</td><td>NA</td><td>400.0</td><td>NULL</td><td>400.0</td><td>360</td><td>NA</td><td>NA</td><td>2</td><td>2</td><td>2</td><td>2</td><td>635000</td><td>1</td><td>1</td><td>3</td><td>5</td><td>1</td><td>NA</td><td>285</td><td>20%-&lt;30%</td><td>1</td><td>1</td><td>2</td><td>NULL</td><td>NULL</td><td>NULL</td><td>NULL</td><td>2</td><td>NULL</td><td>NULL</td><td>NULL</td><td>NULL</td><td>2</td><td>2</td><td>5</td><td>NULL</td><td>NULL</td><td>NULL</td><td>NULL</td><td>5</td><td>NULL</td><td>NULL</td><td>NULL</td><td>NULL</td><td>2</td><td>2</td><td>1</td><td>2</td><td>2</td><td>2</td><td>35-44</td><td>35-44</td><td>No</td><td>No</td><td>1</td><td>1</td><td>1</td><td>NULL</td><td>NULL</td><td>NULL</td><td>NULL</td><td>10</td><td>NULL</td><td>NULL</td><td>NULL</td><td>5965</td><td>34.64</td><td>84800</td><td>139.42</td><td>1372</td><td>1363</td><td>33</td></tr>\n",
       "<tr><td>2020</td><td>549300RBX56T2MW5HO19</td><td>38900</td><td>OR</td><td>41051</td><td>41051004001</td><td>C</td><td>Conventional:Firs...</td><td>Single Family (1-...</td><td>Not Hispanic or L...</td><td>White</td><td>Joint</td><td>1</td><td>3</td><td>2</td><td>1</td><td>31</td><td>1</td><td>2</td><td>2</td><td>2</td><td>365000</td><td>78.91</td><td>2.875</td><td>0.081</td><td>2</td><td>7300.0</td><td>NA</td><td>7260.0</td><td>NULL</td><td>7260.0</td><td>360</td><td>NA</td><td>NA</td><td>2</td><td>2</td><td>2</td><td>2</td><td>465000</td><td>1</td><td>1</td><td>3</td><td>5</td><td>1</td><td>NA</td><td>136</td><td>20%-&lt;30%</td><td>5</td><td>1</td><td>2</td><td>NULL</td><td>NULL</td><td>NULL</td><td>NULL</td><td>2</td><td>NULL</td><td>NULL</td><td>NULL</td><td>NULL</td><td>2</td><td>2</td><td>5</td><td>NULL</td><td>NULL</td><td>NULL</td><td>NULL</td><td>5</td><td>NULL</td><td>NULL</td><td>NULL</td><td>NULL</td><td>2</td><td>2</td><td>2</td><td>1</td><td>2</td><td>2</td><td>25-34</td><td>25-34</td><td>No</td><td>No</td><td>2</td><td>1</td><td>2</td><td>NULL</td><td>NULL</td><td>NULL</td><td>NULL</td><td>10</td><td>NULL</td><td>NULL</td><td>NULL</td><td>8486</td><td>54.63</td><td>92100</td><td>55.64</td><td>1070</td><td>2164</td><td>40</td></tr>\n",
       "<tr><td>2020</td><td>549300RBX56T2MW5HO19</td><td>23224</td><td>MD</td><td>24031</td><td>24031700706</td><td>C</td><td>Conventional:Firs...</td><td>Single Family (1-...</td><td>Ethnicity Not Ava...</td><td>Race Not Available</td><td>Sex Not Available</td><td>5</td><td>0</td><td>2</td><td>1</td><td>31</td><td>1</td><td>2</td><td>2</td><td>2</td><td>455000</td><td>NA</td><td>NA</td><td>NA</td><td>3</td><td>NA</td><td>NA</td><td>NA</td><td>NA</td><td>NA</td><td>360</td><td>NA</td><td>NA</td><td>2</td><td>2</td><td>2</td><td>2</td><td>NA</td><td>1</td><td>1</td><td>3</td><td>5</td><td>1</td><td>NA</td><td>75</td><td>NA</td><td>9</td><td>9</td><td>3</td><td>NULL</td><td>NULL</td><td>NULL</td><td>NULL</td><td>3</td><td>NULL</td><td>NULL</td><td>NULL</td><td>NULL</td><td>2</td><td>2</td><td>6</td><td>NULL</td><td>NULL</td><td>NULL</td><td>NULL</td><td>6</td><td>NULL</td><td>NULL</td><td>NULL</td><td>NULL</td><td>2</td><td>2</td><td>3</td><td>3</td><td>2</td><td>2</td><td>45-54</td><td>55-64</td><td>No</td><td>No</td><td>1</td><td>1</td><td>1</td><td>NULL</td><td>NULL</td><td>NULL</td><td>NULL</td><td>10</td><td>NULL</td><td>NULL</td><td>NULL</td><td>4154</td><td>70.58</td><td>124400</td><td>70.37</td><td>623</td><td>719</td><td>36</td></tr>\n",
       "<tr><td>2020</td><td>549300RBX56T2MW5HO19</td><td>19740</td><td>CO</td><td>08031</td><td>08031012014</td><td>C</td><td>Conventional:Firs...</td><td>Single Family (1-...</td><td>Ethnicity Not Ava...</td><td>Race Not Available</td><td>Joint</td><td>1</td><td>1</td><td>2</td><td>1</td><td>31</td><td>1</td><td>2</td><td>2</td><td>2</td><td>275000</td><td>90.0</td><td>3.125</td><td>0.512</td><td>2</td><td>856.0</td><td>NA</td><td>0.0</td><td>NULL</td><td>NA</td><td>360</td><td>NA</td><td>NA</td><td>2</td><td>2</td><td>2</td><td>2</td><td>305000</td><td>1</td><td>1</td><td>3</td><td>5</td><td>1</td><td>NA</td><td>91</td><td>30%-&lt;36%</td><td>2</td><td>2</td><td>3</td><td>NULL</td><td>NULL</td><td>NULL</td><td>NULL</td><td>3</td><td>NULL</td><td>NULL</td><td>NULL</td><td>NULL</td><td>2</td><td>2</td><td>6</td><td>NULL</td><td>NULL</td><td>NULL</td><td>NULL</td><td>6</td><td>NULL</td><td>NULL</td><td>NULL</td><td>NULL</td><td>2</td><td>2</td><td>1</td><td>2</td><td>2</td><td>2</td><td>65-74</td><td>55-64</td><td>Yes</td><td>Yes</td><td>1</td><td>1</td><td>1</td><td>NULL</td><td>NULL</td><td>NULL</td><td>NULL</td><td>10</td><td>NULL</td><td>NULL</td><td>NULL</td><td>6321</td><td>31.21</td><td>100000</td><td>89.3</td><td>1671</td><td>1673</td><td>29</td></tr>\n",
       "<tr><td>2020</td><td>549300RBX56T2MW5HO19</td><td>37100</td><td>CA</td><td>06111</td><td>06111008202</td><td>C</td><td>FHA:First Lien</td><td>Single Family (1-...</td><td>Not Hispanic or L...</td><td>White</td><td>Joint</td><td>4</td><td>0</td><td>2</td><td>2</td><td>31</td><td>1</td><td>1</td><td>2</td><td>2</td><td>395000</td><td>NA</td><td>NA</td><td>NA</td><td>3</td><td>NA</td><td>NA</td><td>NA</td><td>NA</td><td>NA</td><td>NA</td><td>NA</td><td>NA</td><td>2</td><td>2</td><td>2</td><td>2</td><td>NA</td><td>1</td><td>1</td><td>3</td><td>5</td><td>1</td><td>NA</td><td>NA</td><td>NA</td><td>9</td><td>9</td><td>2</td><td>NULL</td><td>NULL</td><td>NULL</td><td>NULL</td><td>2</td><td>NULL</td><td>NULL</td><td>NULL</td><td>NULL</td><td>2</td><td>2</td><td>5</td><td>NULL</td><td>NULL</td><td>NULL</td><td>NULL</td><td>5</td><td>NULL</td><td>NULL</td><td>NULL</td><td>NULL</td><td>2</td><td>2</td><td>1</td><td>2</td><td>2</td><td>2</td><td>65-74</td><td>65-74</td><td>Yes</td><td>Yes</td><td>1</td><td>1</td><td>6</td><td>NULL</td><td>NULL</td><td>NULL</td><td>NULL</td><td>10</td><td>NULL</td><td>NULL</td><td>NULL</td><td>4762</td><td>43.55</td><td>97800</td><td>88.04</td><td>1147</td><td>1444</td><td>42</td></tr>\n",
       "<tr><td>2020</td><td>549300RBX56T2MW5HO19</td><td>19124</td><td>TX</td><td>48121</td><td>48121021405</td><td>C</td><td>Conventional:Firs...</td><td>Single Family (1-...</td><td>Ethnicity Not Ava...</td><td>Race Not Available</td><td>Joint</td><td>1</td><td>1</td><td>2</td><td>1</td><td>1</td><td>1</td><td>2</td><td>2</td><td>2</td><td>255000</td><td>80.0</td><td>2.875</td><td>0.058</td><td>2</td><td>120.0</td><td>NA</td><td>0.0</td><td>NULL</td><td>NA</td><td>360</td><td>NA</td><td>NA</td><td>2</td><td>2</td><td>2</td><td>2</td><td>315000</td><td>1</td><td>1</td><td>3</td><td>5</td><td>1</td><td>NA</td><td>172</td><td>20%-&lt;30%</td><td>1</td><td>5</td><td>3</td><td>NULL</td><td>NULL</td><td>NULL</td><td>NULL</td><td>2</td><td>NULL</td><td>NULL</td><td>NULL</td><td>NULL</td><td>2</td><td>2</td><td>6</td><td>NULL</td><td>NULL</td><td>NULL</td><td>NULL</td><td>5</td><td>NULL</td><td>NULL</td><td>NULL</td><td>NULL</td><td>2</td><td>2</td><td>1</td><td>2</td><td>2</td><td>2</td><td>25-34</td><td>25-34</td><td>No</td><td>No</td><td>1</td><td>1</td><td>1</td><td>NULL</td><td>NULL</td><td>NULL</td><td>NULL</td><td>10</td><td>NULL</td><td>NULL</td><td>NULL</td><td>9821</td><td>41.82</td><td>86200</td><td>114.01</td><td>1924</td><td>2957</td><td>12</td></tr>\n",
       "<tr><td>2020</td><td>549300RBX56T2MW5HO19</td><td>41940</td><td>CA</td><td>06085</td><td>06085512033</td><td>C</td><td>Conventional:Firs...</td><td>Single Family (1-...</td><td>Ethnicity Not Ava...</td><td>Race Not Available</td><td>Sex Not Available</td><td>1</td><td>1</td><td>2</td><td>1</td><td>31</td><td>1</td><td>2</td><td>2</td><td>2</td><td>495000</td><td>59.36</td><td>2.5</td><td>-0.288</td><td>2</td><td>120.0</td><td>NA</td><td>0.0</td><td>NULL</td><td>NA</td><td>360</td><td>NA</td><td>NA</td><td>2</td><td>2</td><td>2</td><td>2</td><td>845000</td><td>1</td><td>1</td><td>3</td><td>5</td><td>1</td><td>NA</td><td>170</td><td>39</td><td>5</td><td>1</td><td>3</td><td>NULL</td><td>NULL</td><td>NULL</td><td>NULL</td><td>3</td><td>NULL</td><td>NULL</td><td>NULL</td><td>NULL</td><td>2</td><td>2</td><td>6</td><td>NULL</td><td>NULL</td><td>NULL</td><td>NULL</td><td>6</td><td>NULL</td><td>NULL</td><td>NULL</td><td>NULL</td><td>2</td><td>2</td><td>3</td><td>3</td><td>2</td><td>2</td><td>55-64</td><td>45-54</td><td>No</td><td>No</td><td>1</td><td>1</td><td>1</td><td>NULL</td><td>NULL</td><td>NULL</td><td>NULL</td><td>10</td><td>NULL</td><td>NULL</td><td>NULL</td><td>6640</td><td>58.31</td><td>139800</td><td>107.44</td><td>1389</td><td>1789</td><td>40</td></tr>\n",
       "<tr><td>2020</td><td>549300RBX56T2MW5HO19</td><td>99999</td><td>WA</td><td>53075</td><td>53075000700</td><td>C</td><td>Conventional:Firs...</td><td>Single Family (1-...</td><td>Not Hispanic or L...</td><td>White</td><td>Joint</td><td>1</td><td>1</td><td>2</td><td>1</td><td>31</td><td>1</td><td>2</td><td>2</td><td>2</td><td>355000</td><td>70.0</td><td>2.75</td><td>0.006</td><td>2</td><td>8375.0</td><td>NA</td><td>8375.0</td><td>NULL</td><td>8375.0</td><td>360</td><td>NA</td><td>NA</td><td>2</td><td>2</td><td>2</td><td>2</td><td>505000</td><td>1</td><td>1</td><td>3</td><td>5</td><td>1</td><td>NA</td><td>107</td><td>20%-&lt;30%</td><td>2</td><td>5</td><td>2</td><td>NULL</td><td>NULL</td><td>NULL</td><td>NULL</td><td>2</td><td>NULL</td><td>NULL</td><td>NULL</td><td>NULL</td><td>2</td><td>2</td><td>5</td><td>NULL</td><td>NULL</td><td>NULL</td><td>NULL</td><td>5</td><td>NULL</td><td>NULL</td><td>NULL</td><td>NULL</td><td>2</td><td>2</td><td>1</td><td>2</td><td>2</td><td>2</td><td>25-34</td><td>25-34</td><td>No</td><td>No</td><td>2</td><td>1</td><td>1</td><td>NULL</td><td>NULL</td><td>NULL</td><td>NULL</td><td>10</td><td>NULL</td><td>NULL</td><td>NULL</td><td>3593</td><td>6.21</td><td>65500</td><td>106.0</td><td>1137</td><td>1705</td><td>68</td></tr>\n",
       "<tr><td>2020</td><td>549300RBX56T2MW5HO19</td><td>41884</td><td>CA</td><td>06075</td><td>06075030700</td><td>C</td><td>Conventional:Firs...</td><td>Single Family (1-...</td><td>Not Hispanic or L...</td><td>White</td><td>Joint</td><td>1</td><td>1</td><td>2</td><td>1</td><td>31</td><td>1</td><td>2</td><td>2</td><td>2</td><td>405000</td><td>28.15</td><td>2.125</td><td>-0.29</td><td>2</td><td>1606.0</td><td>NA</td><td>711.0</td><td>NULL</td><td>711.0</td><td>180</td><td>NA</td><td>NA</td><td>2</td><td>2</td><td>2</td><td>2</td><td>1435000</td><td>1</td><td>1</td><td>3</td><td>5</td><td>1</td><td>NA</td><td>215</td><td>38</td><td>5</td><td>2</td><td>2</td><td>NULL</td><td>NULL</td><td>NULL</td><td>NULL</td><td>2</td><td>NULL</td><td>NULL</td><td>NULL</td><td>NULL</td><td>2</td><td>2</td><td>5</td><td>NULL</td><td>NULL</td><td>NULL</td><td>NULL</td><td>5</td><td>NULL</td><td>NULL</td><td>NULL</td><td>NULL</td><td>2</td><td>2</td><td>1</td><td>2</td><td>2</td><td>2</td><td>55-64</td><td>45-54</td><td>No</td><td>No</td><td>1</td><td>1</td><td>1</td><td>NULL</td><td>NULL</td><td>NULL</td><td>NULL</td><td>10</td><td>NULL</td><td>NULL</td><td>NULL</td><td>6952</td><td>49.08</td><td>140900</td><td>126.75</td><td>2141</td><td>2792</td><td>63</td></tr>\n",
       "<tr><td>2020</td><td>549300RBX56T2MW5HO19</td><td>42644</td><td>WA</td><td>53033</td><td>53033005700</td><td>C</td><td>Conventional:Firs...</td><td>Single Family (1-...</td><td>Not Hispanic or L...</td><td>White</td><td>Joint</td><td>1</td><td>3</td><td>2</td><td>1</td><td>31</td><td>1</td><td>2</td><td>2</td><td>2</td><td>685000</td><td>74.83</td><td>2.875</td><td>0.049</td><td>2</td><td>801.0</td><td>NA</td><td>681.0</td><td>NULL</td><td>681.0</td><td>360</td><td>NA</td><td>NA</td><td>2</td><td>2</td><td>2</td><td>2</td><td>915000</td><td>1</td><td>1</td><td>3</td><td>5</td><td>1</td><td>NA</td><td>185</td><td>20%-&lt;30%</td><td>2</td><td>1</td><td>2</td><td>NULL</td><td>NULL</td><td>NULL</td><td>NULL</td><td>2</td><td>NULL</td><td>NULL</td><td>NULL</td><td>NULL</td><td>2</td><td>2</td><td>5</td><td>NULL</td><td>NULL</td><td>NULL</td><td>NULL</td><td>5</td><td>NULL</td><td>NULL</td><td>NULL</td><td>NULL</td><td>2</td><td>2</td><td>1</td><td>2</td><td>2</td><td>2</td><td>35-44</td><td>25-34</td><td>No</td><td>No</td><td>1</td><td>1</td><td>2</td><td>NULL</td><td>NULL</td><td>NULL</td><td>NULL</td><td>10</td><td>NULL</td><td>NULL</td><td>NULL</td><td>6633</td><td>17.04</td><td>113300</td><td>116.34</td><td>1737</td><td>2411</td><td>63</td></tr>\n",
       "<tr><td>2020</td><td>549300RBX56T2MW5HO19</td><td>20994</td><td>IL</td><td>17093</td><td>17093890400</td><td>C</td><td>Conventional:Firs...</td><td>Single Family (1-...</td><td>Not Hispanic or L...</td><td>White</td><td>Joint</td><td>1</td><td>1</td><td>2</td><td>1</td><td>32</td><td>1</td><td>2</td><td>2</td><td>2</td><td>185000</td><td>66.78</td><td>3.125</td><td>0.89</td><td>2</td><td>570.0</td><td>NA</td><td>0.0</td><td>NULL</td><td>NA</td><td>180</td><td>NA</td><td>NA</td><td>2</td><td>2</td><td>2</td><td>2</td><td>285000</td><td>1</td><td>1</td><td>3</td><td>5</td><td>1</td><td>NA</td><td>65</td><td>38</td><td>1</td><td>2</td><td>2</td><td>NULL</td><td>NULL</td><td>NULL</td><td>NULL</td><td>2</td><td>NULL</td><td>NULL</td><td>NULL</td><td>NULL</td><td>2</td><td>2</td><td>5</td><td>NULL</td><td>NULL</td><td>NULL</td><td>NULL</td><td>5</td><td>NULL</td><td>NULL</td><td>NULL</td><td>NULL</td><td>2</td><td>2</td><td>1</td><td>2</td><td>2</td><td>2</td><td>55-64</td><td>55-64</td><td>Yes</td><td>No</td><td>1</td><td>1</td><td>1</td><td>NULL</td><td>NULL</td><td>NULL</td><td>NULL</td><td>10</td><td>NULL</td><td>NULL</td><td>NULL</td><td>27626</td><td>26.05</td><td>92900</td><td>121.42</td><td>7369</td><td>8696</td><td>12</td></tr>\n",
       "</table>\n",
       "only showing top 20 rows\n"
      ],
      "text/plain": [
       "+-------------+--------------------+--------------+----------+-----------+------------+---------------------+-------------------------+-------------------------+--------------------+------------------+-----------------+------------+--------------+-----------+---------+------------+-----------+----------------+-----------------------+------------------------------+-----------+----------------------------+-------------+-----------+------------+----------------+---------------------+-------------------+---------------+--------------+---------+-----------------------+-----------------+---------------------+---------------------+---------------+----------------------------+--------------+-------------------+--------------+---------------------------------------+----------------------------------------+-----------+----------------------------+------+--------------------+---------------------------+------------------------------+---------------------+---------------------+---------------------+---------------------+---------------------+------------------------+------------------------+------------------------+------------------------+------------------------+----------------------------+-------------------------------+----------------+----------------+----------------+----------------+----------------+-------------------+-------------------+-------------------+-------------------+-------------------+-----------------------+--------------------------+-------------+----------------+----------------------+-------------------------+-------------+----------------+----------------------+-------------------------+-------------------------+--------------------------------+-----+-----+-----+-----+-----+---------------+---------------+---------------+---------------+----------------+---------------------------------+---------------------------------+------------------------------+--------------------------+------------------------------+---------------------------------+\n",
       "|activity_year|                 lei|derived_msa_md|state_code|county_code|census_tract|conforming_loan_limit|derived_loan_product_type|derived_dwelling_category|   derived_ethnicity|      derived_race|      derived_sex|action_taken|purchaser_type|preapproval|loan_type|loan_purpose|lien_status|reverse_mortgage|open_end_line_of_credit|business_or_commercial_purpose|loan_amount|combined_loan_to_value_ratio|interest_rate|rate_spread|hoepa_status|total_loan_costs|total_points_and_fees|origination_charges|discount_points|lender_credits|loan_term|prepayment_penalty_term|intro_rate_period|negative_amortization|interest_only_payment|balloon_payment|other_nonamortizing_features|property_value|construction_method|occupancy_type|manufactured_home_secured_property_type|manufactured_home_land_property_interest|total_units|multifamily_affordable_units|income|debt_to_income_ratio|applicant_credit_score_type|co_applicant_credit_score_type|applicant_ethnicity_1|applicant_ethnicity_2|applicant_ethnicity_3|applicant_ethnicity_4|applicant_ethnicity_5|co_applicant_ethnicity_1|co_applicant_ethnicity_2|co_applicant_ethnicity_3|co_applicant_ethnicity_4|co_applicant_ethnicity_5|applicant_ethnicity_observed|co_applicant_ethnicity_observed|applicant_race_1|applicant_race_2|applicant_race_3|applicant_race_4|applicant_race_5|co_applicant_race_1|co_applicant_race_2|co_applicant_race_3|co_applicant_race_4|co_applicant_race_5|applicant_race_observed|co_applicant_race_observed|applicant_sex|co_applicant_sex|applicant_sex_observed|co_applicant_sex_observed|applicant_age|co_applicant_age|applicant_age_above_62|co_applicant_age_above_62|submission_of_application|initially_payable_to_institution|aus_1|aus_2|aus_3|aus_4|aus_5|denial_reason_1|denial_reason_2|denial_reason_3|denial_reason_4|tract_population|tract_minority_population_percent|ffiec_msa_md_median_family_income|tract_to_msa_income_percentage|tract_owner_occupied_units|tract_one_to_four_family_homes|tract_median_age_of_housing_units|\n",
       "+-------------+--------------------+--------------+----------+-----------+------------+---------------------+-------------------------+-------------------------+--------------------+------------------+-----------------+------------+--------------+-----------+---------+------------+-----------+----------------+-----------------------+------------------------------+-----------+----------------------------+-------------+-----------+------------+----------------+---------------------+-------------------+---------------+--------------+---------+-----------------------+-----------------+---------------------+---------------------+---------------+----------------------------+--------------+-------------------+--------------+---------------------------------------+----------------------------------------+-----------+----------------------------+------+--------------------+---------------------------+------------------------------+---------------------+---------------------+---------------------+---------------------+---------------------+------------------------+------------------------+------------------------+------------------------+------------------------+----------------------------+-------------------------------+----------------+----------------+----------------+----------------+----------------+-------------------+-------------------+-------------------+-------------------+-------------------+-----------------------+--------------------------+-------------+----------------+----------------------+-------------------------+-------------+----------------+----------------------+-------------------------+-------------------------+--------------------------------+-----+-----+-----+-----+-----+---------------+---------------+---------------+---------------+----------------+---------------------------------+---------------------------------+------------------------------+--------------------------+------------------------------+---------------------------------+\n",
       "|         2020|549300RBX56T2MW5HO19|         29620|        MI|      26065| 26065003400|                    C|     Conventional:Firs...|     Single Family (1-...|Not Hispanic or L...|             White|            Joint|           1|             0|          2|        1|           1|          1|               2|                      2|                             2|     135000|                        97.0|        3.875|      1.273|           2|           460.0|                   NA|                0.0|           NULL|            NA|      360|                     NA|               NA|                    2|                    2|              2|                           2|        145000|                  1|             1|                                      3|                                       5|          1|                          NA|    65|            30%-<36%|                          2|                             5|                    2|                 NULL|                 NULL|                 NULL|                 NULL|                       2|                    NULL|                    NULL|                    NULL|                    NULL|                           2|                              2|               5|            NULL|            NULL|            NULL|            NULL|                  5|               NULL|               NULL|               NULL|               NULL|                      2|                         2|            1|               2|                     2|                        2|        25-34|           25-34|                    No|                       No|                        1|                               1|    1| NULL| NULL| NULL| NULL|             10|           NULL|           NULL|           NULL|            2253|                            28.72|                            79300|                        109.02|                       773|                           883|                               57|\n",
       "|         2020|549300RBX56T2MW5HO19|         31084|        CA|      06037| 06037108201|                    C|     Conventional:Firs...|     Single Family (1-...|Not Hispanic or L...|             Asian|            Joint|           1|             1|          2|        1|          31|          1|               2|                      2|                             2|     315000|                       36.82|        2.124|     -0.256|           2|          316.13|                   NA|             316.13|           NULL|        316.13|      180|                     NA|               NA|                    2|                    2|              2|                           2|        855000|                  1|             1|                                      3|                                       5|          1|                          NA|   135|            20%-<30%|                          5|                             1|                    2|                 NULL|                 NULL|                 NULL|                 NULL|                       2|                    NULL|                    NULL|                    NULL|                    NULL|                           2|                              2|               2|              25|            NULL|            NULL|            NULL|                  2|                 25|               NULL|               NULL|               NULL|                      2|                         2|            1|               2|                     2|                        2|        45-54|           45-54|                    No|                       No|                        1|                               1|    1| NULL| NULL| NULL| NULL|             10|           NULL|           NULL|           NULL|            5846|                            62.37|                            77300|                        166.05|                      1378|                          1972|                               25|\n",
       "|         2020|549300RBX56T2MW5HO19|         41100|        UT|      49053| 49053270600|                    C|           FHA:First Lien|     Single Family (1-...|Not Hispanic or L...|             White|            Joint|           1|             9|          2|        2|           1|          1|               1|                      2|                             2|     135000|                        55.1|         3.43|         NA|           3|              NA|                   NA|                 NA|             NA|            NA|       NA|                     NA|               NA|                    2|                    2|              2|                           2|        255000|                  1|             1|                                      3|                                       5|          1|                          NA|    NA|                  NA|                          9|                             9|                    2|                 NULL|                 NULL|                 NULL|                 NULL|                       2|                    NULL|                    NULL|                    NULL|                    NULL|                           2|                              2|               5|            NULL|            NULL|            NULL|            NULL|                  5|               NULL|               NULL|               NULL|               NULL|                      2|                         2|            1|               2|                     2|                        2|        65-74|           65-74|                   Yes|                      Yes|                        1|                               1|    6| NULL| NULL| NULL| NULL|             10|           NULL|           NULL|           NULL|            7739|                            15.62|                            70700|                        102.72|                      1803|                          3813|                               19|\n",
       "|         2020|549300RBX56T2MW5HO19|         19740|        CO|      08031| 08031004004|                    C|     Conventional:Firs...|     Single Family (1-...|Not Hispanic or L...|             White|            Joint|           4|             0|          2|        1|          32|          1|               2|                      2|                             2|     405000|                          NA|           NA|         NA|           3|              NA|                   NA|                 NA|             NA|            NA|      240|                     NA|               NA|                    2|                    2|              2|                           2|            NA|                  1|             1|                                      3|                                       5|          1|                          NA|   120|                  NA|                          9|                             9|                    2|                 NULL|                 NULL|                 NULL|                 NULL|                       2|                    NULL|                    NULL|                    NULL|                    NULL|                           2|                              2|               5|            NULL|            NULL|            NULL|            NULL|                  5|               NULL|               NULL|               NULL|               NULL|                      2|                         2|            1|               2|                     2|                        2|        35-44|           35-44|                    No|                       No|                        1|                               1|    6| NULL| NULL| NULL| NULL|             10|           NULL|           NULL|           NULL|            1908|                             8.54|                           100000|                         145.9|                       802|                           760|                               52|\n",
       "|         2020|549300RBX56T2MW5HO19|         17820|        CO|      08041| 08041002501|                    C|     Conventional:Firs...|     Single Family (1-...|Not Hispanic or L...|             White|           Female|           1|             1|          2|        1|           1|          1|               2|                      2|                             2|     435000|                        80.0|          2.5|      -0.39|           2|             0.0|                   NA|                0.0|           NULL|            NA|      360|                     NA|               NA|                    2|                    2|              2|                           2|        565000|                  1|             1|                                      3|                                       5|          1|                          NA|   328|            20%-<30%|                          1|                             2|                    2|                 NULL|                 NULL|                 NULL|                 NULL|                       2|                    NULL|                    NULL|                    NULL|                    NULL|                           2|                              2|               5|            NULL|            NULL|            NULL|            NULL|                  5|               NULL|               NULL|               NULL|               NULL|                      2|                         2|            2|               2|                     2|                        2|        55-64|           55-64|                    No|                       No|                        1|                               1|    1| NULL| NULL| NULL| NULL|             10|           NULL|           NULL|           NULL|            3276|                            11.14|                            81700|                        146.97|                      1163|                          1472|                               45|\n",
       "|         2020|549300RBX56T2MW5HO19|         11244|        CA|      06059| 06059042334|                    C|     Conventional:Firs...|     Single Family (1-...|Not Hispanic or L...|             Asian|            Joint|           1|             1|          2|        1|          31|          1|               2|                      2|                             2|     355000|                       41.29|        2.875|         NA|           2|           120.0|                   NA|                0.0|           NULL|            NA|      180|                     NA|               NA|                    2|                    2|              2|                           2|        855000|                  1|             3|                                      3|                                       5|          1|                          NA|   565|                <20%|                          2|                             1|                    2|                 NULL|                 NULL|                 NULL|                 NULL|                       2|                    NULL|                    NULL|                    NULL|                    NULL|                           2|                              2|               2|            NULL|            NULL|            NULL|            NULL|                  2|               NULL|               NULL|               NULL|               NULL|                      2|                         2|            1|               2|                     2|                        2|        55-64|           55-64|                    No|                       No|                        1|                               1|    1| NULL| NULL| NULL| NULL|             10|           NULL|           NULL|           NULL|            5173|                            36.61|                           103000|                        111.29|                      1440|                          1707|                               31|\n",
       "|         2020|549300RBX56T2MW5HO19|         19740|        CO|      08031| 08031008391|                    C|     Conventional:Firs...|     Single Family (1-...|Not Hispanic or L...|             White|            Joint|           1|             3|          2|        1|          31|          1|               2|                      2|                             2|     265000|                       74.28|          3.0|      0.231|           2|           120.0|                   NA|                0.0|           NULL|            NA|      360|                     NA|               NA|                    2|                    2|              2|                           2|        355000|                  1|             1|                                      3|                                       5|          1|                          NA|    57|                  39|                          5|                             1|                    2|                 NULL|                 NULL|                 NULL|                 NULL|                       2|                    NULL|                    NULL|                    NULL|                    NULL|                           2|                              2|               5|            NULL|            NULL|            NULL|            NULL|                  5|               NULL|               NULL|               NULL|               NULL|                      2|                         2|            1|               2|                     2|                        2|        65-74|           65-74|                   Yes|                      Yes|                        1|                               1|    2| NULL| NULL| NULL| NULL|             10|           NULL|           NULL|           NULL|            8352|                            80.24|                           100000|                         89.96|                      1769|                          2423|                               16|\n",
       "|         2020|549300RBX56T2MW5HO19|         41740|        CA|      06073| 06073018504|                    C|     Conventional:Firs...|     Single Family (1-...|Not Hispanic or L...|             White|            Joint|           1|             1|          2|        1|          31|          1|               2|                      2|                             2|     485000|                       48.98|        2.249|     -0.151|           2|          1862.4|                   NA|             1862.4|           NULL|        1862.4|      180|                     NA|               NA|                    2|                    2|              2|                           2|        995000|                  1|             1|                                      3|                                       5|          1|                          NA|   171|                  44|                          1|                             1|                    2|                 NULL|                 NULL|                 NULL|                 NULL|                       2|                    NULL|                    NULL|                    NULL|                    NULL|                           2|                              2|               5|            NULL|            NULL|            NULL|            NULL|                  5|               NULL|               NULL|               NULL|               NULL|                      2|                         2|            1|               2|                     2|                        2|        55-64|           55-64|                    No|                       No|                        1|                               1|    1| NULL| NULL| NULL| NULL|             10|           NULL|           NULL|           NULL|            6972|                            40.72|                            92700|                         91.47|                      1399|                          2302|                               38|\n",
       "|         2020|549300RBX56T2MW5HO19|         24540|        CO|      08123| 08123002102|                    C|     Conventional:Firs...|     Single Family (1-...|Not Hispanic or L...|             White|            Joint|           1|             3|          2|        1|          31|          1|               2|                      2|                             2|     345000|                        95.0|        2.875|      0.395|           2|           745.0|                   NA|              625.0|           NULL|         625.0|      360|                     NA|               NA|                    2|                    2|              2|                           2|        365000|                  1|             1|                                      3|                                       5|          1|                          NA|   157|            20%-<30%|                          5|                             5|                    2|                 NULL|                 NULL|                 NULL|                 NULL|                       2|                    NULL|                    NULL|                    NULL|                    NULL|                           2|                              2|               5|            NULL|            NULL|            NULL|            NULL|                  5|               NULL|               NULL|               NULL|               NULL|                      2|                         2|            1|               2|                     2|                        2|        25-34|           25-34|                    No|                       No|                        1|                               1|    2| NULL| NULL| NULL| NULL|             10|           NULL|           NULL|           NULL|           12241|                            16.27|                            84300|                        121.98|                      3708|                          4169|                               13|\n",
       "|         2020|549300RBX56T2MW5HO19|         16984|        IL|      17043| 17043846202|                    C|     Conventional:Firs...|     Single Family (1-...|Not Hispanic or L...|             White|            Joint|           1|             1|          2|        1|          32|          1|               2|                      2|                             2|     475000|                       74.48|          3.0|      0.237|           2|           520.0|                   NA|              400.0|           NULL|         400.0|      360|                     NA|               NA|                    2|                    2|              2|                           2|        635000|                  1|             1|                                      3|                                       5|          1|                          NA|   285|            20%-<30%|                          1|                             1|                    2|                 NULL|                 NULL|                 NULL|                 NULL|                       2|                    NULL|                    NULL|                    NULL|                    NULL|                           2|                              2|               5|            NULL|            NULL|            NULL|            NULL|                  5|               NULL|               NULL|               NULL|               NULL|                      2|                         2|            1|               2|                     2|                        2|        35-44|           35-44|                    No|                       No|                        1|                               1|    1| NULL| NULL| NULL| NULL|             10|           NULL|           NULL|           NULL|            5965|                            34.64|                            84800|                        139.42|                      1372|                          1363|                               33|\n",
       "|         2020|549300RBX56T2MW5HO19|         38900|        OR|      41051| 41051004001|                    C|     Conventional:Firs...|     Single Family (1-...|Not Hispanic or L...|             White|            Joint|           1|             3|          2|        1|          31|          1|               2|                      2|                             2|     365000|                       78.91|        2.875|      0.081|           2|          7300.0|                   NA|             7260.0|           NULL|        7260.0|      360|                     NA|               NA|                    2|                    2|              2|                           2|        465000|                  1|             1|                                      3|                                       5|          1|                          NA|   136|            20%-<30%|                          5|                             1|                    2|                 NULL|                 NULL|                 NULL|                 NULL|                       2|                    NULL|                    NULL|                    NULL|                    NULL|                           2|                              2|               5|            NULL|            NULL|            NULL|            NULL|                  5|               NULL|               NULL|               NULL|               NULL|                      2|                         2|            2|               1|                     2|                        2|        25-34|           25-34|                    No|                       No|                        2|                               1|    2| NULL| NULL| NULL| NULL|             10|           NULL|           NULL|           NULL|            8486|                            54.63|                            92100|                         55.64|                      1070|                          2164|                               40|\n",
       "|         2020|549300RBX56T2MW5HO19|         23224|        MD|      24031| 24031700706|                    C|     Conventional:Firs...|     Single Family (1-...|Ethnicity Not Ava...|Race Not Available|Sex Not Available|           5|             0|          2|        1|          31|          1|               2|                      2|                             2|     455000|                          NA|           NA|         NA|           3|              NA|                   NA|                 NA|             NA|            NA|      360|                     NA|               NA|                    2|                    2|              2|                           2|            NA|                  1|             1|                                      3|                                       5|          1|                          NA|    75|                  NA|                          9|                             9|                    3|                 NULL|                 NULL|                 NULL|                 NULL|                       3|                    NULL|                    NULL|                    NULL|                    NULL|                           2|                              2|               6|            NULL|            NULL|            NULL|            NULL|                  6|               NULL|               NULL|               NULL|               NULL|                      2|                         2|            3|               3|                     2|                        2|        45-54|           55-64|                    No|                       No|                        1|                               1|    1| NULL| NULL| NULL| NULL|             10|           NULL|           NULL|           NULL|            4154|                            70.58|                           124400|                         70.37|                       623|                           719|                               36|\n",
       "|         2020|549300RBX56T2MW5HO19|         19740|        CO|      08031| 08031012014|                    C|     Conventional:Firs...|     Single Family (1-...|Ethnicity Not Ava...|Race Not Available|            Joint|           1|             1|          2|        1|          31|          1|               2|                      2|                             2|     275000|                        90.0|        3.125|      0.512|           2|           856.0|                   NA|                0.0|           NULL|            NA|      360|                     NA|               NA|                    2|                    2|              2|                           2|        305000|                  1|             1|                                      3|                                       5|          1|                          NA|    91|            30%-<36%|                          2|                             2|                    3|                 NULL|                 NULL|                 NULL|                 NULL|                       3|                    NULL|                    NULL|                    NULL|                    NULL|                           2|                              2|               6|            NULL|            NULL|            NULL|            NULL|                  6|               NULL|               NULL|               NULL|               NULL|                      2|                         2|            1|               2|                     2|                        2|        65-74|           55-64|                   Yes|                      Yes|                        1|                               1|    1| NULL| NULL| NULL| NULL|             10|           NULL|           NULL|           NULL|            6321|                            31.21|                           100000|                          89.3|                      1671|                          1673|                               29|\n",
       "|         2020|549300RBX56T2MW5HO19|         37100|        CA|      06111| 06111008202|                    C|           FHA:First Lien|     Single Family (1-...|Not Hispanic or L...|             White|            Joint|           4|             0|          2|        2|          31|          1|               1|                      2|                             2|     395000|                          NA|           NA|         NA|           3|              NA|                   NA|                 NA|             NA|            NA|       NA|                     NA|               NA|                    2|                    2|              2|                           2|            NA|                  1|             1|                                      3|                                       5|          1|                          NA|    NA|                  NA|                          9|                             9|                    2|                 NULL|                 NULL|                 NULL|                 NULL|                       2|                    NULL|                    NULL|                    NULL|                    NULL|                           2|                              2|               5|            NULL|            NULL|            NULL|            NULL|                  5|               NULL|               NULL|               NULL|               NULL|                      2|                         2|            1|               2|                     2|                        2|        65-74|           65-74|                   Yes|                      Yes|                        1|                               1|    6| NULL| NULL| NULL| NULL|             10|           NULL|           NULL|           NULL|            4762|                            43.55|                            97800|                         88.04|                      1147|                          1444|                               42|\n",
       "|         2020|549300RBX56T2MW5HO19|         19124|        TX|      48121| 48121021405|                    C|     Conventional:Firs...|     Single Family (1-...|Ethnicity Not Ava...|Race Not Available|            Joint|           1|             1|          2|        1|           1|          1|               2|                      2|                             2|     255000|                        80.0|        2.875|      0.058|           2|           120.0|                   NA|                0.0|           NULL|            NA|      360|                     NA|               NA|                    2|                    2|              2|                           2|        315000|                  1|             1|                                      3|                                       5|          1|                          NA|   172|            20%-<30%|                          1|                             5|                    3|                 NULL|                 NULL|                 NULL|                 NULL|                       2|                    NULL|                    NULL|                    NULL|                    NULL|                           2|                              2|               6|            NULL|            NULL|            NULL|            NULL|                  5|               NULL|               NULL|               NULL|               NULL|                      2|                         2|            1|               2|                     2|                        2|        25-34|           25-34|                    No|                       No|                        1|                               1|    1| NULL| NULL| NULL| NULL|             10|           NULL|           NULL|           NULL|            9821|                            41.82|                            86200|                        114.01|                      1924|                          2957|                               12|\n",
       "|         2020|549300RBX56T2MW5HO19|         41940|        CA|      06085| 06085512033|                    C|     Conventional:Firs...|     Single Family (1-...|Ethnicity Not Ava...|Race Not Available|Sex Not Available|           1|             1|          2|        1|          31|          1|               2|                      2|                             2|     495000|                       59.36|          2.5|     -0.288|           2|           120.0|                   NA|                0.0|           NULL|            NA|      360|                     NA|               NA|                    2|                    2|              2|                           2|        845000|                  1|             1|                                      3|                                       5|          1|                          NA|   170|                  39|                          5|                             1|                    3|                 NULL|                 NULL|                 NULL|                 NULL|                       3|                    NULL|                    NULL|                    NULL|                    NULL|                           2|                              2|               6|            NULL|            NULL|            NULL|            NULL|                  6|               NULL|               NULL|               NULL|               NULL|                      2|                         2|            3|               3|                     2|                        2|        55-64|           45-54|                    No|                       No|                        1|                               1|    1| NULL| NULL| NULL| NULL|             10|           NULL|           NULL|           NULL|            6640|                            58.31|                           139800|                        107.44|                      1389|                          1789|                               40|\n",
       "|         2020|549300RBX56T2MW5HO19|         99999|        WA|      53075| 53075000700|                    C|     Conventional:Firs...|     Single Family (1-...|Not Hispanic or L...|             White|            Joint|           1|             1|          2|        1|          31|          1|               2|                      2|                             2|     355000|                        70.0|         2.75|      0.006|           2|          8375.0|                   NA|             8375.0|           NULL|        8375.0|      360|                     NA|               NA|                    2|                    2|              2|                           2|        505000|                  1|             1|                                      3|                                       5|          1|                          NA|   107|            20%-<30%|                          2|                             5|                    2|                 NULL|                 NULL|                 NULL|                 NULL|                       2|                    NULL|                    NULL|                    NULL|                    NULL|                           2|                              2|               5|            NULL|            NULL|            NULL|            NULL|                  5|               NULL|               NULL|               NULL|               NULL|                      2|                         2|            1|               2|                     2|                        2|        25-34|           25-34|                    No|                       No|                        2|                               1|    1| NULL| NULL| NULL| NULL|             10|           NULL|           NULL|           NULL|            3593|                             6.21|                            65500|                         106.0|                      1137|                          1705|                               68|\n",
       "|         2020|549300RBX56T2MW5HO19|         41884|        CA|      06075| 06075030700|                    C|     Conventional:Firs...|     Single Family (1-...|Not Hispanic or L...|             White|            Joint|           1|             1|          2|        1|          31|          1|               2|                      2|                             2|     405000|                       28.15|        2.125|      -0.29|           2|          1606.0|                   NA|              711.0|           NULL|         711.0|      180|                     NA|               NA|                    2|                    2|              2|                           2|       1435000|                  1|             1|                                      3|                                       5|          1|                          NA|   215|                  38|                          5|                             2|                    2|                 NULL|                 NULL|                 NULL|                 NULL|                       2|                    NULL|                    NULL|                    NULL|                    NULL|                           2|                              2|               5|            NULL|            NULL|            NULL|            NULL|                  5|               NULL|               NULL|               NULL|               NULL|                      2|                         2|            1|               2|                     2|                        2|        55-64|           45-54|                    No|                       No|                        1|                               1|    1| NULL| NULL| NULL| NULL|             10|           NULL|           NULL|           NULL|            6952|                            49.08|                           140900|                        126.75|                      2141|                          2792|                               63|\n",
       "|         2020|549300RBX56T2MW5HO19|         42644|        WA|      53033| 53033005700|                    C|     Conventional:Firs...|     Single Family (1-...|Not Hispanic or L...|             White|            Joint|           1|             3|          2|        1|          31|          1|               2|                      2|                             2|     685000|                       74.83|        2.875|      0.049|           2|           801.0|                   NA|              681.0|           NULL|         681.0|      360|                     NA|               NA|                    2|                    2|              2|                           2|        915000|                  1|             1|                                      3|                                       5|          1|                          NA|   185|            20%-<30%|                          2|                             1|                    2|                 NULL|                 NULL|                 NULL|                 NULL|                       2|                    NULL|                    NULL|                    NULL|                    NULL|                           2|                              2|               5|            NULL|            NULL|            NULL|            NULL|                  5|               NULL|               NULL|               NULL|               NULL|                      2|                         2|            1|               2|                     2|                        2|        35-44|           25-34|                    No|                       No|                        1|                               1|    2| NULL| NULL| NULL| NULL|             10|           NULL|           NULL|           NULL|            6633|                            17.04|                           113300|                        116.34|                      1737|                          2411|                               63|\n",
       "|         2020|549300RBX56T2MW5HO19|         20994|        IL|      17093| 17093890400|                    C|     Conventional:Firs...|     Single Family (1-...|Not Hispanic or L...|             White|            Joint|           1|             1|          2|        1|          32|          1|               2|                      2|                             2|     185000|                       66.78|        3.125|       0.89|           2|           570.0|                   NA|                0.0|           NULL|            NA|      180|                     NA|               NA|                    2|                    2|              2|                           2|        285000|                  1|             1|                                      3|                                       5|          1|                          NA|    65|                  38|                          1|                             2|                    2|                 NULL|                 NULL|                 NULL|                 NULL|                       2|                    NULL|                    NULL|                    NULL|                    NULL|                           2|                              2|               5|            NULL|            NULL|            NULL|            NULL|                  5|               NULL|               NULL|               NULL|               NULL|                      2|                         2|            1|               2|                     2|                        2|        55-64|           55-64|                   Yes|                       No|                        1|                               1|    1| NULL| NULL| NULL| NULL|             10|           NULL|           NULL|           NULL|           27626|                            26.05|                            92900|                        121.42|                      7369|                          8696|                               12|\n",
       "+-------------+--------------------+--------------+----------+-----------+------------+---------------------+-------------------------+-------------------------+--------------------+------------------+-----------------+------------+--------------+-----------+---------+------------+-----------+----------------+-----------------------+------------------------------+-----------+----------------------------+-------------+-----------+------------+----------------+---------------------+-------------------+---------------+--------------+---------+-----------------------+-----------------+---------------------+---------------------+---------------+----------------------------+--------------+-------------------+--------------+---------------------------------------+----------------------------------------+-----------+----------------------------+------+--------------------+---------------------------+------------------------------+---------------------+---------------------+---------------------+---------------------+---------------------+------------------------+------------------------+------------------------+------------------------+------------------------+----------------------------+-------------------------------+----------------+----------------+----------------+----------------+----------------+-------------------+-------------------+-------------------+-------------------+-------------------+-----------------------+--------------------------+-------------+----------------+----------------------+-------------------------+-------------+----------------+----------------------+-------------------------+-------------------------+--------------------------------+-----+-----+-----+-----+-----+---------------+---------------+---------------+---------------+----------------+---------------------------------+---------------------------------+------------------------------+--------------------------+------------------------------+---------------------------------+\n",
       "only showing top 20 rows"
      ]
     },
     "execution_count": 45,
     "metadata": {},
     "output_type": "execute_result"
    }
   ],
   "source": [
    "df"
   ]
  },
  {
   "cell_type": "code",
   "execution_count": 46,
   "id": "ea2587d9-12bb-4a79-99da-58038f226bf7",
   "metadata": {
    "scrolled": true
   },
   "outputs": [
    {
     "data": {
      "text/plain": [
       "['activity_year',\n",
       " 'lei',\n",
       " 'derived_msa_md',\n",
       " 'state_code',\n",
       " 'county_code',\n",
       " 'census_tract',\n",
       " 'conforming_loan_limit',\n",
       " 'derived_loan_product_type',\n",
       " 'derived_dwelling_category',\n",
       " 'derived_ethnicity',\n",
       " 'derived_race',\n",
       " 'derived_sex',\n",
       " 'action_taken',\n",
       " 'purchaser_type',\n",
       " 'preapproval',\n",
       " 'loan_type',\n",
       " 'loan_purpose',\n",
       " 'lien_status',\n",
       " 'reverse_mortgage',\n",
       " 'open_end_line_of_credit',\n",
       " 'business_or_commercial_purpose',\n",
       " 'loan_amount',\n",
       " 'combined_loan_to_value_ratio',\n",
       " 'interest_rate',\n",
       " 'rate_spread',\n",
       " 'hoepa_status',\n",
       " 'total_loan_costs',\n",
       " 'total_points_and_fees',\n",
       " 'origination_charges',\n",
       " 'discount_points',\n",
       " 'lender_credits',\n",
       " 'loan_term',\n",
       " 'prepayment_penalty_term',\n",
       " 'intro_rate_period',\n",
       " 'negative_amortization',\n",
       " 'interest_only_payment',\n",
       " 'balloon_payment',\n",
       " 'other_nonamortizing_features',\n",
       " 'property_value',\n",
       " 'construction_method',\n",
       " 'occupancy_type',\n",
       " 'manufactured_home_secured_property_type',\n",
       " 'manufactured_home_land_property_interest',\n",
       " 'total_units',\n",
       " 'multifamily_affordable_units',\n",
       " 'income',\n",
       " 'debt_to_income_ratio',\n",
       " 'applicant_credit_score_type',\n",
       " 'co_applicant_credit_score_type',\n",
       " 'applicant_ethnicity_1',\n",
       " 'applicant_ethnicity_2',\n",
       " 'applicant_ethnicity_3',\n",
       " 'applicant_ethnicity_4',\n",
       " 'applicant_ethnicity_5',\n",
       " 'co_applicant_ethnicity_1',\n",
       " 'co_applicant_ethnicity_2',\n",
       " 'co_applicant_ethnicity_3',\n",
       " 'co_applicant_ethnicity_4',\n",
       " 'co_applicant_ethnicity_5',\n",
       " 'applicant_ethnicity_observed',\n",
       " 'co_applicant_ethnicity_observed',\n",
       " 'applicant_race_1',\n",
       " 'applicant_race_2',\n",
       " 'applicant_race_3',\n",
       " 'applicant_race_4',\n",
       " 'applicant_race_5',\n",
       " 'co_applicant_race_1',\n",
       " 'co_applicant_race_2',\n",
       " 'co_applicant_race_3',\n",
       " 'co_applicant_race_4',\n",
       " 'co_applicant_race_5',\n",
       " 'applicant_race_observed',\n",
       " 'co_applicant_race_observed',\n",
       " 'applicant_sex',\n",
       " 'co_applicant_sex',\n",
       " 'applicant_sex_observed',\n",
       " 'co_applicant_sex_observed',\n",
       " 'applicant_age',\n",
       " 'co_applicant_age',\n",
       " 'applicant_age_above_62',\n",
       " 'co_applicant_age_above_62',\n",
       " 'submission_of_application',\n",
       " 'initially_payable_to_institution',\n",
       " 'aus_1',\n",
       " 'aus_2',\n",
       " 'aus_3',\n",
       " 'aus_4',\n",
       " 'aus_5',\n",
       " 'denial_reason_1',\n",
       " 'denial_reason_2',\n",
       " 'denial_reason_3',\n",
       " 'denial_reason_4',\n",
       " 'tract_population',\n",
       " 'tract_minority_population_percent',\n",
       " 'ffiec_msa_md_median_family_income',\n",
       " 'tract_to_msa_income_percentage',\n",
       " 'tract_owner_occupied_units',\n",
       " 'tract_one_to_four_family_homes',\n",
       " 'tract_median_age_of_housing_units']"
      ]
     },
     "execution_count": 46,
     "metadata": {},
     "output_type": "execute_result"
    }
   ],
   "source": [
    "df.columns"
   ]
  },
  {
   "cell_type": "code",
   "execution_count": 47,
   "id": "472c122c-42eb-4c20-bc9f-8dccd89a65e3",
   "metadata": {
    "scrolled": true
   },
   "outputs": [
    {
     "name": "stdout",
     "output_type": "stream",
     "text": [
      "root\n",
      " |-- activity_year: string (nullable = true)\n",
      " |-- lei: string (nullable = true)\n",
      " |-- derived_msa_md: string (nullable = true)\n",
      " |-- state_code: string (nullable = true)\n",
      " |-- county_code: string (nullable = true)\n",
      " |-- census_tract: string (nullable = true)\n",
      " |-- conforming_loan_limit: string (nullable = true)\n",
      " |-- derived_loan_product_type: string (nullable = true)\n",
      " |-- derived_dwelling_category: string (nullable = true)\n",
      " |-- derived_ethnicity: string (nullable = true)\n",
      " |-- derived_race: string (nullable = true)\n",
      " |-- derived_sex: string (nullable = true)\n",
      " |-- action_taken: string (nullable = true)\n",
      " |-- purchaser_type: string (nullable = true)\n",
      " |-- preapproval: string (nullable = true)\n",
      " |-- loan_type: string (nullable = true)\n",
      " |-- loan_purpose: string (nullable = true)\n",
      " |-- lien_status: string (nullable = true)\n",
      " |-- reverse_mortgage: string (nullable = true)\n",
      " |-- open_end_line_of_credit: string (nullable = true)\n",
      " |-- business_or_commercial_purpose: string (nullable = true)\n",
      " |-- loan_amount: string (nullable = true)\n",
      " |-- combined_loan_to_value_ratio: string (nullable = true)\n",
      " |-- interest_rate: string (nullable = true)\n",
      " |-- rate_spread: string (nullable = true)\n",
      " |-- hoepa_status: string (nullable = true)\n",
      " |-- total_loan_costs: string (nullable = true)\n",
      " |-- total_points_and_fees: string (nullable = true)\n",
      " |-- origination_charges: string (nullable = true)\n",
      " |-- discount_points: string (nullable = true)\n",
      " |-- lender_credits: string (nullable = true)\n",
      " |-- loan_term: string (nullable = true)\n",
      " |-- prepayment_penalty_term: string (nullable = true)\n",
      " |-- intro_rate_period: string (nullable = true)\n",
      " |-- negative_amortization: string (nullable = true)\n",
      " |-- interest_only_payment: string (nullable = true)\n",
      " |-- balloon_payment: string (nullable = true)\n",
      " |-- other_nonamortizing_features: string (nullable = true)\n",
      " |-- property_value: string (nullable = true)\n",
      " |-- construction_method: string (nullable = true)\n",
      " |-- occupancy_type: string (nullable = true)\n",
      " |-- manufactured_home_secured_property_type: string (nullable = true)\n",
      " |-- manufactured_home_land_property_interest: string (nullable = true)\n",
      " |-- total_units: string (nullable = true)\n",
      " |-- multifamily_affordable_units: string (nullable = true)\n",
      " |-- income: string (nullable = true)\n",
      " |-- debt_to_income_ratio: string (nullable = true)\n",
      " |-- applicant_credit_score_type: string (nullable = true)\n",
      " |-- co_applicant_credit_score_type: string (nullable = true)\n",
      " |-- applicant_ethnicity_1: string (nullable = true)\n",
      " |-- applicant_ethnicity_2: string (nullable = true)\n",
      " |-- applicant_ethnicity_3: string (nullable = true)\n",
      " |-- applicant_ethnicity_4: string (nullable = true)\n",
      " |-- applicant_ethnicity_5: string (nullable = true)\n",
      " |-- co_applicant_ethnicity_1: string (nullable = true)\n",
      " |-- co_applicant_ethnicity_2: string (nullable = true)\n",
      " |-- co_applicant_ethnicity_3: string (nullable = true)\n",
      " |-- co_applicant_ethnicity_4: string (nullable = true)\n",
      " |-- co_applicant_ethnicity_5: string (nullable = true)\n",
      " |-- applicant_ethnicity_observed: string (nullable = true)\n",
      " |-- co_applicant_ethnicity_observed: string (nullable = true)\n",
      " |-- applicant_race_1: string (nullable = true)\n",
      " |-- applicant_race_2: string (nullable = true)\n",
      " |-- applicant_race_3: string (nullable = true)\n",
      " |-- applicant_race_4: string (nullable = true)\n",
      " |-- applicant_race_5: string (nullable = true)\n",
      " |-- co_applicant_race_1: string (nullable = true)\n",
      " |-- co_applicant_race_2: string (nullable = true)\n",
      " |-- co_applicant_race_3: string (nullable = true)\n",
      " |-- co_applicant_race_4: string (nullable = true)\n",
      " |-- co_applicant_race_5: string (nullable = true)\n",
      " |-- applicant_race_observed: string (nullable = true)\n",
      " |-- co_applicant_race_observed: string (nullable = true)\n",
      " |-- applicant_sex: string (nullable = true)\n",
      " |-- co_applicant_sex: string (nullable = true)\n",
      " |-- applicant_sex_observed: string (nullable = true)\n",
      " |-- co_applicant_sex_observed: string (nullable = true)\n",
      " |-- applicant_age: string (nullable = true)\n",
      " |-- co_applicant_age: string (nullable = true)\n",
      " |-- applicant_age_above_62: string (nullable = true)\n",
      " |-- co_applicant_age_above_62: string (nullable = true)\n",
      " |-- submission_of_application: string (nullable = true)\n",
      " |-- initially_payable_to_institution: string (nullable = true)\n",
      " |-- aus_1: string (nullable = true)\n",
      " |-- aus_2: string (nullable = true)\n",
      " |-- aus_3: string (nullable = true)\n",
      " |-- aus_4: string (nullable = true)\n",
      " |-- aus_5: string (nullable = true)\n",
      " |-- denial_reason_1: string (nullable = true)\n",
      " |-- denial_reason_2: string (nullable = true)\n",
      " |-- denial_reason_3: string (nullable = true)\n",
      " |-- denial_reason_4: string (nullable = true)\n",
      " |-- tract_population: string (nullable = true)\n",
      " |-- tract_minority_population_percent: string (nullable = true)\n",
      " |-- ffiec_msa_md_median_family_income: string (nullable = true)\n",
      " |-- tract_to_msa_income_percentage: string (nullable = true)\n",
      " |-- tract_owner_occupied_units: string (nullable = true)\n",
      " |-- tract_one_to_four_family_homes: string (nullable = true)\n",
      " |-- tract_median_age_of_housing_units: string (nullable = true)\n",
      "\n"
     ]
    }
   ],
   "source": [
    "df.printSchema()"
   ]
  },
  {
   "cell_type": "code",
   "execution_count": 48,
   "id": "4aca57af-a7ac-4fac-91ff-ff6d08aa4024",
   "metadata": {},
   "outputs": [
    {
     "name": "stderr",
     "output_type": "stream",
     "text": [
      "                                                                                \r"
     ]
    },
    {
     "data": {
      "text/html": [
       "<table border='1'>\n",
       "<tr><th>summary</th><th>activity_year</th><th>lei</th><th>derived_msa_md</th><th>state_code</th><th>county_code</th><th>census_tract</th><th>conforming_loan_limit</th><th>derived_loan_product_type</th><th>derived_dwelling_category</th><th>derived_ethnicity</th><th>derived_race</th><th>derived_sex</th><th>action_taken</th><th>purchaser_type</th><th>preapproval</th><th>loan_type</th><th>loan_purpose</th><th>lien_status</th><th>reverse_mortgage</th><th>open_end_line_of_credit</th><th>business_or_commercial_purpose</th><th>loan_amount</th><th>combined_loan_to_value_ratio</th><th>interest_rate</th><th>rate_spread</th><th>hoepa_status</th><th>total_loan_costs</th><th>total_points_and_fees</th><th>origination_charges</th><th>discount_points</th><th>lender_credits</th><th>loan_term</th><th>prepayment_penalty_term</th><th>intro_rate_period</th><th>negative_amortization</th><th>interest_only_payment</th><th>balloon_payment</th><th>other_nonamortizing_features</th><th>property_value</th><th>construction_method</th><th>occupancy_type</th><th>manufactured_home_secured_property_type</th><th>manufactured_home_land_property_interest</th><th>total_units</th><th>multifamily_affordable_units</th><th>income</th><th>debt_to_income_ratio</th><th>applicant_credit_score_type</th><th>co_applicant_credit_score_type</th><th>applicant_ethnicity_1</th><th>applicant_ethnicity_2</th><th>applicant_ethnicity_3</th><th>applicant_ethnicity_4</th><th>applicant_ethnicity_5</th><th>co_applicant_ethnicity_1</th><th>co_applicant_ethnicity_2</th><th>co_applicant_ethnicity_3</th><th>co_applicant_ethnicity_4</th><th>co_applicant_ethnicity_5</th><th>applicant_ethnicity_observed</th><th>co_applicant_ethnicity_observed</th><th>applicant_race_1</th><th>applicant_race_2</th><th>applicant_race_3</th><th>applicant_race_4</th><th>applicant_race_5</th><th>co_applicant_race_1</th><th>co_applicant_race_2</th><th>co_applicant_race_3</th><th>co_applicant_race_4</th><th>co_applicant_race_5</th><th>applicant_race_observed</th><th>co_applicant_race_observed</th><th>applicant_sex</th><th>co_applicant_sex</th><th>applicant_sex_observed</th><th>co_applicant_sex_observed</th><th>applicant_age</th><th>co_applicant_age</th><th>applicant_age_above_62</th><th>co_applicant_age_above_62</th><th>submission_of_application</th><th>initially_payable_to_institution</th><th>aus_1</th><th>aus_2</th><th>aus_3</th><th>aus_4</th><th>aus_5</th><th>denial_reason_1</th><th>denial_reason_2</th><th>denial_reason_3</th><th>denial_reason_4</th><th>tract_population</th><th>tract_minority_population_percent</th><th>ffiec_msa_md_median_family_income</th><th>tract_to_msa_income_percentage</th><th>tract_owner_occupied_units</th><th>tract_one_to_four_family_homes</th><th>tract_median_age_of_housing_units</th></tr>\n",
       "<tr><td>count</td><td>25699043</td><td>25699043</td><td>25699043</td><td>25699043</td><td>25699043</td><td>25699043</td><td>25699043</td><td>25699043</td><td>25699043</td><td>25699043</td><td>25699043</td><td>25699043</td><td>25699043</td><td>25699043</td><td>25699043</td><td>25699043</td><td>25699043</td><td>25699043</td><td>25699043</td><td>25699043</td><td>25699043</td><td>25699043</td><td>25699043</td><td>25699043</td><td>25699043</td><td>25699043</td><td>25699043</td><td>25699043</td><td>25699043</td><td>16431067</td><td>16965829</td><td>25699043</td><td>25699043</td><td>25699043</td><td>25699043</td><td>25699043</td><td>25699043</td><td>25699043</td><td>25699043</td><td>25699043</td><td>25699043</td><td>25699043</td><td>25699043</td><td>25699043</td><td>25699043</td><td>25699043</td><td>25699043</td><td>25699043</td><td>25699043</td><td>25691134</td><td>1131077</td><td>20345</td><td>789</td><td>302</td><td>25696411</td><td>445574</td><td>7516</td><td>206</td><td>75</td><td>25699043</td><td>25699043</td><td>25696621</td><td>1154782</td><td>86172</td><td>11548</td><td>4193</td><td>25698120</td><td>466687</td><td>34555</td><td>4753</td><td>1815</td><td>25699043</td><td>25699043</td><td>25699043</td><td>25699043</td><td>25699043</td><td>25699043</td><td>25699043</td><td>25699043</td><td>25699043</td><td>25699043</td><td>25699043</td><td>25699043</td><td>25699043</td><td>1756553</td><td>477646</td><td>196996</td><td>162651</td><td>25699043</td><td>529595</td><td>76972</td><td>6732</td><td>25699043</td><td>25699043</td><td>25699043</td><td>25699043</td><td>25699043</td><td>25699043</td><td>25699043</td></tr>\n",
       "<tr><td>mean</td><td>2020.0</td><td>NULL</td><td>37668.180345820656</td><td>NULL</td><td>26887.58207654807</td><td>2.687571274590332E10</td><td>NULL</td><td>NULL</td><td>NULL</td><td>NULL</td><td>NULL</td><td>NULL</td><td>2.410004139064634</td><td>4.9944491318217565</td><td>1.9857270560619709</td><td>1.352445925710152</td><td>18.98555631040424</td><td>1.064457614238787</td><td>26.395499085316136</td><td>26.277442432389407</td><td>26.30967974177093</td><td>315229.16495373</td><td>6244.155369547102</td><td>3.3832241556890237</td><td>0.3541891461663658</td><td>2.3845380545882584</td><td>4632.778656377592</td><td>2503.7544700380236</td><td>1957.3550392851287</td><td>2191.394062405002</td><td>1256.7236513606754</td><td>320.45345571625495</td><td>33.328690586822006</td><td>35.53517041982041</td><td>27.11439274217332</td><td>27.072507213595465</td><td>27.101537866604605</td><td>27.111535865362768</td><td>456639.69593312393</td><td>1.0261365374578346</td><td>1.1267145239610674</td><td>27.293020055260424</td><td>29.211790921552993</td><td>1.028378590005597</td><td>8.289793132104592</td><td>443.3991912487657</td><td>42.00899874526693</td><td>29.283069723646907</td><td>32.677450673941436</td><td>2.3102080274074317</td><td>11.678461324914219</td><td>12.697468665519784</td><td>12.991128010139416</td><td>9.629139072847682</td><td>3.7456584112076974</td><td>11.584499993267112</td><td>12.479377328366152</td><td>12.75242718446602</td><td>11.106666666666667</td><td>2.137009304198604</td><td>3.1185532472940722</td><td>5.171137714954819</td><td>20.326774230980394</td><td>21.922376177876803</td><td>26.057845514374783</td><td>28.720725017886956</td><td>6.715043824217491</td><td>20.686856501252446</td><td>22.268239039212848</td><td>26.990532295392384</td><td>30.732782369146005</td><td>2.136910078713826</td><td>3.1182533139463597</td><td>1.6847664716542168</td><td>3.617344622521547</td><td>2.136897821448059</td><td>3.1183427336185243</td><td>8888.022345646377</td><td>9863.460742704592</td><td>NULL</td><td>NULL</td><td>25.802311899318585</td><td>25.824404862079884</td><td>27.770505423100776</td><td>2.117014971936514</td><td>2.002024511876997</td><td>1.279833093057727</td><td>1.2786149485708664</td><td>28.33553136589561</td><td>4.497584002870118</td><td>5.461661383360183</td><td>6.352198455139631</td><td>5725.268093990893</td><td>30.870627103508607</td><td>81783.71576715911</td><td>116.44439549441584</td><td>1484.6894477354663</td><td>1997.868900254379</td><td>34.12176507895644</td></tr>\n",
       "<tr><td>stddev</td><td>1.900839517068370...</td><td>NULL</td><td>23737.00041042343</td><td>NULL</td><td>16819.67881662371</td><td>1.681879199061210...</td><td>NULL</td><td>NULL</td><td>NULL</td><td>NULL</td><td>NULL</td><td>NULL</td><td>1.8324781395333136</td><td>15.83360926160761</td><td>0.11861377473477586</td><td>0.7019123935167189</td><td>14.673235799335401</td><td>0.24556635061003726</td><td>162.6741234633882</td><td>162.5090603050444</td><td>162.46522848067957</td><td>1.0623501207860182E8</td><td>2.4784558245456763E7</td><td>195.302291046941</td><td>2.8975491346015145</td><td>0.48710221795590747</td><td>30027.07481528993</td><td>3183.6199422121963</td><td>2937.66419057073</td><td>2399.5676764048917</td><td>3110.764902665232</td><td>227.41810888969607</td><td>28.870823325476916</td><td>4835.830253021974</td><td>164.98913783751195</td><td>164.9956350780528</td><td>164.99113303085787</td><td>164.98958133936483</td><td>2372226.0485080774</td><td>0.15954127947961416</td><td>0.4587528821692299</td><td>162.38545198531025</td><td>162.11786743724826</td><td>0.2209227939013468</td><td>26.39526424323958</td><td>19583.432967453107</td><td>3.8670273723679642</td><td>162.07362105575785</td><td>161.54814984135538</td><td>1.1344888588454485</td><td>2.0658799983591543</td><td>2.14281806749044</td><td>2.0009318565374272</td><td>5.598547384023757</td><td>1.5072544181786212</td><td>2.051973738315572</td><td>2.3610783728247973</td><td>2.293547456168375</td><td>4.979887476568048</td><td>0.3935096738640173</td><td>0.9547071466735993</td><td>2.124194702910286</td><td>8.03233795838947</td><td>10.222613987927227</td><td>12.485985420518453</td><td>13.87055039198206</td><td>1.963748854724887</td><td>7.967802952508904</td><td>9.69336957910487</td><td>11.828180108839257</td><td>12.902043791009838</td><td>0.3936421810561354</td><td>0.9551510469916915</td><td>0.9472168874026139</td><td>1.5557895627738074</td><td>0.39486707900603923</td><td>0.9551051798655903</td><td>4.982522020608006</td><td>363.61137696554465</td><td>NULL</td><td>NULL</td><td>162.96592542467872</td><td>162.96290637448809</td><td>162.8216666773535</td><td>1.4458918669037215</td><td>1.1845246405527052</td><td>0.5699387493272586</td><td>0.5762221877775486</td><td>143.55352244117623</td><td>2.810785584160281</td><td>2.5780708829714687</td><td>2.5418773795206535</td><td>3302.274364713052</td><td>25.103349582267626</td><td>20058.87907990121</td><td>44.31304963280696</td><td>919.8523161293298</td><td>1141.7647245121889</td><td>17.969938090836475</td></tr>\n",
       "<tr><td>min</td><td>2020</td><td>01J4SO3XTWZF4PP38209</td><td>10180</td><td>AK</td><td>01001</td><td>01001020100</td><td>C</td><td>Conventional:Firs...</td><td>Multifamily:Manuf...</td><td>Ethnicity Not Ava...</td><td>2 or more minorit...</td><td>Female</td><td>1</td><td>0</td><td>1</td><td>1</td><td>1</td><td>1</td><td>1</td><td>1</td><td>1</td><td>100005000</td><td>0.001</td><td>0.0</td><td>-0.0</td><td>1</td><td>0.0</td><td>0.0</td><td>0.0</td><td>0.001</td><td>0.01</td><td>1</td><td>0</td><td>1</td><td>1</td><td>1</td><td>1</td><td>1</td><td>100005000</td><td>1</td><td>1</td><td>1</td><td>1</td><td>1</td><td>0</td><td>-1</td><td>20%-&lt;30%</td><td>1</td><td>1</td><td>1</td><td>1</td><td>1</td><td>1</td><td>11</td><td>1</td><td>1</td><td>1</td><td>11</td><td>12</td><td>1</td><td>1</td><td>1</td><td>1</td><td>1</td><td>1</td><td>21</td><td>1</td><td>1</td><td>1</td><td>1</td><td>1</td><td>1</td><td>1</td><td>1</td><td>1</td><td>1</td><td>1</td><td>25-34</td><td>25-34</td><td>NA</td><td>NA</td><td>1</td><td>1</td><td>1</td><td>1</td><td>1</td><td>1</td><td>1</td><td>1</td><td>1</td><td>1</td><td>1</td><td>0</td><td>0</td><td>0</td><td>0.0</td><td>0</td><td>0</td><td>-1</td></tr>\n",
       "<tr><td>max</td><td>2020</td><td>ZXMJHJK466PBZTM5F379</td><td>99999</td><td>WY</td><td>NA</td><td>nA</td><td>U</td><td>VA:Subordinate Lien</td><td>Single Family (1-...</td><td>Not Hispanic or L...</td><td>White</td><td>Sex Not Available</td><td>8</td><td>9</td><td>2</td><td>4</td><td>5</td><td>2</td><td>2</td><td>2</td><td>2</td><td>99995000</td><td>NA</td><td>NA</td><td>NA</td><td>3</td><td>NA</td><td>NA</td><td>NA</td><td>NA</td><td>NA</td><td>NA</td><td>NA</td><td>NA</td><td>2</td><td>2</td><td>2</td><td>2</td><td>NA</td><td>2</td><td>3</td><td>3</td><td>5</td><td>&gt;149</td><td>NA</td><td>NA</td><td>NA</td><td>9</td><td>9</td><td>4</td><td>2</td><td>2</td><td>2</td><td>2</td><td>5</td><td>2</td><td>2</td><td>2</td><td>2</td><td>3</td><td>4</td><td>7</td><td>5</td><td>5</td><td>5</td><td>5</td><td>8</td><td>5</td><td>5</td><td>5</td><td>5</td><td>3</td><td>4</td><td>6</td><td>6</td><td>3</td><td>4</td><td>&gt;74</td><td>&gt;74</td><td>Yes</td><td>Yes</td><td>3</td><td>3</td><td>6</td><td>5</td><td>5</td><td>5</td><td>5</td><td>9</td><td>9</td><td>9</td><td>9</td><td>9998</td><td>99.98</td><td>99400</td><td>99.99</td><td>999</td><td>999</td><td>9</td></tr>\n",
       "</table>\n"
      ],
      "text/plain": [
       "+-------+--------------------+--------------------+------------------+----------+-----------------+--------------------+---------------------+-------------------------+-------------------------+--------------------+--------------------+-----------------+------------------+------------------+-------------------+------------------+------------------+-------------------+------------------+-----------------------+------------------------------+--------------------+----------------------------+------------------+------------------+-------------------+-----------------+---------------------+-------------------+------------------+------------------+------------------+-----------------------+-----------------+---------------------+---------------------+------------------+----------------------------+------------------+-------------------+------------------+---------------------------------------+----------------------------------------+------------------+----------------------------+------------------+--------------------+---------------------------+------------------------------+---------------------+---------------------+---------------------+---------------------+---------------------+------------------------+------------------------+------------------------+------------------------+------------------------+----------------------------+-------------------------------+-----------------+------------------+------------------+------------------+------------------+-------------------+-------------------+-------------------+-------------------+-------------------+-----------------------+--------------------------+------------------+------------------+----------------------+-------------------------+-----------------+------------------+----------------------+-------------------------+-------------------------+--------------------------------+------------------+------------------+------------------+------------------+------------------+------------------+-----------------+------------------+------------------+-----------------+---------------------------------+---------------------------------+------------------------------+--------------------------+------------------------------+---------------------------------+\n",
       "|summary|       activity_year|                 lei|    derived_msa_md|state_code|      county_code|        census_tract|conforming_loan_limit|derived_loan_product_type|derived_dwelling_category|   derived_ethnicity|        derived_race|      derived_sex|      action_taken|    purchaser_type|        preapproval|         loan_type|      loan_purpose|        lien_status|  reverse_mortgage|open_end_line_of_credit|business_or_commercial_purpose|         loan_amount|combined_loan_to_value_ratio|     interest_rate|       rate_spread|       hoepa_status| total_loan_costs|total_points_and_fees|origination_charges|   discount_points|    lender_credits|         loan_term|prepayment_penalty_term|intro_rate_period|negative_amortization|interest_only_payment|   balloon_payment|other_nonamortizing_features|    property_value|construction_method|    occupancy_type|manufactured_home_secured_property_type|manufactured_home_land_property_interest|       total_units|multifamily_affordable_units|            income|debt_to_income_ratio|applicant_credit_score_type|co_applicant_credit_score_type|applicant_ethnicity_1|applicant_ethnicity_2|applicant_ethnicity_3|applicant_ethnicity_4|applicant_ethnicity_5|co_applicant_ethnicity_1|co_applicant_ethnicity_2|co_applicant_ethnicity_3|co_applicant_ethnicity_4|co_applicant_ethnicity_5|applicant_ethnicity_observed|co_applicant_ethnicity_observed| applicant_race_1|  applicant_race_2|  applicant_race_3|  applicant_race_4|  applicant_race_5|co_applicant_race_1|co_applicant_race_2|co_applicant_race_3|co_applicant_race_4|co_applicant_race_5|applicant_race_observed|co_applicant_race_observed|     applicant_sex|  co_applicant_sex|applicant_sex_observed|co_applicant_sex_observed|    applicant_age|  co_applicant_age|applicant_age_above_62|co_applicant_age_above_62|submission_of_application|initially_payable_to_institution|             aus_1|             aus_2|             aus_3|             aus_4|             aus_5|   denial_reason_1|  denial_reason_2|   denial_reason_3|   denial_reason_4| tract_population|tract_minority_population_percent|ffiec_msa_md_median_family_income|tract_to_msa_income_percentage|tract_owner_occupied_units|tract_one_to_four_family_homes|tract_median_age_of_housing_units|\n",
       "+-------+--------------------+--------------------+------------------+----------+-----------------+--------------------+---------------------+-------------------------+-------------------------+--------------------+--------------------+-----------------+------------------+------------------+-------------------+------------------+------------------+-------------------+------------------+-----------------------+------------------------------+--------------------+----------------------------+------------------+------------------+-------------------+-----------------+---------------------+-------------------+------------------+------------------+------------------+-----------------------+-----------------+---------------------+---------------------+------------------+----------------------------+------------------+-------------------+------------------+---------------------------------------+----------------------------------------+------------------+----------------------------+------------------+--------------------+---------------------------+------------------------------+---------------------+---------------------+---------------------+---------------------+---------------------+------------------------+------------------------+------------------------+------------------------+------------------------+----------------------------+-------------------------------+-----------------+------------------+------------------+------------------+------------------+-------------------+-------------------+-------------------+-------------------+-------------------+-----------------------+--------------------------+------------------+------------------+----------------------+-------------------------+-----------------+------------------+----------------------+-------------------------+-------------------------+--------------------------------+------------------+------------------+------------------+------------------+------------------+------------------+-----------------+------------------+------------------+-----------------+---------------------------------+---------------------------------+------------------------------+--------------------------+------------------------------+---------------------------------+\n",
       "|  count|            25699043|            25699043|          25699043|  25699043|         25699043|            25699043|             25699043|                 25699043|                 25699043|            25699043|            25699043|         25699043|          25699043|          25699043|           25699043|          25699043|          25699043|           25699043|          25699043|               25699043|                      25699043|            25699043|                    25699043|          25699043|          25699043|           25699043|         25699043|             25699043|           25699043|          16431067|          16965829|          25699043|               25699043|         25699043|             25699043|             25699043|          25699043|                    25699043|          25699043|           25699043|          25699043|                               25699043|                                25699043|          25699043|                    25699043|          25699043|            25699043|                   25699043|                      25699043|             25691134|              1131077|                20345|                  789|                  302|                25696411|                  445574|                    7516|                     206|                      75|                    25699043|                       25699043|         25696621|           1154782|             86172|             11548|              4193|           25698120|             466687|              34555|               4753|               1815|               25699043|                  25699043|          25699043|          25699043|              25699043|                 25699043|         25699043|          25699043|              25699043|                 25699043|                 25699043|                        25699043|          25699043|           1756553|            477646|            196996|            162651|          25699043|           529595|             76972|              6732|         25699043|                         25699043|                         25699043|                      25699043|                  25699043|                      25699043|                         25699043|\n",
       "|   mean|              2020.0|                NULL|37668.180345820656|      NULL|26887.58207654807|2.687571274590332E10|                 NULL|                     NULL|                     NULL|                NULL|                NULL|             NULL| 2.410004139064634|4.9944491318217565| 1.9857270560619709| 1.352445925710152| 18.98555631040424|  1.064457614238787|26.395499085316136|     26.277442432389407|             26.30967974177093|     315229.16495373|           6244.155369547102|3.3832241556890237|0.3541891461663658| 2.3845380545882584|4632.778656377592|   2503.7544700380236| 1957.3550392851287| 2191.394062405002|1256.7236513606754|320.45345571625495|     33.328690586822006|35.53517041982041|    27.11439274217332|   27.072507213595465|27.101537866604605|          27.111535865362768|456639.69593312393| 1.0261365374578346|1.1267145239610674|                     27.293020055260424|                      29.211790921552993| 1.028378590005597|           8.289793132104592| 443.3991912487657|   42.00899874526693|         29.283069723646907|            32.677450673941436|   2.3102080274074317|   11.678461324914219|   12.697468665519784|   12.991128010139416|    9.629139072847682|      3.7456584112076974|      11.584499993267112|      12.479377328366152|       12.75242718446602|      11.106666666666667|           2.137009304198604|             3.1185532472940722|5.171137714954819|20.326774230980394|21.922376177876803|26.057845514374783|28.720725017886956|  6.715043824217491| 20.686856501252446| 22.268239039212848| 26.990532295392384| 30.732782369146005|      2.136910078713826|        3.1182533139463597|1.6847664716542168| 3.617344622521547|     2.136897821448059|       3.1183427336185243|8888.022345646377| 9863.460742704592|                  NULL|                     NULL|       25.802311899318585|              25.824404862079884|27.770505423100776| 2.117014971936514| 2.002024511876997| 1.279833093057727|1.2786149485708664| 28.33553136589561|4.497584002870118| 5.461661383360183| 6.352198455139631|5725.268093990893|               30.870627103508607|                81783.71576715911|            116.44439549441584|        1484.6894477354663|             1997.868900254379|                34.12176507895644|\n",
       "| stddev|1.900839517068370...|                NULL| 23737.00041042343|      NULL|16819.67881662371|1.681879199061210...|                 NULL|                     NULL|                     NULL|                NULL|                NULL|             NULL|1.8324781395333136| 15.83360926160761|0.11861377473477586|0.7019123935167189|14.673235799335401|0.24556635061003726| 162.6741234633882|      162.5090603050444|            162.46522848067957|1.0623501207860182E8|        2.4784558245456763E7|  195.302291046941|2.8975491346015145|0.48710221795590747|30027.07481528993|   3183.6199422121963|   2937.66419057073|2399.5676764048917| 3110.764902665232|227.41810888969607|     28.870823325476916|4835.830253021974|   164.98913783751195|    164.9956350780528|164.99113303085787|          164.98958133936483|2372226.0485080774|0.15954127947961416|0.4587528821692299|                     162.38545198531025|                      162.11786743724826|0.2209227939013468|           26.39526424323958|19583.432967453107|  3.8670273723679642|         162.07362105575785|            161.54814984135538|   1.1344888588454485|   2.0658799983591543|     2.14281806749044|   2.0009318565374272|    5.598547384023757|      1.5072544181786212|       2.051973738315572|      2.3610783728247973|       2.293547456168375|       4.979887476568048|          0.3935096738640173|             0.9547071466735993|2.124194702910286|  8.03233795838947|10.222613987927227|12.485985420518453| 13.87055039198206|  1.963748854724887|  7.967802952508904|   9.69336957910487| 11.828180108839257| 12.902043791009838|     0.3936421810561354|        0.9551510469916915|0.9472168874026139|1.5557895627738074|   0.39486707900603923|       0.9551051798655903|4.982522020608006|363.61137696554465|                  NULL|                     NULL|       162.96592542467872|              162.96290637448809| 162.8216666773535|1.4458918669037215|1.1845246405527052|0.5699387493272586|0.5762221877775486|143.55352244117623|2.810785584160281|2.5780708829714687|2.5418773795206535|3302.274364713052|               25.103349582267626|                20058.87907990121|             44.31304963280696|         919.8523161293298|            1141.7647245121889|               17.969938090836475|\n",
       "|    min|                2020|01J4SO3XTWZF4PP38209|             10180|        AK|            01001|         01001020100|                    C|     Conventional:Firs...|     Multifamily:Manuf...|Ethnicity Not Ava...|2 or more minorit...|           Female|                 1|                 0|                  1|                 1|                 1|                  1|                 1|                      1|                             1|           100005000|                       0.001|               0.0|              -0.0|                  1|              0.0|                  0.0|                0.0|             0.001|              0.01|                 1|                      0|                1|                    1|                    1|                 1|                           1|         100005000|                  1|                 1|                                      1|                                       1|                 1|                           0|                -1|            20%-<30%|                          1|                             1|                    1|                    1|                    1|                    1|                   11|                       1|                       1|                       1|                      11|                      12|                           1|                              1|                1|                 1|                 1|                 1|                21|                  1|                  1|                  1|                  1|                  1|                      1|                         1|                 1|                 1|                     1|                        1|            25-34|             25-34|                    NA|                       NA|                        1|                               1|                 1|                 1|                 1|                 1|                 1|                 1|                1|                 1|                 1|                0|                                0|                                0|                           0.0|                         0|                             0|                               -1|\n",
       "|    max|                2020|ZXMJHJK466PBZTM5F379|             99999|        WY|               NA|                  nA|                    U|      VA:Subordinate Lien|     Single Family (1-...|Not Hispanic or L...|               White|Sex Not Available|                 8|                 9|                  2|                 4|                 5|                  2|                 2|                      2|                             2|            99995000|                          NA|                NA|                NA|                  3|               NA|                   NA|                 NA|                NA|                NA|                NA|                     NA|               NA|                    2|                    2|                 2|                           2|                NA|                  2|                 3|                                      3|                                       5|              >149|                          NA|                NA|                  NA|                          9|                             9|                    4|                    2|                    2|                    2|                    2|                       5|                       2|                       2|                       2|                       2|                           3|                              4|                7|                 5|                 5|                 5|                 5|                  8|                  5|                  5|                  5|                  5|                      3|                         4|                 6|                 6|                     3|                        4|              >74|               >74|                   Yes|                      Yes|                        3|                               3|                 6|                 5|                 5|                 5|                 5|                 9|                9|                 9|                 9|             9998|                            99.98|                            99400|                         99.99|                       999|                           999|                                9|\n",
       "+-------+--------------------+--------------------+------------------+----------+-----------------+--------------------+---------------------+-------------------------+-------------------------+--------------------+--------------------+-----------------+------------------+------------------+-------------------+------------------+------------------+-------------------+------------------+-----------------------+------------------------------+--------------------+----------------------------+------------------+------------------+-------------------+-----------------+---------------------+-------------------+------------------+------------------+------------------+-----------------------+-----------------+---------------------+---------------------+------------------+----------------------------+------------------+-------------------+------------------+---------------------------------------+----------------------------------------+------------------+----------------------------+------------------+--------------------+---------------------------+------------------------------+---------------------+---------------------+---------------------+---------------------+---------------------+------------------------+------------------------+------------------------+------------------------+------------------------+----------------------------+-------------------------------+-----------------+------------------+------------------+------------------+------------------+-------------------+-------------------+-------------------+-------------------+-------------------+-----------------------+--------------------------+------------------+------------------+----------------------+-------------------------+-----------------+------------------+----------------------+-------------------------+-------------------------+--------------------------------+------------------+------------------+------------------+------------------+------------------+------------------+-----------------+------------------+------------------+-----------------+---------------------------------+---------------------------------+------------------------------+--------------------------+------------------------------+---------------------------------+"
      ]
     },
     "execution_count": 48,
     "metadata": {},
     "output_type": "execute_result"
    }
   ],
   "source": [
    "df.describe()"
   ]
  },
  {
   "cell_type": "code",
   "execution_count": 49,
   "id": "c375ccae-5b80-495e-a875-522d27632445",
   "metadata": {},
   "outputs": [
    {
     "data": {
      "text/html": [
       "<table border='1'>\n",
       "<tr><th>activity_year</th><th>lei</th><th>loan_type</th><th>loan_purpose</th><th>loan_amount</th><th>interest_rate</th><th>loan_term</th><th>action_taken</th><th>combined_loan_to_value_ratio</th></tr>\n",
       "<tr><td>2020</td><td>549300RBX56T2MW5HO19</td><td>1</td><td>1</td><td>135000</td><td>3.875</td><td>360</td><td>1</td><td>97.0</td></tr>\n",
       "<tr><td>2020</td><td>549300RBX56T2MW5HO19</td><td>1</td><td>31</td><td>315000</td><td>2.124</td><td>180</td><td>1</td><td>36.82</td></tr>\n",
       "<tr><td>2020</td><td>549300RBX56T2MW5HO19</td><td>2</td><td>1</td><td>135000</td><td>3.43</td><td>NA</td><td>1</td><td>55.1</td></tr>\n",
       "<tr><td>2020</td><td>549300RBX56T2MW5HO19</td><td>1</td><td>32</td><td>405000</td><td>NA</td><td>240</td><td>4</td><td>NA</td></tr>\n",
       "<tr><td>2020</td><td>549300RBX56T2MW5HO19</td><td>1</td><td>1</td><td>435000</td><td>2.5</td><td>360</td><td>1</td><td>80.0</td></tr>\n",
       "<tr><td>2020</td><td>549300RBX56T2MW5HO19</td><td>1</td><td>31</td><td>355000</td><td>2.875</td><td>180</td><td>1</td><td>41.29</td></tr>\n",
       "<tr><td>2020</td><td>549300RBX56T2MW5HO19</td><td>1</td><td>31</td><td>265000</td><td>3.0</td><td>360</td><td>1</td><td>74.28</td></tr>\n",
       "<tr><td>2020</td><td>549300RBX56T2MW5HO19</td><td>1</td><td>31</td><td>485000</td><td>2.249</td><td>180</td><td>1</td><td>48.98</td></tr>\n",
       "<tr><td>2020</td><td>549300RBX56T2MW5HO19</td><td>1</td><td>31</td><td>345000</td><td>2.875</td><td>360</td><td>1</td><td>95.0</td></tr>\n",
       "<tr><td>2020</td><td>549300RBX56T2MW5HO19</td><td>1</td><td>32</td><td>475000</td><td>3.0</td><td>360</td><td>1</td><td>74.48</td></tr>\n",
       "<tr><td>2020</td><td>549300RBX56T2MW5HO19</td><td>1</td><td>31</td><td>365000</td><td>2.875</td><td>360</td><td>1</td><td>78.91</td></tr>\n",
       "<tr><td>2020</td><td>549300RBX56T2MW5HO19</td><td>1</td><td>31</td><td>455000</td><td>NA</td><td>360</td><td>5</td><td>NA</td></tr>\n",
       "<tr><td>2020</td><td>549300RBX56T2MW5HO19</td><td>1</td><td>31</td><td>275000</td><td>3.125</td><td>360</td><td>1</td><td>90.0</td></tr>\n",
       "<tr><td>2020</td><td>549300RBX56T2MW5HO19</td><td>2</td><td>31</td><td>395000</td><td>NA</td><td>NA</td><td>4</td><td>NA</td></tr>\n",
       "<tr><td>2020</td><td>549300RBX56T2MW5HO19</td><td>1</td><td>1</td><td>255000</td><td>2.875</td><td>360</td><td>1</td><td>80.0</td></tr>\n",
       "<tr><td>2020</td><td>549300RBX56T2MW5HO19</td><td>1</td><td>31</td><td>495000</td><td>2.5</td><td>360</td><td>1</td><td>59.36</td></tr>\n",
       "<tr><td>2020</td><td>549300RBX56T2MW5HO19</td><td>1</td><td>31</td><td>355000</td><td>2.75</td><td>360</td><td>1</td><td>70.0</td></tr>\n",
       "<tr><td>2020</td><td>549300RBX56T2MW5HO19</td><td>1</td><td>31</td><td>405000</td><td>2.125</td><td>180</td><td>1</td><td>28.15</td></tr>\n",
       "<tr><td>2020</td><td>549300RBX56T2MW5HO19</td><td>1</td><td>31</td><td>685000</td><td>2.875</td><td>360</td><td>1</td><td>74.83</td></tr>\n",
       "<tr><td>2020</td><td>549300RBX56T2MW5HO19</td><td>1</td><td>32</td><td>185000</td><td>3.125</td><td>180</td><td>1</td><td>66.78</td></tr>\n",
       "</table>\n",
       "only showing top 20 rows\n"
      ],
      "text/plain": [
       "+-------------+--------------------+---------+------------+-----------+-------------+---------+------------+----------------------------+\n",
       "|activity_year|                 lei|loan_type|loan_purpose|loan_amount|interest_rate|loan_term|action_taken|combined_loan_to_value_ratio|\n",
       "+-------------+--------------------+---------+------------+-----------+-------------+---------+------------+----------------------------+\n",
       "|         2020|549300RBX56T2MW5HO19|        1|           1|     135000|        3.875|      360|           1|                        97.0|\n",
       "|         2020|549300RBX56T2MW5HO19|        1|          31|     315000|        2.124|      180|           1|                       36.82|\n",
       "|         2020|549300RBX56T2MW5HO19|        2|           1|     135000|         3.43|       NA|           1|                        55.1|\n",
       "|         2020|549300RBX56T2MW5HO19|        1|          32|     405000|           NA|      240|           4|                          NA|\n",
       "|         2020|549300RBX56T2MW5HO19|        1|           1|     435000|          2.5|      360|           1|                        80.0|\n",
       "|         2020|549300RBX56T2MW5HO19|        1|          31|     355000|        2.875|      180|           1|                       41.29|\n",
       "|         2020|549300RBX56T2MW5HO19|        1|          31|     265000|          3.0|      360|           1|                       74.28|\n",
       "|         2020|549300RBX56T2MW5HO19|        1|          31|     485000|        2.249|      180|           1|                       48.98|\n",
       "|         2020|549300RBX56T2MW5HO19|        1|          31|     345000|        2.875|      360|           1|                        95.0|\n",
       "|         2020|549300RBX56T2MW5HO19|        1|          32|     475000|          3.0|      360|           1|                       74.48|\n",
       "|         2020|549300RBX56T2MW5HO19|        1|          31|     365000|        2.875|      360|           1|                       78.91|\n",
       "|         2020|549300RBX56T2MW5HO19|        1|          31|     455000|           NA|      360|           5|                          NA|\n",
       "|         2020|549300RBX56T2MW5HO19|        1|          31|     275000|        3.125|      360|           1|                        90.0|\n",
       "|         2020|549300RBX56T2MW5HO19|        2|          31|     395000|           NA|       NA|           4|                          NA|\n",
       "|         2020|549300RBX56T2MW5HO19|        1|           1|     255000|        2.875|      360|           1|                        80.0|\n",
       "|         2020|549300RBX56T2MW5HO19|        1|          31|     495000|          2.5|      360|           1|                       59.36|\n",
       "|         2020|549300RBX56T2MW5HO19|        1|          31|     355000|         2.75|      360|           1|                        70.0|\n",
       "|         2020|549300RBX56T2MW5HO19|        1|          31|     405000|        2.125|      180|           1|                       28.15|\n",
       "|         2020|549300RBX56T2MW5HO19|        1|          31|     685000|        2.875|      360|           1|                       74.83|\n",
       "|         2020|549300RBX56T2MW5HO19|        1|          32|     185000|        3.125|      180|           1|                       66.78|\n",
       "+-------------+--------------------+---------+------------+-----------+-------------+---------+------------+----------------------------+\n",
       "only showing top 20 rows"
      ]
     },
     "execution_count": 49,
     "metadata": {},
     "output_type": "execute_result"
    }
   ],
   "source": [
    "loan_details_df = df.select(\"activity_year\", \"lei\", \"loan_type\",\"loan_purpose\", \"loan_amount\", \"interest_rate\",\"loan_term\", \"action_taken\",\"combined_loan_to_value_ratio\")\n",
    "loan_details_df"
   ]
  },
  {
   "cell_type": "code",
   "execution_count": null,
   "id": "325605bc-5a32-4516-bb28-33688dfde090",
   "metadata": {},
   "outputs": [],
   "source": []
  },
  {
   "cell_type": "code",
   "execution_count": 50,
   "id": "20507719-746c-4eeb-947c-cec9561c9670",
   "metadata": {
    "scrolled": true
   },
   "outputs": [
    {
     "data": {
      "text/html": [
       "<table border='1'>\n",
       "<tr><th>income</th><th>debt_to_income_ratio</th><th>applicant_credit_score_type</th><th>co_applicant_credit_score_type</th></tr>\n",
       "<tr><td>65</td><td>30%-&lt;36%</td><td>2</td><td>5</td></tr>\n",
       "<tr><td>135</td><td>20%-&lt;30%</td><td>5</td><td>1</td></tr>\n",
       "<tr><td>NA</td><td>NA</td><td>9</td><td>9</td></tr>\n",
       "<tr><td>120</td><td>NA</td><td>9</td><td>9</td></tr>\n",
       "<tr><td>328</td><td>20%-&lt;30%</td><td>1</td><td>2</td></tr>\n",
       "<tr><td>565</td><td>&lt;20%</td><td>2</td><td>1</td></tr>\n",
       "<tr><td>57</td><td>39</td><td>5</td><td>1</td></tr>\n",
       "<tr><td>171</td><td>44</td><td>1</td><td>1</td></tr>\n",
       "<tr><td>157</td><td>20%-&lt;30%</td><td>5</td><td>5</td></tr>\n",
       "<tr><td>285</td><td>20%-&lt;30%</td><td>1</td><td>1</td></tr>\n",
       "<tr><td>136</td><td>20%-&lt;30%</td><td>5</td><td>1</td></tr>\n",
       "<tr><td>75</td><td>NA</td><td>9</td><td>9</td></tr>\n",
       "<tr><td>91</td><td>30%-&lt;36%</td><td>2</td><td>2</td></tr>\n",
       "<tr><td>NA</td><td>NA</td><td>9</td><td>9</td></tr>\n",
       "<tr><td>172</td><td>20%-&lt;30%</td><td>1</td><td>5</td></tr>\n",
       "<tr><td>170</td><td>39</td><td>5</td><td>1</td></tr>\n",
       "<tr><td>107</td><td>20%-&lt;30%</td><td>2</td><td>5</td></tr>\n",
       "<tr><td>215</td><td>38</td><td>5</td><td>2</td></tr>\n",
       "<tr><td>185</td><td>20%-&lt;30%</td><td>2</td><td>1</td></tr>\n",
       "<tr><td>65</td><td>38</td><td>1</td><td>2</td></tr>\n",
       "</table>\n",
       "only showing top 20 rows\n"
      ],
      "text/plain": [
       "+------+--------------------+---------------------------+------------------------------+\n",
       "|income|debt_to_income_ratio|applicant_credit_score_type|co_applicant_credit_score_type|\n",
       "+------+--------------------+---------------------------+------------------------------+\n",
       "|    65|            30%-<36%|                          2|                             5|\n",
       "|   135|            20%-<30%|                          5|                             1|\n",
       "|    NA|                  NA|                          9|                             9|\n",
       "|   120|                  NA|                          9|                             9|\n",
       "|   328|            20%-<30%|                          1|                             2|\n",
       "|   565|                <20%|                          2|                             1|\n",
       "|    57|                  39|                          5|                             1|\n",
       "|   171|                  44|                          1|                             1|\n",
       "|   157|            20%-<30%|                          5|                             5|\n",
       "|   285|            20%-<30%|                          1|                             1|\n",
       "|   136|            20%-<30%|                          5|                             1|\n",
       "|    75|                  NA|                          9|                             9|\n",
       "|    91|            30%-<36%|                          2|                             2|\n",
       "|    NA|                  NA|                          9|                             9|\n",
       "|   172|            20%-<30%|                          1|                             5|\n",
       "|   170|                  39|                          5|                             1|\n",
       "|   107|            20%-<30%|                          2|                             5|\n",
       "|   215|                  38|                          5|                             2|\n",
       "|   185|            20%-<30%|                          2|                             1|\n",
       "|    65|                  38|                          1|                             2|\n",
       "+------+--------------------+---------------------------+------------------------------+\n",
       "only showing top 20 rows"
      ]
     },
     "execution_count": 50,
     "metadata": {},
     "output_type": "execute_result"
    }
   ],
   "source": [
    "borrower_details_df = df.select(\"income\", \"debt_to_income_ratio\", \"applicant_credit_score_type\", \"co_applicant_credit_score_type\")\n",
    "borrower_details_df"
   ]
  },
  {
   "cell_type": "code",
   "execution_count": null,
   "id": "e33599d4-db35-47a5-be48-1ac271644431",
   "metadata": {},
   "outputs": [],
   "source": []
  },
  {
   "cell_type": "code",
   "execution_count": null,
   "id": "c3a0e843-1a42-43f1-8627-be2acbe9e779",
   "metadata": {},
   "outputs": [],
   "source": []
  },
  {
   "cell_type": "code",
   "execution_count": null,
   "id": "a3658435-01a3-4f95-80d6-50bef54693b9",
   "metadata": {},
   "outputs": [],
   "source": []
  },
  {
   "cell_type": "code",
   "execution_count": null,
   "id": "3f591455-5300-40c1-940f-64a69ab7e755",
   "metadata": {},
   "outputs": [],
   "source": []
  },
  {
   "cell_type": "code",
   "execution_count": null,
   "id": "59efcf7c-bd39-4c71-90ca-2b7fb20216b6",
   "metadata": {},
   "outputs": [],
   "source": []
  },
  {
   "cell_type": "code",
   "execution_count": null,
   "id": "27489a2c-e2c0-4f5f-8087-b31138401e71",
   "metadata": {},
   "outputs": [],
   "source": []
  },
  {
   "cell_type": "code",
   "execution_count": null,
   "id": "e3224100-bd8b-4bfd-a7ab-f3ee49656909",
   "metadata": {},
   "outputs": [],
   "source": []
  },
  {
   "cell_type": "code",
   "execution_count": null,
   "id": "986049e0-1f55-454d-a2f7-423d88331846",
   "metadata": {},
   "outputs": [],
   "source": []
  },
  {
   "cell_type": "code",
   "execution_count": null,
   "id": "3ad4bcdb-86a7-4b8c-a547-8ff774ff1c32",
   "metadata": {},
   "outputs": [],
   "source": []
  },
  {
   "cell_type": "code",
   "execution_count": null,
   "id": "722d65b4-a342-4458-9089-7c0163a63a45",
   "metadata": {},
   "outputs": [],
   "source": []
  }
 ],
 "metadata": {
  "kernelspec": {
   "display_name": "Python 3 (ipykernel)",
   "language": "python",
   "name": "python3"
  },
  "language_info": {
   "codemirror_mode": {
    "name": "ipython",
    "version": 3
   },
   "file_extension": ".py",
   "mimetype": "text/x-python",
   "name": "python",
   "nbconvert_exporter": "python",
   "pygments_lexer": "ipython3",
   "version": "3.12.1"
  }
 },
 "nbformat": 4,
 "nbformat_minor": 5
}
